{
  "nbformat": 4,
  "nbformat_minor": 0,
  "metadata": {
    "kernelspec": {
      "display_name": "Python 3",
      "language": "python",
      "name": "python3"
    },
    "language_info": {
      "codemirror_mode": {
        "name": "ipython",
        "version": 3
      },
      "file_extension": ".py",
      "mimetype": "text/x-python",
      "name": "python",
      "nbconvert_exporter": "python",
      "pygments_lexer": "ipython3",
      "version": "3.8.3"
    },
    "colab": {
      "name": "Numpy - Indexação, Fatiamento e Broadcasting.ipynb",
      "provenance": [],
      "include_colab_link": true
    }
  },
  "cells": [
    {
      "cell_type": "markdown",
      "metadata": {
        "id": "view-in-github",
        "colab_type": "text"
      },
      "source": [
        "<a href=\"https://colab.research.google.com/github/DevNicque/pos-datascience/blob/modulo_2/Numpy_Indexa%C3%A7%C3%A3o%2C_Fatiamento_e_Broadcasting.ipynb\" target=\"_parent\"><img src=\"https://colab.research.google.com/assets/colab-badge.svg\" alt=\"Open In Colab\"/></a>"
      ]
    },
    {
      "cell_type": "markdown",
      "metadata": {
        "id": "0AfQdn13iZva"
      },
      "source": [
        "# Numpy - Indexação, Fatiamento e Broadcasting\n",
        "\n",
        "**Disciplina**: Programação para Ciência dos Dados  \n",
        "**Docentes**: Elloá B. Guedes e Tiago E. de Melo  \n",
        "**Contato:** ebgcosta@uea.edu.br, tmelo@uea.edu.br  \n",
        "**Github:** http://github.com/elloa/numpy\n",
        "\n",
        "## Apresentação\n",
        "\n",
        "Este notebook deverá ser utilizado para a prática dos conceitos relativos à biblioteca numpy."
      ]
    },
    {
      "cell_type": "code",
      "metadata": {
        "id": "2UAKiyyZiZva"
      },
      "source": [
        "# Reservado para importação de bibliotecas\n",
        "import numpy as np\n",
        "import matplotlib.pyplot as plt\n",
        "%matplotlib inline\n"
      ],
      "execution_count": 3,
      "outputs": []
    },
    {
      "cell_type": "markdown",
      "metadata": {
        "id": "OPb5WnJ5iZvb"
      },
      "source": [
        "## Parte 3.1 - Indexação, Fatiamento e Iteração\n",
        "\n",
        "1. Considere o exemplo a seguir e resolva os asserts completando as informações faltantes"
      ]
    },
    {
      "cell_type": "markdown",
      "metadata": {
        "id": "PbRYW6Bhi8Vg"
      },
      "source": [
        "* Indexação: "
      ]
    },
    {
      "cell_type": "code",
      "metadata": {
        "colab": {
          "base_uri": "https://localhost:8080/"
        },
        "id": "mbJaa4O5kWqJ",
        "outputId": "b65104b3-c492-404f-cf57-d8a40d83705e"
      },
      "source": [
        "a = np.arange(1,17).reshape(4,4)\n",
        "a"
      ],
      "execution_count": null,
      "outputs": [
        {
          "output_type": "execute_result",
          "data": {
            "text/plain": [
              "array([[ 1,  2,  3,  4],\n",
              "       [ 5,  6,  7,  8],\n",
              "       [ 9, 10, 11, 12],\n",
              "       [13, 14, 15, 16]])"
            ]
          },
          "metadata": {
            "tags": []
          },
          "execution_count": 2
        }
      ]
    },
    {
      "cell_type": "code",
      "metadata": {
        "colab": {
          "base_uri": "https://localhost:8080/"
        },
        "id": "V9IPTzzckgE-",
        "outputId": "d3002469-7dd7-4b48-da0b-025b2b2a636f"
      },
      "source": [
        "a[2,2]"
      ],
      "execution_count": null,
      "outputs": [
        {
          "output_type": "execute_result",
          "data": {
            "text/plain": [
              "11"
            ]
          },
          "metadata": {
            "tags": []
          },
          "execution_count": 3
        }
      ]
    },
    {
      "cell_type": "markdown",
      "metadata": {
        "id": "fDSEmZq5lqbs"
      },
      "source": [
        "no fatiamento [i:f] se eu omitir o i quer dizer o, se omito o f ele quer dizer o len"
      ]
    },
    {
      "cell_type": "code",
      "metadata": {
        "colab": {
          "base_uri": "https://localhost:8080/"
        },
        "id": "eT5dM1gelcqH",
        "outputId": "b96c883e-71d1-433e-c956-aa53f313f1e1"
      },
      "source": [
        "a[2,:]"
      ],
      "execution_count": null,
      "outputs": [
        {
          "output_type": "execute_result",
          "data": {
            "text/plain": [
              "array([ 9, 10, 11, 12])"
            ]
          },
          "metadata": {
            "tags": []
          },
          "execution_count": 4
        }
      ]
    },
    {
      "cell_type": "code",
      "metadata": {
        "colab": {
          "base_uri": "https://localhost:8080/"
        },
        "id": "1MfeDQAFmHbo",
        "outputId": "47b2ff0e-9a19-4b02-e72e-853a2ed844ef"
      },
      "source": [
        "a[3,2] = 99\n",
        "a"
      ],
      "execution_count": null,
      "outputs": [
        {
          "output_type": "execute_result",
          "data": {
            "text/plain": [
              "array([[ 1,  2,  3,  4],\n",
              "       [ 5,  6,  7,  8],\n",
              "       [ 9, 10, 11, 12],\n",
              "       [13, 14, 99, 16]])"
            ]
          },
          "metadata": {
            "tags": []
          },
          "execution_count": 6
        }
      ]
    },
    {
      "cell_type": "markdown",
      "metadata": {
        "id": "4bmh4PUSmUst"
      },
      "source": [
        "situação específica: indexação em um arry unidmensional"
      ]
    },
    {
      "cell_type": "code",
      "metadata": {
        "colab": {
          "base_uri": "https://localhost:8080/"
        },
        "id": "gJMi6QRVme7O",
        "outputId": "a57d496e-0df6-4889-9223-ebfc0621f840"
      },
      "source": [
        "b = np.arange(9,16,1)\n",
        "b"
      ],
      "execution_count": null,
      "outputs": [
        {
          "output_type": "execute_result",
          "data": {
            "text/plain": [
              "array([ 9, 10, 11, 12, 13, 14, 15])"
            ]
          },
          "metadata": {
            "tags": []
          },
          "execution_count": 15
        }
      ]
    },
    {
      "cell_type": "markdown",
      "metadata": {
        "id": "DsEuV7Bpm94t"
      },
      "source": [
        "indexando:"
      ]
    },
    {
      "cell_type": "code",
      "metadata": {
        "colab": {
          "base_uri": "https://localhost:8080/"
        },
        "id": "UuKDxrcZme4J",
        "outputId": "868bbbc8-0ee7-4f16-c3d8-64890c5878bf"
      },
      "source": [
        "b[-4]"
      ],
      "execution_count": null,
      "outputs": [
        {
          "output_type": "execute_result",
          "data": {
            "text/plain": [
              "12"
            ]
          },
          "metadata": {
            "tags": []
          },
          "execution_count": 16
        }
      ]
    },
    {
      "cell_type": "code",
      "metadata": {
        "colab": {
          "base_uri": "https://localhost:8080/"
        },
        "id": "WJf8YOIdmeu7",
        "outputId": "5b694dc1-7ddb-476a-acbd-6a279b294047"
      },
      "source": [
        "b[-len(b)]"
      ],
      "execution_count": null,
      "outputs": [
        {
          "output_type": "execute_result",
          "data": {
            "text/plain": [
              "9"
            ]
          },
          "metadata": {
            "tags": []
          },
          "execution_count": 17
        }
      ]
    },
    {
      "cell_type": "markdown",
      "metadata": {
        "id": "V7quR-FCndmS"
      },
      "source": [
        "assert é a maneira de checar, fazer testes unitários baseados em alguma informação"
      ]
    },
    {
      "cell_type": "code",
      "metadata": {
        "id": "3BBUmCrTnQ_-"
      },
      "source": [
        " assert b[-len(b)] == b[0]"
      ],
      "execution_count": null,
      "outputs": []
    },
    {
      "cell_type": "markdown",
      "metadata": {
        "id": "AZ1jNTBIouxn"
      },
      "source": [
        "desafio:"
      ]
    },
    {
      "cell_type": "code",
      "metadata": {
        "id": "BB3xPBPoiZvb"
      },
      "source": [
        "a = np.arrange(10,16)\n",
        "assert len(a)\n",
        "assert a[-1] == # complete\n",
        "assert a[4] == # complete\n",
        "assert a[-len(a)] == #complete\n",
        "assert a[[1,3,4]] == # complete"
      ],
      "execution_count": null,
      "outputs": []
    },
    {
      "cell_type": "markdown",
      "metadata": {
        "id": "bP30_zm2oKDv"
      },
      "source": [
        "**indexação mais complexa:**"
      ]
    },
    {
      "cell_type": "markdown",
      "metadata": {
        "id": "Pk-fuI94iZvb"
      },
      "source": [
        "2. Seja a matriz a seguir:\n",
        "    \n",
        "<img src=\"../img/matriz.png\"/>\n",
        "\n",
        "2.1. Realize a indexação que retorna o elemento 14  \n",
        "2.2. Obtenha as duas primeiras linhas com o auxílio de fatiamento  \n",
        "2.3. Obtenha a segunda columa mediante fatiamento  \n",
        "2.4. Obtenha o primeiro e o terceiro elemento de todas as linhas  \n",
        "2.5  Imprima cada linha da matriz  \n",
        "2.6  Imprima cada elemento da matriz  "
      ]
    },
    {
      "cell_type": "code",
      "metadata": {
        "id": "9ktfDxVKiZvb"
      },
      "source": [
        " a = np.arange(10,19).reshape((3,3))"
      ],
      "execution_count": null,
      "outputs": []
    },
    {
      "cell_type": "code",
      "metadata": {
        "id": "P8WfW18ViZvb"
      },
      "source": [
        "assert a[??] == 14 # complete"
      ],
      "execution_count": null,
      "outputs": []
    },
    {
      "cell_type": "code",
      "metadata": {
        "colab": {
          "base_uri": "https://localhost:8080/"
        },
        "id": "RQ7hIRNPiZvb",
        "outputId": "f0fc1baf-6d99-44bb-b38a-aafb4c0b9c25"
      },
      "source": [
        " a = np.arange(1,17).reshape((4,4))\n",
        " a"
      ],
      "execution_count": null,
      "outputs": [
        {
          "output_type": "execute_result",
          "data": {
            "text/plain": [
              "array([[ 1,  2,  3,  4],\n",
              "       [ 5,  6,  7,  8],\n",
              "       [ 9, 10, 11, 12],\n",
              "       [13, 14, 15, 16]])"
            ]
          },
          "metadata": {
            "tags": []
          },
          "execution_count": 29
        }
      ]
    },
    {
      "cell_type": "code",
      "metadata": {
        "colab": {
          "base_uri": "https://localhost:8080/"
        },
        "id": "Kxpj_5baiZvb",
        "outputId": "453ce4d0-9db3-4998-b364-17040679d0fc"
      },
      "source": [
        "a[1:3, 1:]"
      ],
      "execution_count": null,
      "outputs": [
        {
          "output_type": "execute_result",
          "data": {
            "text/plain": [
              "array([[ 6,  7,  8],\n",
              "       [10, 11, 12]])"
            ]
          },
          "metadata": {
            "tags": []
          },
          "execution_count": 21
        }
      ]
    },
    {
      "cell_type": "code",
      "metadata": {
        "colab": {
          "base_uri": "https://localhost:8080/"
        },
        "id": "qY1c0IrfiZvb",
        "outputId": "1bd8a7ad-37cd-4484-9945-312783fc36c0"
      },
      "source": [
        "a[2,0]"
      ],
      "execution_count": null,
      "outputs": [
        {
          "output_type": "execute_result",
          "data": {
            "text/plain": [
              "9"
            ]
          },
          "metadata": {
            "tags": []
          },
          "execution_count": 22
        }
      ]
    },
    {
      "cell_type": "markdown",
      "metadata": {
        "id": "V4iUwyJVs1QK"
      },
      "source": [
        "subseleção de array so funciona para o tipo unidmensional, não para arrays de múltipla dimensão"
      ]
    },
    {
      "cell_type": "markdown",
      "metadata": {
        "id": "mg09QMm9ryY0"
      },
      "source": [
        "trazendo múltiplos valores de um array unidmensional:"
      ]
    },
    {
      "cell_type": "code",
      "metadata": {
        "colab": {
          "base_uri": "https://localhost:8080/"
        },
        "id": "ASh14CVfrxRI",
        "outputId": "a2eb4ba0-cb2e-4543-9e63-77e4d64c23f6"
      },
      "source": [
        "a = np.arange(1,16)\n",
        "a"
      ],
      "execution_count": null,
      "outputs": [
        {
          "output_type": "execute_result",
          "data": {
            "text/plain": [
              "array([ 1,  2,  3,  4,  5,  6,  7,  8,  9, 10, 11, 12, 13, 14, 15])"
            ]
          },
          "metadata": {
            "tags": []
          },
          "execution_count": 24
        }
      ]
    },
    {
      "cell_type": "markdown",
      "metadata": {
        "id": "LfyBwTbrsbln"
      },
      "source": [
        "foi pego um array bidmensional e passar antes dimensões triplas"
      ]
    },
    {
      "cell_type": "markdown",
      "metadata": {
        "id": "__O3N2YusGUV"
      },
      "source": [
        "tras os valores das posições 1, 5 e 7"
      ]
    },
    {
      "cell_type": "code",
      "metadata": {
        "colab": {
          "base_uri": "https://localhost:8080/"
        },
        "id": "riX7U79Lr-Dc",
        "outputId": "3f63741f-607d-458e-c41a-1b0a8dd53252"
      },
      "source": [
        "a[[1,5,7]]"
      ],
      "execution_count": null,
      "outputs": [
        {
          "output_type": "execute_result",
          "data": {
            "text/plain": [
              "array([2, 6, 8])"
            ]
          },
          "metadata": {
            "tags": []
          },
          "execution_count": 26
        }
      ]
    },
    {
      "cell_type": "markdown",
      "metadata": {
        "id": "uIEev2ZWp8SC"
      },
      "source": [
        "trazendo a mesma linha 2 vezes:"
      ]
    },
    {
      "cell_type": "code",
      "metadata": {
        "colab": {
          "base_uri": "https://localhost:8080/"
        },
        "id": "QqovoQaMiZvb",
        "outputId": "82a2a1d3-aea0-4cb1-b2d4-6081fd75d17f"
      },
      "source": [
        "a[[0,0]]"
      ],
      "execution_count": null,
      "outputs": [
        {
          "output_type": "execute_result",
          "data": {
            "text/plain": [
              "array([[1, 2, 3, 4],\n",
              "       [1, 2, 3, 4]])"
            ]
          },
          "metadata": {
            "tags": []
          },
          "execution_count": 23
        }
      ]
    },
    {
      "cell_type": "markdown",
      "metadata": {
        "id": "KY6Ah8eEtN71"
      },
      "source": [
        "Boleanos e condicionais:\n",
        "\n",
        "* permitem checar quais elementos de um  ndarray satisfazem certas condições\n",
        "* facilitam a seleção de partes do array\n",
        "* base para implementar \"consultas\" do pandas\n",
        "* indexação condicional\n",
        "* permitem fazer a seleção de certas partes do array"
      ]
    },
    {
      "cell_type": "markdown",
      "metadata": {
        "id": "sG71lpDJuRt6"
      },
      "source": [
        "*verifica booleanamente quais os valores na matriz que são maiores ou igauis a 7:*"
      ]
    },
    {
      "cell_type": "code",
      "metadata": {
        "colab": {
          "base_uri": "https://localhost:8080/"
        },
        "id": "ov0HtsN0uNw2",
        "outputId": "3e8533b3-f5fe-45fc-ec8b-9d700d7333a1"
      },
      "source": [
        "a >=7"
      ],
      "execution_count": null,
      "outputs": [
        {
          "output_type": "execute_result",
          "data": {
            "text/plain": [
              "array([[False, False, False, False],\n",
              "       [False, False,  True,  True],\n",
              "       [ True,  True,  True,  True],\n",
              "       [ True,  True,  True,  True]])"
            ]
          },
          "metadata": {
            "tags": []
          },
          "execution_count": 31
        }
      ]
    },
    {
      "cell_type": "markdown",
      "metadata": {
        "id": "aKVKlTf0uGu1"
      },
      "source": [
        "*tras os valores da matriz que são maiores ou iguais a 7*"
      ]
    },
    {
      "cell_type": "code",
      "metadata": {
        "colab": {
          "base_uri": "https://localhost:8080/"
        },
        "id": "wk9xNnTct5DF",
        "outputId": "8dbd7f1c-9509-4f73-d5db-fb7cec599c83"
      },
      "source": [
        "a[a >= 7]"
      ],
      "execution_count": null,
      "outputs": [
        {
          "output_type": "execute_result",
          "data": {
            "text/plain": [
              "array([ 7,  8,  9, 10, 11, 12, 13, 14, 15, 16])"
            ]
          },
          "metadata": {
            "tags": []
          },
          "execution_count": 30
        }
      ]
    },
    {
      "cell_type": "markdown",
      "metadata": {
        "id": "J1TgbT_riZvb"
      },
      "source": [
        "## Parte 3.2 - Manipulação de dimensões\n",
        "\n",
        "- Já utilizamos o reshape em diversas ocasiões\n",
        "- Preocupação: assegurar que haja elementos suficientes\n",
        "1. Crie uma matriz (3,4) de números aleatórios quaisquer\n",
        "2. Obtenha uma versão unidimensional desta matriz\n",
        "3. Obtenha a transposta desta matriz"
      ]
    },
    {
      "cell_type": "markdown",
      "metadata": {
        "id": "TifuV501vYIU"
      },
      "source": [
        "**Manipulação de dimensões é poder jogar o array para que lhe favoreça em alguma situação**"
      ]
    },
    {
      "cell_type": "markdown",
      "metadata": {
        "id": "nnLwsmjUvhf4"
      },
      "source": [
        "* reshape (eu preciso saber se o array original contem todos os elementos que satisfazem essa nova dimensão)\n",
        "* ravel, flatten\n",
        "* transpose"
      ]
    },
    {
      "cell_type": "markdown",
      "metadata": {
        "id": "mDigKIR1wCZh"
      },
      "source": [
        "~array que vai de 1 a 100 e seja bdminesional - uma matriz 10x10~"
      ]
    },
    {
      "cell_type": "code",
      "metadata": {
        "id": "iJYXB5kziZvb"
      },
      "source": [
        "a = np.random.randint(1,100,(10,10))"
      ],
      "execution_count": null,
      "outputs": []
    },
    {
      "cell_type": "markdown",
      "metadata": {
        "id": "XR_eMbywv1wM"
      },
      "source": [
        "*reshape:*"
      ]
    },
    {
      "cell_type": "markdown",
      "metadata": {
        "id": "m2B673czwVZW"
      },
      "source": [
        "se eu fizer sem atribuição ao array, ele não alterará, só criará uma cópia (POO)"
      ]
    },
    {
      "cell_type": "code",
      "metadata": {
        "colab": {
          "base_uri": "https://localhost:8080/"
        },
        "id": "IjvBQ6dbiZvb",
        "outputId": "eaf207e1-902d-4c4c-95a7-307efa19da77"
      },
      "source": [
        "a = a.reshape((100,))\n",
        "a"
      ],
      "execution_count": null,
      "outputs": [
        {
          "output_type": "execute_result",
          "data": {
            "text/plain": [
              "array([80, 14, 29, 31, 68, 35, 12, 28, 69, 72, 89, 54, 88, 67, 10, 47, 13,\n",
              "       65,  7, 77, 92, 69, 40, 12, 59, 12, 65, 11,  4, 76, 45,  9, 19, 84,\n",
              "       47, 92, 23, 92, 25,  2,  1,  1, 27,  1, 54, 10, 42, 65, 45, 91, 68,\n",
              "       83,  6, 34, 32, 46, 61, 62, 97, 42, 23, 37, 45, 98, 51, 83, 49, 71,\n",
              "       96, 42,  4, 95, 41, 67, 86, 24, 57, 48,  8, 84, 15, 19, 61, 47, 43,\n",
              "       55, 81, 68, 61, 52,  8,  8, 48, 62, 37, 20, 62, 34, 25,  2])"
            ]
          },
          "metadata": {
            "tags": []
          },
          "execution_count": 36
        }
      ]
    },
    {
      "cell_type": "markdown",
      "metadata": {
        "id": "kR3yZ3nixF1T"
      },
      "source": [
        "fazendo 2 linhas com 50 elementos:"
      ]
    },
    {
      "cell_type": "code",
      "metadata": {
        "colab": {
          "base_uri": "https://localhost:8080/"
        },
        "id": "pt3ngmbAiZvb",
        "outputId": "206094a1-5f5c-4bba-fbe3-d3700773814c"
      },
      "source": [
        "a = a.reshape((2,50))\n",
        "a"
      ],
      "execution_count": null,
      "outputs": [
        {
          "output_type": "execute_result",
          "data": {
            "text/plain": [
              "array([[80, 14, 29, 31, 68, 35, 12, 28, 69, 72, 89, 54, 88, 67, 10, 47,\n",
              "        13, 65,  7, 77, 92, 69, 40, 12, 59, 12, 65, 11,  4, 76, 45,  9,\n",
              "        19, 84, 47, 92, 23, 92, 25,  2,  1,  1, 27,  1, 54, 10, 42, 65,\n",
              "        45, 91],\n",
              "       [68, 83,  6, 34, 32, 46, 61, 62, 97, 42, 23, 37, 45, 98, 51, 83,\n",
              "        49, 71, 96, 42,  4, 95, 41, 67, 86, 24, 57, 48,  8, 84, 15, 19,\n",
              "        61, 47, 43, 55, 81, 68, 61, 52,  8,  8, 48, 62, 37, 20, 62, 34,\n",
              "        25,  2]])"
            ]
          },
          "metadata": {
            "tags": []
          },
          "execution_count": 38
        }
      ]
    },
    {
      "cell_type": "markdown",
      "metadata": {
        "id": "_ybAEpqQxhzr"
      },
      "source": [
        "*O ravel e flatten - tornam multipla dimensão em uma*\n",
        "\n",
        "*a diferança de um para o outro é a manipulação interna que o numpy faz, sendo o flatten mais eficiente*\n",
        "\n",
        "*exemplo: funções muito utilizadas em redes neurais para linearizar uma matriz*"
      ]
    },
    {
      "cell_type": "code",
      "metadata": {
        "colab": {
          "base_uri": "https://localhost:8080/"
        },
        "id": "gLP05zvfiZvb",
        "outputId": "32415c62-a004-4f97-d18d-f9b31140c028"
      },
      "source": [
        "a.ravel()"
      ],
      "execution_count": null,
      "outputs": [
        {
          "output_type": "execute_result",
          "data": {
            "text/plain": [
              "array([80, 14, 29, 31, 68, 35, 12, 28, 69, 72, 89, 54, 88, 67, 10, 47, 13,\n",
              "       65,  7, 77, 92, 69, 40, 12, 59, 12, 65, 11,  4, 76, 45,  9, 19, 84,\n",
              "       47, 92, 23, 92, 25,  2,  1,  1, 27,  1, 54, 10, 42, 65, 45, 91, 68,\n",
              "       83,  6, 34, 32, 46, 61, 62, 97, 42, 23, 37, 45, 98, 51, 83, 49, 71,\n",
              "       96, 42,  4, 95, 41, 67, 86, 24, 57, 48,  8, 84, 15, 19, 61, 47, 43,\n",
              "       55, 81, 68, 61, 52,  8,  8, 48, 62, 37, 20, 62, 34, 25,  2])"
            ]
          },
          "metadata": {
            "tags": []
          },
          "execution_count": 39
        }
      ]
    },
    {
      "cell_type": "code",
      "metadata": {
        "colab": {
          "base_uri": "https://localhost:8080/"
        },
        "id": "VCWYiUGgiZvb",
        "outputId": "0fd1101d-9833-490a-93cb-40e75e267b00"
      },
      "source": [
        "a.flatten()"
      ],
      "execution_count": null,
      "outputs": [
        {
          "output_type": "execute_result",
          "data": {
            "text/plain": [
              "array([80, 14, 29, 31, 68, 35, 12, 28, 69, 72, 89, 54, 88, 67, 10, 47, 13,\n",
              "       65,  7, 77, 92, 69, 40, 12, 59, 12, 65, 11,  4, 76, 45,  9, 19, 84,\n",
              "       47, 92, 23, 92, 25,  2,  1,  1, 27,  1, 54, 10, 42, 65, 45, 91, 68,\n",
              "       83,  6, 34, 32, 46, 61, 62, 97, 42, 23, 37, 45, 98, 51, 83, 49, 71,\n",
              "       96, 42,  4, 95, 41, 67, 86, 24, 57, 48,  8, 84, 15, 19, 61, 47, 43,\n",
              "       55, 81, 68, 61, 52,  8,  8, 48, 62, 37, 20, 62, 34, 25,  2])"
            ]
          },
          "metadata": {
            "tags": []
          },
          "execution_count": 40
        }
      ]
    },
    {
      "cell_type": "markdown",
      "metadata": {
        "id": "M7jTqugKxrqy"
      },
      "source": [
        "*fazendo a matriz transposta:*"
      ]
    },
    {
      "cell_type": "code",
      "metadata": {
        "colab": {
          "base_uri": "https://localhost:8080/"
        },
        "id": "m8l1zgW4iZvb",
        "outputId": "95500659-d7b5-46ce-f807-86f39ddcf56e"
      },
      "source": [
        "c = np.ones((2,5))\n",
        "c"
      ],
      "execution_count": null,
      "outputs": [
        {
          "output_type": "execute_result",
          "data": {
            "text/plain": [
              "array([[1., 1., 1., 1., 1.],\n",
              "       [1., 1., 1., 1., 1.]])"
            ]
          },
          "metadata": {
            "tags": []
          },
          "execution_count": 41
        }
      ]
    },
    {
      "cell_type": "code",
      "metadata": {
        "colab": {
          "base_uri": "https://localhost:8080/"
        },
        "id": "ApcT8DQ7yYy6",
        "outputId": "c579dd5b-e328-4c76-c662-d582cfe6c61d"
      },
      "source": [
        "c.transpose()"
      ],
      "execution_count": null,
      "outputs": [
        {
          "output_type": "execute_result",
          "data": {
            "text/plain": [
              "array([[1., 1.],\n",
              "       [1., 1.],\n",
              "       [1., 1.],\n",
              "       [1., 1.],\n",
              "       [1., 1.]])"
            ]
          },
          "metadata": {
            "tags": []
          },
          "execution_count": 42
        }
      ]
    },
    {
      "cell_type": "markdown",
      "metadata": {
        "id": "NWkLcYvVyiTU"
      },
      "source": [
        "*maneira pythonica de fazer matriz transposta:*"
      ]
    },
    {
      "cell_type": "code",
      "metadata": {
        "colab": {
          "base_uri": "https://localhost:8080/"
        },
        "id": "SC6DrMGqyYrm",
        "outputId": "94c4a940-49b9-4ec8-f0f0-e5b078f6f4fb"
      },
      "source": [
        "c.T"
      ],
      "execution_count": null,
      "outputs": [
        {
          "output_type": "execute_result",
          "data": {
            "text/plain": [
              "array([[1., 1.],\n",
              "       [1., 1.],\n",
              "       [1., 1.],\n",
              "       [1., 1.],\n",
              "       [1., 1.]])"
            ]
          },
          "metadata": {
            "tags": []
          },
          "execution_count": 45
        }
      ]
    },
    {
      "cell_type": "markdown",
      "metadata": {
        "id": "L870EfZ1Yh9l"
      },
      "source": [
        "**Broadcasting**\n",
        "\n",
        "* permite que um operador ou função atue em um ou mais arrays mesmo quando eles não possuem o mesmo shape\n",
        "* Dois arrays estão sujeitos ao broadcasting quando todas as suas dimensões são compatíveis\n",
        "*O comprimento de cada dimensão é igual \n",
        "* Ou um dos comprimentos é igaul a 1\n",
        "*Regras: add 1 a cada dimensão faltante / a dimensão faltante é preenchida com réplicas dos valores"
      ]
    },
    {
      "cell_type": "markdown",
      "metadata": {
        "id": "zazOxH8IiZvb"
      },
      "source": [
        "## Parte 3.3 - Broadcasting\n",
        "\n",
        "1. Considere a matriz A e b dadas a seguir\n",
        "2. Qual o resultado de A + b segundo as regras de broadcasting?\n",
        "3. Qual seria o impacto se não tivéssemos as regras de broadcasting nesta biblioteca?"
      ]
    },
    {
      "cell_type": "markdown",
      "metadata": {
        "id": "Qq9GppIQaNfh"
      },
      "source": [
        "*o broadcasting acontece implicitamente dentro do numpy quando as dimensões dos arrays não compatíveis, e quando ao menos um deles tem 1 dimensão*"
      ]
    },
    {
      "cell_type": "markdown",
      "metadata": {
        "id": "WIa6VNWvabgX"
      },
      "source": [
        "neste exemplo temos 2 arrays, o x com 5 dimensoes e y com 1 dimensao"
      ]
    },
    {
      "cell_type": "code",
      "metadata": {
        "id": "ngTZVNwBiZvb",
        "colab": {
          "base_uri": "https://localhost:8080/"
        },
        "outputId": "fd457a5b-4961-4424-d8c8-25e65fb37288"
      },
      "source": [
        "x = np.zeros((5,5))\n",
        "x"
      ],
      "execution_count": 4,
      "outputs": [
        {
          "output_type": "execute_result",
          "data": {
            "text/plain": [
              "array([[0., 0., 0., 0., 0.],\n",
              "       [0., 0., 0., 0., 0.],\n",
              "       [0., 0., 0., 0., 0.],\n",
              "       [0., 0., 0., 0., 0.],\n",
              "       [0., 0., 0., 0., 0.]])"
            ]
          },
          "metadata": {
            "tags": []
          },
          "execution_count": 4
        }
      ]
    },
    {
      "cell_type": "code",
      "metadata": {
        "id": "qjXN5xuPiZvb",
        "colab": {
          "base_uri": "https://localhost:8080/"
        },
        "outputId": "62996202-2a7d-4267-c689-e7d280a53a3a"
      },
      "source": [
        "y = np.ones((5,1))\n",
        "y"
      ],
      "execution_count": 5,
      "outputs": [
        {
          "output_type": "execute_result",
          "data": {
            "text/plain": [
              "array([[1.],\n",
              "       [1.],\n",
              "       [1.],\n",
              "       [1.],\n",
              "       [1.]])"
            ]
          },
          "metadata": {
            "tags": []
          },
          "execution_count": 5
        }
      ]
    },
    {
      "cell_type": "markdown",
      "metadata": {
        "id": "N785kDfFalTh"
      },
      "source": [
        "o resultado desta soma só foi possivel por causa da regra do broadcasting, pq em si não tem dados de y suficientes para somar com todos os elementos de x"
      ]
    },
    {
      "cell_type": "markdown",
      "metadata": {
        "id": "hCPl3RtJchEd"
      },
      "source": [
        "ao somar ele transforma o array unidemensional em uma matriz do tamanho da qual ele precisa somar e preenche esta com a replicação da dimensão que ele tem"
      ]
    },
    {
      "cell_type": "code",
      "metadata": {
        "id": "INV3cK6-iZvb",
        "colab": {
          "base_uri": "https://localhost:8080/"
        },
        "outputId": "f08f87a4-ccb5-4fdd-fa09-11920d6567eb"
      },
      "source": [
        "x+y"
      ],
      "execution_count": 6,
      "outputs": [
        {
          "output_type": "execute_result",
          "data": {
            "text/plain": [
              "array([[1., 1., 1., 1., 1.],\n",
              "       [1., 1., 1., 1., 1.],\n",
              "       [1., 1., 1., 1., 1.],\n",
              "       [1., 1., 1., 1., 1.],\n",
              "       [1., 1., 1., 1., 1.]])"
            ]
          },
          "metadata": {
            "tags": []
          },
          "execution_count": 6
        }
      ]
    },
    {
      "cell_type": "code",
      "metadata": {
        "id": "PUHTeyEXiZvb",
        "colab": {
          "base_uri": "https://localhost:8080/"
        },
        "outputId": "df620d0f-376d-4906-8d3a-44a9c9b1b302"
      },
      "source": [
        "a = np.arange(1,13,1).reshape(3,4)\n",
        "a"
      ],
      "execution_count": 7,
      "outputs": [
        {
          "output_type": "execute_result",
          "data": {
            "text/plain": [
              "array([[ 1,  2,  3,  4],\n",
              "       [ 5,  6,  7,  8],\n",
              "       [ 9, 10, 11, 12]])"
            ]
          },
          "metadata": {
            "tags": []
          },
          "execution_count": 7
        }
      ]
    },
    {
      "cell_type": "code",
      "metadata": {
        "colab": {
          "base_uri": "https://localhost:8080/"
        },
        "id": "4B-v1DkZbOkY",
        "outputId": "28963833-9803-48bc-850d-8b8a776bd603"
      },
      "source": [
        "b = np.array([1,0,0,1])\n",
        "b"
      ],
      "execution_count": 8,
      "outputs": [
        {
          "output_type": "execute_result",
          "data": {
            "text/plain": [
              "array([1, 0, 0, 1])"
            ]
          },
          "metadata": {
            "tags": []
          },
          "execution_count": 8
        }
      ]
    },
    {
      "cell_type": "code",
      "metadata": {
        "colab": {
          "base_uri": "https://localhost:8080/"
        },
        "id": "A1Oep1I5bOUO",
        "outputId": "0d353676-4fa4-409d-ce77-08dab8fc6d2f"
      },
      "source": [
        "a+b"
      ],
      "execution_count": 9,
      "outputs": [
        {
          "output_type": "execute_result",
          "data": {
            "text/plain": [
              "array([[ 2,  2,  3,  5],\n",
              "       [ 6,  6,  7,  9],\n",
              "       [10, 10, 11, 13]])"
            ]
          },
          "metadata": {
            "tags": []
          },
          "execution_count": 9
        }
      ]
    },
    {
      "cell_type": "markdown",
      "metadata": {
        "id": "FY64mFRZdL0T"
      },
      "source": [
        "**Biblioteca numpy - Arquivos**"
      ]
    },
    {
      "cell_type": "markdown",
      "metadata": {
        "id": "3b5BPfxOdSBV"
      },
      "source": [
        "* Possibilidade de leitura e escrita em arquivos\n",
        "* Arquivos binários ou textuais\n",
        "*np.ave e np.load\n",
        "* Prática com imagens"
      ]
    }
  ]
}
{
  "nbformat": 4,
  "nbformat_minor": 0,
  "metadata": {
    "colab": {
      "name": "Trabalho de Análise e Visualização de Dados - ANDREA MONICQUE.ipynb",
      "provenance": [],
      "collapsed_sections": [
        "cE8Y3RM7ISUE",
        "oAvTBmNxCf8S",
        "253VB9cR4FS0",
        "t0Z2UfhZX7XT",
        "PRWAQZQkXzXL"
      ],
      "authorship_tag": "ABX9TyPeFbEm1r5G1YRNDdCq1x/x",
      "include_colab_link": true
    },
    "kernelspec": {
      "name": "python3",
      "display_name": "Python 3"
    },
    "language_info": {
      "name": "python"
    }
  },
  "cells": [
    {
      "cell_type": "markdown",
      "metadata": {
        "id": "view-in-github",
        "colab_type": "text"
      },
      "source": [
        "<a href=\"https://colab.research.google.com/github/DevNicque/pos-datascience/blob/main/Trabalho_de_An%C3%A1lise_e_Visualiza%C3%A7%C3%A3o_de_Dados_ANDREA_MONICQUE.ipynb\" target=\"_parent\"><img src=\"https://colab.research.google.com/assets/colab-badge.svg\" alt=\"Open In Colab\"/></a>"
      ]
    },
    {
      "cell_type": "markdown",
      "metadata": {
        "id": "cE8Y3RM7ISUE"
      },
      "source": [
        "#**Bibliotecas**"
      ]
    },
    {
      "cell_type": "code",
      "metadata": {
        "colab": {
          "base_uri": "https://localhost:8080/"
        },
        "id": "Qe60ogNhwB1c",
        "outputId": "2fcb04a1-afc3-4ba8-dab5-d8d5764a4f2d"
      },
      "source": [
        "! pip install pydataset\n",
        "! pip install geopandas"
      ],
      "execution_count": 2,
      "outputs": [
        {
          "output_type": "stream",
          "text": [
            "Collecting pydataset\n",
            "\u001b[?25l  Downloading https://files.pythonhosted.org/packages/4f/15/548792a1bb9caf6a3affd61c64d306b08c63c8a5a49e2c2d931b67ec2108/pydataset-0.2.0.tar.gz (15.9MB)\n",
            "\u001b[K     |████████████████████████████████| 15.9MB 284kB/s \n",
            "\u001b[?25hRequirement already satisfied: pandas in /usr/local/lib/python3.7/dist-packages (from pydataset) (1.1.5)\n",
            "Requirement already satisfied: python-dateutil>=2.7.3 in /usr/local/lib/python3.7/dist-packages (from pandas->pydataset) (2.8.1)\n",
            "Requirement already satisfied: pytz>=2017.2 in /usr/local/lib/python3.7/dist-packages (from pandas->pydataset) (2018.9)\n",
            "Requirement already satisfied: numpy>=1.15.4 in /usr/local/lib/python3.7/dist-packages (from pandas->pydataset) (1.19.5)\n",
            "Requirement already satisfied: six>=1.5 in /usr/local/lib/python3.7/dist-packages (from python-dateutil>=2.7.3->pandas->pydataset) (1.15.0)\n",
            "Building wheels for collected packages: pydataset\n",
            "  Building wheel for pydataset (setup.py) ... \u001b[?25l\u001b[?25hdone\n",
            "  Created wheel for pydataset: filename=pydataset-0.2.0-cp37-none-any.whl size=15939431 sha256=2372c40f00cbe01e898a33cd177ee936f6a027bde67e36091474d0af20439c76\n",
            "  Stored in directory: /root/.cache/pip/wheels/fe/3f/dc/5d02ccc767317191b12d042dd920fcf3432fab74bc7978598b\n",
            "Successfully built pydataset\n",
            "Installing collected packages: pydataset\n",
            "Successfully installed pydataset-0.2.0\n",
            "Collecting geopandas\n",
            "\u001b[?25l  Downloading https://files.pythonhosted.org/packages/d7/bf/e9cefb69d39155d122b6ddca53893b61535fa6ffdad70bf5ef708977f53f/geopandas-0.9.0-py2.py3-none-any.whl (994kB)\n",
            "\u001b[K     |████████████████████████████████| 1.0MB 5.8MB/s \n",
            "\u001b[?25hRequirement already satisfied: pandas>=0.24.0 in /usr/local/lib/python3.7/dist-packages (from geopandas) (1.1.5)\n",
            "Collecting fiona>=1.8\n",
            "\u001b[?25l  Downloading https://files.pythonhosted.org/packages/ea/2a/404b22883298a3efe9c6ef8d67acbf2c38443fa366ee9cd4cd34e17626ea/Fiona-1.8.19-cp37-cp37m-manylinux1_x86_64.whl (15.3MB)\n",
            "\u001b[K     |████████████████████████████████| 15.3MB 303kB/s \n",
            "\u001b[?25hCollecting pyproj>=2.2.0\n",
            "\u001b[?25l  Downloading https://files.pythonhosted.org/packages/b1/72/d52e9ca81caef056062d71991b0e9b1d16af042245627c5d0e4916a36c4f/pyproj-3.0.1-cp37-cp37m-manylinux2010_x86_64.whl (6.5MB)\n",
            "\u001b[K     |████████████████████████████████| 6.5MB 40.9MB/s \n",
            "\u001b[?25hRequirement already satisfied: shapely>=1.6 in /usr/local/lib/python3.7/dist-packages (from geopandas) (1.7.1)\n",
            "Requirement already satisfied: python-dateutil>=2.7.3 in /usr/local/lib/python3.7/dist-packages (from pandas>=0.24.0->geopandas) (2.8.1)\n",
            "Requirement already satisfied: numpy>=1.15.4 in /usr/local/lib/python3.7/dist-packages (from pandas>=0.24.0->geopandas) (1.19.5)\n",
            "Requirement already satisfied: pytz>=2017.2 in /usr/local/lib/python3.7/dist-packages (from pandas>=0.24.0->geopandas) (2018.9)\n",
            "Collecting munch\n",
            "  Downloading https://files.pythonhosted.org/packages/cc/ab/85d8da5c9a45e072301beb37ad7f833cd344e04c817d97e0cc75681d248f/munch-2.5.0-py2.py3-none-any.whl\n",
            "Requirement already satisfied: click<8,>=4.0 in /usr/local/lib/python3.7/dist-packages (from fiona>=1.8->geopandas) (7.1.2)\n",
            "Collecting cligj>=0.5\n",
            "  Downloading https://files.pythonhosted.org/packages/42/1e/947eadf10d6804bf276eb8a038bd5307996dceaaa41cfd21b7a15ec62f5d/cligj-0.7.1-py3-none-any.whl\n",
            "Collecting click-plugins>=1.0\n",
            "  Downloading https://files.pythonhosted.org/packages/e9/da/824b92d9942f4e472702488857914bdd50f73021efea15b4cad9aca8ecef/click_plugins-1.1.1-py2.py3-none-any.whl\n",
            "Requirement already satisfied: certifi in /usr/local/lib/python3.7/dist-packages (from fiona>=1.8->geopandas) (2020.12.5)\n",
            "Requirement already satisfied: six>=1.7 in /usr/local/lib/python3.7/dist-packages (from fiona>=1.8->geopandas) (1.15.0)\n",
            "Requirement already satisfied: attrs>=17 in /usr/local/lib/python3.7/dist-packages (from fiona>=1.8->geopandas) (20.3.0)\n",
            "Installing collected packages: munch, cligj, click-plugins, fiona, pyproj, geopandas\n",
            "Successfully installed click-plugins-1.1.1 cligj-0.7.1 fiona-1.8.19 geopandas-0.9.0 munch-2.5.0 pyproj-3.0.1\n"
          ],
          "name": "stdout"
        }
      ]
    },
    {
      "cell_type": "code",
      "metadata": {
        "id": "V6yGNU267lCQ",
        "colab": {
          "base_uri": "https://localhost:8080/"
        },
        "outputId": "f5c01a4c-30d2-42ed-a27d-c4b2f957c2f3"
      },
      "source": [
        "import matplotlib.pyplot as plt\n",
        "import numpy as np\n",
        "import pandas as pd\n",
        "from datetime import date,datetime\n",
        "import geopandas as gpd\n",
        "import seaborn as sns\n",
        "from pydataset import data\n",
        "\n",
        "%matplotlib inline"
      ],
      "execution_count": 3,
      "outputs": [
        {
          "output_type": "stream",
          "text": [
            "initiated datasets repo at: /root/.pydataset/\n"
          ],
          "name": "stdout"
        }
      ]
    },
    {
      "cell_type": "markdown",
      "metadata": {
        "id": "oAvTBmNxCf8S"
      },
      "source": [
        "#**Importação**"
      ]
    },
    {
      "cell_type": "code",
      "metadata": {
        "colab": {
          "base_uri": "https://localhost:8080/",
          "height": 0
        },
        "id": "_1-6r2X9wJMv",
        "outputId": "69f6b503-3c9c-49d7-ca81-e0bdc7de5729"
      },
      "source": [
        "data()"
      ],
      "execution_count": 232,
      "outputs": [
        {
          "output_type": "execute_result",
          "data": {
            "text/html": [
              "<div>\n",
              "<style scoped>\n",
              "    .dataframe tbody tr th:only-of-type {\n",
              "        vertical-align: middle;\n",
              "    }\n",
              "\n",
              "    .dataframe tbody tr th {\n",
              "        vertical-align: top;\n",
              "    }\n",
              "\n",
              "    .dataframe thead th {\n",
              "        text-align: right;\n",
              "    }\n",
              "</style>\n",
              "<table border=\"1\" class=\"dataframe\">\n",
              "  <thead>\n",
              "    <tr style=\"text-align: right;\">\n",
              "      <th></th>\n",
              "      <th>dataset_id</th>\n",
              "      <th>title</th>\n",
              "    </tr>\n",
              "  </thead>\n",
              "  <tbody>\n",
              "    <tr>\n",
              "      <th>0</th>\n",
              "      <td>AirPassengers</td>\n",
              "      <td>Monthly Airline Passenger Numbers 1949-1960</td>\n",
              "    </tr>\n",
              "    <tr>\n",
              "      <th>1</th>\n",
              "      <td>BJsales</td>\n",
              "      <td>Sales Data with Leading Indicator</td>\n",
              "    </tr>\n",
              "    <tr>\n",
              "      <th>2</th>\n",
              "      <td>BOD</td>\n",
              "      <td>Biochemical Oxygen Demand</td>\n",
              "    </tr>\n",
              "    <tr>\n",
              "      <th>3</th>\n",
              "      <td>Formaldehyde</td>\n",
              "      <td>Determination of Formaldehyde</td>\n",
              "    </tr>\n",
              "    <tr>\n",
              "      <th>4</th>\n",
              "      <td>HairEyeColor</td>\n",
              "      <td>Hair and Eye Color of Statistics Students</td>\n",
              "    </tr>\n",
              "    <tr>\n",
              "      <th>...</th>\n",
              "      <td>...</td>\n",
              "      <td>...</td>\n",
              "    </tr>\n",
              "    <tr>\n",
              "      <th>752</th>\n",
              "      <td>VerbAgg</td>\n",
              "      <td>Verbal Aggression item responses</td>\n",
              "    </tr>\n",
              "    <tr>\n",
              "      <th>753</th>\n",
              "      <td>cake</td>\n",
              "      <td>Breakage Angle of Chocolate Cakes</td>\n",
              "    </tr>\n",
              "    <tr>\n",
              "      <th>754</th>\n",
              "      <td>cbpp</td>\n",
              "      <td>Contagious bovine pleuropneumonia</td>\n",
              "    </tr>\n",
              "    <tr>\n",
              "      <th>755</th>\n",
              "      <td>grouseticks</td>\n",
              "      <td>Data on red grouse ticks from Elston et al. 2001</td>\n",
              "    </tr>\n",
              "    <tr>\n",
              "      <th>756</th>\n",
              "      <td>sleepstudy</td>\n",
              "      <td>Reaction times in a sleep deprivation study</td>\n",
              "    </tr>\n",
              "  </tbody>\n",
              "</table>\n",
              "<p>757 rows × 2 columns</p>\n",
              "</div>"
            ],
            "text/plain": [
              "        dataset_id                                             title\n",
              "0    AirPassengers       Monthly Airline Passenger Numbers 1949-1960\n",
              "1          BJsales                 Sales Data with Leading Indicator\n",
              "2              BOD                         Biochemical Oxygen Demand\n",
              "3     Formaldehyde                     Determination of Formaldehyde\n",
              "4     HairEyeColor         Hair and Eye Color of Statistics Students\n",
              "..             ...                                               ...\n",
              "752        VerbAgg                  Verbal Aggression item responses\n",
              "753           cake                 Breakage Angle of Chocolate Cakes\n",
              "754           cbpp                 Contagious bovine pleuropneumonia\n",
              "755    grouseticks  Data on red grouse ticks from Elston et al. 2001\n",
              "756     sleepstudy       Reaction times in a sleep deprivation study\n",
              "\n",
              "[757 rows x 2 columns]"
            ]
          },
          "metadata": {
            "tags": []
          },
          "execution_count": 232
        }
      ]
    },
    {
      "cell_type": "markdown",
      "metadata": {
        "id": "0jQOaNEYBQdE"
      },
      "source": [
        "**Dataset Robey** \n",
        "- Demonstra dados de fertilidade e contracepção em Países das Regiões da África, Ásia, América Latina e Oriente Médio\n",
        "- Fonte: pydataset\n",
        "\n",
        "\n"
      ]
    },
    {
      "cell_type": "code",
      "metadata": {
        "id": "DnTCPHmCBPOq"
      },
      "source": [
        "df_fertilidade = data('Robey')"
      ],
      "execution_count": 239,
      "outputs": []
    },
    {
      "cell_type": "markdown",
      "metadata": {
        "id": "N9VjH0PkDV7G"
      },
      "source": [
        "**Dataset Focos de queimadas no Brasil** \n",
        "- Este demonstra ocorrências de queimadas nos biomas brasileiros durante o ano de 2020\n",
        "- Fonte: Kaggle\n",
        "\n",
        "\n"
      ]
    },
    {
      "cell_type": "code",
      "metadata": {
        "id": "9xuKqojvBktA"
      },
      "source": [
        "df_queimadas = pd.read_csv('Focos_2020-01-01_2020-12-31.csv')"
      ],
      "execution_count": 238,
      "outputs": []
    },
    {
      "cell_type": "markdown",
      "metadata": {
        "id": "253VB9cR4FS0"
      },
      "source": [
        "#**Análise Dataset Robey** \n",
        "- Fonte: Pydataset\n",
        "\n",
        "\n"
      ]
    },
    {
      "cell_type": "code",
      "metadata": {
        "colab": {
          "base_uri": "https://localhost:8080/",
          "height": 189
        },
        "id": "W0Y-343mz2lj",
        "outputId": "bf64b381-2a03-4e63-bc2e-13e90bd574d9"
      },
      "source": [
        "df_fertilidade = data('Robey')\n",
        "df_fertilidade.head()"
      ],
      "execution_count": 241,
      "outputs": [
        {
          "output_type": "execute_result",
          "data": {
            "text/html": [
              "<div>\n",
              "<style scoped>\n",
              "    .dataframe tbody tr th:only-of-type {\n",
              "        vertical-align: middle;\n",
              "    }\n",
              "\n",
              "    .dataframe tbody tr th {\n",
              "        vertical-align: top;\n",
              "    }\n",
              "\n",
              "    .dataframe thead th {\n",
              "        text-align: right;\n",
              "    }\n",
              "</style>\n",
              "<table border=\"1\" class=\"dataframe\">\n",
              "  <thead>\n",
              "    <tr style=\"text-align: right;\">\n",
              "      <th></th>\n",
              "      <th>region</th>\n",
              "      <th>tfr</th>\n",
              "      <th>contraceptors</th>\n",
              "    </tr>\n",
              "  </thead>\n",
              "  <tbody>\n",
              "    <tr>\n",
              "      <th>Botswana</th>\n",
              "      <td>Africa</td>\n",
              "      <td>4.8</td>\n",
              "      <td>35</td>\n",
              "    </tr>\n",
              "    <tr>\n",
              "      <th>Burundi</th>\n",
              "      <td>Africa</td>\n",
              "      <td>6.5</td>\n",
              "      <td>9</td>\n",
              "    </tr>\n",
              "    <tr>\n",
              "      <th>Cameroon</th>\n",
              "      <td>Africa</td>\n",
              "      <td>5.9</td>\n",
              "      <td>16</td>\n",
              "    </tr>\n",
              "    <tr>\n",
              "      <th>Ghana</th>\n",
              "      <td>Africa</td>\n",
              "      <td>6.1</td>\n",
              "      <td>13</td>\n",
              "    </tr>\n",
              "    <tr>\n",
              "      <th>Kenya</th>\n",
              "      <td>Africa</td>\n",
              "      <td>6.5</td>\n",
              "      <td>27</td>\n",
              "    </tr>\n",
              "  </tbody>\n",
              "</table>\n",
              "</div>"
            ],
            "text/plain": [
              "          region  tfr  contraceptors\n",
              "Botswana  Africa  4.8             35\n",
              "Burundi   Africa  6.5              9\n",
              "Cameroon  Africa  5.9             16\n",
              "Ghana     Africa  6.1             13\n",
              "Kenya     Africa  6.5             27"
            ]
          },
          "metadata": {
            "tags": []
          },
          "execution_count": 241
        }
      ]
    },
    {
      "cell_type": "code",
      "metadata": {
        "id": "EhBb9Md-7oeH"
      },
      "source": [
        "df_fertilidade = df_fertilidade.reset_index()\n",
        "df_fertilidade.columns=['pais','regiao','taxa_fertilidade','qtd_contraceptivos']"
      ],
      "execution_count": 242,
      "outputs": []
    },
    {
      "cell_type": "code",
      "metadata": {
        "colab": {
          "base_uri": "https://localhost:8080/"
        },
        "id": "RfEd28Jh8f9i",
        "outputId": "d36050b0-43c8-4130-e112-70ca5138143e"
      },
      "source": [
        "set(df_fertilidade.regiao)"
      ],
      "execution_count": 243,
      "outputs": [
        {
          "output_type": "execute_result",
          "data": {
            "text/plain": [
              "{'Africa', 'Asia', 'Latin.Amer', 'Near.East'}"
            ]
          },
          "metadata": {
            "tags": []
          },
          "execution_count": 243
        }
      ]
    },
    {
      "cell_type": "code",
      "metadata": {
        "colab": {
          "base_uri": "https://localhost:8080/"
        },
        "id": "OzS5ZpqoQIA6",
        "outputId": "312173a1-53f7-4152-c8b6-915ec689ff7e"
      },
      "source": [
        "df_fertilidade.info()"
      ],
      "execution_count": 245,
      "outputs": [
        {
          "output_type": "stream",
          "text": [
            "<class 'pandas.core.frame.DataFrame'>\n",
            "RangeIndex: 50 entries, 0 to 49\n",
            "Data columns (total 4 columns):\n",
            " #   Column              Non-Null Count  Dtype  \n",
            "---  ------              --------------  -----  \n",
            " 0   pais                50 non-null     object \n",
            " 1   regiao              50 non-null     object \n",
            " 2   taxa_fertilidade    50 non-null     float64\n",
            " 3   qtd_contraceptivos  50 non-null     int64  \n",
            "dtypes: float64(1), int64(1), object(2)\n",
            "memory usage: 1.7+ KB\n"
          ],
          "name": "stdout"
        }
      ]
    },
    {
      "cell_type": "code",
      "metadata": {
        "colab": {
          "base_uri": "https://localhost:8080/",
          "height": 274
        },
        "id": "30eXRyBm8_yq",
        "outputId": "85e225a3-ee10-4b52-b320-522180e89daf"
      },
      "source": [
        "df_fertilidade.describe()"
      ],
      "execution_count": 244,
      "outputs": [
        {
          "output_type": "execute_result",
          "data": {
            "text/html": [
              "<div>\n",
              "<style scoped>\n",
              "    .dataframe tbody tr th:only-of-type {\n",
              "        vertical-align: middle;\n",
              "    }\n",
              "\n",
              "    .dataframe tbody tr th {\n",
              "        vertical-align: top;\n",
              "    }\n",
              "\n",
              "    .dataframe thead th {\n",
              "        text-align: right;\n",
              "    }\n",
              "</style>\n",
              "<table border=\"1\" class=\"dataframe\">\n",
              "  <thead>\n",
              "    <tr style=\"text-align: right;\">\n",
              "      <th></th>\n",
              "      <th>taxa_fertilidade</th>\n",
              "      <th>qtd_contraceptivos</th>\n",
              "    </tr>\n",
              "  </thead>\n",
              "  <tbody>\n",
              "    <tr>\n",
              "      <th>count</th>\n",
              "      <td>50.000000</td>\n",
              "      <td>50.00000</td>\n",
              "    </tr>\n",
              "    <tr>\n",
              "      <th>mean</th>\n",
              "      <td>4.688000</td>\n",
              "      <td>37.44000</td>\n",
              "    </tr>\n",
              "    <tr>\n",
              "      <th>std</th>\n",
              "      <td>1.453446</td>\n",
              "      <td>22.89832</td>\n",
              "    </tr>\n",
              "    <tr>\n",
              "      <th>min</th>\n",
              "      <td>1.700000</td>\n",
              "      <td>4.00000</td>\n",
              "    </tr>\n",
              "    <tr>\n",
              "      <th>25%</th>\n",
              "      <td>3.600000</td>\n",
              "      <td>12.25000</td>\n",
              "    </tr>\n",
              "    <tr>\n",
              "      <th>50%</th>\n",
              "      <td>4.600000</td>\n",
              "      <td>41.00000</td>\n",
              "    </tr>\n",
              "    <tr>\n",
              "      <th>75%</th>\n",
              "      <td>5.975000</td>\n",
              "      <td>55.00000</td>\n",
              "    </tr>\n",
              "    <tr>\n",
              "      <th>max</th>\n",
              "      <td>7.300000</td>\n",
              "      <td>77.00000</td>\n",
              "    </tr>\n",
              "  </tbody>\n",
              "</table>\n",
              "</div>"
            ],
            "text/plain": [
              "       taxa_fertilidade  qtd_contraceptivos\n",
              "count         50.000000            50.00000\n",
              "mean           4.688000            37.44000\n",
              "std            1.453446            22.89832\n",
              "min            1.700000             4.00000\n",
              "25%            3.600000            12.25000\n",
              "50%            4.600000            41.00000\n",
              "75%            5.975000            55.00000\n",
              "max            7.300000            77.00000"
            ]
          },
          "metadata": {
            "tags": []
          },
          "execution_count": 244
        }
      ]
    },
    {
      "cell_type": "code",
      "metadata": {
        "colab": {
          "base_uri": "https://localhost:8080/",
          "height": 331
        },
        "id": "Qud5EaaY78r2",
        "outputId": "8ac837ae-d47b-4e83-b63e-047d221dadad"
      },
      "source": [
        "df_fertilidade.sort_values(['taxa_fertilidade'], ascending=False, inplace=True, ignore_index=True)\n",
        "df_fertilidade.head(10)"
      ],
      "execution_count": 246,
      "outputs": [
        {
          "output_type": "execute_result",
          "data": {
            "text/html": [
              "<div>\n",
              "<style scoped>\n",
              "    .dataframe tbody tr th:only-of-type {\n",
              "        vertical-align: middle;\n",
              "    }\n",
              "\n",
              "    .dataframe tbody tr th {\n",
              "        vertical-align: top;\n",
              "    }\n",
              "\n",
              "    .dataframe thead th {\n",
              "        text-align: right;\n",
              "    }\n",
              "</style>\n",
              "<table border=\"1\" class=\"dataframe\">\n",
              "  <thead>\n",
              "    <tr style=\"text-align: right;\">\n",
              "      <th></th>\n",
              "      <th>pais</th>\n",
              "      <th>regiao</th>\n",
              "      <th>taxa_fertilidade</th>\n",
              "      <th>qtd_contraceptivos</th>\n",
              "    </tr>\n",
              "  </thead>\n",
              "  <tbody>\n",
              "    <tr>\n",
              "      <th>0</th>\n",
              "      <td>Niger</td>\n",
              "      <td>Africa</td>\n",
              "      <td>7.3</td>\n",
              "      <td>4</td>\n",
              "    </tr>\n",
              "    <tr>\n",
              "      <th>1</th>\n",
              "      <td>Uganda</td>\n",
              "      <td>Africa</td>\n",
              "      <td>7.2</td>\n",
              "      <td>5</td>\n",
              "    </tr>\n",
              "    <tr>\n",
              "      <th>2</th>\n",
              "      <td>Yemen</td>\n",
              "      <td>Near.East</td>\n",
              "      <td>7.0</td>\n",
              "      <td>7</td>\n",
              "    </tr>\n",
              "    <tr>\n",
              "      <th>3</th>\n",
              "      <td>Mali</td>\n",
              "      <td>Africa</td>\n",
              "      <td>6.8</td>\n",
              "      <td>5</td>\n",
              "    </tr>\n",
              "    <tr>\n",
              "      <th>4</th>\n",
              "      <td>Burundi</td>\n",
              "      <td>Africa</td>\n",
              "      <td>6.5</td>\n",
              "      <td>9</td>\n",
              "    </tr>\n",
              "    <tr>\n",
              "      <th>5</th>\n",
              "      <td>Kenya</td>\n",
              "      <td>Africa</td>\n",
              "      <td>6.5</td>\n",
              "      <td>27</td>\n",
              "    </tr>\n",
              "    <tr>\n",
              "      <th>6</th>\n",
              "      <td>Liberia</td>\n",
              "      <td>Africa</td>\n",
              "      <td>6.4</td>\n",
              "      <td>6</td>\n",
              "    </tr>\n",
              "    <tr>\n",
              "      <th>7</th>\n",
              "      <td>Senegal</td>\n",
              "      <td>Africa</td>\n",
              "      <td>6.4</td>\n",
              "      <td>12</td>\n",
              "    </tr>\n",
              "    <tr>\n",
              "      <th>8</th>\n",
              "      <td>Zambia</td>\n",
              "      <td>Africa</td>\n",
              "      <td>6.3</td>\n",
              "      <td>15</td>\n",
              "    </tr>\n",
              "    <tr>\n",
              "      <th>9</th>\n",
              "      <td>Togo</td>\n",
              "      <td>Africa</td>\n",
              "      <td>6.1</td>\n",
              "      <td>12</td>\n",
              "    </tr>\n",
              "  </tbody>\n",
              "</table>\n",
              "</div>"
            ],
            "text/plain": [
              "      pais     regiao  taxa_fertilidade  qtd_contraceptivos\n",
              "0    Niger     Africa               7.3                   4\n",
              "1   Uganda     Africa               7.2                   5\n",
              "2    Yemen  Near.East               7.0                   7\n",
              "3     Mali     Africa               6.8                   5\n",
              "4  Burundi     Africa               6.5                   9\n",
              "5    Kenya     Africa               6.5                  27\n",
              "6  Liberia     Africa               6.4                   6\n",
              "7  Senegal     Africa               6.4                  12\n",
              "8   Zambia     Africa               6.3                  15\n",
              "9     Togo     Africa               6.1                  12"
            ]
          },
          "metadata": {
            "tags": []
          },
          "execution_count": 246
        }
      ]
    },
    {
      "cell_type": "code",
      "metadata": {
        "colab": {
          "base_uri": "https://localhost:8080/",
          "height": 376
        },
        "id": "KSsyUvPqAGq1",
        "outputId": "a8b3647d-c3e3-4893-9bc1-ef5a6cae3dea"
      },
      "source": [
        "df_temp = df_fertilidade[0:10].sort_values(by='taxa_fertilidade')\n",
        "\n",
        "x = df_temp.pais.values\n",
        "y = df_temp.taxa_fertilidade\n",
        "\n",
        "#colors = ['#0000CD', '#00008B', '#000080', '#191970', '#483D8B','#6959CD','#836FFF','#6A5ACD','#4169E1','#6495ED']\n",
        "colors = ['#6495ED', '#4169E1', '#6A5ACD', '#836FFF', '#6959CD','#483D8B','#191970','#000080','#00008B','#0000CD']\n",
        "font_colors = ['w', 'w', 'w', 'w','w', 'w','w', 'w','w', 'w']\n",
        "\n",
        "fig, ax = plt.subplots(figsize=(14,6)) \n",
        "\n",
        "for i, value in enumerate(y):\n",
        "    ax.text(0.2, i-.1, x[i], fontdict={'color':font_colors[i], 'size':13, 'weight':'bold'})\n",
        "    ax.text(value-2, i-.1, '%.2f%%'%(value), fontdict={'color':font_colors[i], 'size':15, 'weight':'bold'})\n",
        "\n",
        "barlist = plt.barh(x, y)\n",
        "for i,bar in enumerate(barlist):\n",
        "    barlist[i].set_color(colors[i])\n",
        "\n",
        "plt.xticks([])\n",
        "plt.yticks([])\n",
        "plt.title('Os 10 Países com Maior %Taxa de Fertilidade')\n",
        "plt.show()"
      ],
      "execution_count": 247,
      "outputs": [
        {
          "output_type": "display_data",
          "data": {
            "image/png": "[encoded data removed]",
            "text/plain": [
              "<Figure size 1008x432 with 1 Axes>"
            ]
          },
          "metadata": {
            "tags": []
          }
        }
      ]
    },
    {
      "cell_type": "code",
      "metadata": {
        "colab": {
          "base_uri": "https://localhost:8080/",
          "height": 349
        },
        "id": "HzEiZhuILJNc",
        "outputId": "b8be162d-8d79-41bf-826b-e0958b6dc56a"
      },
      "source": [
        "plt.figure(figsize=(10,5))\n",
        "sns.kdeplot(df_fertilidade[df_fertilidade['regiao'] == 'Africa'].taxa_fertilidade, shade=True, color='#F08080',linewidth=3, label='Africa')\n",
        "sns.kdeplot(df_fertilidade[df_fertilidade['regiao'] == 'Asia'].taxa_fertilidade, shade=True, color='#7B68EE',linewidth=3, label='Asia')\n",
        "sns.kdeplot(df_fertilidade[df_fertilidade['regiao'] == 'Latin.Amer'].taxa_fertilidade, shade=True, color='#9ACD32',linewidth=3, label='América Latina')\n",
        "sns.kdeplot(df_fertilidade[df_fertilidade['regiao'] == 'Near.East'].taxa_fertilidade, shade=True, color='#FFDEAD',linewidth=3, label='Oriente Médio')\n",
        "plt.legend(loc='upper left')\n",
        "plt.xlabel('%Taxa de Fertilidade')\n",
        "plt.title('Comportamento da %Taxa de Fertilidade nas Regiões')\n",
        "plt.show()"
      ],
      "execution_count": 248,
      "outputs": [
        {
          "output_type": "display_data",
          "data": {
            "image/png": "[encoded data removed]",
            "text/plain": [
              "<Figure size 720x360 with 1 Axes>"
            ]
          },
          "metadata": {
            "tags": [],
            "needs_background": "light"
          }
        }
      ]
    },
    {
      "cell_type": "markdown",
      "metadata": {
        "id": "rS1-NDrigajx"
      },
      "source": [
        "#**Análise Dataset Focos de Queimadas no Brasil** \n",
        "- Fonte: https://www.kaggle.com/aliceadativa/queimadas-brasil-2020?select=Focos_2020-01-01_2020-12-31.csv\n",
        "\n",
        "\n",
        "\n"
      ]
    },
    {
      "cell_type": "code",
      "metadata": {
        "colab": {
          "base_uri": "https://localhost:8080/",
          "height": 189
        },
        "id": "hOxw42NskQuT",
        "outputId": "7c19cf44-ce4d-4725-e97d-c12b1d7416a3"
      },
      "source": [
        "df_queimadas.head()"
      ],
      "execution_count": 249,
      "outputs": [
        {
          "output_type": "execute_result",
          "data": {
            "text/html": [
              "<div>\n",
              "<style scoped>\n",
              "    .dataframe tbody tr th:only-of-type {\n",
              "        vertical-align: middle;\n",
              "    }\n",
              "\n",
              "    .dataframe tbody tr th {\n",
              "        vertical-align: top;\n",
              "    }\n",
              "\n",
              "    .dataframe thead th {\n",
              "        text-align: right;\n",
              "    }\n",
              "</style>\n",
              "<table border=\"1\" class=\"dataframe\">\n",
              "  <thead>\n",
              "    <tr style=\"text-align: right;\">\n",
              "      <th></th>\n",
              "      <th>datahora</th>\n",
              "      <th>satelite</th>\n",
              "      <th>pais</th>\n",
              "      <th>estado</th>\n",
              "      <th>municipio</th>\n",
              "      <th>bioma</th>\n",
              "      <th>diasemchuva</th>\n",
              "      <th>precipitacao</th>\n",
              "      <th>riscofogo</th>\n",
              "      <th>latitude</th>\n",
              "      <th>longitude</th>\n",
              "      <th>frp</th>\n",
              "    </tr>\n",
              "  </thead>\n",
              "  <tbody>\n",
              "    <tr>\n",
              "      <th>0</th>\n",
              "      <td>2020/07/11 16:50:00</td>\n",
              "      <td>AQUA_M-T</td>\n",
              "      <td>Brasil</td>\n",
              "      <td>GOIAS</td>\n",
              "      <td>CORUMBA DE GOIAS</td>\n",
              "      <td>Cerrado</td>\n",
              "      <td>43.0</td>\n",
              "      <td>0.0</td>\n",
              "      <td>1.0</td>\n",
              "      <td>-15.914</td>\n",
              "      <td>-48.868</td>\n",
              "      <td>11.0</td>\n",
              "    </tr>\n",
              "    <tr>\n",
              "      <th>1</th>\n",
              "      <td>2020/07/11 16:50:00</td>\n",
              "      <td>AQUA_M-T</td>\n",
              "      <td>Brasil</td>\n",
              "      <td>GOIAS</td>\n",
              "      <td>CORUMBA DE GOIAS</td>\n",
              "      <td>Cerrado</td>\n",
              "      <td>42.0</td>\n",
              "      <td>0.0</td>\n",
              "      <td>0.9</td>\n",
              "      <td>-15.911</td>\n",
              "      <td>-48.864</td>\n",
              "      <td>9.5</td>\n",
              "    </tr>\n",
              "    <tr>\n",
              "      <th>2</th>\n",
              "      <td>2020/07/11 16:45:00</td>\n",
              "      <td>AQUA_M-T</td>\n",
              "      <td>Brasil</td>\n",
              "      <td>RIO DE JANEIRO</td>\n",
              "      <td>CANTAGALO</td>\n",
              "      <td>Mata Atlantica</td>\n",
              "      <td>38.0</td>\n",
              "      <td>0.0</td>\n",
              "      <td>0.8</td>\n",
              "      <td>-21.897</td>\n",
              "      <td>-42.340</td>\n",
              "      <td>13.0</td>\n",
              "    </tr>\n",
              "    <tr>\n",
              "      <th>3</th>\n",
              "      <td>2020/07/11 16:50:00</td>\n",
              "      <td>AQUA_M-T</td>\n",
              "      <td>Brasil</td>\n",
              "      <td>MINAS GERAIS</td>\n",
              "      <td>MATIAS CARDOSO</td>\n",
              "      <td>Caatinga</td>\n",
              "      <td>46.0</td>\n",
              "      <td>0.0</td>\n",
              "      <td>1.0</td>\n",
              "      <td>-14.838</td>\n",
              "      <td>-43.881</td>\n",
              "      <td>17.6</td>\n",
              "    </tr>\n",
              "    <tr>\n",
              "      <th>4</th>\n",
              "      <td>2020/07/11 16:50:00</td>\n",
              "      <td>AQUA_M-T</td>\n",
              "      <td>Brasil</td>\n",
              "      <td>PARA</td>\n",
              "      <td>OBIDOS</td>\n",
              "      <td>Amazonia</td>\n",
              "      <td>0.0</td>\n",
              "      <td>0.4</td>\n",
              "      <td>0.2</td>\n",
              "      <td>-1.823</td>\n",
              "      <td>-55.207</td>\n",
              "      <td>18.7</td>\n",
              "    </tr>\n",
              "  </tbody>\n",
              "</table>\n",
              "</div>"
            ],
            "text/plain": [
              "              datahora  satelite    pais  ... latitude longitude   frp\n",
              "0  2020/07/11 16:50:00  AQUA_M-T  Brasil  ...  -15.914   -48.868  11.0\n",
              "1  2020/07/11 16:50:00  AQUA_M-T  Brasil  ...  -15.911   -48.864   9.5\n",
              "2  2020/07/11 16:45:00  AQUA_M-T  Brasil  ...  -21.897   -42.340  13.0\n",
              "3  2020/07/11 16:50:00  AQUA_M-T  Brasil  ...  -14.838   -43.881  17.6\n",
              "4  2020/07/11 16:50:00  AQUA_M-T  Brasil  ...   -1.823   -55.207  18.7\n",
              "\n",
              "[5 rows x 12 columns]"
            ]
          },
          "metadata": {
            "tags": []
          },
          "execution_count": 249
        }
      ]
    },
    {
      "cell_type": "code",
      "metadata": {
        "colab": {
          "base_uri": "https://localhost:8080/"
        },
        "id": "bWqcb86MFSgb",
        "outputId": "8469cf31-495f-449d-b357-d2a7c08ed313"
      },
      "source": [
        "df_queimadas.shape"
      ],
      "execution_count": 250,
      "outputs": [
        {
          "output_type": "execute_result",
          "data": {
            "text/plain": [
              "(222797, 12)"
            ]
          },
          "metadata": {
            "tags": []
          },
          "execution_count": 250
        }
      ]
    },
    {
      "cell_type": "code",
      "metadata": {
        "colab": {
          "base_uri": "https://localhost:8080/"
        },
        "id": "vy-Gvrncpb-Z",
        "outputId": "ec55a0fd-44c7-4d4c-c6c8-061da127aa38"
      },
      "source": [
        "df_queimadas.info()"
      ],
      "execution_count": 251,
      "outputs": [
        {
          "output_type": "stream",
          "text": [
            "<class 'pandas.core.frame.DataFrame'>\n",
            "RangeIndex: 222797 entries, 0 to 222796\n",
            "Data columns (total 12 columns):\n",
            " #   Column        Non-Null Count   Dtype  \n",
            "---  ------        --------------   -----  \n",
            " 0   datahora      222797 non-null  object \n",
            " 1   satelite      222797 non-null  object \n",
            " 2   pais          222797 non-null  object \n",
            " 3   estado        222797 non-null  object \n",
            " 4   municipio     222797 non-null  object \n",
            " 5   bioma         222797 non-null  object \n",
            " 6   diasemchuva   217727 non-null  float64\n",
            " 7   precipitacao  217727 non-null  float64\n",
            " 8   riscofogo     217727 non-null  float64\n",
            " 9   latitude      222797 non-null  float64\n",
            " 10  longitude     222797 non-null  float64\n",
            " 11  frp           220164 non-null  float64\n",
            "dtypes: float64(6), object(6)\n",
            "memory usage: 20.4+ MB\n"
          ],
          "name": "stdout"
        }
      ]
    },
    {
      "cell_type": "code",
      "metadata": {
        "colab": {
          "base_uri": "https://localhost:8080/",
          "height": 274
        },
        "id": "A5JHt3ZtnCKK",
        "outputId": "fdff8d36-ad08-42c0-9990-7c8065ac1fd0"
      },
      "source": [
        "df_queimadas.describe()"
      ],
      "execution_count": 252,
      "outputs": [
        {
          "output_type": "execute_result",
          "data": {
            "text/html": [
              "<div>\n",
              "<style scoped>\n",
              "    .dataframe tbody tr th:only-of-type {\n",
              "        vertical-align: middle;\n",
              "    }\n",
              "\n",
              "    .dataframe tbody tr th {\n",
              "        vertical-align: top;\n",
              "    }\n",
              "\n",
              "    .dataframe thead th {\n",
              "        text-align: right;\n",
              "    }\n",
              "</style>\n",
              "<table border=\"1\" class=\"dataframe\">\n",
              "  <thead>\n",
              "    <tr style=\"text-align: right;\">\n",
              "      <th></th>\n",
              "      <th>diasemchuva</th>\n",
              "      <th>precipitacao</th>\n",
              "      <th>riscofogo</th>\n",
              "      <th>latitude</th>\n",
              "      <th>longitude</th>\n",
              "      <th>frp</th>\n",
              "    </tr>\n",
              "  </thead>\n",
              "  <tbody>\n",
              "    <tr>\n",
              "      <th>count</th>\n",
              "      <td>217727.000000</td>\n",
              "      <td>217727.000000</td>\n",
              "      <td>217727.000000</td>\n",
              "      <td>222797.000000</td>\n",
              "      <td>222797.000000</td>\n",
              "      <td>220164.000000</td>\n",
              "    </tr>\n",
              "    <tr>\n",
              "      <th>mean</th>\n",
              "      <td>20.614338</td>\n",
              "      <td>0.706719</td>\n",
              "      <td>-5.033625</td>\n",
              "      <td>-11.170909</td>\n",
              "      <td>-53.032945</td>\n",
              "      <td>66.164066</td>\n",
              "    </tr>\n",
              "    <tr>\n",
              "      <th>std</th>\n",
              "      <td>82.961591</td>\n",
              "      <td>3.034363</td>\n",
              "      <td>75.652691</td>\n",
              "      <td>6.460917</td>\n",
              "      <td>7.454275</td>\n",
              "      <td>146.748061</td>\n",
              "    </tr>\n",
              "    <tr>\n",
              "      <th>min</th>\n",
              "      <td>-999.000000</td>\n",
              "      <td>0.000000</td>\n",
              "      <td>-999.000000</td>\n",
              "      <td>-33.557000</td>\n",
              "      <td>-73.669000</td>\n",
              "      <td>0.000000</td>\n",
              "    </tr>\n",
              "    <tr>\n",
              "      <th>25%</th>\n",
              "      <td>3.000000</td>\n",
              "      <td>0.000000</td>\n",
              "      <td>0.400000</td>\n",
              "      <td>-15.914000</td>\n",
              "      <td>-57.393000</td>\n",
              "      <td>15.700000</td>\n",
              "    </tr>\n",
              "    <tr>\n",
              "      <th>50%</th>\n",
              "      <td>10.000000</td>\n",
              "      <td>0.000000</td>\n",
              "      <td>1.000000</td>\n",
              "      <td>-9.805000</td>\n",
              "      <td>-52.925000</td>\n",
              "      <td>29.700000</td>\n",
              "    </tr>\n",
              "    <tr>\n",
              "      <th>75%</th>\n",
              "      <td>36.000000</td>\n",
              "      <td>0.000000</td>\n",
              "      <td>1.000000</td>\n",
              "      <td>-6.647000</td>\n",
              "      <td>-47.386000</td>\n",
              "      <td>63.200000</td>\n",
              "    </tr>\n",
              "    <tr>\n",
              "      <th>max</th>\n",
              "      <td>120.000000</td>\n",
              "      <td>125.500000</td>\n",
              "      <td>1.000000</td>\n",
              "      <td>5.149000</td>\n",
              "      <td>-34.823000</td>\n",
              "      <td>8589.800000</td>\n",
              "    </tr>\n",
              "  </tbody>\n",
              "</table>\n",
              "</div>"
            ],
            "text/plain": [
              "         diasemchuva   precipitacao  ...      longitude            frp\n",
              "count  217727.000000  217727.000000  ...  222797.000000  220164.000000\n",
              "mean       20.614338       0.706719  ...     -53.032945      66.164066\n",
              "std        82.961591       3.034363  ...       7.454275     146.748061\n",
              "min      -999.000000       0.000000  ...     -73.669000       0.000000\n",
              "25%         3.000000       0.000000  ...     -57.393000      15.700000\n",
              "50%        10.000000       0.000000  ...     -52.925000      29.700000\n",
              "75%        36.000000       0.000000  ...     -47.386000      63.200000\n",
              "max       120.000000     125.500000  ...     -34.823000    8589.800000\n",
              "\n",
              "[8 rows x 6 columns]"
            ]
          },
          "metadata": {
            "tags": []
          },
          "execution_count": 252
        }
      ]
    },
    {
      "cell_type": "code",
      "metadata": {
        "colab": {
          "base_uri": "https://localhost:8080/"
        },
        "id": "MTV7Mo3OGQQ-",
        "outputId": "8d17ea2f-8094-4717-a21c-a734606d8d4b"
      },
      "source": [
        "queimadas_brasil_2020['bioma'].unique()"
      ],
      "execution_count": 253,
      "outputs": [
        {
          "output_type": "execute_result",
          "data": {
            "text/plain": [
              "array(['Cerrado', 'Mata Atlantica', 'Caatinga', 'Amazonia', 'Pantanal',\n",
              "       'Pampa'], dtype=object)"
            ]
          },
          "metadata": {
            "tags": []
          },
          "execution_count": 253
        }
      ]
    },
    {
      "cell_type": "code",
      "metadata": {
        "id": "SrHDzXfLHRkE"
      },
      "source": [
        "df_queimadas[\"data\"] = df_queimadas.datahora.apply(lambda x : datetime.strptime(x[:10],'%Y/%m/%d').date())\n",
        "df_queimadas[\"mes\"] = df_queimadas.data.apply(lambda x : x.month)"
      ],
      "execution_count": 271,
      "outputs": []
    },
    {
      "cell_type": "code",
      "metadata": {
        "colab": {
          "base_uri": "https://localhost:8080/",
          "height": 132
        },
        "id": "V3yjvjaSJVOy",
        "outputId": "309fe5f8-7c1e-487c-f500-a37f04b8eea6"
      },
      "source": [
        "df_queimadas.head(3)"
      ],
      "execution_count": 275,
      "outputs": [
        {
          "output_type": "execute_result",
          "data": {
            "text/html": [
              "<div>\n",
              "<style scoped>\n",
              "    .dataframe tbody tr th:only-of-type {\n",
              "        vertical-align: middle;\n",
              "    }\n",
              "\n",
              "    .dataframe tbody tr th {\n",
              "        vertical-align: top;\n",
              "    }\n",
              "\n",
              "    .dataframe thead th {\n",
              "        text-align: right;\n",
              "    }\n",
              "</style>\n",
              "<table border=\"1\" class=\"dataframe\">\n",
              "  <thead>\n",
              "    <tr style=\"text-align: right;\">\n",
              "      <th></th>\n",
              "      <th>datahora</th>\n",
              "      <th>satelite</th>\n",
              "      <th>pais</th>\n",
              "      <th>estado</th>\n",
              "      <th>municipio</th>\n",
              "      <th>bioma</th>\n",
              "      <th>diasemchuva</th>\n",
              "      <th>precipitacao</th>\n",
              "      <th>riscofogo</th>\n",
              "      <th>latitude</th>\n",
              "      <th>longitude</th>\n",
              "      <th>frp</th>\n",
              "      <th>mes</th>\n",
              "      <th>data</th>\n",
              "    </tr>\n",
              "  </thead>\n",
              "  <tbody>\n",
              "    <tr>\n",
              "      <th>0</th>\n",
              "      <td>2020/07/11 16:50:00</td>\n",
              "      <td>AQUA_M-T</td>\n",
              "      <td>Brasil</td>\n",
              "      <td>GOIAS</td>\n",
              "      <td>CORUMBA DE GOIAS</td>\n",
              "      <td>Cerrado</td>\n",
              "      <td>43.0</td>\n",
              "      <td>0.0</td>\n",
              "      <td>1.0</td>\n",
              "      <td>-15.914</td>\n",
              "      <td>-48.868</td>\n",
              "      <td>11.0</td>\n",
              "      <td>7</td>\n",
              "      <td>2020-07-11</td>\n",
              "    </tr>\n",
              "    <tr>\n",
              "      <th>1</th>\n",
              "      <td>2020/07/11 16:50:00</td>\n",
              "      <td>AQUA_M-T</td>\n",
              "      <td>Brasil</td>\n",
              "      <td>GOIAS</td>\n",
              "      <td>CORUMBA DE GOIAS</td>\n",
              "      <td>Cerrado</td>\n",
              "      <td>42.0</td>\n",
              "      <td>0.0</td>\n",
              "      <td>0.9</td>\n",
              "      <td>-15.911</td>\n",
              "      <td>-48.864</td>\n",
              "      <td>9.5</td>\n",
              "      <td>7</td>\n",
              "      <td>2020-07-11</td>\n",
              "    </tr>\n",
              "    <tr>\n",
              "      <th>2</th>\n",
              "      <td>2020/07/11 16:45:00</td>\n",
              "      <td>AQUA_M-T</td>\n",
              "      <td>Brasil</td>\n",
              "      <td>RIO DE JANEIRO</td>\n",
              "      <td>CANTAGALO</td>\n",
              "      <td>Mata Atlantica</td>\n",
              "      <td>38.0</td>\n",
              "      <td>0.0</td>\n",
              "      <td>0.8</td>\n",
              "      <td>-21.897</td>\n",
              "      <td>-42.340</td>\n",
              "      <td>13.0</td>\n",
              "      <td>7</td>\n",
              "      <td>2020-07-11</td>\n",
              "    </tr>\n",
              "  </tbody>\n",
              "</table>\n",
              "</div>"
            ],
            "text/plain": [
              "              datahora  satelite    pais  ...   frp mes        data\n",
              "0  2020/07/11 16:50:00  AQUA_M-T  Brasil  ...  11.0   7  2020-07-11\n",
              "1  2020/07/11 16:50:00  AQUA_M-T  Brasil  ...   9.5   7  2020-07-11\n",
              "2  2020/07/11 16:45:00  AQUA_M-T  Brasil  ...  13.0   7  2020-07-11\n",
              "\n",
              "[3 rows x 14 columns]"
            ]
          },
          "metadata": {
            "tags": []
          },
          "execution_count": 275
        }
      ]
    },
    {
      "cell_type": "markdown",
      "metadata": {
        "id": "GTwjYhSOPHF4"
      },
      "source": [
        "- Gerando dataframe com o total de queimadas dos biomas do último semestre"
      ]
    },
    {
      "cell_type": "code",
      "metadata": {
        "colab": {
          "base_uri": "https://localhost:8080/",
          "height": 331
        },
        "id": "TA6TlJ9PJxwo",
        "outputId": "e7b72ab7-7b0e-4677-fc0c-e3220b454a22"
      },
      "source": [
        "queimadas_bioma_mes = df_queimadas.groupby(['mes', 'bioma']).size().reset_index(name=\"total_queimadas\")\n",
        "queimadas_bioma_mes.columns = ['mes','bioma','total_queimadas']\n",
        "\n",
        "\n",
        "queimadas_bioma_mes.head(10)"
      ],
      "execution_count": 277,
      "outputs": [
        {
          "output_type": "execute_result",
          "data": {
            "text/html": [
              "<div>\n",
              "<style scoped>\n",
              "    .dataframe tbody tr th:only-of-type {\n",
              "        vertical-align: middle;\n",
              "    }\n",
              "\n",
              "    .dataframe tbody tr th {\n",
              "        vertical-align: top;\n",
              "    }\n",
              "\n",
              "    .dataframe thead th {\n",
              "        text-align: right;\n",
              "    }\n",
              "</style>\n",
              "<table border=\"1\" class=\"dataframe\">\n",
              "  <thead>\n",
              "    <tr style=\"text-align: right;\">\n",
              "      <th></th>\n",
              "      <th>mes</th>\n",
              "      <th>bioma</th>\n",
              "      <th>total_queimadas</th>\n",
              "    </tr>\n",
              "  </thead>\n",
              "  <tbody>\n",
              "    <tr>\n",
              "      <th>0</th>\n",
              "      <td>1</td>\n",
              "      <td>Amazonia</td>\n",
              "      <td>1200</td>\n",
              "    </tr>\n",
              "    <tr>\n",
              "      <th>1</th>\n",
              "      <td>1</td>\n",
              "      <td>Caatinga</td>\n",
              "      <td>293</td>\n",
              "    </tr>\n",
              "    <tr>\n",
              "      <th>2</th>\n",
              "      <td>1</td>\n",
              "      <td>Cerrado</td>\n",
              "      <td>662</td>\n",
              "    </tr>\n",
              "    <tr>\n",
              "      <th>3</th>\n",
              "      <td>1</td>\n",
              "      <td>Mata Atlantica</td>\n",
              "      <td>421</td>\n",
              "    </tr>\n",
              "    <tr>\n",
              "      <th>4</th>\n",
              "      <td>1</td>\n",
              "      <td>Pampa</td>\n",
              "      <td>25</td>\n",
              "    </tr>\n",
              "    <tr>\n",
              "      <th>5</th>\n",
              "      <td>1</td>\n",
              "      <td>Pantanal</td>\n",
              "      <td>265</td>\n",
              "    </tr>\n",
              "    <tr>\n",
              "      <th>6</th>\n",
              "      <td>2</td>\n",
              "      <td>Amazonia</td>\n",
              "      <td>1196</td>\n",
              "    </tr>\n",
              "    <tr>\n",
              "      <th>7</th>\n",
              "      <td>2</td>\n",
              "      <td>Caatinga</td>\n",
              "      <td>62</td>\n",
              "    </tr>\n",
              "    <tr>\n",
              "      <th>8</th>\n",
              "      <td>2</td>\n",
              "      <td>Cerrado</td>\n",
              "      <td>709</td>\n",
              "    </tr>\n",
              "    <tr>\n",
              "      <th>9</th>\n",
              "      <td>2</td>\n",
              "      <td>Mata Atlantica</td>\n",
              "      <td>454</td>\n",
              "    </tr>\n",
              "  </tbody>\n",
              "</table>\n",
              "</div>"
            ],
            "text/plain": [
              "   mes           bioma  total_queimadas\n",
              "0    1        Amazonia             1200\n",
              "1    1        Caatinga              293\n",
              "2    1         Cerrado              662\n",
              "3    1  Mata Atlantica              421\n",
              "4    1           Pampa               25\n",
              "5    1        Pantanal              265\n",
              "6    2        Amazonia             1196\n",
              "7    2        Caatinga               62\n",
              "8    2         Cerrado              709\n",
              "9    2  Mata Atlantica              454"
            ]
          },
          "metadata": {
            "tags": []
          },
          "execution_count": 277
        }
      ]
    },
    {
      "cell_type": "code",
      "metadata": {
        "colab": {
          "base_uri": "https://localhost:8080/",
          "height": 331
        },
        "id": "3pjW__49PcvP",
        "outputId": "a5307295-d736-4fec-d9ef-8bbdcf238e50"
      },
      "source": [
        "queimadas_ultimo_semestre2020 = queimadas_bioma_mes[(queimadas_bioma_mes['mes']>= 6) & (queimadas_bioma_mes['mes']<= 12)].sort_values(by='total_queimadas', ascending=False)\n",
        "queimadas_ultimo_semestre2020.head(10)"
      ],
      "execution_count": 279,
      "outputs": [
        {
          "output_type": "execute_result",
          "data": {
            "text/html": [
              "<div>\n",
              "<style scoped>\n",
              "    .dataframe tbody tr th:only-of-type {\n",
              "        vertical-align: middle;\n",
              "    }\n",
              "\n",
              "    .dataframe tbody tr th {\n",
              "        vertical-align: top;\n",
              "    }\n",
              "\n",
              "    .dataframe thead th {\n",
              "        text-align: right;\n",
              "    }\n",
              "</style>\n",
              "<table border=\"1\" class=\"dataframe\">\n",
              "  <thead>\n",
              "    <tr style=\"text-align: right;\">\n",
              "      <th></th>\n",
              "      <th>mes</th>\n",
              "      <th>bioma</th>\n",
              "      <th>total_queimadas</th>\n",
              "    </tr>\n",
              "  </thead>\n",
              "  <tbody>\n",
              "    <tr>\n",
              "      <th>48</th>\n",
              "      <td>9</td>\n",
              "      <td>Amazonia</td>\n",
              "      <td>32017</td>\n",
              "    </tr>\n",
              "    <tr>\n",
              "      <th>42</th>\n",
              "      <td>8</td>\n",
              "      <td>Amazonia</td>\n",
              "      <td>29307</td>\n",
              "    </tr>\n",
              "    <tr>\n",
              "      <th>50</th>\n",
              "      <td>9</td>\n",
              "      <td>Cerrado</td>\n",
              "      <td>21802</td>\n",
              "    </tr>\n",
              "    <tr>\n",
              "      <th>54</th>\n",
              "      <td>10</td>\n",
              "      <td>Amazonia</td>\n",
              "      <td>17326</td>\n",
              "    </tr>\n",
              "    <tr>\n",
              "      <th>56</th>\n",
              "      <td>10</td>\n",
              "      <td>Cerrado</td>\n",
              "      <td>13440</td>\n",
              "    </tr>\n",
              "    <tr>\n",
              "      <th>44</th>\n",
              "      <td>8</td>\n",
              "      <td>Cerrado</td>\n",
              "      <td>10155</td>\n",
              "    </tr>\n",
              "    <tr>\n",
              "      <th>53</th>\n",
              "      <td>9</td>\n",
              "      <td>Pantanal</td>\n",
              "      <td>8106</td>\n",
              "    </tr>\n",
              "    <tr>\n",
              "      <th>36</th>\n",
              "      <td>7</td>\n",
              "      <td>Amazonia</td>\n",
              "      <td>6803</td>\n",
              "    </tr>\n",
              "    <tr>\n",
              "      <th>60</th>\n",
              "      <td>11</td>\n",
              "      <td>Amazonia</td>\n",
              "      <td>6321</td>\n",
              "    </tr>\n",
              "    <tr>\n",
              "      <th>47</th>\n",
              "      <td>8</td>\n",
              "      <td>Pantanal</td>\n",
              "      <td>5935</td>\n",
              "    </tr>\n",
              "  </tbody>\n",
              "</table>\n",
              "</div>"
            ],
            "text/plain": [
              "    mes     bioma  total_queimadas\n",
              "48    9  Amazonia            32017\n",
              "42    8  Amazonia            29307\n",
              "50    9   Cerrado            21802\n",
              "54   10  Amazonia            17326\n",
              "56   10   Cerrado            13440\n",
              "44    8   Cerrado            10155\n",
              "53    9  Pantanal             8106\n",
              "36    7  Amazonia             6803\n",
              "60   11  Amazonia             6321\n",
              "47    8  Pantanal             5935"
            ]
          },
          "metadata": {
            "tags": []
          },
          "execution_count": 279
        }
      ]
    },
    {
      "cell_type": "markdown",
      "metadata": {
        "id": "t0Z2UfhZX7XT"
      },
      "source": [
        "##**Gráfico Empilhado**"
      ]
    },
    {
      "cell_type": "code",
      "metadata": {
        "colab": {
          "base_uri": "https://localhost:8080/",
          "height": 246
        },
        "id": "Y-Ij2HBLRIjM",
        "outputId": "667278ae-daaa-4efd-e51f-e008860630f0"
      },
      "source": [
        "biomas = queimadas_ultimo_semestre2020.bioma.unique()\n",
        "meses = queimadas_ultimo_semestre2020.mes.unique()\n",
        "\n",
        "dados = {}\n",
        "\n",
        "for bioma in biomas:\n",
        "    dados[bioma] = queimadas_ultimo_semestre2020[queimadas_ultimo_semestre2020['bioma']==bioma]['total_queimadas'].values\n",
        "df_col_emp = pd.DataFrame(dados, index=meses)\n",
        "df_col_emp"
      ],
      "execution_count": 280,
      "outputs": [
        {
          "output_type": "execute_result",
          "data": {
            "text/html": [
              "<div>\n",
              "<style scoped>\n",
              "    .dataframe tbody tr th:only-of-type {\n",
              "        vertical-align: middle;\n",
              "    }\n",
              "\n",
              "    .dataframe tbody tr th {\n",
              "        vertical-align: top;\n",
              "    }\n",
              "\n",
              "    .dataframe thead th {\n",
              "        text-align: right;\n",
              "    }\n",
              "</style>\n",
              "<table border=\"1\" class=\"dataframe\">\n",
              "  <thead>\n",
              "    <tr style=\"text-align: right;\">\n",
              "      <th></th>\n",
              "      <th>Amazonia</th>\n",
              "      <th>Cerrado</th>\n",
              "      <th>Pantanal</th>\n",
              "      <th>Caatinga</th>\n",
              "      <th>Mata Atlantica</th>\n",
              "      <th>Pampa</th>\n",
              "    </tr>\n",
              "  </thead>\n",
              "  <tbody>\n",
              "    <tr>\n",
              "      <th>9</th>\n",
              "      <td>32017</td>\n",
              "      <td>21802</td>\n",
              "      <td>8106</td>\n",
              "      <td>5226</td>\n",
              "      <td>4279</td>\n",
              "      <td>380</td>\n",
              "    </tr>\n",
              "    <tr>\n",
              "      <th>8</th>\n",
              "      <td>29307</td>\n",
              "      <td>13440</td>\n",
              "      <td>5935</td>\n",
              "      <td>3037</td>\n",
              "      <td>4079</td>\n",
              "      <td>88</td>\n",
              "    </tr>\n",
              "    <tr>\n",
              "      <th>10</th>\n",
              "      <td>17326</td>\n",
              "      <td>10155</td>\n",
              "      <td>2856</td>\n",
              "      <td>2686</td>\n",
              "      <td>2553</td>\n",
              "      <td>83</td>\n",
              "    </tr>\n",
              "    <tr>\n",
              "      <th>7</th>\n",
              "      <td>6803</td>\n",
              "      <td>5663</td>\n",
              "      <td>1684</td>\n",
              "      <td>1912</td>\n",
              "      <td>1322</td>\n",
              "      <td>67</td>\n",
              "    </tr>\n",
              "    <tr>\n",
              "      <th>11</th>\n",
              "      <td>6321</td>\n",
              "      <td>3487</td>\n",
              "      <td>778</td>\n",
              "      <td>838</td>\n",
              "      <td>802</td>\n",
              "      <td>67</td>\n",
              "    </tr>\n",
              "    <tr>\n",
              "      <th>6</th>\n",
              "      <td>3484</td>\n",
              "      <td>2957</td>\n",
              "      <td>406</td>\n",
              "      <td>265</td>\n",
              "      <td>676</td>\n",
              "      <td>45</td>\n",
              "    </tr>\n",
              "    <tr>\n",
              "      <th>12</th>\n",
              "      <td>2248</td>\n",
              "      <td>1415</td>\n",
              "      <td>223</td>\n",
              "      <td>83</td>\n",
              "      <td>336</td>\n",
              "      <td>38</td>\n",
              "    </tr>\n",
              "  </tbody>\n",
              "</table>\n",
              "</div>"
            ],
            "text/plain": [
              "    Amazonia  Cerrado  Pantanal  Caatinga  Mata Atlantica  Pampa\n",
              "9      32017    21802      8106      5226            4279    380\n",
              "8      29307    13440      5935      3037            4079     88\n",
              "10     17326    10155      2856      2686            2553     83\n",
              "7       6803     5663      1684      1912            1322     67\n",
              "11      6321     3487       778       838             802     67\n",
              "6       3484     2957       406       265             676     45\n",
              "12      2248     1415       223        83             336     38"
            ]
          },
          "metadata": {
            "tags": []
          },
          "execution_count": 280
        }
      ]
    },
    {
      "cell_type": "code",
      "metadata": {
        "colab": {
          "base_uri": "https://localhost:8080/",
          "height": 553
        },
        "id": "W0ihD5sInCAf",
        "outputId": "ea46e7a4-c2f9-4758-f4b6-f97e9a619efa"
      },
      "source": [
        "plt.figure(figsize=(10,8))\n",
        "altura = 0\n",
        "\n",
        "for bioma in biomas:\n",
        "    plt.bar(meses, df_col_emp[bioma], label=bioma, bottom=altura)\n",
        "    altura = altura + df_col_emp[bioma].values\n",
        "    \n",
        "plt.ylabel('Quantidade de Queimadas')\n",
        "plt.xlabel('Mês')\n",
        "plt.title('Foco de Queimadas em Biomas Brasileiros')\n",
        "plt.suptitle('Último semestre de 2020', color='#00008B')\n",
        "plt.legend()\n",
        "plt.show()"
      ],
      "execution_count": 294,
      "outputs": [
        {
          "output_type": "display_data",
          "data": {
            "image/png": "[encoded data removed]",
            "text/plain": [
              "<Figure size 720x576 with 1 Axes>"
            ]
          },
          "metadata": {
            "tags": [],
            "needs_background": "light"
          }
        }
      ]
    },
    {
      "cell_type": "markdown",
      "metadata": {
        "id": "PRWAQZQkXzXL"
      },
      "source": [
        "##**Gráfico 100% Empilhado**"
      ]
    },
    {
      "cell_type": "code",
      "metadata": {
        "colab": {
          "base_uri": "https://localhost:8080/",
          "height": 246
        },
        "id": "O04liEHL7g65",
        "outputId": "133f4d0b-c102-4b72-ec05-5f5dc1bff299"
      },
      "source": [
        "lista = []\n",
        "for mes in meses:\n",
        "    lista.append(df_col_emp.loc[mes].values / df_col_emp.loc[mes].sum())\n",
        "df_col_emp_100 = pd.DataFrame(np.matrix(lista), index=meses, columns=biomas)\n",
        "df_col_emp_100"
      ],
      "execution_count": 290,
      "outputs": [
        {
          "output_type": "execute_result",
          "data": {
            "text/html": [
              "<div>\n",
              "<style scoped>\n",
              "    .dataframe tbody tr th:only-of-type {\n",
              "        vertical-align: middle;\n",
              "    }\n",
              "\n",
              "    .dataframe tbody tr th {\n",
              "        vertical-align: top;\n",
              "    }\n",
              "\n",
              "    .dataframe thead th {\n",
              "        text-align: right;\n",
              "    }\n",
              "</style>\n",
              "<table border=\"1\" class=\"dataframe\">\n",
              "  <thead>\n",
              "    <tr style=\"text-align: right;\">\n",
              "      <th></th>\n",
              "      <th>Amazonia</th>\n",
              "      <th>Cerrado</th>\n",
              "      <th>Pantanal</th>\n",
              "      <th>Caatinga</th>\n",
              "      <th>Mata Atlantica</th>\n",
              "      <th>Pampa</th>\n",
              "    </tr>\n",
              "  </thead>\n",
              "  <tbody>\n",
              "    <tr>\n",
              "      <th>9</th>\n",
              "      <td>0.445857</td>\n",
              "      <td>0.303607</td>\n",
              "      <td>0.112881</td>\n",
              "      <td>0.072775</td>\n",
              "      <td>0.059588</td>\n",
              "      <td>0.005292</td>\n",
              "    </tr>\n",
              "    <tr>\n",
              "      <th>8</th>\n",
              "      <td>0.524407</td>\n",
              "      <td>0.240490</td>\n",
              "      <td>0.106198</td>\n",
              "      <td>0.054343</td>\n",
              "      <td>0.072988</td>\n",
              "      <td>0.001575</td>\n",
              "    </tr>\n",
              "    <tr>\n",
              "      <th>10</th>\n",
              "      <td>0.485880</td>\n",
              "      <td>0.284781</td>\n",
              "      <td>0.080092</td>\n",
              "      <td>0.075325</td>\n",
              "      <td>0.071595</td>\n",
              "      <td>0.002328</td>\n",
              "    </tr>\n",
              "    <tr>\n",
              "      <th>7</th>\n",
              "      <td>0.389834</td>\n",
              "      <td>0.324509</td>\n",
              "      <td>0.096499</td>\n",
              "      <td>0.109564</td>\n",
              "      <td>0.075755</td>\n",
              "      <td>0.003839</td>\n",
              "    </tr>\n",
              "    <tr>\n",
              "      <th>11</th>\n",
              "      <td>0.514195</td>\n",
              "      <td>0.283657</td>\n",
              "      <td>0.063288</td>\n",
              "      <td>0.068169</td>\n",
              "      <td>0.065240</td>\n",
              "      <td>0.005450</td>\n",
              "    </tr>\n",
              "    <tr>\n",
              "      <th>6</th>\n",
              "      <td>0.444785</td>\n",
              "      <td>0.377505</td>\n",
              "      <td>0.051832</td>\n",
              "      <td>0.033831</td>\n",
              "      <td>0.086302</td>\n",
              "      <td>0.005745</td>\n",
              "    </tr>\n",
              "    <tr>\n",
              "      <th>12</th>\n",
              "      <td>0.517615</td>\n",
              "      <td>0.325812</td>\n",
              "      <td>0.051347</td>\n",
              "      <td>0.019111</td>\n",
              "      <td>0.077366</td>\n",
              "      <td>0.008750</td>\n",
              "    </tr>\n",
              "  </tbody>\n",
              "</table>\n",
              "</div>"
            ],
            "text/plain": [
              "    Amazonia   Cerrado  Pantanal  Caatinga  Mata Atlantica     Pampa\n",
              "9   0.445857  0.303607  0.112881  0.072775        0.059588  0.005292\n",
              "8   0.524407  0.240490  0.106198  0.054343        0.072988  0.001575\n",
              "10  0.485880  0.284781  0.080092  0.075325        0.071595  0.002328\n",
              "7   0.389834  0.324509  0.096499  0.109564        0.075755  0.003839\n",
              "11  0.514195  0.283657  0.063288  0.068169        0.065240  0.005450\n",
              "6   0.444785  0.377505  0.051832  0.033831        0.086302  0.005745\n",
              "12  0.517615  0.325812  0.051347  0.019111        0.077366  0.008750"
            ]
          },
          "metadata": {
            "tags": []
          },
          "execution_count": 290
        }
      ]
    },
    {
      "cell_type": "code",
      "metadata": {
        "colab": {
          "base_uri": "https://localhost:8080/",
          "height": 553
        },
        "id": "T-J5x7D3T2zN",
        "outputId": "63c4d9b2-4ea9-4fc4-c499-9cf0815ed038"
      },
      "source": [
        "plt.figure(figsize=(10,8))\n",
        "altura = 0\n",
        "\n",
        "for bioma in biomas:\n",
        "    plt.bar(meses, df_col_emp_100[bioma], label=bioma, bottom=altura)\n",
        "    altura = altura + df_col_emp_100[bioma].values\n",
        "    \n",
        "plt.ylabel('Percentual Mensal')\n",
        "plt.xlabel('Mês')\n",
        "plt.title('Foco de Queimadas em Biomas Brasileiros')\n",
        "plt.suptitle('Último semestre de 2020', color='#00008B')\n",
        "plt.legend()\n",
        "plt.show()"
      ],
      "execution_count": 295,
      "outputs": [
        {
          "output_type": "display_data",
          "data": {
            "image/png": "[encoded data removed]",
            "text/plain": [
              "<Figure size 720x576 with 1 Axes>"
            ]
          },
          "metadata": {
            "tags": [],
            "needs_background": "light"
          }
        }
      ]
    }
  ]
}
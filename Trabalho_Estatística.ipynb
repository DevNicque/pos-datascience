{
  "nbformat": 4,
  "nbformat_minor": 0,
  "metadata": {
    "colab": {
      "name": "Trabalho Estatística.ipynb",
      "provenance": [],
      "collapsed_sections": [],
      "include_colab_link": true
    },
    "kernelspec": {
      "name": "python3",
      "display_name": "Python 3"
    }
  },
  "cells": [
    {
      "cell_type": "markdown",
      "metadata": {
        "id": "view-in-github",
        "colab_type": "text"
      },
      "source": [
        "<a href=\"https://colab.research.google.com/github/DevNicque/pos-datascience/blob/modulo_3/Trabalho_Estat%C3%ADstica.ipynb\" target=\"_parent\"><img src=\"https://colab.research.google.com/assets/colab-badge.svg\" alt=\"Open In Colab\"/></a>"
      ]
    },
    {
      "cell_type": "markdown",
      "metadata": {
        "id": "Oq4Di2tjGde8"
      },
      "source": [
        "# Análise do Yellow Taxi Trip Records de Abril de 2020 "
      ]
    },
    {
      "cell_type": "markdown",
      "metadata": {
        "id": "HSy1VNymGNpe"
      },
      "source": [
        "\r\n",
        "\r\n",
        "---\r\n",
        "\r\n",
        "\r\n",
        "*   Andrea Monicque |\tamdss.cid20@uea.edu.br\r\n",
        "*   Giovana de Lucca\t| godl.cid20@uea.edu.br\r\n",
        "*   Juliany Raiol\t| jrr.cid20@uea.edu.br\r\n",
        "*   Kid Mendes\t| kmdon.cid20@uea.edu.br\r\n",
        "*   Marcos Wenneton\t| mwvda.cid20@uea.edu.br\r\n",
        "*   Paula Samanta\t| psds.cid20@uea.edu.br\r\n"
      ]
    },
    {
      "cell_type": "markdown",
      "metadata": {
        "id": "18MYo98UEj2L"
      },
      "source": [
        "# Configurações"
      ]
    },
    {
      "cell_type": "code",
      "metadata": {
        "colab": {
          "base_uri": "https://localhost:8080/"
        },
        "id": "IT1PjM_4baYZ",
        "outputId": "e0c19753-9461-44eb-de0a-316e44adc745"
      },
      "source": [
        "from google.colab import drive\r\n",
        "drive.mount('/content/drive')"
      ],
      "execution_count": null,
      "outputs": [
        {
          "output_type": "stream",
          "text": [
            "Drive already mounted at /content/drive; to attempt to forcibly remount, call drive.mount(\"/content/drive\", force_remount=True).\n"
          ],
          "name": "stdout"
        }
      ]
    },
    {
      "cell_type": "code",
      "metadata": {
        "id": "b1J-jYbQzAM5"
      },
      "source": [
        "import warnings\r\n",
        "warnings.filterwarnings(\"ignore\")"
      ],
      "execution_count": null,
      "outputs": []
    },
    {
      "cell_type": "code",
      "metadata": {
        "id": "jsITIOmXSD4T"
      },
      "source": [
        "from statsmodels.stats.proportion import proportions_ztest, binom_test\r\n",
        "from scipy.stats import binom, ttest_1samp, ttest_ind, chi2_contingency\r\n",
        "import statsmodels.stats.proportion as smp\r\n",
        "from collections import Counter\r\n",
        "import matplotlib.pyplot as plt\r\n",
        "from scipy.stats import t, norm\r\n",
        "from scipy import stats\r\n",
        "import statistics as st\r\n",
        "import seaborn as sns\r\n",
        "import pandas as pd\r\n",
        "import numpy as np\r\n",
        "from tabulate import tabulate"
      ],
      "execution_count": null,
      "outputs": []
    },
    {
      "cell_type": "markdown",
      "metadata": {
        "id": "wgfMLj3dEr4P"
      },
      "source": [
        "# Processamento de dados"
      ]
    },
    {
      "cell_type": "code",
      "metadata": {
        "id": "Bx81Rc91TMXm"
      },
      "source": [
        "df = pd.read_csv('/content/drive/My Drive/datasets/yellow_tripdata_2020_04.csv')\r\n",
        "# df = pd.read_csv('yellow_tripdata_2020_04_reduced.csv')"
      ],
      "execution_count": null,
      "outputs": []
    },
    {
      "cell_type": "code",
      "metadata": {
        "colab": {
          "base_uri": "https://localhost:8080/",
          "height": 106
        },
        "id": "gs81pE4rr5-f",
        "outputId": "984e0e02-89aa-43f9-f55f-1ca03443cdee"
      },
      "source": [
        "df.head(2)"
      ],
      "execution_count": null,
      "outputs": [
        {
          "output_type": "execute_result",
          "data": {
            "text/html": [
              "<div>\n",
              "<style scoped>\n",
              "    .dataframe tbody tr th:only-of-type {\n",
              "        vertical-align: middle;\n",
              "    }\n",
              "\n",
              "    .dataframe tbody tr th {\n",
              "        vertical-align: top;\n",
              "    }\n",
              "\n",
              "    .dataframe thead th {\n",
              "        text-align: right;\n",
              "    }\n",
              "</style>\n",
              "<table border=\"1\" class=\"dataframe\">\n",
              "  <thead>\n",
              "    <tr style=\"text-align: right;\">\n",
              "      <th></th>\n",
              "      <th>data_hora_inicio</th>\n",
              "      <th>data_hora_fim</th>\n",
              "      <th>qtd_passageiros</th>\n",
              "      <th>distancia</th>\n",
              "      <th>tipo_pagamento</th>\n",
              "      <th>valor_gorjeta</th>\n",
              "      <th>valor_pedagio</th>\n",
              "      <th>valor_total</th>\n",
              "    </tr>\n",
              "  </thead>\n",
              "  <tbody>\n",
              "    <tr>\n",
              "      <th>0</th>\n",
              "      <td>2020-04-01 00:41:22</td>\n",
              "      <td>2020-04-01 01:01:53</td>\n",
              "      <td>1</td>\n",
              "      <td>3.11</td>\n",
              "      <td>dinheiro</td>\n",
              "      <td>0.00</td>\n",
              "      <td>0.0</td>\n",
              "      <td>6.80</td>\n",
              "    </tr>\n",
              "    <tr>\n",
              "      <th>1</th>\n",
              "      <td>2020-04-01 00:56:00</td>\n",
              "      <td>2020-04-01 01:09:25</td>\n",
              "      <td>1</td>\n",
              "      <td>8.80</td>\n",
              "      <td>cartao_credito</td>\n",
              "      <td>2.75</td>\n",
              "      <td>0.0</td>\n",
              "      <td>16.55</td>\n",
              "    </tr>\n",
              "  </tbody>\n",
              "</table>\n",
              "</div>"
            ],
            "text/plain": [
              "      data_hora_inicio        data_hora_fim  ...  valor_pedagio  valor_total\n",
              "0  2020-04-01 00:41:22  2020-04-01 01:01:53  ...            0.0         6.80\n",
              "1  2020-04-01 00:56:00  2020-04-01 01:09:25  ...            0.0        16.55\n",
              "\n",
              "[2 rows x 8 columns]"
            ]
          },
          "metadata": {
            "tags": []
          },
          "execution_count": 6
        }
      ]
    },
    {
      "cell_type": "code",
      "metadata": {
        "id": "W1ISZOszVpBb",
        "colab": {
          "base_uri": "https://localhost:8080/",
          "height": 194
        },
        "outputId": "bc868f07-6c11-423c-9559-4be8e05db06e"
      },
      "source": [
        "df.sample(5)"
      ],
      "execution_count": null,
      "outputs": [
        {
          "output_type": "execute_result",
          "data": {
            "text/html": [
              "<div>\n",
              "<style scoped>\n",
              "    .dataframe tbody tr th:only-of-type {\n",
              "        vertical-align: middle;\n",
              "    }\n",
              "\n",
              "    .dataframe tbody tr th {\n",
              "        vertical-align: top;\n",
              "    }\n",
              "\n",
              "    .dataframe thead th {\n",
              "        text-align: right;\n",
              "    }\n",
              "</style>\n",
              "<table border=\"1\" class=\"dataframe\">\n",
              "  <thead>\n",
              "    <tr style=\"text-align: right;\">\n",
              "      <th></th>\n",
              "      <th>data_hora_inicio</th>\n",
              "      <th>data_hora_fim</th>\n",
              "      <th>qtd_passageiros</th>\n",
              "      <th>distancia</th>\n",
              "      <th>tipo_pagamento</th>\n",
              "      <th>valor_gorjeta</th>\n",
              "      <th>valor_pedagio</th>\n",
              "      <th>valor_total</th>\n",
              "    </tr>\n",
              "  </thead>\n",
              "  <tbody>\n",
              "    <tr>\n",
              "      <th>158408</th>\n",
              "      <td>2020-04-23 17:31:48</td>\n",
              "      <td>2020-04-23 17:34:03</td>\n",
              "      <td>1</td>\n",
              "      <td>1.82</td>\n",
              "      <td>cartao_credito</td>\n",
              "      <td>2.05</td>\n",
              "      <td>0.0</td>\n",
              "      <td>10.35</td>\n",
              "    </tr>\n",
              "    <tr>\n",
              "      <th>126844</th>\n",
              "      <td>2020-04-19 08:59:52</td>\n",
              "      <td>2020-04-19 09:08:25</td>\n",
              "      <td>1</td>\n",
              "      <td>7.48</td>\n",
              "      <td>dinheiro</td>\n",
              "      <td>0.00</td>\n",
              "      <td>0.0</td>\n",
              "      <td>13.80</td>\n",
              "    </tr>\n",
              "    <tr>\n",
              "      <th>77966</th>\n",
              "      <td>2020-04-11 19:53:59</td>\n",
              "      <td>2020-04-11 20:02:57</td>\n",
              "      <td>1</td>\n",
              "      <td>6.66</td>\n",
              "      <td>cartao_credito</td>\n",
              "      <td>2.66</td>\n",
              "      <td>0.0</td>\n",
              "      <td>15.96</td>\n",
              "    </tr>\n",
              "    <tr>\n",
              "      <th>129442</th>\n",
              "      <td>2020-04-19 18:46:41</td>\n",
              "      <td>2020-04-19 18:50:14</td>\n",
              "      <td>1</td>\n",
              "      <td>2.08</td>\n",
              "      <td>cartao_credito</td>\n",
              "      <td>1.00</td>\n",
              "      <td>0.0</td>\n",
              "      <td>9.30</td>\n",
              "    </tr>\n",
              "    <tr>\n",
              "      <th>42595</th>\n",
              "      <td>2020-04-06 18:16:26</td>\n",
              "      <td>2020-04-06 18:24:32</td>\n",
              "      <td>1</td>\n",
              "      <td>3.41</td>\n",
              "      <td>dinheiro</td>\n",
              "      <td>0.00</td>\n",
              "      <td>0.0</td>\n",
              "      <td>12.30</td>\n",
              "    </tr>\n",
              "  </tbody>\n",
              "</table>\n",
              "</div>"
            ],
            "text/plain": [
              "           data_hora_inicio        data_hora_fim  ...  valor_pedagio  valor_total\n",
              "158408  2020-04-23 17:31:48  2020-04-23 17:34:03  ...            0.0        10.35\n",
              "126844  2020-04-19 08:59:52  2020-04-19 09:08:25  ...            0.0        13.80\n",
              "77966   2020-04-11 19:53:59  2020-04-11 20:02:57  ...            0.0        15.96\n",
              "129442  2020-04-19 18:46:41  2020-04-19 18:50:14  ...            0.0         9.30\n",
              "42595   2020-04-06 18:16:26  2020-04-06 18:24:32  ...            0.0        12.30\n",
              "\n",
              "[5 rows x 8 columns]"
            ]
          },
          "metadata": {
            "tags": []
          },
          "execution_count": 7
        }
      ]
    },
    {
      "cell_type": "code",
      "metadata": {
        "colab": {
          "base_uri": "https://localhost:8080/"
        },
        "id": "9BZvxlBl0sH1",
        "outputId": "155924bd-be3b-4b32-b978-05613aff68c8"
      },
      "source": [
        "df.shape"
      ],
      "execution_count": null,
      "outputs": [
        {
          "output_type": "execute_result",
          "data": {
            "text/plain": [
              "(211747, 8)"
            ]
          },
          "metadata": {
            "tags": []
          },
          "execution_count": 8
        }
      ]
    },
    {
      "cell_type": "markdown",
      "metadata": {
        "id": "SLutzrbfFNzi"
      },
      "source": [
        "# Visão Geral dos Dados"
      ]
    },
    {
      "cell_type": "markdown",
      "metadata": {
        "id": "JkkMWLGXFEjX"
      },
      "source": [
        "## a) Construir tabelas e gráficos apropriados para cada variável do data frame;"
      ]
    },
    {
      "cell_type": "code",
      "metadata": {
        "colab": {
          "base_uri": "https://localhost:8080/",
          "height": 531
        },
        "id": "cLh7gaDbYWzz",
        "outputId": "8d76fd12-66b6-4d5e-8e03-36cff22367c3"
      },
      "source": [
        "coluna = 'distancia'\r\n",
        "plt.rcParams['figure.figsize'] = 24, 8\r\n",
        "fig, axs = plt.subplots(ncols=2)\r\n",
        "sns.boxplot(df[coluna],  ax=axs[0]).set_title('Boxplot da variável '+ coluna)\r\n",
        "sns.distplot(df[coluna], ax=axs[1]).set_title('Histograma da variável '+ coluna)"
      ],
      "execution_count": null,
      "outputs": [
        {
          "output_type": "execute_result",
          "data": {
            "text/plain": [
              "Text(0.5, 1.0, 'Histograma da variável distancia')"
            ]
          },
          "metadata": {
            "tags": []
          },
          "execution_count": 9
        },
        {
          "output_type": "display_data",
          "data": {
            "image/png": "[encoded data removed]",
            "text/plain": [
              "<Figure size 1728x576 with 2 Axes>"
            ]
          },
          "metadata": {
            "tags": [],
            "needs_background": "light"
          }
        }
      ]
    },
    {
      "cell_type": "code",
      "metadata": {
        "colab": {
          "base_uri": "https://localhost:8080/",
          "height": 532
        },
        "id": "gxsSkSM723pH",
        "outputId": "66a86b86-3919-486a-8864-931af0726569"
      },
      "source": [
        "coluna = 'valor_gorjeta'\r\n",
        "plt.rcParams['figure.figsize'] = 24, 8\r\n",
        "fig, axs = plt.subplots(ncols=2)\r\n",
        "sns.boxplot(df[coluna],  ax=axs[0]).set_title('Boxplot da variável '+ coluna)\r\n",
        "sns.distplot(df[coluna], ax=axs[1]).set_title('Histograma da variável '+ coluna)"
      ],
      "execution_count": null,
      "outputs": [
        {
          "output_type": "execute_result",
          "data": {
            "text/plain": [
              "Text(0.5, 1.0, 'Histograma da variável valor_gorjeta')"
            ]
          },
          "metadata": {
            "tags": []
          },
          "execution_count": 10
        },
        {
          "output_type": "display_data",
          "data": {
            "image/png": "[encoded data removed]",
            "text/plain": [
              "<Figure size 1728x576 with 2 Axes>"
            ]
          },
          "metadata": {
            "tags": [],
            "needs_background": "light"
          }
        }
      ]
    },
    {
      "cell_type": "code",
      "metadata": {
        "colab": {
          "base_uri": "https://localhost:8080/",
          "height": 532
        },
        "id": "skM2owj62-DL",
        "outputId": "ac06c1ed-9815-442e-efde-b6fc55d61c04"
      },
      "source": [
        "coluna = 'valor_pedagio'\r\n",
        "plt.rcParams['figure.figsize'] = 24, 8\r\n",
        "fig, axs = plt.subplots(ncols=2)\r\n",
        "sns.boxplot(df[coluna],  ax=axs[0]).set_title('Boxplot da variável '+ coluna)\r\n",
        "sns.distplot(df[coluna], ax=axs[1]).set_title('Histograma da variável '+ coluna)"
      ],
      "execution_count": null,
      "outputs": [
        {
          "output_type": "execute_result",
          "data": {
            "text/plain": [
              "Text(0.5, 1.0, 'Histograma da variável valor_pedagio')"
            ]
          },
          "metadata": {
            "tags": []
          },
          "execution_count": 11
        },
        {
          "output_type": "display_data",
          "data": {
            "image/png": "[encoded data removed]",
            "text/plain": [
              "<Figure size 1728x576 with 2 Axes>"
            ]
          },
          "metadata": {
            "tags": [],
            "needs_background": "light"
          }
        }
      ]
    },
    {
      "cell_type": "code",
      "metadata": {
        "colab": {
          "base_uri": "https://localhost:8080/",
          "height": 532
        },
        "id": "XSB4x8XT3C7o",
        "outputId": "72c69039-8ad7-4e31-fba7-d9467a03dca8"
      },
      "source": [
        "coluna = 'valor_total'\r\n",
        "plt.rcParams['figure.figsize'] = 24, 8\r\n",
        "fig, axs = plt.subplots(ncols=2)\r\n",
        "sns.boxplot(df[coluna],  ax=axs[0]).set_title('Boxplot da variável '+ coluna)\r\n",
        "sns.distplot(df[coluna], ax=axs[1]).set_title('Histograma da variável '+ coluna)"
      ],
      "execution_count": null,
      "outputs": [
        {
          "output_type": "execute_result",
          "data": {
            "text/plain": [
              "Text(0.5, 1.0, 'Histograma da variável valor_total')"
            ]
          },
          "metadata": {
            "tags": []
          },
          "execution_count": 12
        },
        {
          "output_type": "display_data",
          "data": {
            "image/png": "[encoded data removed]",
            "text/plain": [
              "<Figure size 1728x576 with 2 Axes>"
            ]
          },
          "metadata": {
            "tags": [],
            "needs_background": "light"
          }
        }
      ]
    },
    {
      "cell_type": "code",
      "metadata": {
        "colab": {
          "base_uri": "https://localhost:8080/",
          "height": 465
        },
        "id": "GOOAwGUv4shZ",
        "outputId": "b5642b1b-7e20-49c2-d8a9-21fba3b932c6"
      },
      "source": [
        "coluna = 'qtd_passageiros'\r\n",
        "df[coluna].value_counts().plot(kind = 'barh', figsize=(10,7), fontsize=12).set_title('Histograma da variável '+ coluna)"
      ],
      "execution_count": null,
      "outputs": [
        {
          "output_type": "execute_result",
          "data": {
            "text/plain": [
              "Text(0.5, 1.0, 'Histograma da variável qtd_passageiros')"
            ]
          },
          "metadata": {
            "tags": []
          },
          "execution_count": 13
        },
        {
          "output_type": "display_data",
          "data": {
            "image/png": "[encoded data removed]",
            "text/plain": [
              "<Figure size 720x504 with 1 Axes>"
            ]
          },
          "metadata": {
            "tags": [],
            "needs_background": "light"
          }
        }
      ]
    },
    {
      "cell_type": "code",
      "metadata": {
        "colab": {
          "base_uri": "https://localhost:8080/",
          "height": 465
        },
        "id": "kYoussj55Jfe",
        "outputId": "ad9a374e-51fd-449d-f83a-c41ad1148163"
      },
      "source": [
        "coluna = 'tipo_pagamento'\r\n",
        "df[coluna].value_counts().plot(kind = 'barh', figsize=(10,7), fontsize=12).set_title('Histograma da variável '+ coluna)"
      ],
      "execution_count": null,
      "outputs": [
        {
          "output_type": "execute_result",
          "data": {
            "text/plain": [
              "Text(0.5, 1.0, 'Histograma da variável tipo_pagamento')"
            ]
          },
          "metadata": {
            "tags": []
          },
          "execution_count": 14
        },
        {
          "output_type": "display_data",
          "data": {
            "image/png": "[encoded data removed]",
            "text/plain": [
              "<Figure size 720x504 with 1 Axes>"
            ]
          },
          "metadata": {
            "tags": [],
            "needs_background": "light"
          }
        }
      ]
    },
    {
      "cell_type": "code",
      "metadata": {
        "id": "Ohoj6Jeti8hh",
        "colab": {
          "base_uri": "https://localhost:8080/",
          "height": 515
        },
        "outputId": "cbf3f81c-3634-4dca-c5a9-3c1c1f18eaef"
      },
      "source": [
        "sns.scatterplot(df['distancia'], df['valor_total'], alpha=.7)"
      ],
      "execution_count": null,
      "outputs": [
        {
          "output_type": "execute_result",
          "data": {
            "text/plain": [
              "<matplotlib.axes._subplots.AxesSubplot at 0x7f2c95bd9828>"
            ]
          },
          "metadata": {
            "tags": []
          },
          "execution_count": 15
        },
        {
          "output_type": "display_data",
          "data": {
            "image/png": "[encoded data removed]",
            "text/plain": [
              "<Figure size 1728x576 with 1 Axes>"
            ]
          },
          "metadata": {
            "tags": [],
            "needs_background": "light"
          }
        }
      ]
    },
    {
      "cell_type": "markdown",
      "metadata": {
        "id": "XsIv0Dk7FfML"
      },
      "source": [
        "## b) Calcular a média, mediana, moda, desvio-padrão, coeficiente de variação e simetria das variáveis quantitativas;"
      ]
    },
    {
      "cell_type": "code",
      "metadata": {
        "id": "MSmvYY3jY7n_"
      },
      "source": [
        "def cv(n):\r\n",
        "  return round(100*st.stdev(n)/st.mean(n), 2)"
      ],
      "execution_count": null,
      "outputs": []
    },
    {
      "cell_type": "code",
      "metadata": {
        "id": "NsvZsKuDVbbE"
      },
      "source": [
        "def descritiva(column):\r\n",
        "  min_value, per_25, per_50, per_75, max_value = np.quantile(df[column], [0, 0.25, 0.5, 0.75, 1])\r\n",
        "  return (\r\n",
        "    column,\r\n",
        "    round(st.mean(df[column]), 2),\r\n",
        "    round(st.median(df[column]), 2),\r\n",
        "    round(st.mode(df[column]), 2),\r\n",
        "    round(st.stdev(df[column]), 2),\r\n",
        "    round(st.variance(df[column]), 2),\r\n",
        "    round(cv(df[column]), 2),\r\n",
        "    round(min_value, 2),\r\n",
        "    round(per_25, 2),\r\n",
        "    round(per_50, 2),\r\n",
        "    round(per_75, 2),\r\n",
        "    round(max_value, 2)\r\n",
        "  )"
      ],
      "execution_count": null,
      "outputs": []
    },
    {
      "cell_type": "code",
      "metadata": {
        "id": "ua-fKwlpt_bW"
      },
      "source": [
        "column_format = '{:<18s}' + '   {:>7s}'*11\r\n",
        "row_format = '{:<18s}' + '   {:>7.2f}'*11"
      ],
      "execution_count": null,
      "outputs": []
    },
    {
      "cell_type": "code",
      "metadata": {
        "colab": {
          "base_uri": "https://localhost:8080/"
        },
        "id": "BI-kCE7guHfl",
        "outputId": "90b4c151-fab5-4b3d-e196-c99084abacd6"
      },
      "source": [
        "colunas_continuas = ['distancia', 'valor_gorjeta', 'valor_pedagio', 'valor_total']\r\n",
        "print(column_format.format('coluna', 'média', 'mediana', 'moda', 'std', 'var', 'cv', 'min', '25%', '50%', '75%', 'max'))\r\n",
        "print('-'*(18+10*11))\r\n",
        "for column in colunas_continuas:\r\n",
        "  print(row_format.format(*descritiva(column)))"
      ],
      "execution_count": null,
      "outputs": [
        {
          "output_type": "stream",
          "text": [
            "coluna                 média   mediana      moda       std       var        cv       min       25%       50%       75%       max\n",
            "--------------------------------------------------------------------------------------------------------------------------------\n",
            "distancia               6.97      4.41      2.33      8.70     75.75    124.90      0.03      2.54      4.41      8.03    459.47\n",
            "valor_gorjeta           1.54      1.00      0.00      2.29      5.26    148.71      0.00      0.00      1.00      2.45    117.28\n",
            "valor_pedagio           0.13      0.00      0.00      1.06      1.13    829.78      0.00      0.00      0.00      0.00     60.00\n",
            "valor_total            15.40     12.36      8.80     11.42    130.40     74.17      0.30      9.80     12.36     17.29    703.70\n"
          ],
          "name": "stdout"
        }
      ]
    },
    {
      "cell_type": "markdown",
      "metadata": {
        "id": "X8NLnbc3Fr6e"
      },
      "source": [
        "## c) Analisar a normalidade dos dados numéricos e se existe a presença de outliers;"
      ]
    },
    {
      "cell_type": "code",
      "metadata": {
        "id": "x7UWyd252moS"
      },
      "source": [
        "def shapiro(column):\r\n",
        "  prob, p = stats.shapiro(df[column])\r\n",
        "  return (column, round(prob,2), round(p, 2))"
      ],
      "execution_count": null,
      "outputs": []
    },
    {
      "cell_type": "code",
      "metadata": {
        "id": "7ieShE7b7EEw",
        "colab": {
          "base_uri": "https://localhost:8080/"
        },
        "outputId": "9733f12e-4e00-4d0f-8f6d-d2e9e9cbd499"
      },
      "source": [
        "column_format = '{:<18s}' + '   {:>7s}'*2\r\n",
        "row_format = '{:<18s}' + '   {:>7.2f}'*2\r\n",
        "\r\n",
        "print(column_format.format('coluna', 'prob', 'p-valor'))\r\n",
        "print('-'*(18+10*2))\r\n",
        "for column in colunas_continuas:\r\n",
        "  print(row_format.format(*shapiro(column)))"
      ],
      "execution_count": null,
      "outputs": [
        {
          "output_type": "stream",
          "text": [
            "coluna                  prob   p-valor\n",
            "--------------------------------------\n",
            "distancia               0.57      0.00\n",
            "valor_gorjeta           0.59      0.00\n",
            "valor_pedagio           0.10      0.00\n",
            "valor_total             0.59      0.00\n"
          ],
          "name": "stdout"
        }
      ]
    },
    {
      "cell_type": "markdown",
      "metadata": {
        "id": "Fg9pCcIV0h7d"
      },
      "source": [
        "**R**: Considerando o teste de Shapiro-Wilk, todos os p-valores são menores que alpha (para 0.05) e, portanto, rejeita-se Ho e as distribuições não são normais."
      ]
    },
    {
      "cell_type": "markdown",
      "metadata": {
        "id": "zVjpE4uKFxEJ"
      },
      "source": [
        "## d) Comparar as variáveis quantitativas e descrever qual é mais homogênea;"
      ]
    },
    {
      "cell_type": "code",
      "metadata": {
        "colab": {
          "base_uri": "https://localhost:8080/"
        },
        "id": "51je9y0PSdmE",
        "outputId": "d4d5ccf4-a3cf-4e65-fd4a-76905de49347"
      },
      "source": [
        "column_format = '{:<18s}' + '   {:>7s}'\r\n",
        "row_format = '{:<18s}' + '   {:>7.2f}'\r\n",
        "\r\n",
        "quantitativas = ['qtd_passageiros', 'distancia', 'valor_gorjeta', 'valor_pedagio', 'valor_total']\r\n",
        "\r\n",
        "print(column_format.format('coluna', 'cv'))\r\n",
        "print('-'*(18+10))\r\n",
        "\r\n",
        "for quantitativa in quantitativas:\r\n",
        "  print(row_format.format(*(quantitativa, round(cv(df[quantitativa]), 2))))"
      ],
      "execution_count": null,
      "outputs": [
        {
          "output_type": "stream",
          "text": [
            "coluna                    cv\n",
            "----------------------------\n",
            "qtd_passageiros        76.17\n",
            "distancia             124.90\n",
            "valor_gorjeta         148.71\n",
            "valor_pedagio         829.78\n",
            "valor_total            74.17\n"
          ],
          "name": "stdout"
        }
      ]
    },
    {
      "cell_type": "markdown",
      "metadata": {
        "id": "9S4_2__5Cd_O"
      },
      "source": [
        "**R:** Comparando os coeficientes de variação das variáveis quantitativas, podemos concluir que os dados referentes ao *valor_total*, por ter o menor coeficiente de variação, são mais homogêneos que os demais valores quantitativos."
      ]
    },
    {
      "cell_type": "markdown",
      "metadata": {
        "id": "GUZBWBjIF1Ul"
      },
      "source": [
        "## e) Calcular os respectivos Intervalos de Confiança ao nível de 95% para cada campo do data frame;"
      ]
    },
    {
      "cell_type": "code",
      "metadata": {
        "id": "DyDlgWMUmoqM",
        "colab": {
          "base_uri": "https://localhost:8080/",
          "height": 194
        },
        "outputId": "10fe6cf1-bd98-44f4-d8da-591ba6cbb7a8"
      },
      "source": [
        "df.head()"
      ],
      "execution_count": null,
      "outputs": [
        {
          "output_type": "execute_result",
          "data": {
            "text/html": [
              "<div>\n",
              "<style scoped>\n",
              "    .dataframe tbody tr th:only-of-type {\n",
              "        vertical-align: middle;\n",
              "    }\n",
              "\n",
              "    .dataframe tbody tr th {\n",
              "        vertical-align: top;\n",
              "    }\n",
              "\n",
              "    .dataframe thead th {\n",
              "        text-align: right;\n",
              "    }\n",
              "</style>\n",
              "<table border=\"1\" class=\"dataframe\">\n",
              "  <thead>\n",
              "    <tr style=\"text-align: right;\">\n",
              "      <th></th>\n",
              "      <th>data_hora_inicio</th>\n",
              "      <th>data_hora_fim</th>\n",
              "      <th>qtd_passageiros</th>\n",
              "      <th>distancia</th>\n",
              "      <th>tipo_pagamento</th>\n",
              "      <th>valor_gorjeta</th>\n",
              "      <th>valor_pedagio</th>\n",
              "      <th>valor_total</th>\n",
              "    </tr>\n",
              "  </thead>\n",
              "  <tbody>\n",
              "    <tr>\n",
              "      <th>0</th>\n",
              "      <td>2020-04-01 00:41:22</td>\n",
              "      <td>2020-04-01 01:01:53</td>\n",
              "      <td>1</td>\n",
              "      <td>3.11</td>\n",
              "      <td>dinheiro</td>\n",
              "      <td>0.00</td>\n",
              "      <td>0.0</td>\n",
              "      <td>6.80</td>\n",
              "    </tr>\n",
              "    <tr>\n",
              "      <th>1</th>\n",
              "      <td>2020-04-01 00:56:00</td>\n",
              "      <td>2020-04-01 01:09:25</td>\n",
              "      <td>1</td>\n",
              "      <td>8.80</td>\n",
              "      <td>cartao_credito</td>\n",
              "      <td>2.75</td>\n",
              "      <td>0.0</td>\n",
              "      <td>16.55</td>\n",
              "    </tr>\n",
              "    <tr>\n",
              "      <th>2</th>\n",
              "      <td>2020-04-01 00:00:26</td>\n",
              "      <td>2020-04-01 00:09:25</td>\n",
              "      <td>1</td>\n",
              "      <td>7.26</td>\n",
              "      <td>cartao_credito</td>\n",
              "      <td>1.00</td>\n",
              "      <td>0.0</td>\n",
              "      <td>14.80</td>\n",
              "    </tr>\n",
              "    <tr>\n",
              "      <th>3</th>\n",
              "      <td>2020-04-01 00:24:38</td>\n",
              "      <td>2020-04-01 00:34:38</td>\n",
              "      <td>0</td>\n",
              "      <td>6.73</td>\n",
              "      <td>cartao_credito</td>\n",
              "      <td>1.00</td>\n",
              "      <td>0.0</td>\n",
              "      <td>14.80</td>\n",
              "    </tr>\n",
              "    <tr>\n",
              "      <th>4</th>\n",
              "      <td>2020-04-01 00:13:24</td>\n",
              "      <td>2020-04-01 00:18:26</td>\n",
              "      <td>1</td>\n",
              "      <td>3.73</td>\n",
              "      <td>cartao_credito</td>\n",
              "      <td>3.00</td>\n",
              "      <td>0.0</td>\n",
              "      <td>13.30</td>\n",
              "    </tr>\n",
              "  </tbody>\n",
              "</table>\n",
              "</div>"
            ],
            "text/plain": [
              "      data_hora_inicio        data_hora_fim  ...  valor_pedagio  valor_total\n",
              "0  2020-04-01 00:41:22  2020-04-01 01:01:53  ...            0.0         6.80\n",
              "1  2020-04-01 00:56:00  2020-04-01 01:09:25  ...            0.0        16.55\n",
              "2  2020-04-01 00:00:26  2020-04-01 00:09:25  ...            0.0        14.80\n",
              "3  2020-04-01 00:24:38  2020-04-01 00:34:38  ...            0.0        14.80\n",
              "4  2020-04-01 00:13:24  2020-04-01 00:18:26  ...            0.0        13.30\n",
              "\n",
              "[5 rows x 8 columns]"
            ]
          },
          "metadata": {
            "tags": []
          },
          "execution_count": 23
        }
      ]
    },
    {
      "cell_type": "code",
      "metadata": {
        "id": "32QQJCHVCtw2"
      },
      "source": [
        "def intervalo_confianca2(df, column, nivel=0.95):\r\n",
        "  n = len(df)\r\n",
        "  media = st.mean(df[column])\r\n",
        "  std = st.stdev(df[column])\r\n",
        "  inf,sup = t.interval(nivel, n-1, loc=media, scale=std/np.sqrt(n))\r\n",
        "  return column, inf, media, sup"
      ],
      "execution_count": null,
      "outputs": []
    },
    {
      "cell_type": "code",
      "metadata": {
        "colab": {
          "base_uri": "https://localhost:8080/"
        },
        "id": "UJCZFp-gEUB2",
        "outputId": "c57f8e12-1ff2-42ea-9dbb-2ebe99f25cab"
      },
      "source": [
        "column_format = '{:<18s}' + '   {:>10s}'*3\r\n",
        "row_format = '{:<18s}' + '   {:>10.2f}'*3\r\n",
        "\r\n",
        "print(column_format.format('coluna', 'inferior', 'media', 'superior'))\r\n",
        "print('-'*(18+13*3))\r\n",
        "for column in colunas_continuas:\r\n",
        "  print(row_format.format(*intervalo_confianca2(df, column)))"
      ],
      "execution_count": null,
      "outputs": [
        {
          "output_type": "stream",
          "text": [
            "coluna                 inferior        media     superior\n",
            "---------------------------------------------------------\n",
            "distancia                  6.93         6.97         7.01\n",
            "valor_gorjeta              1.53         1.54         1.55\n",
            "valor_pedagio              0.12         0.13         0.13\n",
            "valor_total               15.35        15.40        15.45\n"
          ],
          "name": "stdout"
        }
      ]
    },
    {
      "cell_type": "markdown",
      "metadata": {
        "id": "BKVGUwhoF6Xa"
      },
      "source": [
        "## f) Comparar a média de um campo numérico em relação a um campo categórico e responder se existe diferença estatística ao nível de 5% de significância;"
      ]
    },
    {
      "cell_type": "code",
      "metadata": {
        "id": "WHugUWdHGA4V",
        "colab": {
          "base_uri": "https://localhost:8080/",
          "height": 164
        },
        "outputId": "567bdc64-3582-4aea-eb41-16ab5de2f82f"
      },
      "source": [
        "df[['tipo_pagamento', 'distancia']].groupby(['tipo_pagamento']).agg({'distancia':'mean'}).reset_index()\r\n"
      ],
      "execution_count": null,
      "outputs": [
        {
          "output_type": "execute_result",
          "data": {
            "text/html": [
              "<div>\n",
              "<style scoped>\n",
              "    .dataframe tbody tr th:only-of-type {\n",
              "        vertical-align: middle;\n",
              "    }\n",
              "\n",
              "    .dataframe tbody tr th {\n",
              "        vertical-align: top;\n",
              "    }\n",
              "\n",
              "    .dataframe thead th {\n",
              "        text-align: right;\n",
              "    }\n",
              "</style>\n",
              "<table border=\"1\" class=\"dataframe\">\n",
              "  <thead>\n",
              "    <tr style=\"text-align: right;\">\n",
              "      <th></th>\n",
              "      <th>tipo_pagamento</th>\n",
              "      <th>distancia</th>\n",
              "    </tr>\n",
              "  </thead>\n",
              "  <tbody>\n",
              "    <tr>\n",
              "      <th>0</th>\n",
              "      <td>cartao_credito</td>\n",
              "      <td>7.146918</td>\n",
              "    </tr>\n",
              "    <tr>\n",
              "      <th>1</th>\n",
              "      <td>dinheiro</td>\n",
              "      <td>6.679539</td>\n",
              "    </tr>\n",
              "    <tr>\n",
              "      <th>2</th>\n",
              "      <td>extorno</td>\n",
              "      <td>7.734600</td>\n",
              "    </tr>\n",
              "    <tr>\n",
              "      <th>3</th>\n",
              "      <td>sem_cobranca</td>\n",
              "      <td>7.057730</td>\n",
              "    </tr>\n",
              "  </tbody>\n",
              "</table>\n",
              "</div>"
            ],
            "text/plain": [
              "   tipo_pagamento  distancia\n",
              "0  cartao_credito   7.146918\n",
              "1        dinheiro   6.679539\n",
              "2         extorno   7.734600\n",
              "3    sem_cobranca   7.057730"
            ]
          },
          "metadata": {
            "tags": []
          },
          "execution_count": 26
        }
      ]
    },
    {
      "cell_type": "code",
      "metadata": {
        "colab": {
          "base_uri": "https://localhost:8080/"
        },
        "id": "Up4PlKW7e8z6",
        "outputId": "488adbed-c82b-480e-a431-f4a0b39b65b2"
      },
      "source": [
        "df_credito = df.loc[df.tipo_pagamento == \"cartao_credito\"]\r\n",
        "df_dinheiro = df.loc[df.tipo_pagamento == \"dinheiro\"]\r\n",
        "df_extorno = df.loc[df.tipo_pagamento == \"extorno\"]\r\n",
        "df_sem_cobranca = df.loc[df.tipo_pagamento == \"sem_cobranca\"]\r\n",
        "\r\n",
        "print(\"Cartão de Crédito:\",df_credito.shape)\r\n",
        "print(\"Dinheiro:\",df_dinheiro.shape)\r\n",
        "print(\"Extorno:\",df_extorno.shape)\r\n",
        "print(\"Sem Cobrança:\",df_sem_cobranca.shape)\r\n"
      ],
      "execution_count": null,
      "outputs": [
        {
          "output_type": "stream",
          "text": [
            "Cartão de Crédito: (127488, 9)\n",
            "Dinheiro: (81481, 9)\n",
            "Extorno: (663, 9)\n",
            "Sem Cobrança: (2115, 9)\n"
          ],
          "name": "stdout"
        }
      ]
    },
    {
      "cell_type": "code",
      "metadata": {
        "id": "hXbzX7DsYQpz",
        "colab": {
          "base_uri": "https://localhost:8080/"
        },
        "outputId": "5e9b2296-ad89-47d4-f1eb-11809cb7258b"
      },
      "source": [
        "alfa=0.05\r\n",
        "#credito\r\n",
        "média_cc = np.mean(df_credito.distancia)\r\n",
        "dp_cc = np.std(df_credito.distancia)\r\n",
        "print(\"Média cartão de crédito =\",round(média_cc,2))\r\n",
        "print(\"Desvio-padrão cartão de crédito =\",round(dp_cc,2))\r\n",
        "#dinheiro\r\n",
        "média_d = np.mean(df_dinheiro.distancia)\r\n",
        "dp_d = np.std(df_dinheiro.distancia)\r\n",
        "print(\"Média dinheiro =\",round(média_d,2))\r\n",
        "print(\"Desvio-padrão dinheiro =\",round(dp_d,2))\r\n",
        "#extorno\r\n",
        "média_e = np.mean(df_extorno.distancia)\r\n",
        "dp_e = np.std(df_extorno.distancia)\r\n",
        "print(\"Média extorno =\",round(média_e,2))\r\n",
        "print(\"Desvio-padrão extorno =\",round(dp_e,2))\r\n",
        "#sem cobrança\r\n",
        "média_sc = np.mean(df_sem_cobranca.distancia)\r\n",
        "dp_sc = np.std(df_sem_cobranca.distancia)\r\n",
        "print(\"Média sem_cobranca =\",round(média_sc,2))\r\n",
        "print(\"Desvio-padrão sem_cobranca =\",round(dp_sc,2))\r\n",
        "\r\n",
        "\r\n",
        "\r\n",
        "#t,p = ttest_ind(df_credito.distancia,df_dinheiro.distancia,df_extorno.distancia,df_sem_cobranca.distancia)\r\n",
        "t,p = ttest_ind(df_credito.distancia,df_dinheiro.distancia)\r\n",
        "print('t= %0.3f, p= %0.3f' % (t, p))\r\n",
        "if p > alfa:\r\n",
        "   print (\"Conclusão: aceita-se Ho, ou seja, as médias são estatisticamente iguais ao nível de significância de 5%\")\r\n",
        "else:\r\n",
        "   print (\"Conclusão: rejeita-se Ho, ou seja, as médias são estatisticamente diferentes ao nível de significância de 5%\")"
      ],
      "execution_count": null,
      "outputs": [
        {
          "output_type": "stream",
          "text": [
            "Média cartão de crédito = 7.15\n",
            "Desvio-padrão cartão de crédito = 8.88\n",
            "Média dinheiro = 6.68\n",
            "Desvio-padrão dinheiro = 8.37\n",
            "Média extorno = 7.73\n",
            "Desvio-padrão extorno = 9.36\n",
            "Média sem_cobranca = 7.06\n",
            "Desvio-padrão sem_cobranca = 10.0\n",
            "t= 12.000, p= 0.000\n",
            "Conclusão: rejeita-se Ho, ou seja, as médias são estatisticamente diferentes ao nível de significância de 5%\n"
          ],
          "name": "stdout"
        }
      ]
    },
    {
      "cell_type": "markdown",
      "metadata": {
        "id": "dlIjvyf3GBX8"
      },
      "source": [
        "## g) Realizar um cruzamento de dois campos categóricos e responder se existe diferença estatística ao nível de 5% de significância."
      ]
    },
    {
      "cell_type": "markdown",
      "metadata": {
        "id": "BDTtrVuYW7VM"
      },
      "source": [
        "* Teste de hipótese: As variáveis são dependentes ou independentes?\n",
        "* Variáveis categóricas: *tipo_pagamento* e *qtd_passageiros*\n",
        "* $H_0$: O tipo de pagamento independe da quantidade de passageiros.\n",
        "\n",
        "Obs: a função [```scipy.stats.chi2_contingency```](https://docs.scipy.org/doc/scipy/reference/generated/scipy.stats.chi2_contingency.html) testa a independência de variáveis em uma tabela de contigência utilizando a distribuição Chi-quadrado. "
      ]
    },
    {
      "cell_type": "code",
      "metadata": {
        "id": "DXUSVfAIkO8o"
      },
      "source": [
        "significancia = 0.05\n",
        "\n",
        "def dependencia_chi2(tab_contigencia):\n",
        "  qui, p, gl, esperado = stats.chi2_contingency(tab_contigencia, correction=False)\n",
        "  print(\"Valores esperados: \")\n",
        "  print(esperado)\n",
        "  print('chi=%.3f, p=%.3f' % (qui, p))\n",
        "  if p > significancia:\n",
        "    print('Conclusão: aceita-se H0, ou seja, as variáveis são independentes')\n",
        "  else:\n",
        "    print('Conclusão: rejeita-se H0, ou seja, as variáveis são dependentes')"
      ],
      "execution_count": null,
      "outputs": []
    },
    {
      "cell_type": "code",
      "metadata": {
        "colab": {
          "base_uri": "https://localhost:8080/",
          "height": 194
        },
        "id": "LvkqOwAqwWnW",
        "outputId": "a791e8f1-33fe-4ffb-cd7e-f8334db97e09"
      },
      "source": [
        "# Tabela de contigência no pandas\n",
        "tab_contingencia = pd.crosstab(df['tipo_pagamento'],df['qtd_passageiros']) \n",
        "tab_contingencia"
      ],
      "execution_count": null,
      "outputs": [
        {
          "output_type": "execute_result",
          "data": {
            "text/html": [
              "<div>\n",
              "<style scoped>\n",
              "    .dataframe tbody tr th:only-of-type {\n",
              "        vertical-align: middle;\n",
              "    }\n",
              "\n",
              "    .dataframe tbody tr th {\n",
              "        vertical-align: top;\n",
              "    }\n",
              "\n",
              "    .dataframe thead th {\n",
              "        text-align: right;\n",
              "    }\n",
              "</style>\n",
              "<table border=\"1\" class=\"dataframe\">\n",
              "  <thead>\n",
              "    <tr style=\"text-align: right;\">\n",
              "      <th>qtd_passageiros</th>\n",
              "      <th>0</th>\n",
              "      <th>1</th>\n",
              "      <th>2</th>\n",
              "      <th>3</th>\n",
              "      <th>4</th>\n",
              "      <th>5</th>\n",
              "      <th>6</th>\n",
              "    </tr>\n",
              "    <tr>\n",
              "      <th>tipo_pagamento</th>\n",
              "      <th></th>\n",
              "      <th></th>\n",
              "      <th></th>\n",
              "      <th></th>\n",
              "      <th></th>\n",
              "      <th></th>\n",
              "      <th></th>\n",
              "    </tr>\n",
              "  </thead>\n",
              "  <tbody>\n",
              "    <tr>\n",
              "      <th>cartao_credito</th>\n",
              "      <td>3698</td>\n",
              "      <td>103799</td>\n",
              "      <td>11287</td>\n",
              "      <td>2667</td>\n",
              "      <td>903</td>\n",
              "      <td>2752</td>\n",
              "      <td>2382</td>\n",
              "    </tr>\n",
              "    <tr>\n",
              "      <th>dinheiro</th>\n",
              "      <td>2318</td>\n",
              "      <td>65662</td>\n",
              "      <td>7671</td>\n",
              "      <td>1836</td>\n",
              "      <td>665</td>\n",
              "      <td>1843</td>\n",
              "      <td>1486</td>\n",
              "    </tr>\n",
              "    <tr>\n",
              "      <th>extorno</th>\n",
              "      <td>34</td>\n",
              "      <td>573</td>\n",
              "      <td>51</td>\n",
              "      <td>4</td>\n",
              "      <td>1</td>\n",
              "      <td>0</td>\n",
              "      <td>0</td>\n",
              "    </tr>\n",
              "    <tr>\n",
              "      <th>sem_cobranca</th>\n",
              "      <td>382</td>\n",
              "      <td>1580</td>\n",
              "      <td>130</td>\n",
              "      <td>15</td>\n",
              "      <td>3</td>\n",
              "      <td>1</td>\n",
              "      <td>4</td>\n",
              "    </tr>\n",
              "  </tbody>\n",
              "</table>\n",
              "</div>"
            ],
            "text/plain": [
              "qtd_passageiros     0       1      2     3    4     5     6\n",
              "tipo_pagamento                                             \n",
              "cartao_credito   3698  103799  11287  2667  903  2752  2382\n",
              "dinheiro         2318   65662   7671  1836  665  1843  1486\n",
              "extorno            34     573     51     4    1     0     0\n",
              "sem_cobranca      382    1580    130    15    3     1     4"
            ]
          },
          "metadata": {
            "tags": []
          },
          "execution_count": 31
        }
      ]
    },
    {
      "cell_type": "markdown",
      "metadata": {
        "id": "qrgtT31UU5AT"
      },
      "source": [
        "Devido a existência de campos da tabela com valor igual a 0, iremos fazer o agrupamento das classes **extorno** e **sem_cobranca**."
      ]
    },
    {
      "cell_type": "code",
      "metadata": {
        "id": "IZB2JjZeU4Qs"
      },
      "source": [
        "tab_contingencia = tab_contingencia.reset_index().replace({'tipo_pagamento': {'extorno':'sem_cobranca'}}).groupby('tipo_pagamento', sort=False).sum()\n",
        "tab_contingencia.rename(index={'sem_cobranca': 'extorno / sem_cobranca'}, inplace=True)"
      ],
      "execution_count": null,
      "outputs": []
    },
    {
      "cell_type": "code",
      "metadata": {
        "colab": {
          "base_uri": "https://localhost:8080/",
          "height": 164
        },
        "id": "urdDTE1_W7L1",
        "outputId": "4c24da67-82e1-414a-af17-2a131be8f7fc"
      },
      "source": [
        "tab_contingencia"
      ],
      "execution_count": null,
      "outputs": [
        {
          "output_type": "execute_result",
          "data": {
            "text/html": [
              "<div>\n",
              "<style scoped>\n",
              "    .dataframe tbody tr th:only-of-type {\n",
              "        vertical-align: middle;\n",
              "    }\n",
              "\n",
              "    .dataframe tbody tr th {\n",
              "        vertical-align: top;\n",
              "    }\n",
              "\n",
              "    .dataframe thead th {\n",
              "        text-align: right;\n",
              "    }\n",
              "</style>\n",
              "<table border=\"1\" class=\"dataframe\">\n",
              "  <thead>\n",
              "    <tr style=\"text-align: right;\">\n",
              "      <th>qtd_passageiros</th>\n",
              "      <th>0</th>\n",
              "      <th>1</th>\n",
              "      <th>2</th>\n",
              "      <th>3</th>\n",
              "      <th>4</th>\n",
              "      <th>5</th>\n",
              "      <th>6</th>\n",
              "    </tr>\n",
              "    <tr>\n",
              "      <th>tipo_pagamento</th>\n",
              "      <th></th>\n",
              "      <th></th>\n",
              "      <th></th>\n",
              "      <th></th>\n",
              "      <th></th>\n",
              "      <th></th>\n",
              "      <th></th>\n",
              "    </tr>\n",
              "  </thead>\n",
              "  <tbody>\n",
              "    <tr>\n",
              "      <th>cartao_credito</th>\n",
              "      <td>3698</td>\n",
              "      <td>103799</td>\n",
              "      <td>11287</td>\n",
              "      <td>2667</td>\n",
              "      <td>903</td>\n",
              "      <td>2752</td>\n",
              "      <td>2382</td>\n",
              "    </tr>\n",
              "    <tr>\n",
              "      <th>dinheiro</th>\n",
              "      <td>2318</td>\n",
              "      <td>65662</td>\n",
              "      <td>7671</td>\n",
              "      <td>1836</td>\n",
              "      <td>665</td>\n",
              "      <td>1843</td>\n",
              "      <td>1486</td>\n",
              "    </tr>\n",
              "    <tr>\n",
              "      <th>extorno / sem_cobranca</th>\n",
              "      <td>416</td>\n",
              "      <td>2153</td>\n",
              "      <td>181</td>\n",
              "      <td>19</td>\n",
              "      <td>4</td>\n",
              "      <td>1</td>\n",
              "      <td>4</td>\n",
              "    </tr>\n",
              "  </tbody>\n",
              "</table>\n",
              "</div>"
            ],
            "text/plain": [
              "qtd_passageiros            0       1      2     3    4     5     6\n",
              "tipo_pagamento                                                    \n",
              "cartao_credito          3698  103799  11287  2667  903  2752  2382\n",
              "dinheiro                2318   65662   7671  1836  665  1843  1486\n",
              "extorno / sem_cobranca   416    2153    181    19    4     1     4"
            ]
          },
          "metadata": {
            "tags": []
          },
          "execution_count": 33
        }
      ]
    },
    {
      "cell_type": "code",
      "metadata": {
        "colab": {
          "base_uri": "https://localhost:8080/"
        },
        "id": "lEGgf6GuxQm5",
        "outputId": "fd711042-7d6b-48a2-e15f-de80aded7c2a"
      },
      "source": [
        "dependencia_chi2(tab_contingencia)"
      ],
      "execution_count": null,
      "outputs": [
        {
          "output_type": "stream",
          "text": [
            "Valores esperados: \n",
            "[[3.87255931e+03 1.03324843e+05 1.15231518e+04 2.72259223e+03\n",
            "  9.46465055e+02 2.76714592e+03 2.33124217e+03]\n",
            " [2.47505652e+03 6.60376786e+04 7.36475539e+03 1.74008171e+03\n",
            "  6.04911201e+02 1.76855717e+03 1.48995939e+03]\n",
            " [8.43841755e+01 2.25147791e+03 2.51092776e+02 5.93260637e+01\n",
            "  2.06237444e+01 6.02969015e+01 5.07984340e+01]]\n",
            "chi=1527.748, p=0.000\n",
            "Conclusão: rejeita-se H0, ou seja, as variáveis são dependentes\n"
          ],
          "name": "stdout"
        }
      ]
    },
    {
      "cell_type": "markdown",
      "metadata": {
        "id": "E66jIw6gvXlW"
      },
      "source": [
        "* Calculando o tamanho de uma amostra com o erro igual a $3\\%$:"
      ]
    },
    {
      "cell_type": "code",
      "metadata": {
        "colab": {
          "base_uri": "https://localhost:8080/"
        },
        "id": "fE408unRvZaP",
        "outputId": "e0b72d17-bc11-4438-998a-f0e552a31e16"
      },
      "source": [
        "erro = 0.03\n",
        "nivel = 0.95\n",
        "alpha = 1-nivel\n",
        "n = (t.ppf(alpha/2,len(df))**2)*(0.51*0.49)/(erro**2)\n",
        "n"
      ],
      "execution_count": null,
      "outputs": [
        {
          "output_type": "execute_result",
          "data": {
            "text/plain": [
              "1066.6572600591048"
            ]
          },
          "metadata": {
            "tags": []
          },
          "execution_count": 37
        }
      ]
    },
    {
      "cell_type": "code",
      "metadata": {
        "id": "VwK_Col_GSWR"
      },
      "source": [
        "df_amostra = df.sample(int(n))"
      ],
      "execution_count": null,
      "outputs": []
    },
    {
      "cell_type": "code",
      "metadata": {
        "colab": {
          "base_uri": "https://localhost:8080/",
          "height": 194
        },
        "id": "bLFxN2ajYgwl",
        "outputId": "89262595-dbdb-4380-ed80-10c9ea61b8a3"
      },
      "source": [
        "tab_contingencia = pd.crosstab(df_amostra['tipo_pagamento'], df_amostra['qtd_passageiros'])\n",
        "tab_contingencia"
      ],
      "execution_count": null,
      "outputs": [
        {
          "output_type": "execute_result",
          "data": {
            "text/html": [
              "<div>\n",
              "<style scoped>\n",
              "    .dataframe tbody tr th:only-of-type {\n",
              "        vertical-align: middle;\n",
              "    }\n",
              "\n",
              "    .dataframe tbody tr th {\n",
              "        vertical-align: top;\n",
              "    }\n",
              "\n",
              "    .dataframe thead th {\n",
              "        text-align: right;\n",
              "    }\n",
              "</style>\n",
              "<table border=\"1\" class=\"dataframe\">\n",
              "  <thead>\n",
              "    <tr style=\"text-align: right;\">\n",
              "      <th>qtd_passageiros</th>\n",
              "      <th>0</th>\n",
              "      <th>1</th>\n",
              "      <th>2</th>\n",
              "      <th>3</th>\n",
              "      <th>4</th>\n",
              "      <th>5</th>\n",
              "      <th>6</th>\n",
              "    </tr>\n",
              "    <tr>\n",
              "      <th>tipo_pagamento</th>\n",
              "      <th></th>\n",
              "      <th></th>\n",
              "      <th></th>\n",
              "      <th></th>\n",
              "      <th></th>\n",
              "      <th></th>\n",
              "      <th></th>\n",
              "    </tr>\n",
              "  </thead>\n",
              "  <tbody>\n",
              "    <tr>\n",
              "      <th>cartao_credito</th>\n",
              "      <td>19</td>\n",
              "      <td>522</td>\n",
              "      <td>48</td>\n",
              "      <td>12</td>\n",
              "      <td>5</td>\n",
              "      <td>12</td>\n",
              "      <td>11</td>\n",
              "    </tr>\n",
              "    <tr>\n",
              "      <th>dinheiro</th>\n",
              "      <td>10</td>\n",
              "      <td>335</td>\n",
              "      <td>49</td>\n",
              "      <td>8</td>\n",
              "      <td>4</td>\n",
              "      <td>11</td>\n",
              "      <td>6</td>\n",
              "    </tr>\n",
              "    <tr>\n",
              "      <th>extorno</th>\n",
              "      <td>0</td>\n",
              "      <td>4</td>\n",
              "      <td>0</td>\n",
              "      <td>0</td>\n",
              "      <td>0</td>\n",
              "      <td>0</td>\n",
              "      <td>0</td>\n",
              "    </tr>\n",
              "    <tr>\n",
              "      <th>sem_cobranca</th>\n",
              "      <td>2</td>\n",
              "      <td>8</td>\n",
              "      <td>0</td>\n",
              "      <td>0</td>\n",
              "      <td>0</td>\n",
              "      <td>0</td>\n",
              "      <td>0</td>\n",
              "    </tr>\n",
              "  </tbody>\n",
              "</table>\n",
              "</div>"
            ],
            "text/plain": [
              "qtd_passageiros   0    1   2   3  4   5   6\n",
              "tipo_pagamento                             \n",
              "cartao_credito   19  522  48  12  5  12  11\n",
              "dinheiro         10  335  49   8  4  11   6\n",
              "extorno           0    4   0   0  0   0   0\n",
              "sem_cobranca      2    8   0   0  0   0   0"
            ]
          },
          "metadata": {
            "tags": []
          },
          "execution_count": 39
        }
      ]
    },
    {
      "cell_type": "markdown",
      "metadata": {
        "id": "jt5JQBdxvkAr"
      },
      "source": [
        "Nesse caso, fica difícil realizar um agrupamento das categorias devido a presença de muitos valores 0 na tabela. Portanto, decidiu-se por **retirar** os dados de corridas com tipo de pagamento **extorno** e **sem_cobrança**."
      ]
    },
    {
      "cell_type": "code",
      "metadata": {
        "colab": {
          "base_uri": "https://localhost:8080/",
          "height": 135
        },
        "id": "li4abx0bYy1w",
        "outputId": "9d040ecd-405a-488c-a284-1343bf0c6fc2"
      },
      "source": [
        "tab_contingencia.drop(['sem_cobranca', 'extorno'], inplace=True)\n",
        "tab_contingencia"
      ],
      "execution_count": null,
      "outputs": [
        {
          "output_type": "execute_result",
          "data": {
            "text/html": [
              "<div>\n",
              "<style scoped>\n",
              "    .dataframe tbody tr th:only-of-type {\n",
              "        vertical-align: middle;\n",
              "    }\n",
              "\n",
              "    .dataframe tbody tr th {\n",
              "        vertical-align: top;\n",
              "    }\n",
              "\n",
              "    .dataframe thead th {\n",
              "        text-align: right;\n",
              "    }\n",
              "</style>\n",
              "<table border=\"1\" class=\"dataframe\">\n",
              "  <thead>\n",
              "    <tr style=\"text-align: right;\">\n",
              "      <th>qtd_passageiros</th>\n",
              "      <th>0</th>\n",
              "      <th>1</th>\n",
              "      <th>2</th>\n",
              "      <th>3</th>\n",
              "      <th>4</th>\n",
              "      <th>5</th>\n",
              "      <th>6</th>\n",
              "    </tr>\n",
              "    <tr>\n",
              "      <th>tipo_pagamento</th>\n",
              "      <th></th>\n",
              "      <th></th>\n",
              "      <th></th>\n",
              "      <th></th>\n",
              "      <th></th>\n",
              "      <th></th>\n",
              "      <th></th>\n",
              "    </tr>\n",
              "  </thead>\n",
              "  <tbody>\n",
              "    <tr>\n",
              "      <th>cartao_credito</th>\n",
              "      <td>19</td>\n",
              "      <td>522</td>\n",
              "      <td>48</td>\n",
              "      <td>12</td>\n",
              "      <td>5</td>\n",
              "      <td>12</td>\n",
              "      <td>11</td>\n",
              "    </tr>\n",
              "    <tr>\n",
              "      <th>dinheiro</th>\n",
              "      <td>10</td>\n",
              "      <td>335</td>\n",
              "      <td>49</td>\n",
              "      <td>8</td>\n",
              "      <td>4</td>\n",
              "      <td>11</td>\n",
              "      <td>6</td>\n",
              "    </tr>\n",
              "  </tbody>\n",
              "</table>\n",
              "</div>"
            ],
            "text/plain": [
              "qtd_passageiros   0    1   2   3  4   5   6\n",
              "tipo_pagamento                             \n",
              "cartao_credito   19  522  48  12  5  12  11\n",
              "dinheiro         10  335  49   8  4  11   6"
            ]
          },
          "metadata": {
            "tags": []
          },
          "execution_count": 40
        }
      ]
    },
    {
      "cell_type": "code",
      "metadata": {
        "colab": {
          "base_uri": "https://localhost:8080/"
        },
        "id": "SCm1gA2MZWeH",
        "outputId": "3f42cf7f-ca39-452a-afa7-b3fd455dae91"
      },
      "source": [
        "dependencia_chi2(tab_contingencia)"
      ],
      "execution_count": null,
      "outputs": [
        {
          "output_type": "stream",
          "text": [
            "Valores esperados: \n",
            "[[ 17.33935361 512.40779468  57.99714829  11.9581749    5.38117871\n",
            "   13.75190114  10.16444867]\n",
            " [ 11.66064639 344.59220532  39.00285171   8.0418251    3.61882129\n",
            "    9.24809886   6.83555133]]\n",
            "chi=5.921, p=0.432\n",
            "Conclusão: aceita-se H0, ou seja, as variáveis são independentes\n"
          ],
          "name": "stdout"
        }
      ]
    }
  ]
}
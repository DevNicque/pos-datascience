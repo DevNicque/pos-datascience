{
  "nbformat": 4,
  "nbformat_minor": 0,
  "metadata": {
    "colab": {
      "name": "analise-sentimentos.ipynb",
      "provenance": [],
      "collapsed_sections": [],
      "include_colab_link": true
    },
    "kernelspec": {
      "name": "python3",
      "display_name": "Python 3"
    }
  },
  "cells": [
    {
      "cell_type": "markdown",
      "metadata": {
        "id": "view-in-github",
        "colab_type": "text"
      },
      "source": [
        "<a href=\"https://colab.research.google.com/github/DevNicque/pos-datascience/blob/modulo_2/analise_sentimentos.ipynb\" target=\"_parent\"><img src=\"https://colab.research.google.com/assets/colab-badge.svg\" alt=\"Open In Colab\"/></a>"
      ]
    },
    {
      "cell_type": "markdown",
      "metadata": {
        "id": "IPGLkah7pT6C"
      },
      "source": [
        "#Instalação de pacotes"
      ]
    },
    {
      "cell_type": "code",
      "metadata": {
        "id": "n3sSrSa4pPWR",
        "colab": {
          "base_uri": "https://localhost:8080/"
        },
        "outputId": "d36c8a85-eefe-4b88-fad1-0844efce8afc"
      },
      "source": [
        "!python -m textblob.download_corpora"
      ],
      "execution_count": 29,
      "outputs": [
        {
          "output_type": "stream",
          "text": [
            "[nltk_data] Downloading package brown to /root/nltk_data...\n",
            "[nltk_data]   Package brown is already up-to-date!\n",
            "[nltk_data] Downloading package punkt to /root/nltk_data...\n",
            "[nltk_data]   Package punkt is already up-to-date!\n",
            "[nltk_data] Downloading package wordnet to /root/nltk_data...\n",
            "[nltk_data]   Package wordnet is already up-to-date!\n",
            "[nltk_data] Downloading package averaged_perceptron_tagger to\n",
            "[nltk_data]     /root/nltk_data...\n",
            "[nltk_data]   Package averaged_perceptron_tagger is already up-to-\n",
            "[nltk_data]       date!\n",
            "[nltk_data] Downloading package conll2000 to /root/nltk_data...\n",
            "[nltk_data]   Package conll2000 is already up-to-date!\n",
            "[nltk_data] Downloading package movie_reviews to /root/nltk_data...\n",
            "[nltk_data]   Package movie_reviews is already up-to-date!\n",
            "Finished.\n"
          ],
          "name": "stdout"
        }
      ]
    },
    {
      "cell_type": "markdown",
      "metadata": {
        "id": "L674wxxDpcWg"
      },
      "source": [
        "#Importar pacotes"
      ]
    },
    {
      "cell_type": "code",
      "metadata": {
        "id": "fHtSnenypdzJ"
      },
      "source": [
        "from textblob import TextBlob\n",
        "import pandas as pd # biblioteca para processamento dos dados\n",
        "from pandas import json_normalize # realiza a normalização de campos do tipo json no dataframe\n",
        "import numpy as np # biblioteca de algebra linear\n",
        "\n",
        "import urllib.request # biblioteca que trabalha com requisições HTTP\n",
        "import json # biblioteca para processamento de dados do tipo JSON\n"
      ],
      "execution_count": 30,
      "outputs": []
    },
    {
      "cell_type": "markdown",
      "metadata": {
        "id": "GB9RpZ2cq9Iw"
      },
      "source": [
        "#Análise de Sentimentos"
      ]
    },
    {
      "cell_type": "markdown",
      "metadata": {
        "id": "-4jRMuKBq-_I"
      },
      "source": [
        "Exemplo de comentário"
      ]
    },
    {
      "cell_type": "code",
      "metadata": {
        "id": "zEmlgRrMpoUn"
      },
      "source": [
        "def load_data(url, encoding=\"utf-8\"):\n",
        "  dat_file = urllib.request.urlopen(url)\n",
        "\n",
        "  json_format_file = [json.loads(line) for line in dat_file]\n",
        "\n",
        "  df = pd.DataFrame(json_format_file)\n",
        "  \n",
        "  return df"
      ],
      "execution_count": 31,
      "outputs": []
    },
    {
      "cell_type": "code",
      "metadata": {
        "id": "OhKYt3BMgbS5"
      },
      "source": [
        "df = load_data(url=\"http://tiagodemelo.info/datasets/dataset-v2.dat\")"
      ],
      "execution_count": 32,
      "outputs": []
    },
    {
      "cell_type": "code",
      "metadata": {
        "id": "DaukdJRwgvL-"
      },
      "source": [
        "list_blob = []\n",
        "list_blob_us = []"
      ],
      "execution_count": 33,
      "outputs": []
    },
    {
      "cell_type": "markdown",
      "metadata": {
        "id": "SGzzYdRhrBYq"
      },
      "source": [
        "Texto convertido para o formato TextBlob"
      ]
    },
    {
      "cell_type": "code",
      "metadata": {
        "id": "ICj1Nb2Vpyt-"
      },
      "source": [
        "for comment in df['reviewBody'][:4]:\n",
        "\n",
        "  comentario_blob = TextBlob(comment)\n",
        "  comentario_blob_us = comentario_blob.translate(to='us')\n",
        "  list_blob.append(comentario_blob)\n",
        "  list_blob_us.append(comentario_blob_us)"
      ],
      "execution_count": 34,
      "outputs": []
    },
    {
      "cell_type": "code",
      "metadata": {
        "id": "G3uzGbFaqeLD"
      },
      "source": [
        ""
      ],
      "execution_count": null,
      "outputs": []
    },
    {
      "cell_type": "markdown",
      "metadata": {
        "id": "SHii6r-7rO_M"
      },
      "source": [
        "#Cálculo da subjetividade"
      ]
    },
    {
      "cell_type": "markdown",
      "metadata": {
        "id": "zOcwg2oJrTNo"
      },
      "source": [
        "O valor da subjetividade é um número real entre [0.0, 1.0], onde 0.0 o texto é indicado como muito objetivo e 1.0 o texto é indicado como muito subjetivo."
      ]
    },
    {
      "cell_type": "code",
      "metadata": {
        "id": "SX8bHfhWp3SA",
        "colab": {
          "base_uri": "https://localhost:8080/"
        },
        "outputId": "8861bffd-d21c-47a6-bdec-34de5f53b578"
      },
      "source": [
        "for c_blob, c_us in zip(list_blob, list_blob_us):\n",
        "  for sentence_br, sentence in zip(c_blob.sentences, c_us.sentences):\n",
        "    print(sentence_br, ':', sentence.sentiment.subjectivity)"
      ],
      "execution_count": 36,
      "outputs": [
        {
          "output_type": "stream",
          "text": [
            "Comida maravilhosa, lugar do verdadeiro chiclete de camarão. : 0.65\n",
            "O garçom Éric Lima nos atendeu muito bem, pretendemos voltar assim que possível. : 0.65\n",
            "Comida boa, drinks legais e um ambiente bem aconchegante. : 0.8583333333333334\n",
            "Provamos muitas coisas e tudo nos agradou. : 0.75\n",
            "Principalmente um pato servido em um dos pratos da casa, sensacional! : 0.8333333333333333\n",
            "Excelente pra ir com a família! : 1.0\n",
            "Ótima Comida, ambiente agradável, bom atendimento e estacionamento. : 0.7722222222222223\n",
            "Vale a pena conhecer : 0.1\n",
            "Tomo sorvete na Visabor faz mais de 30 anos. : 0.0\n",
            "Sabores de frutas ou artificiais. : 1.0\n",
            "Casquinha crocante e ambiente simples. : 0.35714285714285715\n",
            "Preços muito bons. : 0.7800000000000001\n",
            "Recomendo : 0.0\n"
          ],
          "name": "stdout"
        }
      ]
    },
    {
      "cell_type": "markdown",
      "metadata": {
        "id": "YpHkeYDSr-J-"
      },
      "source": [
        "#Cálculo da polaridade"
      ]
    },
    {
      "cell_type": "markdown",
      "metadata": {
        "id": "6P_dvtOssBBj"
      },
      "source": [
        "O valor da polaridade é um número real entre os valores [-1.0, 1.0]."
      ]
    },
    {
      "cell_type": "code",
      "metadata": {
        "id": "VtsOZWS0sL74",
        "colab": {
          "base_uri": "https://localhost:8080/",
          "height": 121
        },
        "outputId": "e4cb65d9-8c0c-4bf6-fe1a-b63d90e91f8d"
      },
      "source": [
        "for sentence_br, sentence in zip(comentario_blob.sentences, comentario_blob_us.sentences):\n",
        "    print(sentence_br, ':', sentence.sentiment.polarity)"
      ],
      "execution_count": null,
      "outputs": [
        {
          "output_type": "stream",
          "text": [
            "Conheço o restaurante em várias cidades do Brasil. : 0.0\n",
            "O de Manaus não foge muito da qualidade e beleza. : -0.05\n",
            "Atendimento bom, ambiente bonito. : 0.7749999999999999\n",
            "Mas a comida não surpreendeu, aliás até decepcionou. : -0.55\n",
            "Não foi aquele sabor que estamos acostumados quando vamos a este restaurante. : 0.0\n",
            "Pode ter sido um fato isolado, mas. : 0.0\n"
          ],
          "name": "stdout"
        }
      ]
    }
  ]
}
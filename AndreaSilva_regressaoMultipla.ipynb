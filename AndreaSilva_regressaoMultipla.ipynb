{
  "nbformat": 4,
  "nbformat_minor": 0,
  "metadata": {
    "anaconda-cloud": {},
    "kernelspec": {
      "display_name": "Python 3",
      "language": "python",
      "name": "python3"
    },
    "language_info": {
      "codemirror_mode": {
        "name": "ipython",
        "version": 3
      },
      "file_extension": ".py",
      "mimetype": "text/x-python",
      "name": "python",
      "nbconvert_exporter": "python",
      "pygments_lexer": "ipython3",
      "version": "3.7.9"
    },
    "colab": {
      "name": "AndreaSilva_regressaoMultipla.ipynb",
      "provenance": [],
      "include_colab_link": true
    }
  },
  "cells": [
    {
      "cell_type": "markdown",
      "metadata": {
        "id": "view-in-github",
        "colab_type": "text"
      },
      "source": [
        "<a href=\"https://colab.research.google.com/github/DevNicque/pos-datascience/blob/main/AndreaSilva_regressaoMultipla.ipynb\" target=\"_parent\"><img src=\"https://colab.research.google.com/assets/colab-badge.svg\" alt=\"Open In Colab\"/></a>"
      ]
    },
    {
      "cell_type": "markdown",
      "metadata": {
        "id": "QZSnyM4b1IHK"
      },
      "source": [
        "# Regressão Linear Múltipla\n"
      ]
    },
    {
      "cell_type": "markdown",
      "metadata": {
        "id": "K3gCdLgc1IHM"
      },
      "source": [
        "## Objetivo\n",
        "\n",
        "Construir um modelo de Machine Learning que seja capaz de fazer previsões sobre a taxa média de ocupação de casas na região de Boston, EUA, por proprietários. A variável a ser prevista é um valor numérico que representa a mediana da taxa de ocupação das casas em Boston."
      ]
    },
    {
      "cell_type": "markdown",
      "metadata": {
        "id": "gbER9DYW1IHM"
      },
      "source": [
        "## Dataset \n",
        "\n",
        "Boston Housing Dataset, que é um conjunto de dados que tem a taxa média de ocupação das casas, juntamente com outras 13 variáveis que podem estar relacionadas aos preços das casas. Esses são os fatores como condições socioeconômicas, condições ambientais, instalações educacionais e alguns outros fatores semelhantes. Existem 506 observações nos dados para 14 variáveis. Existem 12 variáveis numéricas em nosso conjunto de dados e 1 variável categórica. O objetivo é construir um modelo de regressão linear para estimar a taxa média de ocupação das casas pelos proprietários em Boston."
      ]
    },
    {
      "cell_type": "markdown",
      "metadata": {
        "id": "f1p_DNNu1IHN"
      },
      "source": [
        "## Informações do Dataset\n",
        "\n",
        "Características do Dataset: Multivariado <br>\n",
        "Número de instâncias: 506 <br>\n",
        "Número de atributos: 14 <br>\n",
        "Valores faltando: Não <br>\n",
        "Características dos atributos: categórico, inteiro e real <br>\n",
        "Origem: StatLib library que é mantido pela Universidade de Carnegie Mellon"
      ]
    },
    {
      "cell_type": "markdown",
      "metadata": {
        "id": "Z11vh9Yc1IHN"
      },
      "source": [
        "Dataset: https://archive.ics.uci.edu/ml/machine-learning-databases/housing/"
      ]
    },
    {
      "cell_type": "markdown",
      "metadata": {
        "id": "CQsL83Uc1IHN"
      },
      "source": [
        "1. CRIM: per capita crime rate by town                                        (taxa de criminalidade per capita na cidade )\n",
        "2. ZN: proportion of residential land zoned for lots over 25,000 sq.ft. (proporção de terrenos residenciais zoneados para lotes com mais de 25.000 pés quadrados. )\n",
        "3. INDUS: proportion of non-retail business acres per town (proporção de acres de negócios não varejistas por cidade )\n",
        "4. CHAS: Charles River dummy variable (= 1 if tract bounds river; 0 otherwise) (Variável dummy de Charles River (= 1 se a área limita o rio; 0 caso contrário))\n",
        "5. NOX: nitric oxides concentration (parts per 10 million) (concentração de óxidos nítricos (partes por 10 milhões) )\n",
        "6. RM: average number of rooms per dwelling (número médio de quartos por habitação)\n",
        "7. AGE: proportion of owner-occupied units built prior to 1940 (proporção de unidades ocupadas pelo proprietário construídas antes de 1940 )\n",
        "8. DIS: weighted distances to five Boston employment centres (distâncias ponderadas até cinco centros de empregos de Boston )\n",
        "9. RAD: index of accessibility to radial highways (índice de acessibilidade a rodovias radiais )\n",
        "10. TAX: full-value property-tax rate per 10,000 (valor total da taxa de imposto sobre a propriedade por 10.000 )\n",
        "11. PTRATIO: pupil-teacher ratio by town (proporção aluno-professor por cidade )\n",
        "12. B: 1000(Bk - 0.63)^2 where Bk is the proportion of blacks by town (1000 (Bk - 0,63) ^ 2, onde Bk é a proporção de negros por cidade )\n",
        "13. LSTAT: % lower status of the population (% de status inferior da população )\n",
        "14. TARGET: Median value of owner-occupied homes in 1000 dolarés (Valor médio das casas ocupadas pelo proprietário em US $ 1.000 )"
      ]
    },
    {
      "cell_type": "code",
      "metadata": {
        "id": "Nu8nlGvY1IHO"
      },
      "source": [
        "# Carregando o Dataset Boston Houses\n",
        "from sklearn.datasets import load_boston\n",
        "boston = load_boston() \n",
        "\n",
        "# Carregando Bibliotecas Python\n",
        "import numpy as np\n",
        "import pandas as pd\n",
        "import matplotlib.pyplot as plt\n",
        "import matplotlib as mpl\n",
        "import seaborn as sns\n",
        "import warnings\n",
        "warnings.filterwarnings(\"ignore\")\n",
        "%matplotlib inline "
      ],
      "execution_count": 10,
      "outputs": []
    },
    {
      "cell_type": "markdown",
      "metadata": {
        "id": "JCVyk34u1IHO"
      },
      "source": [
        "## Análise Exploratória"
      ]
    },
    {
      "cell_type": "code",
      "metadata": {
        "id": "oMKIUvzp1IHP"
      },
      "source": [
        "# Convertendo o dataset em um dataframe com Pandas\n",
        "dataset = pd.DataFrame(boston.data, columns = boston.feature_names)\n",
        "dataset['target'] = boston.target"
      ],
      "execution_count": 11,
      "outputs": []
    },
    {
      "cell_type": "code",
      "metadata": {
        "id": "4Hw9sijz1IHP",
        "colab": {
          "base_uri": "https://localhost:8080/",
          "height": 203
        },
        "outputId": "09a92510-1b6c-40c6-f4e4-f05814dc52ea"
      },
      "source": [
        "dataset.head(5)"
      ],
      "execution_count": 12,
      "outputs": [
        {
          "output_type": "execute_result",
          "data": {
            "text/html": [
              "<div>\n",
              "<style scoped>\n",
              "    .dataframe tbody tr th:only-of-type {\n",
              "        vertical-align: middle;\n",
              "    }\n",
              "\n",
              "    .dataframe tbody tr th {\n",
              "        vertical-align: top;\n",
              "    }\n",
              "\n",
              "    .dataframe thead th {\n",
              "        text-align: right;\n",
              "    }\n",
              "</style>\n",
              "<table border=\"1\" class=\"dataframe\">\n",
              "  <thead>\n",
              "    <tr style=\"text-align: right;\">\n",
              "      <th></th>\n",
              "      <th>CRIM</th>\n",
              "      <th>ZN</th>\n",
              "      <th>INDUS</th>\n",
              "      <th>CHAS</th>\n",
              "      <th>NOX</th>\n",
              "      <th>RM</th>\n",
              "      <th>AGE</th>\n",
              "      <th>DIS</th>\n",
              "      <th>RAD</th>\n",
              "      <th>TAX</th>\n",
              "      <th>PTRATIO</th>\n",
              "      <th>B</th>\n",
              "      <th>LSTAT</th>\n",
              "      <th>target</th>\n",
              "    </tr>\n",
              "  </thead>\n",
              "  <tbody>\n",
              "    <tr>\n",
              "      <th>0</th>\n",
              "      <td>0.00632</td>\n",
              "      <td>18.0</td>\n",
              "      <td>2.31</td>\n",
              "      <td>0.0</td>\n",
              "      <td>0.538</td>\n",
              "      <td>6.575</td>\n",
              "      <td>65.2</td>\n",
              "      <td>4.0900</td>\n",
              "      <td>1.0</td>\n",
              "      <td>296.0</td>\n",
              "      <td>15.3</td>\n",
              "      <td>396.90</td>\n",
              "      <td>4.98</td>\n",
              "      <td>24.0</td>\n",
              "    </tr>\n",
              "    <tr>\n",
              "      <th>1</th>\n",
              "      <td>0.02731</td>\n",
              "      <td>0.0</td>\n",
              "      <td>7.07</td>\n",
              "      <td>0.0</td>\n",
              "      <td>0.469</td>\n",
              "      <td>6.421</td>\n",
              "      <td>78.9</td>\n",
              "      <td>4.9671</td>\n",
              "      <td>2.0</td>\n",
              "      <td>242.0</td>\n",
              "      <td>17.8</td>\n",
              "      <td>396.90</td>\n",
              "      <td>9.14</td>\n",
              "      <td>21.6</td>\n",
              "    </tr>\n",
              "    <tr>\n",
              "      <th>2</th>\n",
              "      <td>0.02729</td>\n",
              "      <td>0.0</td>\n",
              "      <td>7.07</td>\n",
              "      <td>0.0</td>\n",
              "      <td>0.469</td>\n",
              "      <td>7.185</td>\n",
              "      <td>61.1</td>\n",
              "      <td>4.9671</td>\n",
              "      <td>2.0</td>\n",
              "      <td>242.0</td>\n",
              "      <td>17.8</td>\n",
              "      <td>392.83</td>\n",
              "      <td>4.03</td>\n",
              "      <td>34.7</td>\n",
              "    </tr>\n",
              "    <tr>\n",
              "      <th>3</th>\n",
              "      <td>0.03237</td>\n",
              "      <td>0.0</td>\n",
              "      <td>2.18</td>\n",
              "      <td>0.0</td>\n",
              "      <td>0.458</td>\n",
              "      <td>6.998</td>\n",
              "      <td>45.8</td>\n",
              "      <td>6.0622</td>\n",
              "      <td>3.0</td>\n",
              "      <td>222.0</td>\n",
              "      <td>18.7</td>\n",
              "      <td>394.63</td>\n",
              "      <td>2.94</td>\n",
              "      <td>33.4</td>\n",
              "    </tr>\n",
              "    <tr>\n",
              "      <th>4</th>\n",
              "      <td>0.06905</td>\n",
              "      <td>0.0</td>\n",
              "      <td>2.18</td>\n",
              "      <td>0.0</td>\n",
              "      <td>0.458</td>\n",
              "      <td>7.147</td>\n",
              "      <td>54.2</td>\n",
              "      <td>6.0622</td>\n",
              "      <td>3.0</td>\n",
              "      <td>222.0</td>\n",
              "      <td>18.7</td>\n",
              "      <td>396.90</td>\n",
              "      <td>5.33</td>\n",
              "      <td>36.2</td>\n",
              "    </tr>\n",
              "  </tbody>\n",
              "</table>\n",
              "</div>"
            ],
            "text/plain": [
              "      CRIM    ZN  INDUS  CHAS    NOX  ...    TAX  PTRATIO       B  LSTAT  target\n",
              "0  0.00632  18.0   2.31   0.0  0.538  ...  296.0     15.3  396.90   4.98    24.0\n",
              "1  0.02731   0.0   7.07   0.0  0.469  ...  242.0     17.8  396.90   9.14    21.6\n",
              "2  0.02729   0.0   7.07   0.0  0.469  ...  242.0     17.8  392.83   4.03    34.7\n",
              "3  0.03237   0.0   2.18   0.0  0.458  ...  222.0     18.7  394.63   2.94    33.4\n",
              "4  0.06905   0.0   2.18   0.0  0.458  ...  222.0     18.7  396.90   5.33    36.2\n",
              "\n",
              "[5 rows x 14 columns]"
            ]
          },
          "metadata": {
            "tags": []
          },
          "execution_count": 12
        }
      ]
    },
    {
      "cell_type": "code",
      "metadata": {
        "id": "lCYmuWi31IHQ"
      },
      "source": [
        "# Calculando a média da variável de resposta\n",
        "valor_medio_esperado_na_previsao = dataset['target'].mean()"
      ],
      "execution_count": 13,
      "outputs": []
    },
    {
      "cell_type": "code",
      "metadata": {
        "id": "gCFq6Ttd1IHQ",
        "colab": {
          "base_uri": "https://localhost:8080/"
        },
        "outputId": "5f54255e-2bc6-4fd9-ca35-290bc4e9493e"
      },
      "source": [
        "valor_medio_esperado_na_previsao"
      ],
      "execution_count": 14,
      "outputs": [
        {
          "output_type": "execute_result",
          "data": {
            "text/plain": [
              "22.532806324110698"
            ]
          },
          "metadata": {
            "tags": []
          },
          "execution_count": 14
        }
      ]
    },
    {
      "cell_type": "code",
      "metadata": {
        "id": "O_zRt_xj1IHQ",
        "colab": {
          "base_uri": "https://localhost:8080/"
        },
        "outputId": "99065fc0-2537-420c-eb18-27ccaf10cc11"
      },
      "source": [
        "# Calculando (simulando) o SSE\n",
        "# O SSE é a diferença ao quadrado entre o valor previsto e o valor observado.\n",
        "# Considerando que o valor previsto seja igual a média, podemos considerar que \n",
        "# y = média da variável target (valores observados).\n",
        "\n",
        "# Estamos apenas simulando o SSE, uma vez que a regressão ainda não foi criada e os valores previstos \n",
        "# ainda não foram calculados.\n",
        "\n",
        "squared_errors = pd.Series(valor_medio_esperado_na_previsao - dataset['target'])**2 \n",
        "SSE = np.sum(squared_errors)\n",
        "print ('Soma dos Quadrados dos Erros (SSE): %01.f' % SSE)"
      ],
      "execution_count": 15,
      "outputs": [
        {
          "output_type": "stream",
          "text": [
            "Soma dos Quadrados dos Erros (SSE): 42716\n"
          ],
          "name": "stdout"
        }
      ]
    },
    {
      "cell_type": "code",
      "metadata": {
        "id": "Mpl162XA1IHR",
        "colab": {
          "base_uri": "https://localhost:8080/",
          "height": 265
        },
        "outputId": "ad13d3a6-9e41-4adc-bc01-b3c375b04d7e"
      },
      "source": [
        "# Histograma dos erros\n",
        "# Temos mais erros \"pequenos\", ou seja, mais valores próximos à média.\n",
        "hist_plot = squared_errors.plot(kind='hist')"
      ],
      "execution_count": 16,
      "outputs": [
        {
          "output_type": "display_data",
          "data": {
            "image/png": "[encoded data removed]",
            "text/plain": [
              "<Figure size 432x288 with 1 Axes>"
            ]
          },
          "metadata": {
            "tags": [],
            "needs_background": "light"
          }
        }
      ]
    },
    {
      "cell_type": "code",
      "metadata": {
        "colab": {
          "base_uri": "https://localhost:8080/",
          "height": 480
        },
        "id": "uNH0ggMu1_Pd",
        "outputId": "916a607b-0f5f-483a-ff2b-f913dcd56be2"
      },
      "source": [
        "dataset.corr()"
      ],
      "execution_count": 17,
      "outputs": [
        {
          "output_type": "execute_result",
          "data": {
            "text/html": [
              "<div>\n",
              "<style scoped>\n",
              "    .dataframe tbody tr th:only-of-type {\n",
              "        vertical-align: middle;\n",
              "    }\n",
              "\n",
              "    .dataframe tbody tr th {\n",
              "        vertical-align: top;\n",
              "    }\n",
              "\n",
              "    .dataframe thead th {\n",
              "        text-align: right;\n",
              "    }\n",
              "</style>\n",
              "<table border=\"1\" class=\"dataframe\">\n",
              "  <thead>\n",
              "    <tr style=\"text-align: right;\">\n",
              "      <th></th>\n",
              "      <th>CRIM</th>\n",
              "      <th>ZN</th>\n",
              "      <th>INDUS</th>\n",
              "      <th>CHAS</th>\n",
              "      <th>NOX</th>\n",
              "      <th>RM</th>\n",
              "      <th>AGE</th>\n",
              "      <th>DIS</th>\n",
              "      <th>RAD</th>\n",
              "      <th>TAX</th>\n",
              "      <th>PTRATIO</th>\n",
              "      <th>B</th>\n",
              "      <th>LSTAT</th>\n",
              "      <th>target</th>\n",
              "    </tr>\n",
              "  </thead>\n",
              "  <tbody>\n",
              "    <tr>\n",
              "      <th>CRIM</th>\n",
              "      <td>1.000000</td>\n",
              "      <td>-0.200469</td>\n",
              "      <td>0.406583</td>\n",
              "      <td>-0.055892</td>\n",
              "      <td>0.420972</td>\n",
              "      <td>-0.219247</td>\n",
              "      <td>0.352734</td>\n",
              "      <td>-0.379670</td>\n",
              "      <td>0.625505</td>\n",
              "      <td>0.582764</td>\n",
              "      <td>0.289946</td>\n",
              "      <td>-0.385064</td>\n",
              "      <td>0.455621</td>\n",
              "      <td>-0.388305</td>\n",
              "    </tr>\n",
              "    <tr>\n",
              "      <th>ZN</th>\n",
              "      <td>-0.200469</td>\n",
              "      <td>1.000000</td>\n",
              "      <td>-0.533828</td>\n",
              "      <td>-0.042697</td>\n",
              "      <td>-0.516604</td>\n",
              "      <td>0.311991</td>\n",
              "      <td>-0.569537</td>\n",
              "      <td>0.664408</td>\n",
              "      <td>-0.311948</td>\n",
              "      <td>-0.314563</td>\n",
              "      <td>-0.391679</td>\n",
              "      <td>0.175520</td>\n",
              "      <td>-0.412995</td>\n",
              "      <td>0.360445</td>\n",
              "    </tr>\n",
              "    <tr>\n",
              "      <th>INDUS</th>\n",
              "      <td>0.406583</td>\n",
              "      <td>-0.533828</td>\n",
              "      <td>1.000000</td>\n",
              "      <td>0.062938</td>\n",
              "      <td>0.763651</td>\n",
              "      <td>-0.391676</td>\n",
              "      <td>0.644779</td>\n",
              "      <td>-0.708027</td>\n",
              "      <td>0.595129</td>\n",
              "      <td>0.720760</td>\n",
              "      <td>0.383248</td>\n",
              "      <td>-0.356977</td>\n",
              "      <td>0.603800</td>\n",
              "      <td>-0.483725</td>\n",
              "    </tr>\n",
              "    <tr>\n",
              "      <th>CHAS</th>\n",
              "      <td>-0.055892</td>\n",
              "      <td>-0.042697</td>\n",
              "      <td>0.062938</td>\n",
              "      <td>1.000000</td>\n",
              "      <td>0.091203</td>\n",
              "      <td>0.091251</td>\n",
              "      <td>0.086518</td>\n",
              "      <td>-0.099176</td>\n",
              "      <td>-0.007368</td>\n",
              "      <td>-0.035587</td>\n",
              "      <td>-0.121515</td>\n",
              "      <td>0.048788</td>\n",
              "      <td>-0.053929</td>\n",
              "      <td>0.175260</td>\n",
              "    </tr>\n",
              "    <tr>\n",
              "      <th>NOX</th>\n",
              "      <td>0.420972</td>\n",
              "      <td>-0.516604</td>\n",
              "      <td>0.763651</td>\n",
              "      <td>0.091203</td>\n",
              "      <td>1.000000</td>\n",
              "      <td>-0.302188</td>\n",
              "      <td>0.731470</td>\n",
              "      <td>-0.769230</td>\n",
              "      <td>0.611441</td>\n",
              "      <td>0.668023</td>\n",
              "      <td>0.188933</td>\n",
              "      <td>-0.380051</td>\n",
              "      <td>0.590879</td>\n",
              "      <td>-0.427321</td>\n",
              "    </tr>\n",
              "    <tr>\n",
              "      <th>RM</th>\n",
              "      <td>-0.219247</td>\n",
              "      <td>0.311991</td>\n",
              "      <td>-0.391676</td>\n",
              "      <td>0.091251</td>\n",
              "      <td>-0.302188</td>\n",
              "      <td>1.000000</td>\n",
              "      <td>-0.240265</td>\n",
              "      <td>0.205246</td>\n",
              "      <td>-0.209847</td>\n",
              "      <td>-0.292048</td>\n",
              "      <td>-0.355501</td>\n",
              "      <td>0.128069</td>\n",
              "      <td>-0.613808</td>\n",
              "      <td>0.695360</td>\n",
              "    </tr>\n",
              "    <tr>\n",
              "      <th>AGE</th>\n",
              "      <td>0.352734</td>\n",
              "      <td>-0.569537</td>\n",
              "      <td>0.644779</td>\n",
              "      <td>0.086518</td>\n",
              "      <td>0.731470</td>\n",
              "      <td>-0.240265</td>\n",
              "      <td>1.000000</td>\n",
              "      <td>-0.747881</td>\n",
              "      <td>0.456022</td>\n",
              "      <td>0.506456</td>\n",
              "      <td>0.261515</td>\n",
              "      <td>-0.273534</td>\n",
              "      <td>0.602339</td>\n",
              "      <td>-0.376955</td>\n",
              "    </tr>\n",
              "    <tr>\n",
              "      <th>DIS</th>\n",
              "      <td>-0.379670</td>\n",
              "      <td>0.664408</td>\n",
              "      <td>-0.708027</td>\n",
              "      <td>-0.099176</td>\n",
              "      <td>-0.769230</td>\n",
              "      <td>0.205246</td>\n",
              "      <td>-0.747881</td>\n",
              "      <td>1.000000</td>\n",
              "      <td>-0.494588</td>\n",
              "      <td>-0.534432</td>\n",
              "      <td>-0.232471</td>\n",
              "      <td>0.291512</td>\n",
              "      <td>-0.496996</td>\n",
              "      <td>0.249929</td>\n",
              "    </tr>\n",
              "    <tr>\n",
              "      <th>RAD</th>\n",
              "      <td>0.625505</td>\n",
              "      <td>-0.311948</td>\n",
              "      <td>0.595129</td>\n",
              "      <td>-0.007368</td>\n",
              "      <td>0.611441</td>\n",
              "      <td>-0.209847</td>\n",
              "      <td>0.456022</td>\n",
              "      <td>-0.494588</td>\n",
              "      <td>1.000000</td>\n",
              "      <td>0.910228</td>\n",
              "      <td>0.464741</td>\n",
              "      <td>-0.444413</td>\n",
              "      <td>0.488676</td>\n",
              "      <td>-0.381626</td>\n",
              "    </tr>\n",
              "    <tr>\n",
              "      <th>TAX</th>\n",
              "      <td>0.582764</td>\n",
              "      <td>-0.314563</td>\n",
              "      <td>0.720760</td>\n",
              "      <td>-0.035587</td>\n",
              "      <td>0.668023</td>\n",
              "      <td>-0.292048</td>\n",
              "      <td>0.506456</td>\n",
              "      <td>-0.534432</td>\n",
              "      <td>0.910228</td>\n",
              "      <td>1.000000</td>\n",
              "      <td>0.460853</td>\n",
              "      <td>-0.441808</td>\n",
              "      <td>0.543993</td>\n",
              "      <td>-0.468536</td>\n",
              "    </tr>\n",
              "    <tr>\n",
              "      <th>PTRATIO</th>\n",
              "      <td>0.289946</td>\n",
              "      <td>-0.391679</td>\n",
              "      <td>0.383248</td>\n",
              "      <td>-0.121515</td>\n",
              "      <td>0.188933</td>\n",
              "      <td>-0.355501</td>\n",
              "      <td>0.261515</td>\n",
              "      <td>-0.232471</td>\n",
              "      <td>0.464741</td>\n",
              "      <td>0.460853</td>\n",
              "      <td>1.000000</td>\n",
              "      <td>-0.177383</td>\n",
              "      <td>0.374044</td>\n",
              "      <td>-0.507787</td>\n",
              "    </tr>\n",
              "    <tr>\n",
              "      <th>B</th>\n",
              "      <td>-0.385064</td>\n",
              "      <td>0.175520</td>\n",
              "      <td>-0.356977</td>\n",
              "      <td>0.048788</td>\n",
              "      <td>-0.380051</td>\n",
              "      <td>0.128069</td>\n",
              "      <td>-0.273534</td>\n",
              "      <td>0.291512</td>\n",
              "      <td>-0.444413</td>\n",
              "      <td>-0.441808</td>\n",
              "      <td>-0.177383</td>\n",
              "      <td>1.000000</td>\n",
              "      <td>-0.366087</td>\n",
              "      <td>0.333461</td>\n",
              "    </tr>\n",
              "    <tr>\n",
              "      <th>LSTAT</th>\n",
              "      <td>0.455621</td>\n",
              "      <td>-0.412995</td>\n",
              "      <td>0.603800</td>\n",
              "      <td>-0.053929</td>\n",
              "      <td>0.590879</td>\n",
              "      <td>-0.613808</td>\n",
              "      <td>0.602339</td>\n",
              "      <td>-0.496996</td>\n",
              "      <td>0.488676</td>\n",
              "      <td>0.543993</td>\n",
              "      <td>0.374044</td>\n",
              "      <td>-0.366087</td>\n",
              "      <td>1.000000</td>\n",
              "      <td>-0.737663</td>\n",
              "    </tr>\n",
              "    <tr>\n",
              "      <th>target</th>\n",
              "      <td>-0.388305</td>\n",
              "      <td>0.360445</td>\n",
              "      <td>-0.483725</td>\n",
              "      <td>0.175260</td>\n",
              "      <td>-0.427321</td>\n",
              "      <td>0.695360</td>\n",
              "      <td>-0.376955</td>\n",
              "      <td>0.249929</td>\n",
              "      <td>-0.381626</td>\n",
              "      <td>-0.468536</td>\n",
              "      <td>-0.507787</td>\n",
              "      <td>0.333461</td>\n",
              "      <td>-0.737663</td>\n",
              "      <td>1.000000</td>\n",
              "    </tr>\n",
              "  </tbody>\n",
              "</table>\n",
              "</div>"
            ],
            "text/plain": [
              "             CRIM        ZN     INDUS  ...         B     LSTAT    target\n",
              "CRIM     1.000000 -0.200469  0.406583  ... -0.385064  0.455621 -0.388305\n",
              "ZN      -0.200469  1.000000 -0.533828  ...  0.175520 -0.412995  0.360445\n",
              "INDUS    0.406583 -0.533828  1.000000  ... -0.356977  0.603800 -0.483725\n",
              "CHAS    -0.055892 -0.042697  0.062938  ...  0.048788 -0.053929  0.175260\n",
              "NOX      0.420972 -0.516604  0.763651  ... -0.380051  0.590879 -0.427321\n",
              "RM      -0.219247  0.311991 -0.391676  ...  0.128069 -0.613808  0.695360\n",
              "AGE      0.352734 -0.569537  0.644779  ... -0.273534  0.602339 -0.376955\n",
              "DIS     -0.379670  0.664408 -0.708027  ...  0.291512 -0.496996  0.249929\n",
              "RAD      0.625505 -0.311948  0.595129  ... -0.444413  0.488676 -0.381626\n",
              "TAX      0.582764 -0.314563  0.720760  ... -0.441808  0.543993 -0.468536\n",
              "PTRATIO  0.289946 -0.391679  0.383248  ... -0.177383  0.374044 -0.507787\n",
              "B       -0.385064  0.175520 -0.356977  ...  1.000000 -0.366087  0.333461\n",
              "LSTAT    0.455621 -0.412995  0.603800  ... -0.366087  1.000000 -0.737663\n",
              "target  -0.388305  0.360445 -0.483725  ...  0.333461 -0.737663  1.000000\n",
              "\n",
              "[14 rows x 14 columns]"
            ]
          },
          "metadata": {
            "tags": []
          },
          "execution_count": 17
        }
      ]
    },
    {
      "cell_type": "code",
      "metadata": {
        "colab": {
          "base_uri": "https://localhost:8080/",
          "height": 318
        },
        "id": "twlwbG052Gs2",
        "outputId": "e352477c-6cd7-4e46-f909-46b6fcdc8743"
      },
      "source": [
        "sns.heatmap(dataset.corr())"
      ],
      "execution_count": 18,
      "outputs": [
        {
          "output_type": "execute_result",
          "data": {
            "text/plain": [
              "<matplotlib.axes._subplots.AxesSubplot at 0x7f60b60a6850>"
            ]
          },
          "metadata": {
            "tags": []
          },
          "execution_count": 18
        },
        {
          "output_type": "display_data",
          "data": {
            "image/png": "[encoded data removed]",
            "text/plain": [
              "<Figure size 432x288 with 2 Axes>"
            ]
          },
          "metadata": {
            "tags": [],
            "needs_background": "light"
          }
        }
      ]
    },
    {
      "cell_type": "markdown",
      "metadata": {
        "id": "rQTmbn181IHR"
      },
      "source": [
        "Para Regressão Linear Múltipla usaremos como variáveis preditoras as que possuem maior correlação com a variável target como pode ser acompanhado no gráfico de correlação acima.\n",
        "\n",
        "- RM  : representa o número médio de quartos\n",
        "- ZN  : representa a proporção de terrenos residenciais zoneados para lotes com mais de 25.000 pés quadrados\n",
        "- B   : representa a proporção de negros por cidade\n",
        "- DIS : representa distâncias ponderadas até cinco centros de empregos de Boston \n"
      ]
    },
    {
      "cell_type": "code",
      "metadata": {
        "id": "0Hbp0TOe1IHS",
        "colab": {
          "base_uri": "https://localhost:8080/"
        },
        "outputId": "5863789c-a834-41a3-9b1c-d15c69edf0c4"
      },
      "source": [
        "from scipy.stats.stats import pearsonr\n",
        "\n",
        "print ('RM  - Correlação a partir da função pearsonr do SciPy: %0.5f' % pearsonr(dataset['RM'], dataset['target'])[0])\n",
        "print ('ZN  - Correlação a partir da função pearsonr do SciPy: %0.5f' % pearsonr(dataset['ZN'], dataset['target'])[0])\n",
        "print ('B   - Correlação a partir da função pearsonr do SciPy: %0.5f' % pearsonr(dataset['B'], dataset['target'])[0])\n",
        "print ('DIS - Correlação a partir da função pearsonr do SciPy: %0.5f' % pearsonr(dataset['DIS'], dataset['target'])[0])"
      ],
      "execution_count": 31,
      "outputs": [
        {
          "output_type": "stream",
          "text": [
            "RM  - Correlação a partir da função pearsonr do SciPy: 0.69536\n",
            "ZN  - Correlação a partir da função pearsonr do SciPy: 0.36045\n",
            "B   - Correlação a partir da função pearsonr do SciPy: 0.33346\n",
            "DIS - Correlação a partir da função pearsonr do SciPy: 0.24993\n"
          ],
          "name": "stdout"
        }
      ]
    },
    {
      "cell_type": "code",
      "metadata": {
        "id": "ltLqIXA61IHR"
      },
      "source": [
        "# Função para calcular o desvio padrão\n",
        "def calc_desvio_padrao(variable, bias = 0):\n",
        "    observations = float(len(variable))\n",
        "    return np.sqrt(np.sum((variable - np.mean(variable))**2) / (observations - min(bias, 1)))"
      ],
      "execution_count": 26,
      "outputs": []
    },
    {
      "cell_type": "code",
      "metadata": {
        "id": "QYbK7dz81IHS",
        "colab": {
          "base_uri": "https://localhost:8080/"
        },
        "outputId": "c83d396f-65d7-40fd-9faf-4e9ea7452974"
      },
      "source": [
        "# Imprimindo o desvio padrão via fórmula e via NumPy das variáveis\n",
        "print ('DesvioPadrão RM  - Resultado da Função: %0.5f Resultado do Numpy: %0.5f' % (calc_desvio_padrao(dataset['RM']), np.std(dataset['RM'])))\n",
        "print ('DesvioPadrão ZN  - Resultado da Função: %0.5f Resultado do Numpy: %0.5f' % (calc_desvio_padrao(dataset['ZN']), np.std(dataset['ZN'])))\n",
        "print ('DesvioPadrão B   - Resultado da Função: %0.5f Resultado do Numpy: %0.5f' % (calc_desvio_padrao(dataset['B']), np.std(dataset['B'])))\n",
        "print ('DesvioPadrão DIS - Resultado da Função: %0.5f Resultado do Numpy: %0.5f' % (calc_desvio_padrao(dataset['DIS']), np.std(dataset['DIS'])))"
      ],
      "execution_count": 29,
      "outputs": [
        {
          "output_type": "stream",
          "text": [
            "DesvioPadrão RM  - Resultado da Função: 0.70192 Resultado do Numpy: 0.70192\n",
            "DesvioPadrão ZN  - Resultado da Função: 23.29940 Resultado do Numpy: 23.29940\n",
            "DesvioPadrão B   - Resultado da Função: 91.20461 Resultado do Numpy: 91.20461\n",
            "DesvioPadrão DIS - Resultado da Função: 2.10363 Resultado do Numpy: 2.10363\n"
          ],
          "name": "stdout"
        }
      ]
    },
    {
      "cell_type": "markdown",
      "metadata": {
        "id": "0lJL51Tw1IHT"
      },
      "source": [
        "## Regressão Linear com Scikit-Learn"
      ]
    },
    {
      "cell_type": "markdown",
      "metadata": {
        "id": "CykDTTaz1IHT"
      },
      "source": [
        "https://scikit-learn.org/stable/modules/generated/sklearn.linear_model.LinearRegression.html"
      ]
    },
    {
      "cell_type": "code",
      "metadata": {
        "id": "EeTchnth1IHU"
      },
      "source": [
        "from sklearn.linear_model import LinearRegression"
      ],
      "execution_count": 32,
      "outputs": []
    },
    {
      "cell_type": "code",
      "metadata": {
        "id": "1brHyQJb1IHU"
      },
      "source": [
        "# Cria o objeto\n",
        "modelo = linear_model.LinearRegression(normalize = False, fit_intercept = True)"
      ],
      "execution_count": null,
      "outputs": []
    },
    {
      "cell_type": "code",
      "metadata": {
        "id": "yaqWBPsD1IHU"
      },
      "source": [
        "# Define os valores de x e y\n",
        "num_observ = len(dataset)\n",
        "X = dataset['RM'].values.reshape((num_observ, 1)) # X deve sempre ser uma matriz e nunca um vetor\n",
        "y = dataset['target'].values # y pode ser um vetor"
      ],
      "execution_count": null,
      "outputs": []
    },
    {
      "cell_type": "code",
      "metadata": {
        "id": "R8rICBxL1IHU",
        "outputId": "7496c653-8cbb-493d-b3c9-e552371eca11"
      },
      "source": [
        "type(X)"
      ],
      "execution_count": null,
      "outputs": [
        {
          "output_type": "execute_result",
          "data": {
            "text/plain": [
              "numpy.ndarray"
            ]
          },
          "metadata": {
            "tags": []
          },
          "execution_count": 17
        }
      ]
    },
    {
      "cell_type": "code",
      "metadata": {
        "id": "7RavyBp81IHU",
        "outputId": "9d255448-82fc-4f5a-edf9-4798a3e1a59c"
      },
      "source": [
        "# Número de dimensões de X (matriz)\n",
        "np.ndim(X)"
      ],
      "execution_count": null,
      "outputs": [
        {
          "output_type": "execute_result",
          "data": {
            "text/plain": [
              "2"
            ]
          },
          "metadata": {
            "tags": []
          },
          "execution_count": 18
        }
      ]
    },
    {
      "cell_type": "code",
      "metadata": {
        "id": "n0wlAJ-r1IHV",
        "outputId": "9e54ed98-db75-4ff3-b27b-480e3a8356dc"
      },
      "source": [
        "print(X)"
      ],
      "execution_count": null,
      "outputs": [
        {
          "output_type": "stream",
          "text": [
            "[[6.575]\n",
            " [6.421]\n",
            " [7.185]\n",
            " [6.998]\n",
            " [7.147]\n",
            " [6.43 ]\n",
            " [6.012]\n",
            " [6.172]\n",
            " [5.631]\n",
            " [6.004]\n",
            " [6.377]\n",
            " [6.009]\n",
            " [5.889]\n",
            " [5.949]\n",
            " [6.096]\n",
            " [5.834]\n",
            " [5.935]\n",
            " [5.99 ]\n",
            " [5.456]\n",
            " [5.727]\n",
            " [5.57 ]\n",
            " [5.965]\n",
            " [6.142]\n",
            " [5.813]\n",
            " [5.924]\n",
            " [5.599]\n",
            " [5.813]\n",
            " [6.047]\n",
            " [6.495]\n",
            " [6.674]\n",
            " [5.713]\n",
            " [6.072]\n",
            " [5.95 ]\n",
            " [5.701]\n",
            " [6.096]\n",
            " [5.933]\n",
            " [5.841]\n",
            " [5.85 ]\n",
            " [5.966]\n",
            " [6.595]\n",
            " [7.024]\n",
            " [6.77 ]\n",
            " [6.169]\n",
            " [6.211]\n",
            " [6.069]\n",
            " [5.682]\n",
            " [5.786]\n",
            " [6.03 ]\n",
            " [5.399]\n",
            " [5.602]\n",
            " [5.963]\n",
            " [6.115]\n",
            " [6.511]\n",
            " [5.998]\n",
            " [5.888]\n",
            " [7.249]\n",
            " [6.383]\n",
            " [6.816]\n",
            " [6.145]\n",
            " [5.927]\n",
            " [5.741]\n",
            " [5.966]\n",
            " [6.456]\n",
            " [6.762]\n",
            " [7.104]\n",
            " [6.29 ]\n",
            " [5.787]\n",
            " [5.878]\n",
            " [5.594]\n",
            " [5.885]\n",
            " [6.417]\n",
            " [5.961]\n",
            " [6.065]\n",
            " [6.245]\n",
            " [6.273]\n",
            " [6.286]\n",
            " [6.279]\n",
            " [6.14 ]\n",
            " [6.232]\n",
            " [5.874]\n",
            " [6.727]\n",
            " [6.619]\n",
            " [6.302]\n",
            " [6.167]\n",
            " [6.389]\n",
            " [6.63 ]\n",
            " [6.015]\n",
            " [6.121]\n",
            " [7.007]\n",
            " [7.079]\n",
            " [6.417]\n",
            " [6.405]\n",
            " [6.442]\n",
            " [6.211]\n",
            " [6.249]\n",
            " [6.625]\n",
            " [6.163]\n",
            " [8.069]\n",
            " [7.82 ]\n",
            " [7.416]\n",
            " [6.727]\n",
            " [6.781]\n",
            " [6.405]\n",
            " [6.137]\n",
            " [6.167]\n",
            " [5.851]\n",
            " [5.836]\n",
            " [6.127]\n",
            " [6.474]\n",
            " [6.229]\n",
            " [6.195]\n",
            " [6.715]\n",
            " [5.913]\n",
            " [6.092]\n",
            " [6.254]\n",
            " [5.928]\n",
            " [6.176]\n",
            " [6.021]\n",
            " [5.872]\n",
            " [5.731]\n",
            " [5.87 ]\n",
            " [6.004]\n",
            " [5.961]\n",
            " [5.856]\n",
            " [5.879]\n",
            " [5.986]\n",
            " [5.613]\n",
            " [5.693]\n",
            " [6.431]\n",
            " [5.637]\n",
            " [6.458]\n",
            " [6.326]\n",
            " [6.372]\n",
            " [5.822]\n",
            " [5.757]\n",
            " [6.335]\n",
            " [5.942]\n",
            " [6.454]\n",
            " [5.857]\n",
            " [6.151]\n",
            " [6.174]\n",
            " [5.019]\n",
            " [5.403]\n",
            " [5.468]\n",
            " [4.903]\n",
            " [6.13 ]\n",
            " [5.628]\n",
            " [4.926]\n",
            " [5.186]\n",
            " [5.597]\n",
            " [6.122]\n",
            " [5.404]\n",
            " [5.012]\n",
            " [5.709]\n",
            " [6.129]\n",
            " [6.152]\n",
            " [5.272]\n",
            " [6.943]\n",
            " [6.066]\n",
            " [6.51 ]\n",
            " [6.25 ]\n",
            " [7.489]\n",
            " [7.802]\n",
            " [8.375]\n",
            " [5.854]\n",
            " [6.101]\n",
            " [7.929]\n",
            " [5.877]\n",
            " [6.319]\n",
            " [6.402]\n",
            " [5.875]\n",
            " [5.88 ]\n",
            " [5.572]\n",
            " [6.416]\n",
            " [5.859]\n",
            " [6.546]\n",
            " [6.02 ]\n",
            " [6.315]\n",
            " [6.86 ]\n",
            " [6.98 ]\n",
            " [7.765]\n",
            " [6.144]\n",
            " [7.155]\n",
            " [6.563]\n",
            " [5.604]\n",
            " [6.153]\n",
            " [7.831]\n",
            " [6.782]\n",
            " [6.556]\n",
            " [7.185]\n",
            " [6.951]\n",
            " [6.739]\n",
            " [7.178]\n",
            " [6.8  ]\n",
            " [6.604]\n",
            " [7.875]\n",
            " [7.287]\n",
            " [7.107]\n",
            " [7.274]\n",
            " [6.975]\n",
            " [7.135]\n",
            " [6.162]\n",
            " [7.61 ]\n",
            " [7.853]\n",
            " [8.034]\n",
            " [5.891]\n",
            " [6.326]\n",
            " [5.783]\n",
            " [6.064]\n",
            " [5.344]\n",
            " [5.96 ]\n",
            " [5.404]\n",
            " [5.807]\n",
            " [6.375]\n",
            " [5.412]\n",
            " [6.182]\n",
            " [5.888]\n",
            " [6.642]\n",
            " [5.951]\n",
            " [6.373]\n",
            " [6.951]\n",
            " [6.164]\n",
            " [6.879]\n",
            " [6.618]\n",
            " [8.266]\n",
            " [8.725]\n",
            " [8.04 ]\n",
            " [7.163]\n",
            " [7.686]\n",
            " [6.552]\n",
            " [5.981]\n",
            " [7.412]\n",
            " [8.337]\n",
            " [8.247]\n",
            " [6.726]\n",
            " [6.086]\n",
            " [6.631]\n",
            " [7.358]\n",
            " [6.481]\n",
            " [6.606]\n",
            " [6.897]\n",
            " [6.095]\n",
            " [6.358]\n",
            " [6.393]\n",
            " [5.593]\n",
            " [5.605]\n",
            " [6.108]\n",
            " [6.226]\n",
            " [6.433]\n",
            " [6.718]\n",
            " [6.487]\n",
            " [6.438]\n",
            " [6.957]\n",
            " [8.259]\n",
            " [6.108]\n",
            " [5.876]\n",
            " [7.454]\n",
            " [8.704]\n",
            " [7.333]\n",
            " [6.842]\n",
            " [7.203]\n",
            " [7.52 ]\n",
            " [8.398]\n",
            " [7.327]\n",
            " [7.206]\n",
            " [5.56 ]\n",
            " [7.014]\n",
            " [8.297]\n",
            " [7.47 ]\n",
            " [5.92 ]\n",
            " [5.856]\n",
            " [6.24 ]\n",
            " [6.538]\n",
            " [7.691]\n",
            " [6.758]\n",
            " [6.854]\n",
            " [7.267]\n",
            " [6.826]\n",
            " [6.482]\n",
            " [6.812]\n",
            " [7.82 ]\n",
            " [6.968]\n",
            " [7.645]\n",
            " [7.923]\n",
            " [7.088]\n",
            " [6.453]\n",
            " [6.23 ]\n",
            " [6.209]\n",
            " [6.315]\n",
            " [6.565]\n",
            " [6.861]\n",
            " [7.148]\n",
            " [6.63 ]\n",
            " [6.127]\n",
            " [6.009]\n",
            " [6.678]\n",
            " [6.549]\n",
            " [5.79 ]\n",
            " [6.345]\n",
            " [7.041]\n",
            " [6.871]\n",
            " [6.59 ]\n",
            " [6.495]\n",
            " [6.982]\n",
            " [7.236]\n",
            " [6.616]\n",
            " [7.42 ]\n",
            " [6.849]\n",
            " [6.635]\n",
            " [5.972]\n",
            " [4.973]\n",
            " [6.122]\n",
            " [6.023]\n",
            " [6.266]\n",
            " [6.567]\n",
            " [5.705]\n",
            " [5.914]\n",
            " [5.782]\n",
            " [6.382]\n",
            " [6.113]\n",
            " [6.426]\n",
            " [6.376]\n",
            " [6.041]\n",
            " [5.708]\n",
            " [6.415]\n",
            " [6.431]\n",
            " [6.312]\n",
            " [6.083]\n",
            " [5.868]\n",
            " [6.333]\n",
            " [6.144]\n",
            " [5.706]\n",
            " [6.031]\n",
            " [6.316]\n",
            " [6.31 ]\n",
            " [6.037]\n",
            " [5.869]\n",
            " [5.895]\n",
            " [6.059]\n",
            " [5.985]\n",
            " [5.968]\n",
            " [7.241]\n",
            " [6.54 ]\n",
            " [6.696]\n",
            " [6.874]\n",
            " [6.014]\n",
            " [5.898]\n",
            " [6.516]\n",
            " [6.635]\n",
            " [6.939]\n",
            " [6.49 ]\n",
            " [6.579]\n",
            " [5.884]\n",
            " [6.728]\n",
            " [5.663]\n",
            " [5.936]\n",
            " [6.212]\n",
            " [6.395]\n",
            " [6.127]\n",
            " [6.112]\n",
            " [6.398]\n",
            " [6.251]\n",
            " [5.362]\n",
            " [5.803]\n",
            " [8.78 ]\n",
            " [3.561]\n",
            " [4.963]\n",
            " [3.863]\n",
            " [4.97 ]\n",
            " [6.683]\n",
            " [7.016]\n",
            " [6.216]\n",
            " [5.875]\n",
            " [4.906]\n",
            " [4.138]\n",
            " [7.313]\n",
            " [6.649]\n",
            " [6.794]\n",
            " [6.38 ]\n",
            " [6.223]\n",
            " [6.968]\n",
            " [6.545]\n",
            " [5.536]\n",
            " [5.52 ]\n",
            " [4.368]\n",
            " [5.277]\n",
            " [4.652]\n",
            " [5.   ]\n",
            " [4.88 ]\n",
            " [5.39 ]\n",
            " [5.713]\n",
            " [6.051]\n",
            " [5.036]\n",
            " [6.193]\n",
            " [5.887]\n",
            " [6.471]\n",
            " [6.405]\n",
            " [5.747]\n",
            " [5.453]\n",
            " [5.852]\n",
            " [5.987]\n",
            " [6.343]\n",
            " [6.404]\n",
            " [5.349]\n",
            " [5.531]\n",
            " [5.683]\n",
            " [4.138]\n",
            " [5.608]\n",
            " [5.617]\n",
            " [6.852]\n",
            " [5.757]\n",
            " [6.657]\n",
            " [4.628]\n",
            " [5.155]\n",
            " [4.519]\n",
            " [6.434]\n",
            " [6.782]\n",
            " [5.304]\n",
            " [5.957]\n",
            " [6.824]\n",
            " [6.411]\n",
            " [6.006]\n",
            " [5.648]\n",
            " [6.103]\n",
            " [5.565]\n",
            " [5.896]\n",
            " [5.837]\n",
            " [6.202]\n",
            " [6.193]\n",
            " [6.38 ]\n",
            " [6.348]\n",
            " [6.833]\n",
            " [6.425]\n",
            " [6.436]\n",
            " [6.208]\n",
            " [6.629]\n",
            " [6.461]\n",
            " [6.152]\n",
            " [5.935]\n",
            " [5.627]\n",
            " [5.818]\n",
            " [6.406]\n",
            " [6.219]\n",
            " [6.485]\n",
            " [5.854]\n",
            " [6.459]\n",
            " [6.341]\n",
            " [6.251]\n",
            " [6.185]\n",
            " [6.417]\n",
            " [6.749]\n",
            " [6.655]\n",
            " [6.297]\n",
            " [7.393]\n",
            " [6.728]\n",
            " [6.525]\n",
            " [5.976]\n",
            " [5.936]\n",
            " [6.301]\n",
            " [6.081]\n",
            " [6.701]\n",
            " [6.376]\n",
            " [6.317]\n",
            " [6.513]\n",
            " [6.209]\n",
            " [5.759]\n",
            " [5.952]\n",
            " [6.003]\n",
            " [5.926]\n",
            " [5.713]\n",
            " [6.167]\n",
            " [6.229]\n",
            " [6.437]\n",
            " [6.98 ]\n",
            " [5.427]\n",
            " [6.162]\n",
            " [6.484]\n",
            " [5.304]\n",
            " [6.185]\n",
            " [6.229]\n",
            " [6.242]\n",
            " [6.75 ]\n",
            " [7.061]\n",
            " [5.762]\n",
            " [5.871]\n",
            " [6.312]\n",
            " [6.114]\n",
            " [5.905]\n",
            " [5.454]\n",
            " [5.414]\n",
            " [5.093]\n",
            " [5.983]\n",
            " [5.983]\n",
            " [5.707]\n",
            " [5.926]\n",
            " [5.67 ]\n",
            " [5.39 ]\n",
            " [5.794]\n",
            " [6.019]\n",
            " [5.569]\n",
            " [6.027]\n",
            " [6.593]\n",
            " [6.12 ]\n",
            " [6.976]\n",
            " [6.794]\n",
            " [6.03 ]]\n"
          ],
          "name": "stdout"
        }
      ]
    },
    {
      "cell_type": "code",
      "metadata": {
        "id": "uU0hOx2B1IHV",
        "outputId": "7a896549-6d96-4345-e0d2-6653c6e36812"
      },
      "source": [
        "type(y)"
      ],
      "execution_count": null,
      "outputs": [
        {
          "output_type": "execute_result",
          "data": {
            "text/plain": [
              "numpy.ndarray"
            ]
          },
          "metadata": {
            "tags": []
          },
          "execution_count": 20
        }
      ]
    },
    {
      "cell_type": "code",
      "metadata": {
        "id": "iGTVzMNH1IHV",
        "outputId": "d82a7796-b2dd-41ca-e7ba-08d8de2395ed"
      },
      "source": [
        "# Número de dimensões de y (vetor)\n",
        "np.ndim(y)"
      ],
      "execution_count": null,
      "outputs": [
        {
          "output_type": "execute_result",
          "data": {
            "text/plain": [
              "1"
            ]
          },
          "metadata": {
            "tags": []
          },
          "execution_count": 21
        }
      ]
    },
    {
      "cell_type": "code",
      "metadata": {
        "id": "83J89NbJ1IHV",
        "outputId": "f82f9727-774d-408c-e4c3-2f38b54e733d"
      },
      "source": [
        "print(y)"
      ],
      "execution_count": null,
      "outputs": [
        {
          "output_type": "stream",
          "text": [
            "[24.  21.6 34.7 33.4 36.2 28.7 22.9 27.1 16.5 18.9 15.  18.9 21.7 20.4\n",
            " 18.2 19.9 23.1 17.5 20.2 18.2 13.6 19.6 15.2 14.5 15.6 13.9 16.6 14.8\n",
            " 18.4 21.  12.7 14.5 13.2 13.1 13.5 18.9 20.  21.  24.7 30.8 34.9 26.6\n",
            " 25.3 24.7 21.2 19.3 20.  16.6 14.4 19.4 19.7 20.5 25.  23.4 18.9 35.4\n",
            " 24.7 31.6 23.3 19.6 18.7 16.  22.2 25.  33.  23.5 19.4 22.  17.4 20.9\n",
            " 24.2 21.7 22.8 23.4 24.1 21.4 20.  20.8 21.2 20.3 28.  23.9 24.8 22.9\n",
            " 23.9 26.6 22.5 22.2 23.6 28.7 22.6 22.  22.9 25.  20.6 28.4 21.4 38.7\n",
            " 43.8 33.2 27.5 26.5 18.6 19.3 20.1 19.5 19.5 20.4 19.8 19.4 21.7 22.8\n",
            " 18.8 18.7 18.5 18.3 21.2 19.2 20.4 19.3 22.  20.3 20.5 17.3 18.8 21.4\n",
            " 15.7 16.2 18.  14.3 19.2 19.6 23.  18.4 15.6 18.1 17.4 17.1 13.3 17.8\n",
            " 14.  14.4 13.4 15.6 11.8 13.8 15.6 14.6 17.8 15.4 21.5 19.6 15.3 19.4\n",
            " 17.  15.6 13.1 41.3 24.3 23.3 27.  50.  50.  50.  22.7 25.  50.  23.8\n",
            " 23.8 22.3 17.4 19.1 23.1 23.6 22.6 29.4 23.2 24.6 29.9 37.2 39.8 36.2\n",
            " 37.9 32.5 26.4 29.6 50.  32.  29.8 34.9 37.  30.5 36.4 31.1 29.1 50.\n",
            " 33.3 30.3 34.6 34.9 32.9 24.1 42.3 48.5 50.  22.6 24.4 22.5 24.4 20.\n",
            " 21.7 19.3 22.4 28.1 23.7 25.  23.3 28.7 21.5 23.  26.7 21.7 27.5 30.1\n",
            " 44.8 50.  37.6 31.6 46.7 31.5 24.3 31.7 41.7 48.3 29.  24.  25.1 31.5\n",
            " 23.7 23.3 22.  20.1 22.2 23.7 17.6 18.5 24.3 20.5 24.5 26.2 24.4 24.8\n",
            " 29.6 42.8 21.9 20.9 44.  50.  36.  30.1 33.8 43.1 48.8 31.  36.5 22.8\n",
            " 30.7 50.  43.5 20.7 21.1 25.2 24.4 35.2 32.4 32.  33.2 33.1 29.1 35.1\n",
            " 45.4 35.4 46.  50.  32.2 22.  20.1 23.2 22.3 24.8 28.5 37.3 27.9 23.9\n",
            " 21.7 28.6 27.1 20.3 22.5 29.  24.8 22.  26.4 33.1 36.1 28.4 33.4 28.2\n",
            " 22.8 20.3 16.1 22.1 19.4 21.6 23.8 16.2 17.8 19.8 23.1 21.  23.8 23.1\n",
            " 20.4 18.5 25.  24.6 23.  22.2 19.3 22.6 19.8 17.1 19.4 22.2 20.7 21.1\n",
            " 19.5 18.5 20.6 19.  18.7 32.7 16.5 23.9 31.2 17.5 17.2 23.1 24.5 26.6\n",
            " 22.9 24.1 18.6 30.1 18.2 20.6 17.8 21.7 22.7 22.6 25.  19.9 20.8 16.8\n",
            " 21.9 27.5 21.9 23.1 50.  50.  50.  50.  50.  13.8 13.8 15.  13.9 13.3\n",
            " 13.1 10.2 10.4 10.9 11.3 12.3  8.8  7.2 10.5  7.4 10.2 11.5 15.1 23.2\n",
            "  9.7 13.8 12.7 13.1 12.5  8.5  5.   6.3  5.6  7.2 12.1  8.3  8.5  5.\n",
            " 11.9 27.9 17.2 27.5 15.  17.2 17.9 16.3  7.   7.2  7.5 10.4  8.8  8.4\n",
            " 16.7 14.2 20.8 13.4 11.7  8.3 10.2 10.9 11.   9.5 14.5 14.1 16.1 14.3\n",
            " 11.7 13.4  9.6  8.7  8.4 12.8 10.5 17.1 18.4 15.4 10.8 11.8 14.9 12.6\n",
            " 14.1 13.  13.4 15.2 16.1 17.8 14.9 14.1 12.7 13.5 14.9 20.  16.4 17.7\n",
            " 19.5 20.2 21.4 19.9 19.  19.1 19.1 20.1 19.9 19.6 23.2 29.8 13.8 13.3\n",
            " 16.7 12.  14.6 21.4 23.  23.7 25.  21.8 20.6 21.2 19.1 20.6 15.2  7.\n",
            "  8.1 13.6 20.1 21.8 24.5 23.1 19.7 18.3 21.2 17.5 16.8 22.4 20.6 23.9\n",
            " 22.  11.9]\n"
          ],
          "name": "stdout"
        }
      ]
    },
    {
      "cell_type": "code",
      "metadata": {
        "id": "6s1jsOtZ1IHW",
        "outputId": "6d98144a-9fc2-4f32-9e33-9ccf052c0c5a"
      },
      "source": [
        "# Treinamento do modelo - fit()\n",
        "modelo.fit(X,y)"
      ],
      "execution_count": null,
      "outputs": [
        {
          "output_type": "execute_result",
          "data": {
            "text/plain": [
              "LinearRegression()"
            ]
          },
          "metadata": {
            "tags": []
          },
          "execution_count": 23
        }
      ]
    },
    {
      "cell_type": "code",
      "metadata": {
        "id": "FJFVPNZP1IHW",
        "outputId": "0309af40-a0ab-440d-8f02-ce972d685145"
      },
      "source": [
        "# Imprime as previsões\n",
        "print (modelo.predict(X))"
      ],
      "execution_count": null,
      "outputs": [
        {
          "output_type": "stream",
          "text": [
            "[25.17574577 23.77402099 30.72803225 29.02593787 30.38215211 23.85593997\n",
            " 20.05125842 21.50759586 16.5833549  19.97844155 23.3735282  20.02395209\n",
            " 18.93169901 19.47782555 20.81583557 18.43108302 19.35039603 19.85101202\n",
            " 14.99048582 17.45715736 16.02812625 19.6234593  21.23453259 18.23993873\n",
            " 19.25027283 16.29208741 18.23993873 20.36983223 24.44757706 26.07685456\n",
            " 17.32972783 20.59738496 19.48692766 17.22050253 20.81583557 19.33219181\n",
            " 18.49479778 18.57671676 19.63256141 25.35778795 29.26259271 26.95065703\n",
            " 21.48028953 21.86257811 20.57007863 17.04756245 17.99418179 20.21509638\n",
            " 14.47166561 16.31939374 19.60525508 20.98877564 24.5932108  19.92382889\n",
            " 18.9225969  31.31056723 23.42814085 27.36935404 21.26183891 19.27757916\n",
            " 17.58458688 19.63256141 24.09259481 26.87784015 29.99076143 22.58164472\n",
            " 18.0032839  18.83157581 16.24657686 18.89529058 23.73761256 19.58705086\n",
            " 20.53367019 22.17204981 22.42690886 22.54523628 22.48152152 21.21632837\n",
            " 22.05372239 18.79516738 26.55926634 25.57623857 22.69087002 21.46208531\n",
            " 23.4827535  25.67636177 20.07856475 21.0433883  29.10785685 29.7632087\n",
            " 23.73761256 23.62838725 23.96516528 21.86257811 22.20845825 25.63085122\n",
            " 21.42567687 38.77429659 36.50787146 32.83061943 26.55926634 27.05078022\n",
            " 23.62838725 21.18902204 21.46208531 18.58581887 18.44928724 21.09800095\n",
            " 24.25643277 22.02641607 21.71694436 26.45004103 19.15014963 20.77942714\n",
            " 22.25396879 19.28668126 21.54400429 20.1331774  18.77696316 17.49356579\n",
            " 18.75875894 19.97844155 19.58705086 18.63132942 18.84067792 19.81460358\n",
            " 16.41951693 17.14768565 23.86504208 16.63796755 24.11079902 22.90932064\n",
            " 23.32801765 18.32185771 17.73022063 22.99123962 19.41411079 24.07439059\n",
            " 18.64043153 21.31645157 21.52580007 11.0128642  14.50807405 15.09971113\n",
            "  9.95701956 21.12530728 16.55604857 10.16636806 12.5329164  16.27388319\n",
            " 21.05249041 14.51717616 10.94914944 17.2933194  21.11620517 21.32555368\n",
            " 13.31569777 28.52532188 20.5427723  24.58410869 22.21756036 33.49507338\n",
            " 36.34403349 41.55954194 18.6131252  20.86134612 37.50000134 18.82247371\n",
            " 22.84560588 23.60108092 18.80426949 18.84978003 16.04633047 23.72851045\n",
            " 18.65863574 24.91178461 20.12407529 22.80919744 27.76984683 28.86209991\n",
            " 36.00725546 21.2527368  30.45496898 25.06652047 16.33759795 21.33465578\n",
            " 36.60799466 27.05988233 25.0028057  30.72803225 28.59813875 26.66849165\n",
            " 30.66431749 27.2237203  25.43970694 37.00848745 31.65644737 30.01806775\n",
            " 31.53811995 28.81658937 30.2729268  21.41657477 34.59642857 36.80824105\n",
            " 38.45572278 18.94990323 22.90932064 17.96687546 20.52456809 13.97104962\n",
            " 19.57794875 14.51717616 18.18532608 23.35532398 14.58999303 21.59861695\n",
            " 18.9225969  25.78558708 19.49602977 23.33711976 28.59813875 21.43477898\n",
            " 27.94278691 25.56713646 40.56741206 44.74528008 38.51033543 30.52778586\n",
            " 35.28818885 24.96639727 19.76909304 32.79421099 41.2136618  40.39447199\n",
            " 26.55016423 20.72481448 25.68546388 32.30269711 24.32014753 25.45791115\n",
            " 28.10662487 20.80673346 23.20058813 23.51916194 16.23747476 16.34670006\n",
            " 20.92506088 21.99910974 23.8832463  26.47734736 24.37476018 23.92875684\n",
            " 28.65275141 40.5036973  20.92506088 18.8133716  33.17649957 44.5541358\n",
            " 32.07514438 27.60600887 30.89187022 33.77723876 41.76889045 32.02053173\n",
            " 30.91917654 15.93710516 29.17157162 40.84957744 33.32213331 19.21386439\n",
            " 18.63132942 22.12653927 24.83896774 35.3336994  26.84143172 27.71523418\n",
            " 31.47440519 27.46037513 24.32924964 27.3329456  36.50787146 28.7528746\n",
            " 34.91500238 37.44538868 29.84512768 24.06528848 22.03551818 21.84437389\n",
            " 22.80919744 25.08472469 27.77894894 30.39125422 25.67636177 21.09800095\n",
            " 20.02395209 26.113263   24.93909094 18.03059022 23.08226071 29.41732856\n",
            " 27.86997003 25.31227741 24.44757706 28.88030413 31.19223981 25.54893224\n",
            " 32.86702786 27.66972364 25.72187231 19.68717406 10.59416719 21.05249041\n",
            " 20.15138162 22.3631941  25.1029289  17.25691096 19.15925174 17.95777335\n",
            " 23.41903874 20.97057143 23.81953154 23.36442609 20.31521958 17.28421729\n",
            " 23.71940834 23.86504208 22.78189111 20.69750816 18.74055473 22.9730354\n",
            " 21.2527368  17.26601307 20.22419849 22.81829955 22.76368689 20.27881114\n",
            " 18.74965683 18.98631167 20.47905754 19.80550148 19.65076562 31.23775036\n",
            " 24.85717196 26.27710096 27.89727636 20.06946264 19.01361799 24.63872134\n",
            " 25.72187231 28.48891344 24.40206651 25.21215421 18.88618847 26.56836845\n",
            " 16.87462238 19.35949814 21.87168021 23.53736616 21.09800095 20.96146932\n",
            " 23.56467249 22.22666246 14.13488758 18.14891764 45.24589608 -2.25801069\n",
            " 10.5031461   0.49082622 10.56686086 26.15877354 29.18977584 21.90808865\n",
            " 18.80426949  9.98432589  2.99390619 31.8931022  25.84930184 27.16910764\n",
            " 23.40083452 21.97180341 28.7528746  24.90268251 15.71865454 15.5730208\n",
            "  5.08739125 13.36120832  7.6723902  10.83992413  9.74767105 14.38974663\n",
            " 17.32972783 20.40624067 11.16760005 21.69874014 18.9134948  24.22912644\n",
            " 23.62838725 17.63919954 14.9631795  18.59492098 19.82370569 23.06405649\n",
            " 23.61928514 14.01656016 15.673144   17.05666456  2.99390619 16.37400639\n",
            " 16.45592537 27.69702996 17.73022063 25.92211871  7.45393959 12.25075102\n",
            "  6.46180971 23.89234841 27.05988233 13.60696526 19.55064242 27.44217091\n",
            " 23.6829999  19.99664576 16.73809075 20.87955034 15.9826157  18.99541378\n",
            " 18.45838935 21.78065912 21.69874014 23.40083452 23.10956704 27.52408989\n",
            " 23.81042943 23.91055263 21.83527178 25.66725966 24.13810535 21.32555368\n",
            " 19.35039603 16.54694646 18.28544928 23.63748936 21.93539498 24.35655597\n",
            " 18.6131252  24.11990113 23.04585227 22.22666246 21.62592327 23.73761256\n",
            " 26.75951274 25.90391449 22.64535948 32.62127092 26.56836845 24.72064033\n",
            " 19.7235825  19.35949814 22.68176791 20.67930394 26.32261151 23.36442609\n",
            " 22.82740166 24.61141502 21.84437389 17.74842485 19.50513188 19.96933944\n",
            " 19.26847705 17.32972783 21.46208531 22.02641607 23.91965474 28.86209991\n",
            " 14.72652466 21.41657477 24.34745386 13.60696526 21.62592327 22.02641607\n",
            " 22.14474348 26.76861485 29.59937074 17.77573117 18.76786105 22.78189111\n",
            " 20.97967353 19.07733276 14.97228161 14.60819725 11.68642026 19.78729726\n",
            " 19.78729726 17.27511518 19.26847705 16.93833715 14.38974663 18.06699866\n",
            " 20.11497318 16.01902414 20.18779005 25.33958374 21.03428619 28.82569148\n",
            " 27.16910764 20.21509638]\n"
          ],
          "name": "stdout"
        }
      ]
    },
    {
      "cell_type": "code",
      "metadata": {
        "id": "LHO7BPIN1IHW",
        "outputId": "d8f4ce30-781e-49dd-ca76-2ca09ff33839"
      },
      "source": [
        "# Fazendo previsões com o modelo treinado\n",
        "RM = 5\n",
        "# Xp = np.array(RM)\n",
        "Xp = np.array(RM).reshape(-1, 1)\n",
        "print (\"Se RM = %01.f nosso modelo prevê que a mediana da taxa de ocupação é %0.1f\" % (RM, modelo.predict(Xp)))"
      ],
      "execution_count": null,
      "outputs": [
        {
          "output_type": "stream",
          "text": [
            "Se RM = 5 nosso modelo prevê que a mediana da taxa de ocupação é 10.8\n"
          ],
          "name": "stdout"
        }
      ]
    },
    {
      "cell_type": "code",
      "metadata": {
        "id": "RRoQIByn1IHW"
      },
      "source": [
        "valores_previstos = modelo.predict(X)"
      ],
      "execution_count": null,
      "outputs": []
    },
    {
      "cell_type": "markdown",
      "metadata": {
        "id": "AJJSlICL1IHX"
      },
      "source": [
        "### Gerando um ScatterPlot com a Linha de Regressão"
      ]
    },
    {
      "cell_type": "code",
      "metadata": {
        "id": "iYAq_74n1IHX"
      },
      "source": [
        "# Range de valores para x e y\n",
        "x_range = [dataset['RM'].min(), dataset['RM'].max()]\n",
        "y_range = [dataset['target'].min(), dataset['target'].max()]"
      ],
      "execution_count": null,
      "outputs": []
    },
    {
      "cell_type": "code",
      "metadata": {
        "id": "6XyHeaUL1IHX",
        "outputId": "c04b2b4e-2784-4177-9b31-27a35a1910fc"
      },
      "source": [
        "# Primeira camada do Scatter Plot\n",
        "scatter_plot = dataset.plot(kind = 'scatter', x = 'RM', y = 'target', xlim = x_range, ylim = y_range)\n",
        "\n",
        "# Segunda camada do Scatter Plot (médias)\n",
        "meanY = scatter_plot.plot(x_range, [dataset['target'].mean(),dataset['target'].mean()], '--', color = 'red', linewidth = 1)\n",
        "meanX = scatter_plot.plot([dataset['RM'].mean(),dataset['RM'].mean()], y_range, '--', color = 'red', linewidth = 1)\n",
        "\n",
        "# Terceira camada do Scatter Plot (linha de regressão)\n",
        "regression_line = scatter_plot.plot(dataset['RM'], valores_previstos, '-', color = 'orange', linewidth = 2)"
      ],
      "execution_count": null,
      "outputs": [
        {
          "output_type": "display_data",
          "data": {
            "image/png": "[encoded data removed]",
            "text/plain": [
              "<Figure size 432x288 with 1 Axes>"
            ]
          },
          "metadata": {
            "tags": [],
            "needs_background": "light"
          }
        }
      ]
    },
    {
      "cell_type": "code",
      "metadata": {
        "id": "L4zdPSyL1IHX"
      },
      "source": [
        "# Gerando os resíduos\n",
        "residuos = dataset['target'] - valores_previstos\n",
        "residuos_normalizados = standardize(residuos)"
      ],
      "execution_count": null,
      "outputs": []
    },
    {
      "cell_type": "code",
      "metadata": {
        "scrolled": false,
        "id": "Xsy_f6Sh1IHX",
        "outputId": "1826c5fa-a9af-42e6-8c92-cc240f0d8e29"
      },
      "source": [
        "# ScatterPlot dos resíduos\n",
        "residual_scatter_plot = plt.plot(dataset['RM'], residuos_normalizados,'bp')\n",
        "plt.xlabel('RM') \n",
        "plt.ylabel('Resíduos Normalizados') \n",
        "mean_residual = plt.plot([int(x_range[0]),round(x_range[1],0)], [0,0], '-', color = 'red', linewidth = 3)\n",
        "upper_bound = plt.plot([int(x_range[0]),round(x_range[1],0)], [3,3], '--', color = 'red', linewidth = 2)\n",
        "lower_bound = plt.plot([int(x_range[0]),round(x_range[1],0)], [-3,-3], '--', color = 'red', linewidth = 2)\n",
        "plt.grid()"
      ],
      "execution_count": null,
      "outputs": [
        {
          "output_type": "display_data",
          "data": {
            "image/png": "[encoded data removed]",
            "text/plain": [
              "<Figure size 432x288 with 1 Axes>"
            ]
          },
          "metadata": {
            "tags": [],
            "needs_background": "light"
          }
        }
      ]
    },
    {
      "cell_type": "markdown",
      "metadata": {
        "collapsed": true,
        "id": "UxpAA_7E1IHY"
      },
      "source": [
        "## Função de Custo de um Modelo de Regressão Linear"
      ]
    },
    {
      "cell_type": "markdown",
      "metadata": {
        "id": "Bq_DtlAu1IHY"
      },
      "source": [
        "O objetivo da regressão linear é buscar a equação de uma linha de regressão que minimize a soma dos erros ao quadrado, da diferença entre o valor observado de y e o valor previsto.\n",
        "\n",
        "Existem alguns métodos para minimização da Cost Function tais como: Pseudo-inversão, Fatorização e Gradient Descent."
      ]
    },
    {
      "cell_type": "markdown",
      "metadata": {
        "id": "vyuV1Vvs1IHY"
      },
      "source": [
        "## Minimizando a Cost Function "
      ]
    },
    {
      "cell_type": "markdown",
      "metadata": {
        "id": "f6lvweDq1IHY"
      },
      "source": [
        "Minimizando a Cost Function com Pseudo-Inversão"
      ]
    },
    {
      "cell_type": "code",
      "metadata": {
        "id": "cxx51rT81IHY",
        "outputId": "05006def-1543-46f1-ae4e-ddb6a2e8eaab"
      },
      "source": [
        "from IPython.display import Image\n",
        "Image('imagens/formula-cost-function.png')"
      ],
      "execution_count": null,
      "outputs": [
        {
          "output_type": "execute_result",
          "data": {
            "image/png": "[encoded data removed]",
            "text/plain": [
              "<IPython.core.display.Image object>"
            ]
          },
          "metadata": {
            "tags": []
          },
          "execution_count": 41
        }
      ]
    },
    {
      "cell_type": "code",
      "metadata": {
        "id": "NWAbRVKt1IHY",
        "outputId": "c9361326-5787-4d80-ebf7-cf52601b9aad"
      },
      "source": [
        "from IPython.display import Image\n",
        "Image('imagens/formula-pseudo.png')"
      ],
      "execution_count": null,
      "outputs": [
        {
          "output_type": "execute_result",
          "data": {
            "image/png": "[encoded data removed]",
            "text/plain": [
              "<IPython.core.display.Image object>"
            ]
          },
          "metadata": {
            "tags": []
          },
          "execution_count": 42
        }
      ]
    },
    {
      "cell_type": "code",
      "metadata": {
        "id": "lfhqVOww1IHZ"
      },
      "source": [
        "# Definindo x e y\n",
        "num_observ = len(dataset)\n",
        "X  = dataset['RM'].values.reshape((num_observ, 1)) # X deve ser uma matriz\n",
        "Xb = np.column_stack((X, np.ones(num_observ)))\n",
        "y  = dataset['target'].values # y pode ser um vetor"
      ],
      "execution_count": null,
      "outputs": []
    },
    {
      "cell_type": "code",
      "metadata": {
        "id": "v1UQIsr_1IHZ"
      },
      "source": [
        "# Funções para matriz inversa e equações normais\n",
        "def matriz_inversa(X, y, pseudo = False):\n",
        "    if pseudo:\n",
        "        return np.dot(np.linalg.pinv(np.dot(X.T, X)), np.dot(X.T,y))\n",
        "    else:\n",
        "        return np.dot(np.linalg.inv(np.dot(X.T, X)), np.dot(X.T,y))\n",
        "\n",
        "def normal_equations(X,y):\n",
        "    return np.linalg.solve(np.dot(X.T,X), np.dot(X.T,y))"
      ],
      "execution_count": null,
      "outputs": []
    },
    {
      "cell_type": "code",
      "metadata": {
        "id": "ph7CY6ua1IHZ",
        "outputId": "4066b1b8-bdf4-4bb2-80b7-ab4810d11589"
      },
      "source": [
        "# Imprime os valores\n",
        "print (matriz_inversa(Xb, y))\n",
        "print (matriz_inversa(Xb, y, pseudo = True))\n",
        "print (normal_equations(Xb, y))"
      ],
      "execution_count": null,
      "outputs": [
        {
          "output_type": "stream",
          "text": [
            "[  9.10210898 -34.67062078]\n",
            "[  9.10210898 -34.67062078]\n",
            "[  9.10210898 -34.67062078]\n"
          ],
          "name": "stdout"
        }
      ]
    },
    {
      "cell_type": "markdown",
      "metadata": {
        "id": "G0xhlGOT1IHZ"
      },
      "source": [
        "## Aplicando o Gradiente Descendente"
      ]
    },
    {
      "cell_type": "code",
      "metadata": {
        "id": "qiEOOKQi1IHa",
        "outputId": "8ececb0b-d25d-495e-e857-5a96e642c683"
      },
      "source": [
        "from IPython.display import Image\n",
        "Image('imagens/formula-gradient-descent1.png')"
      ],
      "execution_count": null,
      "outputs": [
        {
          "output_type": "execute_result",
          "data": {
            "image/png": "[encoded data removed]",
            "text/plain": [
              "<IPython.core.display.Image object>"
            ]
          },
          "metadata": {
            "tags": []
          },
          "execution_count": 46
        }
      ]
    },
    {
      "cell_type": "code",
      "metadata": {
        "id": "V0fzwmbR1IHa",
        "outputId": "29a91139-8260-4987-f0a5-c134a867e11d"
      },
      "source": [
        "# Alfa é chamado de taxa de aprendizagem\n",
        "from IPython.display import Image\n",
        "Image('imagens/formula-gradient-descent2.png')"
      ],
      "execution_count": null,
      "outputs": [
        {
          "output_type": "execute_result",
          "data": {
            "image/png": "[encoded data removed]",
            "text/plain": [
              "<IPython.core.display.Image object>"
            ]
          },
          "metadata": {
            "tags": []
          },
          "execution_count": 47
        }
      ]
    },
    {
      "cell_type": "code",
      "metadata": {
        "id": "i-l1qLxU1IHa"
      },
      "source": [
        "# Definindo x e y\n",
        "observations = len(dataset)\n",
        "X = dataset['RM'].values.reshape((observations,1)) \n",
        "X = np.column_stack((X,np.ones(observations))) \n",
        "y = dataset['target'].values "
      ],
      "execution_count": null,
      "outputs": []
    },
    {
      "cell_type": "code",
      "metadata": {
        "id": "V9MdrLYc1IHa"
      },
      "source": [
        "import random\n",
        "\n",
        "# Valores randômicos para os coeficientes iniciais\n",
        "def random_w( p ):\n",
        "    return np.array([np.random.normal() for j in range(p)])\n",
        "\n",
        "# Cálculo da hipótese (valor aproximado de y)\n",
        "def hypothesis(X,w):\n",
        "    return np.dot(X,w)\n",
        "\n",
        "# Cálculo da função de perda (loss)\n",
        "def loss(X,w,y):\n",
        "    return hypothesis(X,w) - y\n",
        "\n",
        "# Cálculo do erro\n",
        "def squared_loss(X,w,y):\n",
        "    return loss(X,w,y)**2\n",
        "\n",
        "# Cálculo do gradiente\n",
        "def gradient(X,w,y):\n",
        "    gradients = list()\n",
        "    n = float(len( y ))\n",
        "    for j in range(len(w)):\n",
        "        gradients.append(np.sum(loss(X,w,y) * X[:,j]) / n)\n",
        "    return gradients\n",
        "\n",
        "# Atualização do valor dos coeficientes\n",
        "def update(X,w,y, alpha = 0.01):\n",
        "    return [t - alpha*g for t, g in zip(w, gradient(X,w,y))]\n",
        "\n",
        "# Otimização do modelo\n",
        "def optimize(X,y, alpha = 0.01, eta = 10**-12, iterations = 1000):\n",
        "    w = random_w(X.shape[1])\n",
        "    path = list()\n",
        "    for k in range(iterations):\n",
        "        SSL = np.sum(squared_loss(X,w,y))\n",
        "        new_w = update(X,w,y, alpha = alpha)\n",
        "        new_SSL = np.sum(squared_loss(X,new_w,y))\n",
        "        w = new_w\n",
        "        if k >= 5 and (new_SSL - SSL <= eta and new_SSL - SSL >= -eta):\n",
        "            path.append(new_SSL)\n",
        "            return w, path\n",
        "        if k % (iterations / 20) == 0:\n",
        "            path.append(new_SSL)\n",
        "    return w, path"
      ],
      "execution_count": null,
      "outputs": []
    },
    {
      "cell_type": "code",
      "metadata": {
        "id": "SayLGQD01IHa"
      },
      "source": [
        "# Definindo o valor de alfa\n",
        "# Alfa é chamado de taxa de aprendizagem\n",
        "alpha = 0.048\n",
        "\n",
        "# Otimizando a Cost Function\n",
        "w, path = optimize(X, y, alpha, eta = 10**-12, iterations = 25000)"
      ],
      "execution_count": null,
      "outputs": []
    },
    {
      "cell_type": "code",
      "metadata": {
        "id": "k6q6yEAe1IHb",
        "outputId": "3e9858f7-0c92-4aa7-cabe-30a5d94302a5"
      },
      "source": [
        "# Imprimindo o resultado\n",
        "print (\"Valor Final dos Coeficientes: %s\" % w)"
      ],
      "execution_count": null,
      "outputs": [
        {
          "output_type": "stream",
          "text": [
            "Valor Final dos Coeficientes: [9.10210328268812, -34.67058452765726]\n"
          ],
          "name": "stdout"
        }
      ]
    },
    {
      "cell_type": "code",
      "metadata": {
        "id": "Ejx4zzbd1IHb",
        "outputId": "cca920ed-8d12-4862-9bba-3f27c10b3f5e"
      },
      "source": [
        "# Imprimindo o resultado\n",
        "print (\"Percorrendo o Caminho do Gradiente em que o erro ao quadrado era:\\n\\n %s\" % path)"
      ],
      "execution_count": null,
      "outputs": [
        {
          "output_type": "stream",
          "text": [
            "Percorrendo o Caminho do Gradiente em que o erro ao quadrado era:\n",
            "\n",
            " [145513.4599396258, 23902.197452183933, 22496.48686160369, 22164.51569520018, 22086.117726185945, 22067.60334250574, 22063.23100470965, 22062.198437915456, 22061.954588003995, 22061.897000659857, 22061.88340089193, 22061.880189184732, 22061.879430711262, 22061.87925159095, 22061.879209290084, 22061.87919930035, 22061.87919694119, 22061.87919638405, 22061.879196252477, 22061.879196221405, 22061.879196219998]\n"
          ],
          "name": "stdout"
        }
      ]
    }
  ]
}
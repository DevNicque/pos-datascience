{
  "nbformat": 4,
  "nbformat_minor": 0,
  "metadata": {
    "colab": {
      "name": "Probabilidade e Distribuições modulo3",
      "provenance": [],
      "collapsed_sections": [],
      "include_colab_link": true
    },
    "kernelspec": {
      "name": "python3",
      "display_name": "Python 3"
    }
  },
  "cells": [
    {
      "cell_type": "markdown",
      "metadata": {
        "id": "view-in-github",
        "colab_type": "text"
      },
      "source": [
        "<a href=\"https://colab.research.google.com/github/DevNicque/pos-datascience/blob/modulo_3/Probabilidade_e_Distribui%C3%A7%C3%B5es_modulo3.ipynb\" target=\"_parent\"><img src=\"https://colab.research.google.com/assets/colab-badge.svg\" alt=\"Open In Colab\"/></a>"
      ]
    },
    {
      "cell_type": "markdown",
      "metadata": {
        "id": "t5oLQNm_xilh"
      },
      "source": [
        "# Probabilidade e Distribuições Discretas e Contínuas"
      ]
    },
    {
      "cell_type": "code",
      "metadata": {
        "id": "ZN1-V9Lrxv5V"
      },
      "source": [
        "from scipy.stats import binom, nbinom, poisson, uniform, expon, norm \n",
        "import numpy as np\n",
        "import matplotlib.pyplot as plt\n",
        "import seaborn as sea\n",
        "import statistics as st\n",
        "from scipy import stats"
      ],
      "execution_count": 1,
      "outputs": []
    },
    {
      "cell_type": "code",
      "metadata": {
        "id": "4zPWSLnSxylL",
        "colab": {
          "base_uri": "https://localhost:8080/"
        },
        "outputId": "749c1169-28b9-42fa-9efd-dca30634cce4"
      },
      "source": [
        "# Construção de uma matriz\n",
        "matriz = [\n",
        "    [500,4500,1500,6500],\n",
        "    [30,270,50,350],\n",
        "    [530,4770,1550,6850]\n",
        "]\n",
        "for i in range(0,3):\n",
        "    print(matriz[i])"
      ],
      "execution_count": null,
      "outputs": [
        {
          "output_type": "stream",
          "text": [
            "[500, 4500, 1500, 6500]\n",
            "[30, 270, 50, 350]\n",
            "[530, 4770, 1550, 6850]\n"
          ],
          "name": "stdout"
        }
      ]
    },
    {
      "cell_type": "code",
      "metadata": {
        "id": "81mPa-YRzaMT",
        "colab": {
          "base_uri": "https://localhost:8080/"
        },
        "outputId": "fa1607dd-f49e-4cee-a45a-58d641bcfc2e"
      },
      "source": [
        "# Cálculo da probabilidade condicional\n",
        "print(\"P(D|U)=\",matriz[1][2]/matriz[2][2])"
      ],
      "execution_count": null,
      "outputs": [
        {
          "output_type": "stream",
          "text": [
            "P(D|U)= 0.03225806451612903\n"
          ],
          "name": "stdout"
        }
      ]
    },
    {
      "cell_type": "markdown",
      "metadata": {
        "id": "m1k9arzVRyfP"
      },
      "source": [
        "Distribuição Binomial"
      ]
    },
    {
      "cell_type": "markdown",
      "metadata": {
        "id": "97g9-CJluZ4v"
      },
      "source": [
        "o que preciso para calcular -- do p que é a probabilidade de sucesso e n que é qtd de amostras\n",
        "q= 1-p\n",
        "\n",
        "media = n.p\n",
        "variancia = n.p.q\n",
        "\n",
        "\n"
      ]
    },
    {
      "cell_type": "code",
      "metadata": {
        "id": "mRznXtaRzhKN"
      },
      "source": [
        "# Exemplo\n",
        "# Em uma avaliação de 10 questões, com 4 alternativas cada, qual a probabilidade de um aluno sorteado ao acaso acertar:"
      ],
      "execution_count": null,
      "outputs": []
    },
    {
      "cell_type": "markdown",
      "metadata": {
        "id": "DREeVaX9vGjo"
      },
      "source": [
        "valores passados : binomial recebe x, n, p(0.24 pq tem 4 opções qm cada questão)\n",
        "\n",
        "binom.pmf é o calculo da probabilidade pontual"
      ]
    },
    {
      "cell_type": "code",
      "metadata": {
        "id": "LTPqwkB42Dn4",
        "colab": {
          "base_uri": "https://localhost:8080/"
        },
        "outputId": "7e2089bc-3cd6-44ca-8298-896bbe827d34"
      },
      "source": [
        "# a) Nenhuma questão?\n",
        "print(\"P(x=0):\",binom.pmf(0,10,0.25))"
      ],
      "execution_count": null,
      "outputs": [
        {
          "output_type": "stream",
          "text": [
            "P(x=0): 0.056313514709472684\n"
          ],
          "name": "stdout"
        }
      ]
    },
    {
      "cell_type": "markdown",
      "metadata": {
        "id": "0iC2SasvvoRX"
      },
      "source": [
        "binom.cdf é o cálculo da probabilidade acumulada"
      ]
    },
    {
      "cell_type": "markdown",
      "metadata": {
        "id": "YuAKhMwMwWc1"
      },
      "source": [
        "feito com calculo da complementar\n",
        "p(x>=3) = 1 - (x<3)"
      ]
    },
    {
      "cell_type": "code",
      "metadata": {
        "id": "BjFp5nA-2cZP",
        "colab": {
          "base_uri": "https://localhost:8080/"
        },
        "outputId": "8212f145-9028-4ccc-e365-1d48b295d58c"
      },
      "source": [
        "# b) Pelo menos 3 questões?\n",
        "print(\"P(>=3):\",1-binom.cdf(2,10,0.25))"
      ],
      "execution_count": null,
      "outputs": [
        {
          "output_type": "stream",
          "text": [
            "P(>=3): 0.4744071960449219\n"
          ],
          "name": "stdout"
        }
      ]
    },
    {
      "cell_type": "code",
      "metadata": {
        "id": "unyiUhfm2zJY",
        "colab": {
          "base_uri": "https://localhost:8080/"
        },
        "outputId": "63dd56a2-d601-40e2-91a6-e19674d989c2"
      },
      "source": [
        "# c) Mais de 7 questões?\n",
        "print(\"P(x>7):\",1-binom.cdf(7,10,0.25))"
      ],
      "execution_count": null,
      "outputs": [
        {
          "output_type": "stream",
          "text": [
            "P(x>7): 0.000415802001953125\n"
          ],
          "name": "stdout"
        }
      ]
    },
    {
      "cell_type": "markdown",
      "metadata": {
        "id": "FRWhYTas0JMc"
      },
      "source": [
        "n são as possibilidades e p é 0.5 (p é a probabilidade)"
      ]
    },
    {
      "cell_type": "code",
      "metadata": {
        "id": "Ds12uscL7KNW",
        "colab": {
          "base_uri": "https://localhost:8080/"
        },
        "outputId": "b1e4336b-db54-4470-927f-48abb076889b"
      },
      "source": [
        "# Geração de dígitos aleatórios com base na distribuição Binomial\n",
        "from numpy import random\n",
        "x = random.binomial(n=10, p=0.5, size=100)\n",
        "print(x)"
      ],
      "execution_count": null,
      "outputs": [
        {
          "output_type": "stream",
          "text": [
            "[7 8 4 6 4 6 7 5 4 2 4 5 6 5 5 4 3 5 6 5 6 7 6 5 3 3 5 7 6 7 5 7 5 4 6 4 4\n",
            " 5 5 8 3 6 7 5 6 4 5 4 4 4 5 3 4 5 5 6 6 5 3 3 5 2 7 3 6 5 5 6 4 4 3 5 4 5\n",
            " 3 5 6 5 8 6 5 7 7 5 5 5 4 3 6 5 4 3 7 7 6 6 3 6 2 4]\n"
          ],
          "name": "stdout"
        }
      ]
    },
    {
      "cell_type": "code",
      "metadata": {
        "id": "cDbPSQ2_78EJ",
        "colab": {
          "base_uri": "https://localhost:8080/"
        },
        "outputId": "e2b7db37-a1bd-40f1-82fe-7dc42edd18d1"
      },
      "source": [
        "# Gerar gráfico da distribuição Binomial\n",
        "n = 10\n",
        "p = 0.5\n",
        "k_valores = np.arange(0,10)\n",
        "distbinom = [binom.pmf(k,n,p) for k in k_valores]\n",
        "distbinom\n"
      ],
      "execution_count": null,
      "outputs": [
        {
          "output_type": "execute_result",
          "data": {
            "text/plain": [
              "[0.0009765625,\n",
              " 0.00976562500000001,\n",
              " 0.04394531249999999,\n",
              " 0.11718750000000014,\n",
              " 0.20507812500000022,\n",
              " 0.24609375000000025,\n",
              " 0.20507812500000022,\n",
              " 0.11718750000000014,\n",
              " 0.04394531249999999,\n",
              " 0.00976562500000001]"
            ]
          },
          "metadata": {
            "tags": []
          },
          "execution_count": 12
        }
      ]
    },
    {
      "cell_type": "code",
      "metadata": {
        "id": "-fKKKLdz_OWP",
        "colab": {
          "base_uri": "https://localhost:8080/",
          "height": 265
        },
        "outputId": "01a2f6d8-8e3c-4359-b78c-1bfedec6ff32"
      },
      "source": [
        "# Geração do gráfico\n",
        "plt.bar(k_valores,distbinom)\n",
        "plt.show()"
      ],
      "execution_count": null,
      "outputs": [
        {
          "output_type": "display_data",
          "data": {
            "image/png": "[encoded data removed]",
            "text/plain": [
              "<Figure size 432x288 with 1 Axes>"
            ]
          },
          "metadata": {
            "tags": [],
            "needs_background": "light"
          }
        }
      ]
    },
    {
      "cell_type": "markdown",
      "metadata": {
        "id": "Rnj8o2xrSHpn"
      },
      "source": [
        "Distribuição de Poisson"
      ]
    },
    {
      "cell_type": "code",
      "metadata": {
        "id": "ZDg5qV334XxP"
      },
      "source": [
        "# Exemplo\n",
        "# Admita que o número de consultas à home page de uma determinada Empresa durante um período de tempo obedece a uma distribuição de Poisson e que em média 2"
      ],
      "execution_count": null,
      "outputs": []
    },
    {
      "cell_type": "code",
      "metadata": {
        "id": "knshHu6m5d2G",
        "colab": {
          "base_uri": "https://localhost:8080/"
        },
        "outputId": "b1333811-7348-4b18-a572-699d617bdc21"
      },
      "source": [
        "# a) Qual a probabilidade de que em um determinado dia sejam realizadas exatamentes  três consultas?\n",
        "print(\"P(x=3):\",poisson.pmf(3,2))"
      ],
      "execution_count": null,
      "outputs": [
        {
          "output_type": "stream",
          "text": [
            "P(x=3): 0.18044704431548356\n"
          ],
          "name": "stdout"
        }
      ]
    },
    {
      "cell_type": "code",
      "metadata": {
        "id": "2EAq9c7aml4q",
        "colab": {
          "base_uri": "https://localhost:8080/"
        },
        "outputId": "b430dbed-2527-49dc-ed4d-87a82cd7e6b1"
      },
      "source": [
        "print(poisson.pmf(2,0.25))"
      ],
      "execution_count": null,
      "outputs": [
        {
          "output_type": "stream",
          "text": [
            "0.024337524470981402\n"
          ],
          "name": "stdout"
        }
      ]
    },
    {
      "cell_type": "code",
      "metadata": {
        "id": "qahAKReB50cu",
        "colab": {
          "base_uri": "https://localhost:8080/"
        },
        "outputId": "24ca74b1-0105-4fc5-8e74-2d7b2ca3d90f"
      },
      "source": [
        "# b) Qual a probabildaide de que em um determinado dia ocorram mais de cinco consultas?\n",
        "print(\"P(x=3):\",1-poisson.cdf(5,2))"
      ],
      "execution_count": null,
      "outputs": [
        {
          "output_type": "stream",
          "text": [
            "P(x=3): 0.016563608480614445\n"
          ],
          "name": "stdout"
        }
      ]
    },
    {
      "cell_type": "code",
      "metadata": {
        "id": "EeG3g3Y16eWj",
        "colab": {
          "base_uri": "https://localhost:8080/"
        },
        "outputId": "11a34a2f-ddd7-4a74-8756-7e001268c0b5"
      },
      "source": [
        "# Gerar digitps aleatórios da distribuição Poisson\n",
        "# Poisson\n",
        "from numpy import random\n",
        "\n",
        "x = random.poisson(lam=2, size=10)\n",
        "\n",
        "print(x)"
      ],
      "execution_count": null,
      "outputs": [
        {
          "output_type": "stream",
          "text": [
            "[0 2 3 2 1 1 2 3 4 3]\n"
          ],
          "name": "stdout"
        }
      ]
    },
    {
      "cell_type": "code",
      "metadata": {
        "id": "5e6TUy6I_1dM",
        "colab": {
          "base_uri": "https://localhost:8080/",
          "height": 321
        },
        "outputId": "ef45a451-0766-4522-af6e-1d7b39e64f9b"
      },
      "source": [
        "# Geração de valores aleatórios e apresentação gráfica\n",
        "from numpy import random\n",
        "import matplotlib.pyplot as plt\n",
        "import seaborn as sns\n",
        "sns.distplot(random.poisson(lam=2, size=1000), kde=False)\n",
        "plt.show()"
      ],
      "execution_count": null,
      "outputs": [
        {
          "output_type": "stream",
          "text": [
            "/usr/local/lib/python3.6/dist-packages/seaborn/distributions.py:2551: FutureWarning: `distplot` is a deprecated function and will be removed in a future version. Please adapt your code to use either `displot` (a figure-level function with similar flexibility) or `histplot` (an axes-level function for histograms).\n",
            "  warnings.warn(msg, FutureWarning)\n"
          ],
          "name": "stderr"
        },
        {
          "output_type": "display_data",
          "data": {
            "image/png": "[encoded data removed]",
            "text/plain": [
              "<Figure size 432x288 with 1 Axes>"
            ]
          },
          "metadata": {
            "tags": [],
            "needs_background": "light"
          }
        }
      ]
    },
    {
      "cell_type": "markdown",
      "metadata": {
        "id": "iTAd8Dd3SPVD"
      },
      "source": [
        "Distribuição Uniforme"
      ]
    },
    {
      "cell_type": "code",
      "metadata": {
        "id": "sJz97wtcSWIq"
      },
      "source": [
        "# Exemplo\n",
        "## Um profissional de computação observou que seu sistema gasta entre 20 e 24 segundos para realizar determinada tarefa. Sob esse intervalo, calcule a média, variância e a probabilidade do sistema gastar mais de 23 segundos."
      ],
      "execution_count": null,
      "outputs": []
    },
    {
      "cell_type": "markdown",
      "metadata": {
        "id": "RHPOYHIs69GB"
      },
      "source": [
        "varíável acumulada - usamos sdf da função\r\n",
        "parametros:\r\n",
        "x =23, escala que vai de 20 a 24, com isso a escala é 4\r\n",
        "\r\n",
        "está sendo subtraído de um pq ele trabalha o acumulado, onde ele começa do menor para o maior\r\n",
        "como queromos a area de 23 a 24...calculamos o complementar... se ele quer de 23 pra cima, a probabilidade complementar é o inverso, como 1- probabilidade de x <= 23\r\n",
        "\r\n",
        "valor de interesse, ponto inicial, escala"
      ]
    },
    {
      "cell_type": "code",
      "metadata": {
        "id": "v3OLB-KNT4O-",
        "outputId": "6a313616-83c7-44b3-d514-bb1bff817d47",
        "colab": {
          "base_uri": "https://localhost:8080/"
        }
      },
      "source": [
        "# P(X>23) = 1 - P(X<=23)\n",
        "1-uniform.cdf(23,20,4)\n"
      ],
      "execution_count": 2,
      "outputs": [
        {
          "output_type": "execute_result",
          "data": {
            "text/plain": [
              "0.25"
            ]
          },
          "metadata": {
            "tags": []
          },
          "execution_count": 2
        }
      ]
    },
    {
      "cell_type": "markdown",
      "metadata": {
        "id": "1bSvtP-o-dcA"
      },
      "source": [
        "uniform.cdf(x,a,intervalo)"
      ]
    },
    {
      "cell_type": "code",
      "metadata": {
        "id": "dFUUmcm89t0_",
        "outputId": "4f369b70-21d6-4395-f28f-e2c1d638a807",
        "colab": {
          "base_uri": "https://localhost:8080/"
        }
      },
      "source": [
        "uniform.cdf(22,20,4)-uniform.cdf(21,20,4)"
      ],
      "execution_count": 3,
      "outputs": [
        {
          "output_type": "execute_result",
          "data": {
            "text/plain": [
              "0.25"
            ]
          },
          "metadata": {
            "tags": []
          },
          "execution_count": 3
        }
      ]
    },
    {
      "cell_type": "code",
      "metadata": {
        "id": "9MV_QOq--LPk",
        "outputId": "c2e18275-6ead-427f-ed2b-e2e8e9ddf854",
        "colab": {
          "base_uri": "https://localhost:8080/"
        }
      },
      "source": [
        "uniform.cdf(23,20,4)-uniform.cdf(21,20,4)"
      ],
      "execution_count": 4,
      "outputs": [
        {
          "output_type": "execute_result",
          "data": {
            "text/plain": [
              "0.5"
            ]
          },
          "metadata": {
            "tags": []
          },
          "execution_count": 4
        }
      ]
    },
    {
      "cell_type": "code",
      "metadata": {
        "id": "tVNHPWks5Grf"
      },
      "source": [
        "random.uniform(0,1, size=1000)"
      ],
      "execution_count": null,
      "outputs": []
    },
    {
      "cell_type": "markdown",
      "metadata": {
        "id": "B1bjO5Wn-_-3"
      },
      "source": [
        "sns.distplot(random.uniform(20,24, size=1000), kde=True)\r\n",
        "\r\n",
        "uniform(a,b), qtd de elementos para serem gerados\r\n",
        "\r\n",
        "é quase um retângulo"
      ]
    },
    {
      "cell_type": "code",
      "metadata": {
        "id": "Qxij_0R8vf1X",
        "outputId": "42d2966b-636e-425e-e092-b9640bae9270",
        "colab": {
          "base_uri": "https://localhost:8080/",
          "height": 337
        }
      },
      "source": [
        "# Geração de valores aleatórios e apresentação gráfica\n",
        "from numpy import random\n",
        "import matplotlib.pyplot as plt\n",
        "import seaborn as sns\n",
        "sns.distplot(random.uniform(20,24, size=1000), kde=True)\n",
        "plt.title('Distribuição Unifome')\n",
        "plt.show()"
      ],
      "execution_count": 5,
      "outputs": [
        {
          "output_type": "stream",
          "text": [
            "/usr/local/lib/python3.6/dist-packages/seaborn/distributions.py:2551: FutureWarning: `distplot` is a deprecated function and will be removed in a future version. Please adapt your code to use either `displot` (a figure-level function with similar flexibility) or `histplot` (an axes-level function for histograms).\n",
            "  warnings.warn(msg, FutureWarning)\n"
          ],
          "name": "stderr"
        },
        {
          "output_type": "display_data",
          "data": {
            "image/png": "[encoded data removed]",
            "text/plain": [
              "<Figure size 432x288 with 1 Axes>"
            ]
          },
          "metadata": {
            "tags": [],
            "needs_background": "light"
          }
        }
      ]
    },
    {
      "cell_type": "markdown",
      "metadata": {
        "id": "6OILn4dc1sFA"
      },
      "source": [
        "Distribuição Exponencial"
      ]
    },
    {
      "cell_type": "markdown",
      "metadata": {
        "id": "ehWPY6JrFb89"
      },
      "source": [
        "cdf cacula o acumulsdo "
      ]
    },
    {
      "cell_type": "code",
      "metadata": {
        "id": "kumv-HPeW8D3",
        "outputId": "c66215be-acd8-4a5e-9a68-f115354542b5",
        "colab": {
          "base_uri": "https://localhost:8080/"
        }
      },
      "source": [
        "# no scale deve ser coloado a média da distribuição: E[t] = 1/lambda\n",
        "# P(2<= T <=3) = P(T>=2) - P(T>3)\n",
        "expon.cdf(3,scale=1/2)-expon.cdf(2,scale=1/2) "
      ],
      "execution_count": 6,
      "outputs": [
        {
          "output_type": "execute_result",
          "data": {
            "text/plain": [
              "0.015836886712067844"
            ]
          },
          "metadata": {
            "tags": []
          },
          "execution_count": 6
        }
      ]
    },
    {
      "cell_type": "code",
      "metadata": {
        "id": "PnMkhXLLvU6Z",
        "outputId": "852c007f-59ad-4ca3-da39-ca94a0be2767",
        "colab": {
          "base_uri": "https://localhost:8080/",
          "height": 337
        }
      },
      "source": [
        "# Geração de valores aleatórios e apresentação gráfica\n",
        "import matplotlib.pyplot as plt\n",
        "import seaborn as sns\n",
        "dexpo = (random.exponential(2, size=1000))\n",
        "sns.distplot(dexpo, kde=True)\n",
        "plt.title('Distribuição Exponencial')\n",
        "plt.show()"
      ],
      "execution_count": 16,
      "outputs": [
        {
          "output_type": "stream",
          "text": [
            "/usr/local/lib/python3.6/dist-packages/seaborn/distributions.py:2551: FutureWarning: `distplot` is a deprecated function and will be removed in a future version. Please adapt your code to use either `displot` (a figure-level function with similar flexibility) or `histplot` (an axes-level function for histograms).\n",
            "  warnings.warn(msg, FutureWarning)\n"
          ],
          "name": "stderr"
        },
        {
          "output_type": "display_data",
          "data": {
            "image/png": "[encoded data removed]",
            "text/plain": [
              "<Figure size 432x288 with 1 Axes>"
            ]
          },
          "metadata": {
            "tags": [],
            "needs_background": "light"
          }
        }
      ]
    },
    {
      "cell_type": "markdown",
      "metadata": {
        "id": "Yv8H_p314573"
      },
      "source": [
        "Distribuição Normal"
      ]
    },
    {
      "cell_type": "code",
      "metadata": {
        "id": "KGyzVllskIgQ"
      },
      "source": [
        "\n",
        "# Exemplo: Suponha que o tempo de resposta na execução de \n",
        "# um algoritmo é uma variável aleatória com distribuição \n",
        "# normal de média 23 segundos e desvio padrão de 4 segundos. Calcule:\n"
      ],
      "execution_count": null,
      "outputs": []
    },
    {
      "cell_type": "markdown",
      "metadata": {
        "id": "xXbx54ySXO-i"
      },
      "source": [
        "*parâmetros => norm.cdf(x,u,sigma) => x, media, desvio padrão*"
      ]
    },
    {
      "cell_type": "code",
      "metadata": {
        "id": "X-sm3D2e2uTM",
        "outputId": "3b4ca9bd-0f0a-46d8-e7e1-4963be1ff12d",
        "colab": {
          "base_uri": "https://localhost:8080/"
        }
      },
      "source": [
        "# a) A probabilidade de o tempo de resposta ser menor que 22 segundos;\n",
        "# P(x < 22) = F(22)\n",
        "norm.cdf(22, 23, 4)"
      ],
      "execution_count": 8,
      "outputs": [
        {
          "output_type": "execute_result",
          "data": {
            "text/plain": [
              "0.4012936743170763"
            ]
          },
          "metadata": {
            "tags": []
          },
          "execution_count": 8
        }
      ]
    },
    {
      "cell_type": "code",
      "metadata": {
        "id": "obcqNszGz68J"
      },
      "source": [
        "norm.cdf(8,6,4)-norm.cdf(7,6,4)"
      ],
      "execution_count": null,
      "outputs": []
    },
    {
      "cell_type": "markdown",
      "metadata": {
        "id": "B-zDC6n6aBdD"
      },
      "source": [
        "nesse ele trabalha com a acumulada, por isso que ele só aplica a subtração direta nelas => diferente do cálculo a mão\r\n",
        "\r\n",
        "* F(30)-F(20)\r\n",
        "* ACUMULADA É QUANDO O X < Xi -> vai de um ponto até o outro"
      ]
    },
    {
      "cell_type": "code",
      "metadata": {
        "id": "YDEYXqus6QNt",
        "outputId": "65be84ba-19b7-4aba-812e-3f15c8712aa6",
        "colab": {
          "base_uri": "https://localhost:8080/"
        }
      },
      "source": [
        "# b) A probabilidade de o tempo de resposta ficar entre 20 e 30 segundos;\n",
        "# P(20 <= X <= 30)\n",
        "norm.cdf(30,23,4)-norm.cdf(20,23,4)"
      ],
      "execution_count": 10,
      "outputs": [
        {
          "output_type": "execute_result",
          "data": {
            "text/plain": [
              "0.7333134907593146"
            ]
          },
          "metadata": {
            "tags": []
          },
          "execution_count": 10
        }
      ]
    },
    {
      "cell_type": "markdown",
      "metadata": {
        "id": "pZK-MZVrbIB6"
      },
      "source": [
        "ele quer o complementar dessa área\r\n",
        "ele está com sinal negativo , então n posso fazer direto, tenho que analisar por grafico\r\n",
        "pq ele quer alem de meio"
      ]
    },
    {
      "cell_type": "code",
      "metadata": {
        "id": "-xtpz2y47KZd",
        "outputId": "b13f9ac4-f5ee-409f-81d0-c62877ff6523",
        "colab": {
          "base_uri": "https://localhost:8080/"
        }
      },
      "source": [
        "# c) A probabilidade do tempo de resposta ser maior que 21 segundos;\n",
        "1-norm.cdf(21,23,4)"
      ],
      "execution_count": 9,
      "outputs": [
        {
          "output_type": "execute_result",
          "data": {
            "text/plain": [
              "0.6914624612740131"
            ]
          },
          "metadata": {
            "tags": []
          },
          "execution_count": 9
        }
      ]
    },
    {
      "cell_type": "markdown",
      "metadata": {
        "id": "R2qYbkk7dMat"
      },
      "source": [
        "esse tbm é uma particularidade, pois é um intervalo que não contempla a média\r\n",
        "\r\n",
        "quando o intervalo contem a média, a área é maior, tem amplitude maior do que um intervalo que n tem"
      ]
    },
    {
      "cell_type": "markdown",
      "metadata": {
        "id": "MB_pYh95evgr"
      },
      "source": [
        "tbm é acumulado\r\n",
        "* F(26) - F(24)"
      ]
    },
    {
      "cell_type": "code",
      "metadata": {
        "id": "V2A5QCm47UnO",
        "outputId": "db630de4-942d-4a92-9bf8-6eb33ab9ad45",
        "colab": {
          "base_uri": "https://localhost:8080/"
        }
      },
      "source": [
        "# d) A probabilidade do tempo de respostar ficar entre 24 e 26 segundos;\n",
        "norm.cdf(26,23,4)-norm.cdf(24,23,4)"
      ],
      "execution_count": 11,
      "outputs": [
        {
          "output_type": "execute_result",
          "data": {
            "text/plain": [
              "0.17466632194020804"
            ]
          },
          "metadata": {
            "tags": []
          },
          "execution_count": 11
        }
      ]
    },
    {
      "cell_type": "code",
      "metadata": {
        "id": "8cnThsxYO5H4",
        "outputId": "fbabdbf7-82f9-471e-998c-3bd38274c7ed",
        "colab": {
          "base_uri": "https://localhost:8080/"
        }
      },
      "source": [
        "norm.cdf(8 ,6,4)-norm.cdf(7,6,4)"
      ],
      "execution_count": 12,
      "outputs": [
        {
          "output_type": "execute_result",
          "data": {
            "text/plain": [
              "0.09275613559108942"
            ]
          },
          "metadata": {
            "tags": []
          },
          "execution_count": 12
        }
      ]
    },
    {
      "cell_type": "markdown",
      "metadata": {
        "id": "uuFWydOzhSY1"
      },
      "source": [
        "\r\n",
        "ele quer o valor de x\r\n",
        "\r\n",
        "o 10% é a probabilidade\r\n",
        "ele quer os 10% que ainda não chegou na média\r\n",
        "\r\n",
        "10% equivale a 0,1\r\n",
        "procurar na tabela o que equivale\r\n",
        "\r\n",
        "z = 1,28\r\n",
        "como é uma área abaixo do 0, então se torna negativo\r\n",
        "z = -1,28\r\n",
        "\r\n",
        "\r\n",
        "\r\n",
        "z = x - u  /sigma\r\n",
        "-1,28 = x-23  /4\r\n",
        "x = 17,88 s\r\n",
        "\r\n",
        "consegui estimar o tempo mínimo para os 10% não alcançarem o valor da média\r\n",
        "\r\n",
        "\r\n",
        "\r\n"
      ]
    },
    {
      "cell_type": "code",
      "metadata": {
        "id": "Z1xNEVcE7Xts",
        "outputId": "dbcaa268-f6ee-4170-f3fd-6740d1795508",
        "colab": {
          "base_uri": "https://localhost:8080/"
        }
      },
      "source": [
        "# e) Qual deve ser o tempo de resposta mínimo para 10% \n",
        "#não completarem os 23 segundos?  \n",
        "norm.ppf(0.10,23,4)"
      ],
      "execution_count": 13,
      "outputs": [
        {
          "output_type": "execute_result",
          "data": {
            "text/plain": [
              "17.8737937378216"
            ]
          },
          "metadata": {
            "tags": []
          },
          "execution_count": 13
        }
      ]
    },
    {
      "cell_type": "markdown",
      "metadata": {
        "id": "Z0wQ9De7hbFq"
      },
      "source": [
        "função acumulada para a probabilidade:\r\n",
        "isf - para pegar o valor de x com base na probabilidade\r\n",
        "* parametro (o complementar do valor de interesse, media, desvio pardao)"
      ]
    },
    {
      "cell_type": "code",
      "metadata": {
        "id": "FEiAODuUhaT9",
        "outputId": "9e990f4a-4507-45ba-bba3-644fd2ce9ba5",
        "colab": {
          "base_uri": "https://localhost:8080/"
        }
      },
      "source": [
        "norm.isf(0.90,23,4)"
      ],
      "execution_count": 14,
      "outputs": [
        {
          "output_type": "execute_result",
          "data": {
            "text/plain": [
              "17.8737937378216"
            ]
          },
          "metadata": {
            "tags": []
          },
          "execution_count": 14
        }
      ]
    },
    {
      "cell_type": "code",
      "metadata": {
        "id": "xrsydY6x-nTd",
        "outputId": "dec9a932-7621-4ed3-af70-3fa6c02f1730",
        "colab": {
          "base_uri": "https://localhost:8080/",
          "height": 337
        }
      },
      "source": [
        "# Geração de valores aleatórios e apresentação gráfica\n",
        "import matplotlib.pyplot as plt\n",
        "import seaborn as sns\n",
        "dnormal = (random.normal(23,4, size=1000))\n",
        "sns.distplot(dnormal, kde=True)\n",
        "plt.title('Distribuição Normal')\n",
        "plt.show()\n"
      ],
      "execution_count": 15,
      "outputs": [
        {
          "output_type": "stream",
          "text": [
            "/usr/local/lib/python3.6/dist-packages/seaborn/distributions.py:2551: FutureWarning: `distplot` is a deprecated function and will be removed in a future version. Please adapt your code to use either `displot` (a figure-level function with similar flexibility) or `histplot` (an axes-level function for histograms).\n",
            "  warnings.warn(msg, FutureWarning)\n"
          ],
          "name": "stderr"
        },
        {
          "output_type": "display_data",
          "data": {
            "image/png": "[encoded data removed]",
            "text/plain": [
              "<Figure size 432x288 with 1 Axes>"
            ]
          },
          "metadata": {
            "tags": [],
            "needs_background": "light"
          }
        }
      ]
    },
    {
      "cell_type": "markdown",
      "metadata": {
        "id": "enlJQj7Ei3Iy"
      },
      "source": [
        "esse grafico é uma forma mais assertiva se a distribuição é normal\r\n",
        "\r\n",
        "esse grafico dá o veredito par saber se a distribuição é ou não é *normal*"
      ]
    },
    {
      "cell_type": "markdown",
      "metadata": {
        "id": "Oh0waFLdj_12"
      },
      "source": [
        "este tem uma distribuição normal => se os dados estiverem em cima da linha"
      ]
    },
    {
      "cell_type": "code",
      "metadata": {
        "id": "W5o85qxfyoCn",
        "outputId": "50c836a7-7d79-45d8-9e52-ae749cf724e9",
        "colab": {
          "base_uri": "https://localhost:8080/",
          "height": 295
        }
      },
      "source": [
        "# Geração de gráfico para verificar se a distribuição é normal 1\n",
        "fig, ax = plt.subplots()\n",
        "stats.probplot(dnormal, fit=True,   plot=ax)\n",
        "plt.show()"
      ],
      "execution_count": 17,
      "outputs": [
        {
          "output_type": "display_data",
          "data": {
            "image/png": "[encoded data removed]",
            "text/plain": [
              "<Figure size 432x288 with 1 Axes>"
            ]
          },
          "metadata": {
            "tags": [],
            "needs_background": "light"
          }
        }
      ]
    },
    {
      "cell_type": "markdown",
      "metadata": {
        "id": "Tewt1z1Zj1Y_"
      },
      "source": [
        "quando ele tem essa curva, isso mostra que ele não tem distribuição normal"
      ]
    },
    {
      "cell_type": "code",
      "metadata": {
        "id": "Mwbj-GL31Iff",
        "outputId": "98711e39-9f76-47af-a596-a4d46bc5a6c5",
        "colab": {
          "base_uri": "https://localhost:8080/",
          "height": 295
        }
      },
      "source": [
        "# Geração de gráfico para verificar se a distribuição é normal 1\n",
        "fig, ax = plt.subplots()\n",
        "stats.probplot(dexpo, fit=True,   plot=ax)\n",
        "plt.show()"
      ],
      "execution_count": 20,
      "outputs": [
        {
          "output_type": "display_data",
          "data": {
            "image/png": "[encoded data removed]",
            "text/plain": [
              "<Figure size 432x288 with 1 Axes>"
            ]
          },
          "metadata": {
            "tags": [],
            "needs_background": "light"
          }
        }
      ]
    },
    {
      "cell_type": "markdown",
      "metadata": {
        "id": "Kpuo958XkOrW"
      },
      "source": [
        "teste estatístico para avaliar precisamente o tipo de distribuição"
      ]
    },
    {
      "cell_type": "markdown",
      "metadata": {
        "id": "QfVFLz2zkrnP"
      },
      "source": [
        "indica por meio de dados estatísticos se tem a distribuição é normal\r\n",
        "\r\n",
        "se o p é maior que 5 ele é normal\r\n",
        "\r\n",
        "isso é importante pq deixo de usar a media e uso a mediana, em distribuição não simetrica\r\n",
        "\r\n",
        "esse é o famoso teste de normalidade"
      ]
    },
    {
      "cell_type": "code",
      "metadata": {
        "id": "NIOrSUJxkYoV",
        "outputId": "5c5254e1-e2e6-446f-9c5b-8157a2ad02f5",
        "colab": {
          "base_uri": "https://localhost:8080/"
        }
      },
      "source": [
        "#Execução do teste de Shapiro Wilk\r\n",
        "#Primeiro valor é o resultado da estatística e o segundo argumento é o valor de p.\r\n",
        "stats.shapiro(dnormal)"
      ],
      "execution_count": 21,
      "outputs": [
        {
          "output_type": "execute_result",
          "data": {
            "text/plain": [
              "(0.9982107877731323, 0.38238298892974854)"
            ]
          },
          "metadata": {
            "tags": []
          },
          "execution_count": 21
        }
      ]
    },
    {
      "cell_type": "code",
      "metadata": {
        "id": "EZpBq2C0585R",
        "outputId": "8057a4d3-8bef-4d2d-ba20-715934a8cfa9",
        "colab": {
          "base_uri": "https://localhost:8080/"
        }
      },
      "source": [
        "# Execução do teste de Shapiro Wilk\n",
        "# Primeiro valor é o resultado da estatística e o segundo argumento é o valor de p.\n",
        "# Ho = Os dados apresentam distribuição\n",
        "# H1 = Os dados não apresentam distribuição normal\n",
        "# Se o segundo termo (p-valor) é menor que 0,05 (5%) rejeita-se a hipótese nula.\n",
        "# stats.shapiro(dnormal)\n",
        "stats.shapiro(dexpo)"
      ],
      "execution_count": 22,
      "outputs": [
        {
          "output_type": "execute_result",
          "data": {
            "text/plain": [
              "(0.8080289363861084, 7.709611208298471e-33)"
            ]
          },
          "metadata": {
            "tags": []
          },
          "execution_count": 22
        }
      ]
    },
    {
      "cell_type": "code",
      "metadata": {
        "id": "vrNg1_woSxuv"
      },
      "source": [
        ""
      ],
      "execution_count": null,
      "outputs": []
    }
  ]
}
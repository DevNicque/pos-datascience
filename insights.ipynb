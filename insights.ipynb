{
  "nbformat": 4,
  "nbformat_minor": 0,
  "metadata": {
    "colab": {
      "name": "insights.ipynb",
      "provenance": [],
      "collapsed_sections": [],
      "authorship_tag": "ABX9TyOVO5Xp29zZ8HyNH+kJjE3Y",
      "include_colab_link": true
    },
    "kernelspec": {
      "name": "python3",
      "display_name": "Python 3"
    }
  },
  "cells": [
    {
      "cell_type": "markdown",
      "metadata": {
        "id": "view-in-github",
        "colab_type": "text"
      },
      "source": [
        "<a href=\"https://colab.research.google.com/github/DevNicque/pos-datascience/blob/modulo_4/insights.ipynb\" target=\"_parent\"><img src=\"https://colab.research.google.com/assets/colab-badge.svg\" alt=\"Open In Colab\"/></a>"
      ]
    },
    {
      "cell_type": "code",
      "metadata": {
        "id": "29l0oV6l9mzo"
      },
      "source": [
        "import pandas as pd\r\n",
        "import sqlite3\r\n",
        "import numpy as np\r\n",
        "import seaborn as sns\r\n",
        "import matplotlib.pyplot as plt\r\n"
      ],
      "execution_count": 41,
      "outputs": []
    },
    {
      "cell_type": "code",
      "metadata": {
        "colab": {
          "base_uri": "https://localhost:8080/"
        },
        "id": "_KKz7Zgc928W",
        "outputId": "82673bfc-d2ed-4722-c52e-87bb961a8401"
      },
      "source": [
        "from google.colab import drive\r\n",
        "drive.mount('/content/drive')"
      ],
      "execution_count": 15,
      "outputs": [
        {
          "output_type": "stream",
          "text": [
            "Drive already mounted at /content/drive; to attempt to forcibly remount, call drive.mount(\"/content/drive\", force_remount=True).\n"
          ],
          "name": "stdout"
        }
      ]
    },
    {
      "cell_type": "code",
      "metadata": {
        "id": "0PiynOOO9odR"
      },
      "source": [
        "con = sqlite3.connect('northwind_small.sqlite')"
      ],
      "execution_count": 21,
      "outputs": []
    },
    {
      "cell_type": "code",
      "metadata": {
        "id": "pgVbCr8j9-Vj"
      },
      "source": [
        "str_query = ('SELECT c.Region, od.OrderId, od.Quantity, od.UnitPrice, od.Discount '\r\n",
        "             'FROM Customer c '\r\n",
        "             'JOIN [Order] o ON c.Id = o.CustomerId '\r\n",
        "             'JOIN OrderDetail od ON od.OrderID = o.Id')"
      ],
      "execution_count": 22,
      "outputs": []
    },
    {
      "cell_type": "code",
      "metadata": {
        "colab": {
          "base_uri": "https://localhost:8080/",
          "height": 204
        },
        "id": "rbU0HHRo9_EC",
        "outputId": "4987dd38-900d-4fa6-ec0d-6584a8576d7d"
      },
      "source": [
        "df = pd.read_sql_query(str_query,con)\r\n",
        "df.head()"
      ],
      "execution_count": 23,
      "outputs": [
        {
          "output_type": "execute_result",
          "data": {
            "text/html": [
              "<div>\n",
              "<style scoped>\n",
              "    .dataframe tbody tr th:only-of-type {\n",
              "        vertical-align: middle;\n",
              "    }\n",
              "\n",
              "    .dataframe tbody tr th {\n",
              "        vertical-align: top;\n",
              "    }\n",
              "\n",
              "    .dataframe thead th {\n",
              "        text-align: right;\n",
              "    }\n",
              "</style>\n",
              "<table border=\"1\" class=\"dataframe\">\n",
              "  <thead>\n",
              "    <tr style=\"text-align: right;\">\n",
              "      <th></th>\n",
              "      <th>Region</th>\n",
              "      <th>OrderId</th>\n",
              "      <th>Quantity</th>\n",
              "      <th>UnitPrice</th>\n",
              "      <th>Discount</th>\n",
              "    </tr>\n",
              "  </thead>\n",
              "  <tbody>\n",
              "    <tr>\n",
              "      <th>0</th>\n",
              "      <td>Western Europe</td>\n",
              "      <td>10248</td>\n",
              "      <td>12</td>\n",
              "      <td>14.0</td>\n",
              "      <td>0.0</td>\n",
              "    </tr>\n",
              "    <tr>\n",
              "      <th>1</th>\n",
              "      <td>Western Europe</td>\n",
              "      <td>10248</td>\n",
              "      <td>10</td>\n",
              "      <td>9.8</td>\n",
              "      <td>0.0</td>\n",
              "    </tr>\n",
              "    <tr>\n",
              "      <th>2</th>\n",
              "      <td>Western Europe</td>\n",
              "      <td>10248</td>\n",
              "      <td>5</td>\n",
              "      <td>34.8</td>\n",
              "      <td>0.0</td>\n",
              "    </tr>\n",
              "    <tr>\n",
              "      <th>3</th>\n",
              "      <td>Western Europe</td>\n",
              "      <td>10249</td>\n",
              "      <td>9</td>\n",
              "      <td>18.6</td>\n",
              "      <td>0.0</td>\n",
              "    </tr>\n",
              "    <tr>\n",
              "      <th>4</th>\n",
              "      <td>Western Europe</td>\n",
              "      <td>10249</td>\n",
              "      <td>40</td>\n",
              "      <td>42.4</td>\n",
              "      <td>0.0</td>\n",
              "    </tr>\n",
              "  </tbody>\n",
              "</table>\n",
              "</div>"
            ],
            "text/plain": [
              "           Region  OrderId  Quantity  UnitPrice  Discount\n",
              "0  Western Europe    10248        12       14.0       0.0\n",
              "1  Western Europe    10248        10        9.8       0.0\n",
              "2  Western Europe    10248         5       34.8       0.0\n",
              "3  Western Europe    10249         9       18.6       0.0\n",
              "4  Western Europe    10249        40       42.4       0.0"
            ]
          },
          "metadata": {
            "tags": []
          },
          "execution_count": 23
        }
      ]
    },
    {
      "cell_type": "code",
      "metadata": {
        "id": "qQFZrKPvD7v7"
      },
      "source": [
        "df_i = df.copy()"
      ],
      "execution_count": 24,
      "outputs": []
    },
    {
      "cell_type": "code",
      "metadata": {
        "id": "7z3t__npC2QC"
      },
      "source": [
        "df_i['price_per_order'] = df_i.Quantity * df_i.UnitPrice * (1-df_i.Discount)\r\n",
        "df_i.drop(['Quantity', 'UnitPrice', 'Discount'], axis=1, inplace=True)\r\n",
        "df_i = df_i.groupby(['Region','OrderId'])['price_per_order'].sum().reset_index()\r\n",
        "df_i.drop('OrderId', axis=1, inplace = True)"
      ],
      "execution_count": 25,
      "outputs": []
    },
    {
      "cell_type": "code",
      "metadata": {
        "colab": {
          "base_uri": "https://localhost:8080/",
          "height": 204
        },
        "id": "Lb3SGA0ZC2LX",
        "outputId": "3e645feb-c219-4c2e-cd16-ec4db31d99ca"
      },
      "source": [
        "df_i.head()"
      ],
      "execution_count": 26,
      "outputs": [
        {
          "output_type": "execute_result",
          "data": {
            "text/html": [
              "<div>\n",
              "<style scoped>\n",
              "    .dataframe tbody tr th:only-of-type {\n",
              "        vertical-align: middle;\n",
              "    }\n",
              "\n",
              "    .dataframe tbody tr th {\n",
              "        vertical-align: top;\n",
              "    }\n",
              "\n",
              "    .dataframe thead th {\n",
              "        text-align: right;\n",
              "    }\n",
              "</style>\n",
              "<table border=\"1\" class=\"dataframe\">\n",
              "  <thead>\n",
              "    <tr style=\"text-align: right;\">\n",
              "      <th></th>\n",
              "      <th>Region</th>\n",
              "      <th>price_per_order</th>\n",
              "    </tr>\n",
              "  </thead>\n",
              "  <tbody>\n",
              "    <tr>\n",
              "      <th>0</th>\n",
              "      <td>British Isles</td>\n",
              "      <td>479.4</td>\n",
              "    </tr>\n",
              "    <tr>\n",
              "      <th>1</th>\n",
              "      <td>British Isles</td>\n",
              "      <td>2645.0</td>\n",
              "    </tr>\n",
              "    <tr>\n",
              "      <th>2</th>\n",
              "      <td>British Isles</td>\n",
              "      <td>1762.0</td>\n",
              "    </tr>\n",
              "    <tr>\n",
              "      <th>3</th>\n",
              "      <td>British Isles</td>\n",
              "      <td>516.8</td>\n",
              "    </tr>\n",
              "    <tr>\n",
              "      <th>4</th>\n",
              "      <td>British Isles</td>\n",
              "      <td>240.4</td>\n",
              "    </tr>\n",
              "  </tbody>\n",
              "</table>\n",
              "</div>"
            ],
            "text/plain": [
              "          Region  price_per_order\n",
              "0  British Isles            479.4\n",
              "1  British Isles           2645.0\n",
              "2  British Isles           1762.0\n",
              "3  British Isles            516.8\n",
              "4  British Isles            240.4"
            ]
          },
          "metadata": {
            "tags": []
          },
          "execution_count": 26
        }
      ]
    },
    {
      "cell_type": "code",
      "metadata": {
        "colab": {
          "base_uri": "https://localhost:8080/",
          "height": 204
        },
        "id": "BIju7aseC2Hx",
        "outputId": "38682c98-b511-4676-990e-6bb24e7f0eda"
      },
      "source": [
        "df_i['price_per_order2'] = np.log(df_i['price_per_order'])\r\n",
        "df_i.head()"
      ],
      "execution_count": 30,
      "outputs": [
        {
          "output_type": "execute_result",
          "data": {
            "text/html": [
              "<div>\n",
              "<style scoped>\n",
              "    .dataframe tbody tr th:only-of-type {\n",
              "        vertical-align: middle;\n",
              "    }\n",
              "\n",
              "    .dataframe tbody tr th {\n",
              "        vertical-align: top;\n",
              "    }\n",
              "\n",
              "    .dataframe thead th {\n",
              "        text-align: right;\n",
              "    }\n",
              "</style>\n",
              "<table border=\"1\" class=\"dataframe\">\n",
              "  <thead>\n",
              "    <tr style=\"text-align: right;\">\n",
              "      <th></th>\n",
              "      <th>Region</th>\n",
              "      <th>price_per_order</th>\n",
              "      <th>price_per_order2</th>\n",
              "    </tr>\n",
              "  </thead>\n",
              "  <tbody>\n",
              "    <tr>\n",
              "      <th>0</th>\n",
              "      <td>British Isles</td>\n",
              "      <td>479.4</td>\n",
              "      <td>6.172535</td>\n",
              "    </tr>\n",
              "    <tr>\n",
              "      <th>1</th>\n",
              "      <td>British Isles</td>\n",
              "      <td>2645.0</td>\n",
              "      <td>7.880426</td>\n",
              "    </tr>\n",
              "    <tr>\n",
              "      <th>2</th>\n",
              "      <td>British Isles</td>\n",
              "      <td>1762.0</td>\n",
              "      <td>7.474205</td>\n",
              "    </tr>\n",
              "    <tr>\n",
              "      <th>3</th>\n",
              "      <td>British Isles</td>\n",
              "      <td>516.8</td>\n",
              "      <td>6.247656</td>\n",
              "    </tr>\n",
              "    <tr>\n",
              "      <th>4</th>\n",
              "      <td>British Isles</td>\n",
              "      <td>240.4</td>\n",
              "      <td>5.482304</td>\n",
              "    </tr>\n",
              "  </tbody>\n",
              "</table>\n",
              "</div>"
            ],
            "text/plain": [
              "          Region  price_per_order  price_per_order2\n",
              "0  British Isles            479.4          6.172535\n",
              "1  British Isles           2645.0          7.880426\n",
              "2  British Isles           1762.0          7.474205\n",
              "3  British Isles            516.8          6.247656\n",
              "4  British Isles            240.4          5.482304"
            ]
          },
          "metadata": {
            "tags": []
          },
          "execution_count": 30
        }
      ]
    },
    {
      "cell_type": "markdown",
      "metadata": {
        "id": "xn5usu5B_6_P"
      },
      "source": [
        "**Questão- Tem regiões que seus gastos médios por pedido são maiores em duas vezes que os gastos de outras regiões**"
      ]
    },
    {
      "cell_type": "markdown",
      "metadata": {
        "id": "Nshj7XfoGwd-"
      },
      "source": [
        "**Entendimento do negócio**"
      ]
    },
    {
      "cell_type": "markdown",
      "metadata": {
        "id": "KnZl1JKZ_tzK"
      },
      "source": [
        "calculo dos gastos medios por regiao\r\n"
      ]
    },
    {
      "cell_type": "code",
      "metadata": {
        "id": "oumpD6c6AdnO"
      },
      "source": [
        "df_media = df_i.copy()"
      ],
      "execution_count": 48,
      "outputs": []
    },
    {
      "cell_type": "code",
      "metadata": {
        "id": "5qDe-cUN_Vc8"
      },
      "source": [
        "df_media = df_i[['Region','price_per_order']].groupby(['Region']).mean().reset_index()"
      ],
      "execution_count": 49,
      "outputs": []
    },
    {
      "cell_type": "markdown",
      "metadata": {
        "id": "h6xgibXN_xrp"
      },
      "source": [
        "calculo das vezes que representam os gastos medios da região de valor com as outras regiões"
      ]
    },
    {
      "cell_type": "code",
      "metadata": {
        "id": "q06Tw9___VaX"
      },
      "source": [
        "percapita_max = df_media['price_per_order'].max()"
      ],
      "execution_count": 50,
      "outputs": []
    },
    {
      "cell_type": "code",
      "metadata": {
        "id": "7uaEqZDt_VXg"
      },
      "source": [
        "df_media['diferenca_div'] = df_media.apply(lambda x: percapita_max / x['price_per_order'], axis = 1)"
      ],
      "execution_count": 51,
      "outputs": []
    },
    {
      "cell_type": "code",
      "metadata": {
        "id": "DVU9AQyo_VTE"
      },
      "source": [
        "df_media['diferenca_sub'] = df_media.apply(lambda x: percapita_max - x['price_per_order'], axis = 1)"
      ],
      "execution_count": 52,
      "outputs": []
    },
    {
      "cell_type": "code",
      "metadata": {
        "colab": {
          "base_uri": "https://localhost:8080/",
          "height": 328
        },
        "id": "sPawyqUy_VFF",
        "outputId": "07f32187-c3b6-4796-ebda-9bb895942ec4"
      },
      "source": [
        "df_media"
      ],
      "execution_count": 53,
      "outputs": [
        {
          "output_type": "execute_result",
          "data": {
            "text/html": [
              "<div>\n",
              "<style scoped>\n",
              "    .dataframe tbody tr th:only-of-type {\n",
              "        vertical-align: middle;\n",
              "    }\n",
              "\n",
              "    .dataframe tbody tr th {\n",
              "        vertical-align: top;\n",
              "    }\n",
              "\n",
              "    .dataframe thead th {\n",
              "        text-align: right;\n",
              "    }\n",
              "</style>\n",
              "<table border=\"1\" class=\"dataframe\">\n",
              "  <thead>\n",
              "    <tr style=\"text-align: right;\">\n",
              "      <th></th>\n",
              "      <th>Region</th>\n",
              "      <th>price_per_order</th>\n",
              "      <th>diferenca_div</th>\n",
              "      <th>diferenca_sub</th>\n",
              "    </tr>\n",
              "  </thead>\n",
              "  <tbody>\n",
              "    <tr>\n",
              "      <th>0</th>\n",
              "      <td>British Isles</td>\n",
              "      <td>1452.682867</td>\n",
              "      <td>1.339540</td>\n",
              "      <td>493.244110</td>\n",
              "    </tr>\n",
              "    <tr>\n",
              "      <th>1</th>\n",
              "      <td>Central America</td>\n",
              "      <td>788.480952</td>\n",
              "      <td>2.467944</td>\n",
              "      <td>1157.446025</td>\n",
              "    </tr>\n",
              "    <tr>\n",
              "      <th>2</th>\n",
              "      <td>Eastern Europe</td>\n",
              "      <td>504.564286</td>\n",
              "      <td>3.856648</td>\n",
              "      <td>1441.362691</td>\n",
              "    </tr>\n",
              "    <tr>\n",
              "      <th>3</th>\n",
              "      <td>North America</td>\n",
              "      <td>1945.926977</td>\n",
              "      <td>1.000000</td>\n",
              "      <td>0.000000</td>\n",
              "    </tr>\n",
              "    <tr>\n",
              "      <th>4</th>\n",
              "      <td>Northern Europe</td>\n",
              "      <td>1584.657500</td>\n",
              "      <td>1.227980</td>\n",
              "      <td>361.269477</td>\n",
              "    </tr>\n",
              "    <tr>\n",
              "      <th>5</th>\n",
              "      <td>Scandinavia</td>\n",
              "      <td>876.614375</td>\n",
              "      <td>2.219821</td>\n",
              "      <td>1069.312602</td>\n",
              "    </tr>\n",
              "    <tr>\n",
              "      <th>6</th>\n",
              "      <td>South America</td>\n",
              "      <td>1123.447307</td>\n",
              "      <td>1.732103</td>\n",
              "      <td>822.479670</td>\n",
              "    </tr>\n",
              "    <tr>\n",
              "      <th>7</th>\n",
              "      <td>Southern Europe</td>\n",
              "      <td>706.651836</td>\n",
              "      <td>2.753728</td>\n",
              "      <td>1239.275141</td>\n",
              "    </tr>\n",
              "    <tr>\n",
              "      <th>8</th>\n",
              "      <td>Western Europe</td>\n",
              "      <td>1851.280914</td>\n",
              "      <td>1.051125</td>\n",
              "      <td>94.646063</td>\n",
              "    </tr>\n",
              "  </tbody>\n",
              "</table>\n",
              "</div>"
            ],
            "text/plain": [
              "            Region  price_per_order  diferenca_div  diferenca_sub\n",
              "0    British Isles      1452.682867       1.339540     493.244110\n",
              "1  Central America       788.480952       2.467944    1157.446025\n",
              "2   Eastern Europe       504.564286       3.856648    1441.362691\n",
              "3    North America      1945.926977       1.000000       0.000000\n",
              "4  Northern Europe      1584.657500       1.227980     361.269477\n",
              "5      Scandinavia       876.614375       2.219821    1069.312602\n",
              "6    South America      1123.447307       1.732103     822.479670\n",
              "7  Southern Europe       706.651836       2.753728    1239.275141\n",
              "8   Western Europe      1851.280914       1.051125      94.646063"
            ]
          },
          "metadata": {
            "tags": []
          },
          "execution_count": 53
        }
      ]
    },
    {
      "cell_type": "code",
      "metadata": {
        "id": "3gUPnWLIH1dR"
      },
      "source": [
        "df_media = df_media.sort_values('price_per_order')"
      ],
      "execution_count": 55,
      "outputs": []
    },
    {
      "cell_type": "code",
      "metadata": {
        "colab": {
          "base_uri": "https://localhost:8080/",
          "height": 296
        },
        "id": "R1bRD5hFG37j",
        "outputId": "63d3923b-50d9-4159-ad51-12ed47a4a2c6"
      },
      "source": [
        "plt.figure(figsize=(15,4))\r\n",
        "sns.barplot(x='Region', y='price_per_order', data = df_media)"
      ],
      "execution_count": 56,
      "outputs": [
        {
          "output_type": "execute_result",
          "data": {
            "text/plain": [
              "<matplotlib.axes._subplots.AxesSubplot at 0x7f4c41decb50>"
            ]
          },
          "metadata": {
            "tags": []
          },
          "execution_count": 56
        },
        {
          "output_type": "display_data",
          "data": {
            "image/png": "[encoded data removed]",
            "text/plain": [
              "<Figure size 1080x288 with 1 Axes>"
            ]
          },
          "metadata": {
            "tags": [],
            "needs_background": "light"
          }
        }
      ]
    }
  ]
}
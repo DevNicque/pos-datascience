{
  "nbformat": 4,
  "nbformat_minor": 0,
  "metadata": {
    "colab": {
      "name": "aula_python.ipynb",
      "provenance": [],
      "collapsed_sections": [],
      "authorship_tag": "ABX9TyP5na1fJRRRuB+FwFpmiDKx",
      "include_colab_link": true
    },
    "kernelspec": {
      "name": "python3",
      "display_name": "Python 3"
    }
  },
  "cells": [
    {
      "cell_type": "markdown",
      "metadata": {
        "id": "view-in-github",
        "colab_type": "text"
      },
      "source": [
        "<a href=\"https://colab.research.google.com/github/DevNicque/pos-datascience/blob/modulo_2/aula_python.ipynb\" target=\"_parent\"><img src=\"https://colab.research.google.com/assets/colab-badge.svg\" alt=\"Open In Colab\"/></a>"
      ]
    },
    {
      "cell_type": "markdown",
      "metadata": {
        "id": "TcIKTscsvHer"
      },
      "source": [
        "\n",
        "**Interpretador**"
      ]
    },
    {
      "cell_type": "code",
      "metadata": {
        "id": "CT6CGQ8fvNOc",
        "outputId": "b7f23f3d-2849-43e4-a71e-75066faea851",
        "colab": {
          "base_uri": "https://localhost:8080/"
        }
      },
      "source": [
        "4+6\n"
      ],
      "execution_count": 1,
      "outputs": [
        {
          "output_type": "execute_result",
          "data": {
            "text/plain": [
              "10"
            ]
          },
          "metadata": {
            "tags": []
          },
          "execution_count": 1
        }
      ]
    },
    {
      "cell_type": "code",
      "metadata": {
        "id": "QDphddsovRut",
        "outputId": "f1f0de7d-7974-425a-b028-7a14918cce6c",
        "colab": {
          "base_uri": "https://localhost:8080/"
        }
      },
      "source": [
        "x = 10\n",
        "\n",
        "print(x)"
      ],
      "execution_count": 2,
      "outputs": [
        {
          "output_type": "stream",
          "text": [
            "10\n"
          ],
          "name": "stdout"
        }
      ]
    },
    {
      "cell_type": "code",
      "metadata": {
        "id": "QoqTvfDnvYZe",
        "outputId": "2212e776-a77e-47d1-b70b-f96bad2856df",
        "colab": {
          "base_uri": "https://localhost:8080/"
        }
      },
      "source": [
        "2*5"
      ],
      "execution_count": 3,
      "outputs": [
        {
          "output_type": "execute_result",
          "data": {
            "text/plain": [
              "10"
            ]
          },
          "metadata": {
            "tags": []
          },
          "execution_count": 3
        }
      ]
    },
    {
      "cell_type": "code",
      "metadata": {
        "id": "ckIPaTCKv6X0",
        "outputId": "e4f7feca-a1bc-4832-f8f2-45b8e25750ef",
        "colab": {
          "base_uri": "https://localhost:8080/"
        }
      },
      "source": [
        "2/5"
      ],
      "execution_count": 4,
      "outputs": [
        {
          "output_type": "execute_result",
          "data": {
            "text/plain": [
              "0.4"
            ]
          },
          "metadata": {
            "tags": []
          },
          "execution_count": 4
        }
      ]
    },
    {
      "cell_type": "code",
      "metadata": {
        "id": "ICmVrbMFv7mP",
        "outputId": "31362ecd-898b-4724-afdc-b102d2c889e7",
        "colab": {
          "base_uri": "https://localhost:8080/"
        }
      },
      "source": [
        "2-5"
      ],
      "execution_count": 5,
      "outputs": [
        {
          "output_type": "execute_result",
          "data": {
            "text/plain": [
              "-3"
            ]
          },
          "metadata": {
            "tags": []
          },
          "execution_count": 5
        }
      ]
    },
    {
      "cell_type": "markdown",
      "metadata": {
        "id": "QVtRKopfwWfx"
      },
      "source": [
        "*potência*"
      ]
    },
    {
      "cell_type": "code",
      "metadata": {
        "id": "xBVt6OWmv82z",
        "outputId": "e8008bb2-31ab-4a90-e5d2-b6937f0679c4",
        "colab": {
          "base_uri": "https://localhost:8080/"
        }
      },
      "source": [
        "5**2"
      ],
      "execution_count": 6,
      "outputs": [
        {
          "output_type": "execute_result",
          "data": {
            "text/plain": [
              "25"
            ]
          },
          "metadata": {
            "tags": []
          },
          "execution_count": 6
        }
      ]
    },
    {
      "cell_type": "markdown",
      "metadata": {
        "id": "K5cej_67wbyN"
      },
      "source": [
        "*Módulo*"
      ]
    },
    {
      "cell_type": "code",
      "metadata": {
        "id": "Se-1AKy0v-5h",
        "outputId": "999b38a0-eb57-4008-a402-c348daef3c7d",
        "colab": {
          "base_uri": "https://localhost:8080/"
        }
      },
      "source": [
        "5 % 2"
      ],
      "execution_count": 7,
      "outputs": [
        {
          "output_type": "execute_result",
          "data": {
            "text/plain": [
              "1"
            ]
          },
          "metadata": {
            "tags": []
          },
          "execution_count": 7
        }
      ]
    },
    {
      "cell_type": "markdown",
      "metadata": {
        "id": "dCDM-H3hwO0-"
      },
      "source": [
        "*raiz*"
      ]
    },
    {
      "cell_type": "code",
      "metadata": {
        "id": "CxaC8nvIwCWk",
        "outputId": "0279ad9d-b744-4be5-c06d-daa47fbdbf14",
        "colab": {
          "base_uri": "https://localhost:8080/"
        }
      },
      "source": [
        "5 ** 0.5"
      ],
      "execution_count": 8,
      "outputs": [
        {
          "output_type": "execute_result",
          "data": {
            "text/plain": [
              "2.23606797749979"
            ]
          },
          "metadata": {
            "tags": []
          },
          "execution_count": 8
        }
      ]
    },
    {
      "cell_type": "code",
      "metadata": {
        "id": "ceMH55IawNZ-",
        "outputId": "e95c8e43-b1df-4349-e2b5-63cadece2f22",
        "colab": {
          "base_uri": "https://localhost:8080/"
        }
      },
      "source": [
        "nome = \"joão\"\n",
        "type(nome) is str"
      ],
      "execution_count": 10,
      "outputs": [
        {
          "output_type": "execute_result",
          "data": {
            "text/plain": [
              "True"
            ]
          },
          "metadata": {
            "tags": []
          },
          "execution_count": 10
        }
      ]
    },
    {
      "cell_type": "code",
      "metadata": {
        "id": "7OYQBc668Rn_",
        "outputId": "c64d8b4b-d941-45be-ce4c-4cc4e6d251a0",
        "colab": {
          "base_uri": "https://localhost:8080/"
        }
      },
      "source": [
        "type(nome) is not False"
      ],
      "execution_count": 11,
      "outputs": [
        {
          "output_type": "execute_result",
          "data": {
            "text/plain": [
              "True"
            ]
          },
          "metadata": {
            "tags": []
          },
          "execution_count": 11
        }
      ]
    },
    {
      "cell_type": "markdown",
      "metadata": {
        "id": "kwwPrTCI-dXA"
      },
      "source": [
        "**Tuplas**\n"
      ]
    },
    {
      "cell_type": "code",
      "metadata": {
        "id": "CJG0M65-8a-H"
      },
      "source": [
        "t = ('casa', 1, True)"
      ],
      "execution_count": 12,
      "outputs": []
    },
    {
      "cell_type": "markdown",
      "metadata": {
        "id": "fG_enQpf-r8u"
      },
      "source": [
        "*criando uma tupla vazia*"
      ]
    },
    {
      "cell_type": "code",
      "metadata": {
        "id": "kSE1xpm6-mAE"
      },
      "source": [
        "t2 = tuple()"
      ],
      "execution_count": 13,
      "outputs": []
    },
    {
      "cell_type": "code",
      "metadata": {
        "id": "OB2S4eFT-qS-",
        "outputId": "a1f1b375-3a8c-458a-c9d0-09fc49513460",
        "colab": {
          "base_uri": "https://localhost:8080/"
        }
      },
      "source": [
        "print(type(t2))"
      ],
      "execution_count": 14,
      "outputs": [
        {
          "output_type": "stream",
          "text": [
            "<class 'tuple'>\n"
          ],
          "name": "stdout"
        }
      ]
    },
    {
      "cell_type": "code",
      "metadata": {
        "id": "ugBICeu0-6bb",
        "outputId": "5a255d75-8eb7-40ab-a888-759675e5b14c",
        "colab": {
          "base_uri": "https://localhost:8080/"
        }
      },
      "source": [
        "print(t2)"
      ],
      "execution_count": 15,
      "outputs": [
        {
          "output_type": "stream",
          "text": [
            "()\n"
          ],
          "name": "stdout"
        }
      ]
    },
    {
      "cell_type": "markdown",
      "metadata": {
        "id": "zmBH6DzB-_4S"
      },
      "source": [
        "A função tuple() aceita objetos iteraveis - geralmente a função tuple() é usada como cast para fazer conversao"
      ]
    },
    {
      "cell_type": "code",
      "metadata": {
        "id": "iGLJY1gy-9_C",
        "outputId": "03fe269d-ac1a-4c83-d88e-5189bef4a0c1",
        "colab": {
          "base_uri": "https://localhost:8080/"
        }
      },
      "source": [
        "lista = [1,2,3]\n",
        "\n",
        "tupla3 = tuple(lista)\n",
        "\n",
        "print(tupla3)"
      ],
      "execution_count": 16,
      "outputs": [
        {
          "output_type": "stream",
          "text": [
            "(1, 2, 3)\n"
          ],
          "name": "stdout"
        }
      ]
    },
    {
      "cell_type": "markdown",
      "metadata": {
        "id": "Edy9bD1j_oNr"
      },
      "source": [
        "caso de erro\n"
      ]
    },
    {
      "cell_type": "code",
      "metadata": {
        "id": "LcHohzCV_chg"
      },
      "source": [
        "t4 = tuple(10)"
      ],
      "execution_count": null,
      "outputs": []
    },
    {
      "cell_type": "code",
      "metadata": {
        "id": "mCFic3Nt_tz5",
        "outputId": "98d02dc8-f26c-4ad4-cd49-46394f9356b3",
        "colab": {
          "base_uri": "https://localhost:8080/"
        }
      },
      "source": [
        "tupla3[1]"
      ],
      "execution_count": 17,
      "outputs": [
        {
          "output_type": "execute_result",
          "data": {
            "text/plain": [
              "2"
            ]
          },
          "metadata": {
            "tags": []
          },
          "execution_count": 17
        }
      ]
    },
    {
      "cell_type": "markdown",
      "metadata": {
        "id": "z0lcscFVARB1"
      },
      "source": [
        "as tuplas sao objetos. Portanto, podemos usar métodos desses objetos (abaixo é verificado quantas vezes um elemento aparece)"
      ]
    },
    {
      "cell_type": "code",
      "metadata": {
        "id": "1Vfv0RbiAGzh",
        "outputId": "d34ebdf8-0bb9-47ef-e808-2ffe9091599f",
        "colab": {
          "base_uri": "https://localhost:8080/"
        }
      },
      "source": [
        "tupla3.count(2)"
      ],
      "execution_count": 18,
      "outputs": [
        {
          "output_type": "execute_result",
          "data": {
            "text/plain": [
              "1"
            ]
          },
          "metadata": {
            "tags": []
          },
          "execution_count": 18
        }
      ]
    },
    {
      "cell_type": "markdown",
      "metadata": {
        "id": "G069JGmSEtlZ"
      },
      "source": [
        "**Listas**"
      ]
    },
    {
      "cell_type": "code",
      "metadata": {
        "id": "zbntnNk7APtv"
      },
      "source": [
        "l1 = [10,3,True,'casa']"
      ],
      "execution_count": 19,
      "outputs": []
    },
    {
      "cell_type": "markdown",
      "metadata": {
        "id": "ABTj-dsKE-g_"
      },
      "source": [
        "Uso da função list()\n"
      ]
    },
    {
      "cell_type": "code",
      "metadata": {
        "id": "l82glq3OE0zD",
        "outputId": "2f048ffb-6c58-4178-c253-105e47a7dd25",
        "colab": {
          "base_uri": "https://localhost:8080/"
        }
      },
      "source": [
        "l2 = list(('10', 3, True))\n",
        "l2"
      ],
      "execution_count": 20,
      "outputs": [
        {
          "output_type": "execute_result",
          "data": {
            "text/plain": [
              "['10', 3, True]"
            ]
          },
          "metadata": {
            "tags": []
          },
          "execution_count": 20
        }
      ]
    },
    {
      "cell_type": "markdown",
      "metadata": {
        "id": "QU6iqxn0FB2N"
      },
      "source": [
        "Função append()"
      ]
    },
    {
      "cell_type": "code",
      "metadata": {
        "id": "-r2hrwvGE8nv",
        "outputId": "3ed33ba3-1f0f-4a93-fe78-90e581c0f520",
        "colab": {
          "base_uri": "https://localhost:8080/"
        }
      },
      "source": [
        "l3 = [1,3,5]\n",
        "\n",
        "print(l3)"
      ],
      "execution_count": 21,
      "outputs": [
        {
          "output_type": "stream",
          "text": [
            "[1, 3, 5]\n"
          ],
          "name": "stdout"
        }
      ]
    },
    {
      "cell_type": "code",
      "metadata": {
        "id": "-7ADeq5aFK0H",
        "outputId": "5e7e2cbd-c81b-4539-f0a6-d6e8d092afe7",
        "colab": {
          "base_uri": "https://localhost:8080/"
        }
      },
      "source": [
        "l3.append(50)\n",
        "print(l3)"
      ],
      "execution_count": 23,
      "outputs": [
        {
          "output_type": "stream",
          "text": [
            "[1, 3, 5, 50, 50]\n"
          ],
          "name": "stdout"
        }
      ]
    },
    {
      "cell_type": "markdown",
      "metadata": {
        "id": "YM1CEUGyFoMU"
      },
      "source": [
        "Função Insert()"
      ]
    },
    {
      "cell_type": "code",
      "metadata": {
        "id": "uxJTxelBFPfn",
        "outputId": "5c6dc80b-d148-4a24-bece-c78bcfbdc739",
        "colab": {
          "base_uri": "https://localhost:8080/"
        }
      },
      "source": [
        "l4 = [1,2,3]\n",
        "\n",
        "l4.insert(1,'casa')\n",
        "\n",
        "print(l4)"
      ],
      "execution_count": 24,
      "outputs": [
        {
          "output_type": "stream",
          "text": [
            "[1, 'casa', 2, 3]\n"
          ],
          "name": "stdout"
        }
      ]
    },
    {
      "cell_type": "markdown",
      "metadata": {
        "id": "gPLQJMvcGJfm"
      },
      "source": [
        "O que acontece ao inserir o elemento em uma posição já existente na lista?"
      ]
    },
    {
      "cell_type": "code",
      "metadata": {
        "id": "VaS0JdLyF5l-",
        "outputId": "6b47b935-7556-4961-8267-023369493eb9",
        "colab": {
          "base_uri": "https://localhost:8080/"
        }
      },
      "source": [
        "l4.insert(0,50)\n",
        "\n",
        "print(l4)"
      ],
      "execution_count": 26,
      "outputs": [
        {
          "output_type": "stream",
          "text": [
            "[50, 1, 'casa', 2, 3]\n"
          ],
          "name": "stdout"
        }
      ]
    },
    {
      "cell_type": "markdown",
      "metadata": {
        "id": "uSJx67_5GddP"
      },
      "source": [
        "O que acontece ao inserir o elemnto em uma posição alem do ultimo elemnto?"
      ]
    },
    {
      "cell_type": "code",
      "metadata": {
        "id": "BOlxItFsGEiq",
        "outputId": "0caca0a6-3bdf-4ab2-8940-a011037bf0ab",
        "colab": {
          "base_uri": "https://localhost:8080/"
        }
      },
      "source": [
        "l4.insert(10,'carro')\n",
        "\n",
        "print(l4)"
      ],
      "execution_count": 27,
      "outputs": [
        {
          "output_type": "stream",
          "text": [
            "[50, 1, 'casa', 2, 3, 'carro']\n"
          ],
          "name": "stdout"
        }
      ]
    },
    {
      "cell_type": "markdown",
      "metadata": {
        "id": "J30O6cq_Gr8P"
      },
      "source": [
        "Função pop(i)"
      ]
    },
    {
      "cell_type": "code",
      "metadata": {
        "id": "TSpwLHJZGqUQ",
        "outputId": "fc3fb954-168d-4b7a-c377-cd0c40c4698e",
        "colab": {
          "base_uri": "https://localhost:8080/"
        }
      },
      "source": [
        "l5 = [10,20,30,40,50]\n",
        "\n",
        "l5.pop(3)"
      ],
      "execution_count": 28,
      "outputs": [
        {
          "output_type": "execute_result",
          "data": {
            "text/plain": [
              "40"
            ]
          },
          "metadata": {
            "tags": []
          },
          "execution_count": 28
        }
      ]
    },
    {
      "cell_type": "code",
      "metadata": {
        "id": "6PqgPhBZG568",
        "outputId": "2e6233c7-c30f-44a4-b63d-d1e90f2b5d25",
        "colab": {
          "base_uri": "https://localhost:8080/"
        }
      },
      "source": [
        "print(l5)"
      ],
      "execution_count": 29,
      "outputs": [
        {
          "output_type": "stream",
          "text": [
            "[10, 20, 30, 50]\n"
          ],
          "name": "stdout"
        }
      ]
    },
    {
      "cell_type": "markdown",
      "metadata": {
        "id": "Z3AbCFf_G9zF"
      },
      "source": [
        "O que acontece ao tentar remover um elemnto de uma posição inexistente?\n"
      ]
    },
    {
      "cell_type": "code",
      "metadata": {
        "id": "rLfq9vu_G8Uh"
      },
      "source": [
        "l5.pop(10)"
      ],
      "execution_count": null,
      "outputs": []
    },
    {
      "cell_type": "markdown",
      "metadata": {
        "id": "NnvnKiMUHI-b"
      },
      "source": [
        "Função reverse()"
      ]
    },
    {
      "cell_type": "code",
      "metadata": {
        "id": "8lNF8SIhHLP4",
        "outputId": "6763181a-f994-43a2-d11e-7558f9f19e5e",
        "colab": {
          "base_uri": "https://localhost:8080/"
        }
      },
      "source": [
        "l6 = [10,20,30,40,50]\n",
        "\n",
        "print(l6\n",
        "      )"
      ],
      "execution_count": 30,
      "outputs": [
        {
          "output_type": "stream",
          "text": [
            "[10, 20, 30, 40, 50]\n"
          ],
          "name": "stdout"
        }
      ]
    },
    {
      "cell_type": "code",
      "metadata": {
        "id": "bHebJodCHQ5b"
      },
      "source": [
        "l6.reverse()"
      ],
      "execution_count": 31,
      "outputs": []
    },
    {
      "cell_type": "markdown",
      "metadata": {
        "id": "gbBJgJyWH_rW"
      },
      "source": [
        "A função reverse() não retorna nada , ela é\n",
        "inplace - que ordena o prório objeto"
      ]
    },
    {
      "cell_type": "code",
      "metadata": {
        "id": "-bY_C_6IH-LP",
        "outputId": "cc872158-b0d5-4f22-d500-8d414b85b99a",
        "colab": {
          "base_uri": "https://localhost:8080/"
        }
      },
      "source": [
        "l = l6.reverse()\n",
        "\n",
        "print(l)"
      ],
      "execution_count": 32,
      "outputs": [
        {
          "output_type": "stream",
          "text": [
            "None\n"
          ],
          "name": "stdout"
        }
      ]
    },
    {
      "cell_type": "code",
      "metadata": {
        "id": "PY44Ri3bIJUA",
        "outputId": "3c6eba7a-d19f-4ede-dad8-f77a40770103",
        "colab": {
          "base_uri": "https://localhost:8080/"
        }
      },
      "source": [
        "print(l6)"
      ],
      "execution_count": 33,
      "outputs": [
        {
          "output_type": "stream",
          "text": [
            "[10, 20, 30, 40, 50]\n"
          ],
          "name": "stdout"
        }
      ]
    },
    {
      "cell_type": "markdown",
      "metadata": {
        "id": "PW5z0-5eKGV7"
      },
      "source": [
        "Fazendo dessa forma ele está pegando a referência do **objeto**"
      ]
    },
    {
      "cell_type": "code",
      "metadata": {
        "id": "cqZbmnUEJsxk",
        "outputId": "885b0b7b-44b1-4646-a494-2f1763410265",
        "colab": {
          "base_uri": "https://localhost:8080/"
        }
      },
      "source": [
        "lx = l6\n",
        "l6.append(100)\n",
        "l6.reverse()\n",
        "print(lx)\n",
        "print(l6)"
      ],
      "execution_count": 40,
      "outputs": [
        {
          "output_type": "stream",
          "text": [
            "[100, 100, 100, 50, 40, 30, 20, 10, 100, 100]\n",
            "[100, 100, 100, 50, 40, 30, 20, 10, 100, 100]\n"
          ],
          "name": "stdout"
        }
      ]
    },
    {
      "cell_type": "code",
      "metadata": {
        "id": "ylSTAJIeKvqb",
        "outputId": "48b7c15d-3a10-4a07-dc4e-3865190464e6",
        "colab": {
          "base_uri": "https://localhost:8080/"
        }
      },
      "source": [
        "print(id(lx))\n",
        "print(id(l6))"
      ],
      "execution_count": 41,
      "outputs": [
        {
          "output_type": "stream",
          "text": [
            "140636791161672\n",
            "140636791161672\n"
          ],
          "name": "stdout"
        }
      ]
    },
    {
      "cell_type": "markdown",
      "metadata": {
        "id": "-gKzH9XRKR2r"
      },
      "source": [
        "utilizando o copy() como solução para fazer retornar o reverse"
      ]
    },
    {
      "cell_type": "code",
      "metadata": {
        "id": "aRD0BMaDJ6XE",
        "outputId": "d2b23512-171a-4305-b803-d9e0f753946f",
        "colab": {
          "base_uri": "https://localhost:8080/"
        }
      },
      "source": [
        "lx = l6.copy()\n",
        "l6.append(100)\n",
        "l6.reverse()\n",
        "print(lx)\n",
        "print(l6)"
      ],
      "execution_count": 42,
      "outputs": [
        {
          "output_type": "stream",
          "text": [
            "[100, 100, 100, 50, 40, 30, 20, 10, 100, 100]\n",
            "[100, 100, 100, 10, 20, 30, 40, 50, 100, 100, 100]\n"
          ],
          "name": "stdout"
        }
      ]
    },
    {
      "cell_type": "code",
      "metadata": {
        "id": "134qY8BBKAG9",
        "outputId": "210e3e92-1d2c-4bbd-8fa7-8d0a75a690f9",
        "colab": {
          "base_uri": "https://localhost:8080/"
        }
      },
      "source": [
        "print(id(lx))\n",
        "print(id(l6))"
      ],
      "execution_count": 43,
      "outputs": [
        {
          "output_type": "stream",
          "text": [
            "140636658578824\n",
            "140636791161672\n"
          ],
          "name": "stdout"
        }
      ]
    },
    {
      "cell_type": "markdown",
      "metadata": {
        "id": "Ob2kEKPJLPDN"
      },
      "source": [
        "uma outra forma de fazer copia no python:"
      ]
    },
    {
      "cell_type": "code",
      "metadata": {
        "id": "h58GCSxwKqKk",
        "outputId": "e7b6b49a-dec0-4f38-8e65-72459643d4d7",
        "colab": {
          "base_uri": "https://localhost:8080/"
        }
      },
      "source": [
        "listaX = l6[:]\n",
        "\n",
        "print(listaX)"
      ],
      "execution_count": 45,
      "outputs": [
        {
          "output_type": "stream",
          "text": [
            "[100, 100, 100, 10, 20, 30, 40, 50, 100, 100, 100]\n"
          ],
          "name": "stdout"
        }
      ]
    },
    {
      "cell_type": "markdown",
      "metadata": {
        "id": "-RBrUa9HL08T"
      },
      "source": [
        "Função Extend()"
      ]
    },
    {
      "cell_type": "code",
      "metadata": {
        "id": "XU0PR-3lLYoR"
      },
      "source": [
        "l7 = [10,20,30]\n",
        "\n",
        "l8 =  [40,50]"
      ],
      "execution_count": 46,
      "outputs": []
    },
    {
      "cell_type": "code",
      "metadata": {
        "id": "Rsxi6XVjL_h5",
        "outputId": "1e1af498-7102-4908-933d-068757fefdc5",
        "colab": {
          "base_uri": "https://localhost:8080/"
        }
      },
      "source": [
        "print(l7)"
      ],
      "execution_count": 47,
      "outputs": [
        {
          "output_type": "stream",
          "text": [
            "[10, 20, 30]\n"
          ],
          "name": "stdout"
        }
      ]
    },
    {
      "cell_type": "code",
      "metadata": {
        "id": "ICZYEv4fMCO1",
        "outputId": "fb6eab59-f6fd-4e41-a6de-b37f5ca96b57",
        "colab": {
          "base_uri": "https://localhost:8080/"
        }
      },
      "source": [
        "l7.extend(l8)\n",
        "\n",
        "print(l7)"
      ],
      "execution_count": 48,
      "outputs": [
        {
          "output_type": "stream",
          "text": [
            "[10, 20, 30, 40, 50]\n"
          ],
          "name": "stdout"
        }
      ]
    },
    {
      "cell_type": "markdown",
      "metadata": {
        "id": "nTlVmLTKMQ2U"
      },
      "source": [
        "Qual seria a diferença entre as operações extend() e append()?"
      ]
    },
    {
      "cell_type": "code",
      "metadata": {
        "id": "Ev4Ccy0jMHXB"
      },
      "source": [
        "l7 = [10,20,30]\n",
        "l8 = [40,50]\n",
        "\n",
        "l7.append(l8)"
      ],
      "execution_count": 49,
      "outputs": []
    },
    {
      "cell_type": "markdown",
      "metadata": {
        "id": "zVtqoxA_MhZo"
      },
      "source": [
        "A função extend() equivale a operação de +"
      ]
    },
    {
      "cell_type": "code",
      "metadata": {
        "id": "bxv8ocluMfvk",
        "outputId": "98ba6ee6-9cde-4309-cd3d-5f71eb090f27",
        "colab": {
          "base_uri": "https://localhost:8080/"
        }
      },
      "source": [
        "l9 = [10,20]\n",
        "l10 = [30,40]\n",
        "\n",
        "l_all = l9 + l10\n",
        "\n",
        "print(l_all)"
      ],
      "execution_count": 50,
      "outputs": [
        {
          "output_type": "stream",
          "text": [
            "[10, 20, 30, 40]\n"
          ],
          "name": "stdout"
        }
      ]
    },
    {
      "cell_type": "markdown",
      "metadata": {
        "id": "N7m3TYheM1ZH"
      },
      "source": [
        "A funçãi index retorna o indice de um valor passado como parametro"
      ]
    },
    {
      "cell_type": "code",
      "metadata": {
        "id": "Y3yPvAtGMzXd",
        "outputId": "56f616e7-3136-40f0-8dd6-4445ce980236",
        "colab": {
          "base_uri": "https://localhost:8080/"
        }
      },
      "source": [
        "l12 = [10,20,30,40]\n",
        "\n",
        "print(l12.index(30))"
      ],
      "execution_count": 51,
      "outputs": [
        {
          "output_type": "stream",
          "text": [
            "2\n"
          ],
          "name": "stdout"
        }
      ]
    },
    {
      "cell_type": "markdown",
      "metadata": {
        "id": "gPNoXlt7NGKr"
      },
      "source": [
        "E se o elemento não estiver na lista:\n",
        "\n",
        "Error\n"
      ]
    },
    {
      "cell_type": "code",
      "metadata": {
        "id": "jWdEVEEoNByH",
        "outputId": "cceb6185-561d-472d-fa73-de1b8f26c8e9",
        "colab": {
          "base_uri": "https://localhost:8080/",
          "height": 163
        }
      },
      "source": [
        "print(l12.index(50))"
      ],
      "execution_count": 52,
      "outputs": [
        {
          "output_type": "error",
          "ename": "ValueError",
          "evalue": "ignored",
          "traceback": [
            "\u001b[0;31m---------------------------------------------------------------------------\u001b[0m",
            "\u001b[0;31mValueError\u001b[0m                                Traceback (most recent call last)",
            "\u001b[0;32m<ipython-input-52-12aeb3aa73d1>\u001b[0m in \u001b[0;36m<module>\u001b[0;34m()\u001b[0m\n\u001b[0;32m----> 1\u001b[0;31m \u001b[0mprint\u001b[0m\u001b[0;34m(\u001b[0m\u001b[0ml12\u001b[0m\u001b[0;34m.\u001b[0m\u001b[0mindex\u001b[0m\u001b[0;34m(\u001b[0m\u001b[0;36m50\u001b[0m\u001b[0;34m)\u001b[0m\u001b[0;34m)\u001b[0m\u001b[0;34m\u001b[0m\u001b[0;34m\u001b[0m\u001b[0m\n\u001b[0m",
            "\u001b[0;31mValueError\u001b[0m: 50 is not in list"
          ]
        }
      ]
    },
    {
      "cell_type": "markdown",
      "metadata": {
        "id": "Tr9wYz6FNhrL"
      },
      "source": [
        "Função count() retorna o numero de ocorrencias de um valor passado como parametro"
      ]
    },
    {
      "cell_type": "code",
      "metadata": {
        "id": "Q-r-COAmNSPV",
        "outputId": "7e5e751f-78d1-4642-9852-bc38f4e9a758",
        "colab": {
          "base_uri": "https://localhost:8080/"
        }
      },
      "source": [
        "l13 = [10,20,10,10]\n",
        "\n",
        "l13.count(10)"
      ],
      "execution_count": 53,
      "outputs": [
        {
          "output_type": "execute_result",
          "data": {
            "text/plain": [
              "3"
            ]
          },
          "metadata": {
            "tags": []
          },
          "execution_count": 53
        }
      ]
    },
    {
      "cell_type": "markdown",
      "metadata": {
        "id": "sbunopGzNuXe"
      },
      "source": [
        "Função remove()  remove a primeira ocorrencia do valor passado como parametro"
      ]
    },
    {
      "cell_type": "code",
      "metadata": {
        "id": "7IQILGKENtp0"
      },
      "source": [
        "l14 = [10,20,30,10,10]\n",
        "l14.remove(10)"
      ],
      "execution_count": 54,
      "outputs": []
    },
    {
      "cell_type": "code",
      "metadata": {
        "id": "OqbVIGlTN8TK",
        "outputId": "281f0a66-34ff-4163-9952-c111a5fb88f8",
        "colab": {
          "base_uri": "https://localhost:8080/"
        }
      },
      "source": [
        "print(l14)"
      ],
      "execution_count": 55,
      "outputs": [
        {
          "output_type": "stream",
          "text": [
            "[20, 30, 10, 10]\n"
          ],
          "name": "stdout"
        }
      ]
    },
    {
      "cell_type": "markdown",
      "metadata": {
        "id": "NCcejM1AOBuj"
      },
      "source": [
        "Fatiamento de lista"
      ]
    },
    {
      "cell_type": "code",
      "metadata": {
        "id": "iW21dm5MN-7j",
        "outputId": "19f52c2d-c220-41dc-c628-d850c5d512cd",
        "colab": {
          "base_uri": "https://localhost:8080/"
        }
      },
      "source": [
        "l15 = [10,20,30,40,50]\n",
        "\n",
        "l15[2:4]"
      ],
      "execution_count": 56,
      "outputs": [
        {
          "output_type": "execute_result",
          "data": {
            "text/plain": [
              "[30, 40]"
            ]
          },
          "metadata": {
            "tags": []
          },
          "execution_count": 56
        }
      ]
    },
    {
      "cell_type": "markdown",
      "metadata": {
        "id": "c-jkth_aOQOx"
      },
      "source": [
        "Uso de indices negativos"
      ]
    },
    {
      "cell_type": "code",
      "metadata": {
        "id": "rXfymDLxOOQd",
        "outputId": "e4349e48-5124-456c-aac9-7f9295ffd0be",
        "colab": {
          "base_uri": "https://localhost:8080/"
        }
      },
      "source": [
        "l16 = [10,20,30,40,50]\n",
        "\n",
        "l16[-1]"
      ],
      "execution_count": 57,
      "outputs": [
        {
          "output_type": "execute_result",
          "data": {
            "text/plain": [
              "50"
            ]
          },
          "metadata": {
            "tags": []
          },
          "execution_count": 57
        }
      ]
    },
    {
      "cell_type": "markdown",
      "metadata": {
        "id": "gX7kAH0iOZDE"
      },
      "source": [
        "A declaração de uma variável do tipo string pode ser feita de trÊs modos:"
      ]
    },
    {
      "cell_type": "code",
      "metadata": {
        "id": "mD465CpkOXDK"
      },
      "source": [
        "s1 = 'Curso de CD'\n",
        "s2 = \"Curso de CD\""
      ],
      "execution_count": 58,
      "outputs": []
    },
    {
      "cell_type": "markdown",
      "metadata": {
        "id": "Y2AkI8QWOpzg"
      },
      "source": [
        "Exemploes de usos de operações de lista em strings:"
      ]
    },
    {
      "cell_type": "code",
      "metadata": {
        "id": "vBBhxnvFOo2l",
        "outputId": "21ca9708-1c17-458a-98b9-0d078b006a22",
        "colab": {
          "base_uri": "https://localhost:8080/"
        }
      },
      "source": [
        "type(s1)"
      ],
      "execution_count": 59,
      "outputs": [
        {
          "output_type": "execute_result",
          "data": {
            "text/plain": [
              "str"
            ]
          },
          "metadata": {
            "tags": []
          },
          "execution_count": 59
        }
      ]
    },
    {
      "cell_type": "code",
      "metadata": {
        "id": "bDTGGfLnOv7h"
      },
      "source": [
        "l = s1.split()"
      ],
      "execution_count": 60,
      "outputs": []
    },
    {
      "cell_type": "code",
      "metadata": {
        "id": "jrCG_aCFOzKw",
        "outputId": "d582d886-02a4-40a6-ea3d-b0245edcdb65",
        "colab": {
          "base_uri": "https://localhost:8080/"
        }
      },
      "source": [
        "print(type(l))"
      ],
      "execution_count": 61,
      "outputs": [
        {
          "output_type": "stream",
          "text": [
            "<class 'list'>\n"
          ],
          "name": "stdout"
        }
      ]
    },
    {
      "cell_type": "code",
      "metadata": {
        "id": "Z8zAkDsdO2Er",
        "outputId": "9abcca2b-ea07-4c6b-9c5e-01a1bcfef31f",
        "colab": {
          "base_uri": "https://localhost:8080/"
        }
      },
      "source": [
        "print(l)"
      ],
      "execution_count": 62,
      "outputs": [
        {
          "output_type": "stream",
          "text": [
            "['Curso', 'de', 'CD']\n"
          ],
          "name": "stdout"
        }
      ]
    },
    {
      "cell_type": "code",
      "metadata": {
        "id": "PHj1uN3VO4p9",
        "outputId": "2d7cfa2a-9669-46f1-9bba-1f51e9f428f7",
        "colab": {
          "base_uri": "https://localhost:8080/"
        }
      },
      "source": [
        "s3 = \"2020/23/11\"\n",
        "l3 = s3.split('/')\n",
        "print(l3)"
      ],
      "execution_count": 63,
      "outputs": [
        {
          "output_type": "stream",
          "text": [
            "['2020', '23', '11']\n"
          ],
          "name": "stdout"
        }
      ]
    },
    {
      "cell_type": "code",
      "metadata": {
        "id": "SVwqDNopPPLq",
        "outputId": "f9d7db28-fc87-4c57-b783-edbf6e08bed1",
        "colab": {
          "base_uri": "https://localhost:8080/"
        }
      },
      "source": [
        "print(l3[2]+'/'+l3[1]+'/'+l3[0])"
      ],
      "execution_count": 64,
      "outputs": [
        {
          "output_type": "stream",
          "text": [
            "11/23/2020\n"
          ],
          "name": "stdout"
        }
      ]
    },
    {
      "cell_type": "markdown",
      "metadata": {
        "id": "tJFov1o6R9WP"
      },
      "source": [
        "Dicionário"
      ]
    },
    {
      "cell_type": "code",
      "metadata": {
        "id": "VweJBda3PbW0"
      },
      "source": [
        "dict = {'name':'Bob', 'age': '25', 'job': 'dev', 'city': 'New York', 'email':'bob@web.com'}"
      ],
      "execution_count": 65,
      "outputs": []
    },
    {
      "cell_type": "code",
      "metadata": {
        "id": "-R22nc3ySbF9",
        "outputId": "eb55eae3-891e-40a3-cd7c-32781c9d6442",
        "colab": {
          "base_uri": "https://localhost:8080/"
        }
      },
      "source": [
        "print(dict)"
      ],
      "execution_count": 66,
      "outputs": [
        {
          "output_type": "stream",
          "text": [
            "{'name': 'Bob', 'age': '25', 'job': 'dev', 'city': 'New York', 'email': 'bob@web.com'}\n"
          ],
          "name": "stdout"
        }
      ]
    },
    {
      "cell_type": "code",
      "metadata": {
        "id": "8GjoVUv9SdBv",
        "outputId": "92a7d4da-a35b-4370-dec5-77ae8f56cabd",
        "colab": {
          "base_uri": "https://localhost:8080/"
        }
      },
      "source": [
        "type(dict)"
      ],
      "execution_count": 67,
      "outputs": [
        {
          "output_type": "execute_result",
          "data": {
            "text/plain": [
              "dict"
            ]
          },
          "metadata": {
            "tags": []
          },
          "execution_count": 67
        }
      ]
    },
    {
      "cell_type": "markdown",
      "metadata": {
        "id": "53NcXB-3SiSa"
      },
      "source": [
        "Forma de Acesso a um elemento da estrutura:"
      ]
    },
    {
      "cell_type": "code",
      "metadata": {
        "id": "OyWFKNdNSghv",
        "outputId": "d8785b9d-1316-4444-9a9f-baa49d8a6555",
        "colab": {
          "base_uri": "https://localhost:8080/",
          "height": 35
        }
      },
      "source": [
        "dict['email']"
      ],
      "execution_count": 68,
      "outputs": [
        {
          "output_type": "execute_result",
          "data": {
            "application/vnd.google.colaboratory.intrinsic+json": {
              "type": "string"
            },
            "text/plain": [
              "'bob@web.com'"
            ]
          },
          "metadata": {
            "tags": []
          },
          "execution_count": 68
        }
      ]
    },
    {
      "cell_type": "markdown",
      "metadata": {
        "id": "2oK-mcpbSyAI"
      },
      "source": [
        "Exibindo todas as chaves de um dicionario"
      ]
    },
    {
      "cell_type": "code",
      "metadata": {
        "id": "oEk6X9B1Spdt",
        "outputId": "22956a2e-8c3e-4d32-e07d-80f539e075bd",
        "colab": {
          "base_uri": "https://localhost:8080/"
        }
      },
      "source": [
        "dict.keys()"
      ],
      "execution_count": 69,
      "outputs": [
        {
          "output_type": "execute_result",
          "data": {
            "text/plain": [
              "dict_keys(['name', 'age', 'job', 'city', 'email'])"
            ]
          },
          "metadata": {
            "tags": []
          },
          "execution_count": 69
        }
      ]
    },
    {
      "cell_type": "markdown",
      "metadata": {
        "id": "Z67li9KfS3Z-"
      },
      "source": [
        "Exibindo valores de um dicionario"
      ]
    },
    {
      "cell_type": "code",
      "metadata": {
        "id": "VXYa3zAxSsQo",
        "outputId": "f7bf77c9-258d-4068-ca66-107c38dde1c3",
        "colab": {
          "base_uri": "https://localhost:8080/"
        }
      },
      "source": [
        "dict.values()"
      ],
      "execution_count": 70,
      "outputs": [
        {
          "output_type": "execute_result",
          "data": {
            "text/plain": [
              "dict_values(['Bob', '25', 'dev', 'New York', 'bob@web.com'])"
            ]
          },
          "metadata": {
            "tags": []
          },
          "execution_count": 70
        }
      ]
    },
    {
      "cell_type": "markdown",
      "metadata": {
        "id": "TISXhqRyTyOP"
      },
      "source": [
        "transformando em uma lista:"
      ]
    },
    {
      "cell_type": "code",
      "metadata": {
        "id": "iOP4UZPHTsLh",
        "outputId": "937d7530-a789-4f8a-cd6e-3e3152001519",
        "colab": {
          "base_uri": "https://localhost:8080/"
        }
      },
      "source": [
        "list(dict.keys())"
      ],
      "execution_count": 71,
      "outputs": [
        {
          "output_type": "execute_result",
          "data": {
            "text/plain": [
              "['name', 'age', 'job', 'city', 'email']"
            ]
          },
          "metadata": {
            "tags": []
          },
          "execution_count": 71
        }
      ]
    },
    {
      "cell_type": "markdown",
      "metadata": {
        "id": "pdDqikihTWyd"
      },
      "source": [
        "Exibindo os valores de um dicionario como pares(tuplas):"
      ]
    },
    {
      "cell_type": "code",
      "metadata": {
        "id": "M5gjd9kzTV6d",
        "outputId": "3582ed11-c0e0-4e47-d666-f971bb872af6",
        "colab": {
          "base_uri": "https://localhost:8080/"
        }
      },
      "source": [
        "dict.items()"
      ],
      "execution_count": 72,
      "outputs": [
        {
          "output_type": "execute_result",
          "data": {
            "text/plain": [
              "dict_items([('name', 'Bob'), ('age', '25'), ('job', 'dev'), ('city', 'New York'), ('email', 'bob@web.com')])"
            ]
          },
          "metadata": {
            "tags": []
          },
          "execution_count": 72
        }
      ]
    },
    {
      "cell_type": "markdown",
      "metadata": {
        "id": "VBa8lw6EUBwK"
      },
      "source": [
        "Alterar um valor do dicionário:"
      ]
    },
    {
      "cell_type": "code",
      "metadata": {
        "id": "nz9fIOW8T6Z-",
        "outputId": "c5b4f1b8-f3bb-42a4-9067-8d4bd2468d2c",
        "colab": {
          "base_uri": "https://localhost:8080/"
        }
      },
      "source": [
        "dict['age'] = 26\n",
        "\n",
        "dict"
      ],
      "execution_count": 74,
      "outputs": [
        {
          "output_type": "execute_result",
          "data": {
            "text/plain": [
              "{'age': 26,\n",
              " 'city': 'New York',\n",
              " 'email': 'bob@web.com',\n",
              " 'job': 'dev',\n",
              " 'name': 'Bob'}"
            ]
          },
          "metadata": {
            "tags": []
          },
          "execution_count": 74
        }
      ]
    },
    {
      "cell_type": "markdown",
      "metadata": {
        "id": "WldvgGP9UkYt"
      },
      "source": [
        "Operação para remover uma chave e o seu valor associado:\n",
        "\n",
        "--aconteceu o erro pq rodei 2 vezes, ele n tem como deletar algo que n existe"
      ]
    },
    {
      "cell_type": "code",
      "metadata": {
        "id": "oAYIfVXUUJSM",
        "outputId": "2f6cdded-5a5e-470f-ac53-a0e3c3070d46",
        "colab": {
          "base_uri": "https://localhost:8080/",
          "height": 197
        }
      },
      "source": [
        "del dict['city']\n"
      ],
      "execution_count": 76,
      "outputs": [
        {
          "output_type": "error",
          "ename": "KeyError",
          "evalue": "ignored",
          "traceback": [
            "\u001b[0;31m---------------------------------------------------------------------------\u001b[0m",
            "\u001b[0;31mKeyError\u001b[0m                                  Traceback (most recent call last)",
            "\u001b[0;32m<ipython-input-76-34d0ff2f18ac>\u001b[0m in \u001b[0;36m<module>\u001b[0;34m()\u001b[0m\n\u001b[0;32m----> 1\u001b[0;31m \u001b[0;32mdel\u001b[0m \u001b[0mdict\u001b[0m\u001b[0;34m[\u001b[0m\u001b[0;34m'city'\u001b[0m\u001b[0;34m]\u001b[0m\u001b[0;34m\u001b[0m\u001b[0;34m\u001b[0m\u001b[0m\n\u001b[0m\u001b[1;32m      2\u001b[0m \u001b[0;34m\u001b[0m\u001b[0m\n\u001b[1;32m      3\u001b[0m \u001b[0mdict\u001b[0m\u001b[0;34m\u001b[0m\u001b[0;34m\u001b[0m\u001b[0m\n",
            "\u001b[0;31mKeyError\u001b[0m: 'city'"
          ]
        }
      ]
    },
    {
      "cell_type": "code",
      "metadata": {
        "id": "RnN95GtVUsPk",
        "outputId": "c1b50d89-dbf1-4820-8eb0-608a17264063",
        "colab": {
          "base_uri": "https://localhost:8080/"
        }
      },
      "source": [
        "dict"
      ],
      "execution_count": 77,
      "outputs": [
        {
          "output_type": "execute_result",
          "data": {
            "text/plain": [
              "{'age': 26, 'email': 'bob@web.com', 'job': 'dev', 'name': 'Bob'}"
            ]
          },
          "metadata": {
            "tags": []
          },
          "execution_count": 77
        }
      ]
    },
    {
      "cell_type": "markdown",
      "metadata": {
        "id": "Ds7RRk1oVgYw"
      },
      "source": [
        "Condicionais:"
      ]
    },
    {
      "cell_type": "code",
      "metadata": {
        "id": "ZhC9DoIWU1Mh",
        "outputId": "3b93b867-7858-4ecc-84d0-13f9daf6ff1e",
        "colab": {
          "base_uri": "https://localhost:8080/"
        }
      },
      "source": [
        "#@title Texto de título padrão\n",
        "Valor =  10#@param {type:\"integer\"}\n",
        "\n",
        "if (Valor%2==0):\n",
        "  print('Par')"
      ],
      "execution_count": 83,
      "outputs": [
        {
          "output_type": "stream",
          "text": [
            "Par\n"
          ],
          "name": "stdout"
        }
      ]
    },
    {
      "cell_type": "code",
      "metadata": {
        "id": "So-mcLK7WOyX",
        "outputId": "845e38f5-76b8-43e5-dbd6-59ba102ae3bc",
        "colab": {
          "base_uri": "https://localhost:8080/"
        }
      },
      "source": [
        "#@title Texto de título padrão\n",
        "Valor =  10#@param {type:\"integer\"}\n",
        "\n",
        "if (Valor>0):\n",
        "  print('Positivo')\n",
        "elif (Valor<0):\n",
        "  print('Negativo')\n",
        "else:\n",
        "  print('Zero')"
      ],
      "execution_count": 84,
      "outputs": [
        {
          "output_type": "stream",
          "text": [
            "Positivo\n"
          ],
          "name": "stdout"
        }
      ]
    },
    {
      "cell_type": "markdown",
      "metadata": {
        "id": "nPM8fuzpWkLh"
      },
      "source": [
        "Laços de Repetição"
      ]
    },
    {
      "cell_type": "code",
      "metadata": {
        "id": "QrYmkzq-Vzt9"
      },
      "source": [
        ""
      ],
      "execution_count": 82,
      "outputs": []
    }
  ]
}
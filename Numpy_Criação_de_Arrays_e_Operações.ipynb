{
  "nbformat": 4,
  "nbformat_minor": 0,
  "metadata": {
    "kernelspec": {
      "display_name": "Python 3",
      "language": "python",
      "name": "python3"
    },
    "language_info": {
      "codemirror_mode": {
        "name": "ipython",
        "version": 3
      },
      "file_extension": ".py",
      "mimetype": "text/x-python",
      "name": "python",
      "nbconvert_exporter": "python",
      "pygments_lexer": "ipython3",
      "version": "3.8.3"
    },
    "colab": {
      "name": "Numpy - Criação de Arrays e Operações.ipynb",
      "provenance": [],
      "include_colab_link": true
    }
  },
  "cells": [
    {
      "cell_type": "markdown",
      "metadata": {
        "id": "view-in-github",
        "colab_type": "text"
      },
      "source": [
        "<a href=\"https://colab.research.google.com/github/DevNicque/pos-datascience/blob/modulo_2/Numpy_Cria%C3%A7%C3%A3o_de_Arrays_e_Opera%C3%A7%C3%B5es.ipynb\" target=\"_parent\"><img src=\"https://colab.research.google.com/assets/colab-badge.svg\" alt=\"Open In Colab\"/></a>"
      ]
    },
    {
      "cell_type": "markdown",
      "metadata": {
        "id": "L_BfhmVanb0J"
      },
      "source": [
        "# Numpy - Criação de Arrays e Operações\n",
        "\n",
        "**Disciplina**: Programação para Ciência dos Dados  \n",
        "**Docentes**: Elloá B. Guedes e Tiago E. de Melo  \n",
        "**Contato:** ebgcosta@uea.edu.br, tmelo@uea.edu.br  \n",
        "**Github:** http://github.com/elloa/numpy\n",
        "\n",
        "## Apresentação\n",
        "\n",
        "Este notebook deverá ser utilizado para a prática dos conceitos relativos à biblioteca numpy."
      ]
    },
    {
      "cell_type": "markdown",
      "metadata": {
        "id": "epC_NGcsoGfi"
      },
      "source": [
        "*é rápida e versátil / parte do code do numpy está desenvolvido em C / performance similar à de linguagens compiladas como C e Fortran, mas com sintaxe de alto-nível do Python / dá suporte à computação distribuída e GPUs / surgiu atraves da demananda de realização de cálculos numéricos para a comunidade de Computação / aplicações (primeira imagem do buraco negro, detecção de ondas gravitacionais, análise de esportes, rapesbary para aproximar casas decimais de pi)*"
      ]
    },
    {
      "cell_type": "markdown",
      "metadata": {
        "id": "HwZfYo1npxJv"
      },
      "source": [
        "*no coração do numpy está o ndarray - todas as oprações baseiam-se nesse objeto / ndarray é um array n-dimensional, homogêneo (ele é preenchido com objetos do mesmo tiopo), e de tamanho fixo e pré-determinado no momento de sua instanciação / todas as multiplas dimensões tem a mesma ordem*"
      ]
    },
    {
      "cell_type": "code",
      "metadata": {
        "id": "NJ6pJWj1nb0J"
      },
      "source": [
        "import numpy as np\n",
        "import matplotlib.pyplot as plt\n",
        "%matplotlib inline"
      ],
      "execution_count": 48,
      "outputs": []
    },
    {
      "cell_type": "markdown",
      "metadata": {
        "id": "lepiff71nb0J"
      },
      "source": [
        "## Parte 1.1: Criação de ndarrays\n",
        "\n",
        "1. Crie um ndarray a partir de uma lista de inteiros de 1 a 100\n",
        "2. Obtenha o tipo do objeto e o tipo de dados nele contidos\n",
        "3. Qual a dimensão deste array?\n",
        "4. Obtenha o rank deste array.\n",
        "4. Crie um novo array de dimensão (100,1) a partir da lista inicial\n",
        "5. Crie um ndarray de rank igual a 3 e dimensões 2x2x2"
      ]
    },
    {
      "cell_type": "markdown",
      "metadata": {
        "id": "u5c4QAkGq_jv"
      },
      "source": [
        "*este é a criação de um ndarray que será um construtor - onde se é criado a partir de uma lista*\n",
        "\n"
      ]
    },
    {
      "cell_type": "code",
      "metadata": {
        "colab": {
          "base_uri": "https://localhost:8080/"
        },
        "id": "bbQO8k74nb0J",
        "outputId": "3ac1305b-1880-4116-a6c3-a14b184c3118"
      },
      "source": [
        "a = np.array([1,2,3,4])\n",
        "\n",
        "a"
      ],
      "execution_count": null,
      "outputs": [
        {
          "output_type": "execute_result",
          "data": {
            "text/plain": [
              "array([1, 2, 3, 4])"
            ]
          },
          "metadata": {
            "tags": []
          },
          "execution_count": 2
        }
      ]
    },
    {
      "cell_type": "markdown",
      "metadata": {
        "id": "ZIp9i4dtrb73"
      },
      "source": [
        "*neste é criado a partir de uma tupla - que é uma lista de objetos imultáveis, onde a ordem importa*"
      ]
    },
    {
      "cell_type": "code",
      "metadata": {
        "colab": {
          "base_uri": "https://localhost:8080/"
        },
        "id": "azOmU5xVnb0J",
        "outputId": "1bc3aac6-9729-4fc9-8152-9ad4afbc6de6"
      },
      "source": [
        "a = np.array((1,2,3,4))\n",
        "\n",
        "a"
      ],
      "execution_count": null,
      "outputs": [
        {
          "output_type": "execute_result",
          "data": {
            "text/plain": [
              "array([1, 2, 3, 4])"
            ]
          },
          "metadata": {
            "tags": []
          },
          "execution_count": 3
        }
      ]
    },
    {
      "cell_type": "markdown",
      "metadata": {
        "id": "AgxI3Nd2tEty"
      },
      "source": [
        " **1. Criando um ndarray a partir de uma lista de inteiros de 1 a 100**"
      ]
    },
    {
      "cell_type": "markdown",
      "metadata": {
        "id": "KRvgFFpOr8AR"
      },
      "source": [
        "*O iniciante em python criando uma lista que contém números de 1 a 100 / um ndarray de inteiros com 100 elementos*"
      ]
    },
    {
      "cell_type": "code",
      "metadata": {
        "colab": {
          "base_uri": "https://localhost:8080/"
        },
        "id": "jddxUl3_nb0J",
        "outputId": "7e9cf71e-9206-4612-c6a9-943289fb1e25"
      },
      "source": [
        "lista = []\n",
        "\n",
        "for i in range(1,101):\n",
        "  lista.append(i)\n",
        "\n",
        "a = np.array(lista)\n",
        "\n",
        "a"
      ],
      "execution_count": null,
      "outputs": [
        {
          "output_type": "execute_result",
          "data": {
            "text/plain": [
              "array([  1,   2,   3,   4,   5,   6,   7,   8,   9,  10,  11,  12,  13,\n",
              "        14,  15,  16,  17,  18,  19,  20,  21,  22,  23,  24,  25,  26,\n",
              "        27,  28,  29,  30,  31,  32,  33,  34,  35,  36,  37,  38,  39,\n",
              "        40,  41,  42,  43,  44,  45,  46,  47,  48,  49,  50,  51,  52,\n",
              "        53,  54,  55,  56,  57,  58,  59,  60,  61,  62,  63,  64,  65,\n",
              "        66,  67,  68,  69,  70,  71,  72,  73,  74,  75,  76,  77,  78,\n",
              "        79,  80,  81,  82,  83,  84,  85,  86,  87,  88,  89,  90,  91,\n",
              "        92,  93,  94,  95,  96,  97,  98,  99, 100])"
            ]
          },
          "metadata": {
            "tags": []
          },
          "execution_count": 4
        }
      ]
    },
    {
      "cell_type": "markdown",
      "metadata": {
        "id": "031uI2B-sc6p"
      },
      "source": [
        "*o sr em python criando uma lista que contém números de 1 a 100  - utilizando list comprehension / um ndarray de inteiros com 100 elementos*"
      ]
    },
    {
      "cell_type": "code",
      "metadata": {
        "colab": {
          "base_uri": "https://localhost:8080/"
        },
        "id": "dYZPTiH9nb0J",
        "outputId": "aec5707b-d426-40a9-bf41-6a5e8b077b97"
      },
      "source": [
        "a = np.array([x for x in range(1,101)])\n",
        "a"
      ],
      "execution_count": null,
      "outputs": [
        {
          "output_type": "execute_result",
          "data": {
            "text/plain": [
              "array([  1,   2,   3,   4,   5,   6,   7,   8,   9,  10,  11,  12,  13,\n",
              "        14,  15,  16,  17,  18,  19,  20,  21,  22,  23,  24,  25,  26,\n",
              "        27,  28,  29,  30,  31,  32,  33,  34,  35,  36,  37,  38,  39,\n",
              "        40,  41,  42,  43,  44,  45,  46,  47,  48,  49,  50,  51,  52,\n",
              "        53,  54,  55,  56,  57,  58,  59,  60,  61,  62,  63,  64,  65,\n",
              "        66,  67,  68,  69,  70,  71,  72,  73,  74,  75,  76,  77,  78,\n",
              "        79,  80,  81,  82,  83,  84,  85,  86,  87,  88,  89,  90,  91,\n",
              "        92,  93,  94,  95,  96,  97,  98,  99, 100])"
            ]
          },
          "metadata": {
            "tags": []
          },
          "execution_count": 5
        }
      ]
    },
    {
      "cell_type": "markdown",
      "metadata": {
        "id": "fD72IRGftUaB"
      },
      "source": [
        "**2. Obtendo o tipo do objeto e o tipo de dados nele contidos**"
      ]
    },
    {
      "cell_type": "markdown",
      "metadata": {
        "id": "GaNUlp6s6bLv"
      },
      "source": [
        "*tipo do array*"
      ]
    },
    {
      "cell_type": "code",
      "metadata": {
        "colab": {
          "base_uri": "https://localhost:8080/"
        },
        "id": "FGhBbR1rnb0J",
        "outputId": "b8cedb71-71c3-4dec-f7a2-cc04d38b62c1"
      },
      "source": [
        "type(a)"
      ],
      "execution_count": null,
      "outputs": [
        {
          "output_type": "execute_result",
          "data": {
            "text/plain": [
              "numpy.ndarray"
            ]
          },
          "metadata": {
            "tags": []
          },
          "execution_count": 6
        }
      ]
    },
    {
      "cell_type": "markdown",
      "metadata": {
        "id": "cPOz5OGWyOqL"
      },
      "source": [
        "*mostra o tipo atômico de dados que está dentro do ndarray / todos os elementos são do tipo int64, pois esse array é homogêneo*"
      ]
    },
    {
      "cell_type": "code",
      "metadata": {
        "colab": {
          "base_uri": "https://localhost:8080/"
        },
        "id": "toEAMJx8nb0J",
        "outputId": "9b10d583-f0e8-4816-9e7c-86e59e82e938"
      },
      "source": [
        "a.dtype"
      ],
      "execution_count": null,
      "outputs": [
        {
          "output_type": "execute_result",
          "data": {
            "text/plain": [
              "dtype('int64')"
            ]
          },
          "metadata": {
            "tags": []
          },
          "execution_count": 7
        }
      ]
    },
    {
      "cell_type": "markdown",
      "metadata": {
        "id": "C-FPdg7UylNp"
      },
      "source": [
        "**3. Qual a dimensão deste array?**"
      ]
    },
    {
      "cell_type": "markdown",
      "metadata": {
        "id": "wzeYoGJOy23Q"
      },
      "source": [
        "*a dimensão é fixa e pré-definida - quantas linhas e colunas ele tem - mostra que ele é unidimensional por isso não tem nada após a vírgula*"
      ]
    },
    {
      "cell_type": "code",
      "metadata": {
        "colab": {
          "base_uri": "https://localhost:8080/"
        },
        "id": "84WnvjfEnb0J",
        "outputId": "db08c126-25f5-4992-df60-da963b059d2d"
      },
      "source": [
        "a.shape "
      ],
      "execution_count": null,
      "outputs": [
        {
          "output_type": "execute_result",
          "data": {
            "text/plain": [
              "(100,)"
            ]
          },
          "metadata": {
            "tags": []
          },
          "execution_count": 8
        }
      ]
    },
    {
      "cell_type": "markdown",
      "metadata": {
        "id": "cFAa3LiZzW6F"
      },
      "source": [
        "**4. Obtendo o rank deste array** "
      ]
    },
    {
      "cell_type": "markdown",
      "metadata": {
        "id": "KK3ndP4ozlje"
      },
      "source": [
        "*o rank é a qtd de dimensões*"
      ]
    },
    {
      "cell_type": "markdown",
      "metadata": {
        "id": "BmufqTnNzICv"
      },
      "source": [
        "*verificando a qtd de dimensões*"
      ]
    },
    {
      "cell_type": "code",
      "metadata": {
        "colab": {
          "base_uri": "https://localhost:8080/"
        },
        "id": "OFWDde3-nb0J",
        "outputId": "a6b698f1-858a-4e41-beb6-e0a6bb72d704"
      },
      "source": [
        "a.ndim"
      ],
      "execution_count": null,
      "outputs": [
        {
          "output_type": "execute_result",
          "data": {
            "text/plain": [
              "1"
            ]
          },
          "metadata": {
            "tags": []
          },
          "execution_count": 9
        }
      ]
    },
    {
      "cell_type": "markdown",
      "metadata": {
        "id": "ITG-hnmKz1R6"
      },
      "source": [
        "**5. Crie um novo array de dimensão (100,1) a partir da lista inicial**"
      ]
    },
    {
      "cell_type": "markdown",
      "metadata": {
        "id": "MrJs70mozv9x"
      },
      "source": [
        "*criar um novo ndarray com 2 dimensões*\n",
        "\n",
        "1.   Cria-se uma lista de listas\n",
        "2.   Obtem-se um array de arrays"
      ]
    },
    {
      "cell_type": "code",
      "metadata": {
        "colab": {
          "base_uri": "https://localhost:8080/"
        },
        "id": "UeSsjyJtnb0J",
        "outputId": "23192606-ef54-49e9-ee0b-c79a27a24117"
      },
      "source": [
        "b = np.array([[x] for x in range(1,101)])\n",
        "b"
      ],
      "execution_count": null,
      "outputs": [
        {
          "output_type": "execute_result",
          "data": {
            "text/plain": [
              "array([[  1],\n",
              "       [  2],\n",
              "       [  3],\n",
              "       [  4],\n",
              "       [  5],\n",
              "       [  6],\n",
              "       [  7],\n",
              "       [  8],\n",
              "       [  9],\n",
              "       [ 10],\n",
              "       [ 11],\n",
              "       [ 12],\n",
              "       [ 13],\n",
              "       [ 14],\n",
              "       [ 15],\n",
              "       [ 16],\n",
              "       [ 17],\n",
              "       [ 18],\n",
              "       [ 19],\n",
              "       [ 20],\n",
              "       [ 21],\n",
              "       [ 22],\n",
              "       [ 23],\n",
              "       [ 24],\n",
              "       [ 25],\n",
              "       [ 26],\n",
              "       [ 27],\n",
              "       [ 28],\n",
              "       [ 29],\n",
              "       [ 30],\n",
              "       [ 31],\n",
              "       [ 32],\n",
              "       [ 33],\n",
              "       [ 34],\n",
              "       [ 35],\n",
              "       [ 36],\n",
              "       [ 37],\n",
              "       [ 38],\n",
              "       [ 39],\n",
              "       [ 40],\n",
              "       [ 41],\n",
              "       [ 42],\n",
              "       [ 43],\n",
              "       [ 44],\n",
              "       [ 45],\n",
              "       [ 46],\n",
              "       [ 47],\n",
              "       [ 48],\n",
              "       [ 49],\n",
              "       [ 50],\n",
              "       [ 51],\n",
              "       [ 52],\n",
              "       [ 53],\n",
              "       [ 54],\n",
              "       [ 55],\n",
              "       [ 56],\n",
              "       [ 57],\n",
              "       [ 58],\n",
              "       [ 59],\n",
              "       [ 60],\n",
              "       [ 61],\n",
              "       [ 62],\n",
              "       [ 63],\n",
              "       [ 64],\n",
              "       [ 65],\n",
              "       [ 66],\n",
              "       [ 67],\n",
              "       [ 68],\n",
              "       [ 69],\n",
              "       [ 70],\n",
              "       [ 71],\n",
              "       [ 72],\n",
              "       [ 73],\n",
              "       [ 74],\n",
              "       [ 75],\n",
              "       [ 76],\n",
              "       [ 77],\n",
              "       [ 78],\n",
              "       [ 79],\n",
              "       [ 80],\n",
              "       [ 81],\n",
              "       [ 82],\n",
              "       [ 83],\n",
              "       [ 84],\n",
              "       [ 85],\n",
              "       [ 86],\n",
              "       [ 87],\n",
              "       [ 88],\n",
              "       [ 89],\n",
              "       [ 90],\n",
              "       [ 91],\n",
              "       [ 92],\n",
              "       [ 93],\n",
              "       [ 94],\n",
              "       [ 95],\n",
              "       [ 96],\n",
              "       [ 97],\n",
              "       [ 98],\n",
              "       [ 99],\n",
              "       [100]])"
            ]
          },
          "metadata": {
            "tags": []
          },
          "execution_count": 10
        }
      ]
    },
    {
      "cell_type": "code",
      "metadata": {
        "colab": {
          "base_uri": "https://localhost:8080/"
        },
        "id": "3L89_Vgy0sAG",
        "outputId": "b4cfb690-a646-4507-b4b6-7c0c1c902292"
      },
      "source": [
        "b.dtype"
      ],
      "execution_count": null,
      "outputs": [
        {
          "output_type": "execute_result",
          "data": {
            "text/plain": [
              "dtype('int64')"
            ]
          },
          "metadata": {
            "tags": []
          },
          "execution_count": 11
        }
      ]
    },
    {
      "cell_type": "code",
      "metadata": {
        "colab": {
          "base_uri": "https://localhost:8080/"
        },
        "id": "Kz15tjfD0vSJ",
        "outputId": "155fc98d-d5d2-424b-a376-95cb198b77ce"
      },
      "source": [
        "b.shape"
      ],
      "execution_count": null,
      "outputs": [
        {
          "output_type": "execute_result",
          "data": {
            "text/plain": [
              "(100, 1)"
            ]
          },
          "metadata": {
            "tags": []
          },
          "execution_count": 12
        }
      ]
    },
    {
      "cell_type": "code",
      "metadata": {
        "colab": {
          "base_uri": "https://localhost:8080/"
        },
        "id": "XJ_0TY3m0-oq",
        "outputId": "c9daff50-5205-4cf0-ffa3-19d37b45c5b0"
      },
      "source": [
        "b.ndim"
      ],
      "execution_count": null,
      "outputs": [
        {
          "output_type": "execute_result",
          "data": {
            "text/plain": [
              "2"
            ]
          },
          "metadata": {
            "tags": []
          },
          "execution_count": 13
        }
      ]
    },
    {
      "cell_type": "markdown",
      "metadata": {
        "id": "-qqng3Zj4ihU"
      },
      "source": [
        "*construindo um de 3 dimensões*"
      ]
    },
    {
      "cell_type": "markdown",
      "metadata": {
        "id": "2QfRdcdQ5aUI"
      },
      "source": [
        "*duas listas de listas dentro de uma lista*"
      ]
    },
    {
      "cell_type": "code",
      "metadata": {
        "colab": {
          "base_uri": "https://localhost:8080/"
        },
        "id": "9d1X0Fii1AXJ",
        "outputId": "99f3404c-0bd6-4e3f-b7af-1636d9d0fc1a"
      },
      "source": [
        "c = np.array([[[1, 0],[1, 0]], [[1, 0], [1, 0]]])\n",
        "c"
      ],
      "execution_count": null,
      "outputs": [
        {
          "output_type": "execute_result",
          "data": {
            "text/plain": [
              "array([[[1, 0],\n",
              "        [1, 0]],\n",
              "\n",
              "       [[1, 0],\n",
              "        [1, 0]]])"
            ]
          },
          "metadata": {
            "tags": []
          },
          "execution_count": 15
        }
      ]
    },
    {
      "cell_type": "code",
      "metadata": {
        "colab": {
          "base_uri": "https://localhost:8080/"
        },
        "id": "j3XRUyNg5xyp",
        "outputId": "89a058cc-61cb-4361-9cb8-af526ea658fd"
      },
      "source": [
        "c.shape"
      ],
      "execution_count": null,
      "outputs": [
        {
          "output_type": "execute_result",
          "data": {
            "text/plain": [
              "(2, 2, 2)"
            ]
          },
          "metadata": {
            "tags": []
          },
          "execution_count": 16
        }
      ]
    },
    {
      "cell_type": "code",
      "metadata": {
        "colab": {
          "base_uri": "https://localhost:8080/"
        },
        "id": "dpqVLRCg50Rd",
        "outputId": "5a7e52fb-fcb9-4108-8cfa-bdcf5cc836a6"
      },
      "source": [
        "c.ndim"
      ],
      "execution_count": null,
      "outputs": [
        {
          "output_type": "execute_result",
          "data": {
            "text/plain": [
              "3"
            ]
          },
          "metadata": {
            "tags": []
          },
          "execution_count": 18
        }
      ]
    },
    {
      "cell_type": "markdown",
      "metadata": {
        "id": "9moL8itqnb0J"
      },
      "source": [
        "**É possível criar um ndarray a partir da lista a seguir?**\n",
        "\n",
        "$$lista = [[1,2],[3,4,5],[6,7,8,9]]$$"
      ]
    },
    {
      "cell_type": "markdown",
      "metadata": {
        "id": "boLQM8fy7FPE"
      },
      "source": [
        "N, pois não há homogeneidade entre o tamanho das listas, por isso não é possível criar um ndarray.\n",
        "Executando no conda ele mostra o erro. Ele tenta capturar como array de listtas, mas a funcionalidade de acessar os elementos eu n consigo "
      ]
    },
    {
      "cell_type": "code",
      "metadata": {
        "colab": {
          "base_uri": "https://localhost:8080/"
        },
        "id": "wKDCeyJPnb0J",
        "outputId": "39035e6b-4a5e-4fff-f542-ad58caa4bb06"
      },
      "source": [
        "np.array([[1,2],[3,4,5],[6,7,8,9]])"
      ],
      "execution_count": null,
      "outputs": [
        {
          "output_type": "execute_result",
          "data": {
            "text/plain": [
              "array([list([1, 2]), list([3, 4, 5]), list([6, 7, 8, 9])], dtype=object)"
            ]
          },
          "metadata": {
            "tags": []
          },
          "execution_count": 19
        }
      ]
    },
    {
      "cell_type": "markdown",
      "metadata": {
        "id": "3IgujBzGnb0J"
      },
      "source": [
        "**Qual o tipo de dados contidos no array criado a partir da lista a seguir?**\n",
        "\n",
        "$$[-1, 1, 2.0, 3.15]$$"
      ]
    },
    {
      "cell_type": "markdown",
      "metadata": {
        "id": "gwPpcxre8Rng"
      },
      "source": [
        "o numpy ndarray consegue encontrar o tipo de dado que melhor se adequa a todos os elementos que estão ali fornecidos"
      ]
    },
    {
      "cell_type": "markdown",
      "metadata": {
        "id": "eKCPQyP_9DKT"
      },
      "source": [
        "ocorreu uma promoção de tipos"
      ]
    },
    {
      "cell_type": "code",
      "metadata": {
        "colab": {
          "base_uri": "https://localhost:8080/"
        },
        "id": "yMU8Y-Oqnb0J",
        "outputId": "2aa68cb9-9e42-46bc-b494-b2054ab60dcf"
      },
      "source": [
        "a = np.array([-1,1,2.0,3.15])\n",
        "a"
      ],
      "execution_count": null,
      "outputs": [
        {
          "output_type": "execute_result",
          "data": {
            "text/plain": [
              "array([-1.  ,  1.  ,  2.  ,  3.15])"
            ]
          },
          "metadata": {
            "tags": []
          },
          "execution_count": 22
        }
      ]
    },
    {
      "cell_type": "code",
      "metadata": {
        "colab": {
          "base_uri": "https://localhost:8080/"
        },
        "id": "i0edCnyo9KDl",
        "outputId": "640c7920-3d29-4433-a574-2c950e67abcf"
      },
      "source": [
        "a.dtype"
      ],
      "execution_count": null,
      "outputs": [
        {
          "output_type": "execute_result",
          "data": {
            "text/plain": [
              "dtype('float64')"
            ]
          },
          "metadata": {
            "tags": []
          },
          "execution_count": 23
        }
      ]
    },
    {
      "cell_type": "markdown",
      "metadata": {
        "id": "NhN5KcqY9bPq"
      },
      "source": [
        "* é possível criação de ndarrays com: \n",
        "listas, listas aninhadas, tuplas, tuplas aninhadas, tuplas e listas aninhadas\n",
        "* a principal preocupação é consistência na dimensão\n",
        "* viabiliza a promoção de tipos, caso necessário\n",
        "* mas a tipificação depende do sistema*"
      ]
    },
    {
      "cell_type": "markdown",
      "metadata": {
        "id": "I4Ch5rQH9t8l"
      },
      "source": [
        ""
      ]
    },
    {
      "cell_type": "markdown",
      "metadata": {
        "id": "Usx8TXbNnb0K"
      },
      "source": [
        "## Parte 1.2: Coerção de tipos em ndarrays\n",
        "\n",
        "\n",
        "0. Cuidado!\n",
        "1. **Primeira forma**: passar o dtype como parâmetro  \n",
        "```python\n",
        "np.array([1,2,3],dtype = \"complex\")\n",
        "```\n",
        "2. **Segunda forma**: coerção de tipos\n",
        "```python\n",
        "a = np.array([1,2,3])\n",
        "a = a.astype(\"float\")\n",
        "```\n",
        "3. Os tipos de dados disponíveis na biblioteca numpy são listados em:  \n",
        "https://numpy.org/devdocs/user/basics.types.html\n"
      ]
    },
    {
      "cell_type": "markdown",
      "metadata": {
        "id": "xSrilD1Y-7jb"
      },
      "source": [
        "*coerção de tipos é forçar alteração do tipo*"
      ]
    },
    {
      "cell_type": "markdown",
      "metadata": {
        "id": "zqSeFxIU_IjV"
      },
      "source": [
        "forçando um array de números inteiros para números complexos"
      ]
    },
    {
      "cell_type": "markdown",
      "metadata": {
        "id": "JDz92XMB_gGi"
      },
      "source": [
        "**1. Primeira forma**"
      ]
    },
    {
      "cell_type": "code",
      "metadata": {
        "colab": {
          "base_uri": "https://localhost:8080/"
        },
        "id": "NHA7tkYA-5_s",
        "outputId": "79a2aa3d-63d8-4d0a-d333-ea368a0878be"
      },
      "source": [
        "np.array([1,2,3],dtype = \"complex\")"
      ],
      "execution_count": 37,
      "outputs": [
        {
          "output_type": "execute_result",
          "data": {
            "text/plain": [
              "array([1.+0.j, 2.+0.j, 3.+0.j])"
            ]
          },
          "metadata": {
            "tags": []
          },
          "execution_count": 37
        }
      ]
    },
    {
      "cell_type": "markdown",
      "metadata": {
        "id": "l_JsGeFC_kqw"
      },
      "source": [
        "**2. Segunda forma**"
      ]
    },
    {
      "cell_type": "code",
      "metadata": {
        "colab": {
          "base_uri": "https://localhost:8080/"
        },
        "id": "V001TTMUnb0K",
        "outputId": "ae302d82-2193-4098-9f36-771e3c1f57bb"
      },
      "source": [
        "a = np.array([1,2,3])\n",
        "a = a.astype(\"float\")\n",
        "a"
      ],
      "execution_count": 38,
      "outputs": [
        {
          "output_type": "execute_result",
          "data": {
            "text/plain": [
              "array([1., 2., 3.])"
            ]
          },
          "metadata": {
            "tags": []
          },
          "execution_count": 38
        }
      ]
    },
    {
      "cell_type": "markdown",
      "metadata": {
        "id": "Ws_wwJd5nb0K"
      },
      "source": [
        "Quais as implicações da coerção de tipo a seguir? Execute e observe.\n",
        "\n",
        "```python\n",
        "x = np.array([1.3 + 3j,2 -4j],dtype = \"complex_\")\n",
        "x = x.astype(\"int\")\n",
        "```"
      ]
    },
    {
      "cell_type": "markdown",
      "metadata": {
        "id": "2L-487eh_-UA"
      },
      "source": [
        "*o erro aparace no conda - complexWarning: casting complex values to real discards the imaginary part - tá perdendo a informações*"
      ]
    },
    {
      "cell_type": "code",
      "metadata": {
        "colab": {
          "base_uri": "https://localhost:8080/"
        },
        "id": "McuJwG9rnb0K",
        "outputId": "5137e92b-22ae-47a5-f5dc-dd746c21b16a"
      },
      "source": [
        "x = np.array([1.3 + 3j,2 -4j],dtype = \"complex_\")\n",
        "x = x.astype(\"int\")\n",
        "x"
      ],
      "execution_count": 39,
      "outputs": [
        {
          "output_type": "stream",
          "text": [
            "/usr/local/lib/python3.6/dist-packages/ipykernel_launcher.py:2: ComplexWarning: Casting complex values to real discards the imaginary part\n",
            "  \n"
          ],
          "name": "stderr"
        },
        {
          "output_type": "execute_result",
          "data": {
            "text/plain": [
              "array([1, 2])"
            ]
          },
          "metadata": {
            "tags": []
          },
          "execution_count": 39
        }
      ]
    },
    {
      "cell_type": "markdown",
      "metadata": {
        "id": "8EAZdAa8nb0K"
      },
      "source": [
        "## Parte 1.3: Criação intrínseca de arrays\n",
        "\n",
        "1. A partir de np.zeros: Crie uma matriz identidade 3x3 de números inteiros\n",
        "2. A partir de um array unidimensional de np.ones: Crie um array 2x10 preenchido apenas com $\\pi$\n",
        "3. Qual a consequência da execução do código a seguir?\n",
        "```python\n",
        "np.random.random((2,2)).reshape(3,3)\n",
        "```\n",
        "4. Criar um array unidimensional a partir de uma variável aleatória com distribuição normal de média zero e desvio padrão igual a 1.0  \n",
        "  - https://numpy.org/doc/stable/reference/random/generated/numpy.random.normal.html\n",
        "  - Que tal plotar um histograma destes dados?\n",
        "5. Criar amostras no intervalo de [1,100] intervaladas de 2  \n",
        "   5.1 Com uma lista  \n",
        "   5.2 Com np.arange  \n",
        "6. Crie um linspace no intervalo $[-2\\pi,2\\pi]$ com mil amostras  \n",
        "   6.1 Obtenha o seno e o coseno destes valores  \n",
        "   6.2 Plote o gráfico destas funções  "
      ]
    },
    {
      "cell_type": "markdown",
      "metadata": {
        "id": "Nw1Mq2TsAXUx"
      },
      "source": [
        "**1.criando uma matriz 3 x 3 onde os elementos são zero**"
      ]
    },
    {
      "cell_type": "code",
      "metadata": {
        "colab": {
          "base_uri": "https://localhost:8080/"
        },
        "id": "z_PoiEdFnb0K",
        "outputId": "6d4a389e-c858-45c9-e03a-73a8d86de9da"
      },
      "source": [
        "a = np.zeros((3,3))\n",
        "a"
      ],
      "execution_count": null,
      "outputs": [
        {
          "output_type": "execute_result",
          "data": {
            "text/plain": [
              "array([[0., 0., 0.],\n",
              "       [0., 0., 0.],\n",
              "       [0., 0., 0.]])"
            ]
          },
          "metadata": {
            "tags": []
          },
          "execution_count": 29
        }
      ]
    },
    {
      "cell_type": "markdown",
      "metadata": {
        "id": "jne0JfETAtt0"
      },
      "source": [
        "**2. Criando um array 2 x 10 preenchido apenas com pi**"
      ]
    },
    {
      "cell_type": "markdown",
      "metadata": {
        "id": "es6stZ-2BMUG"
      },
      "source": [
        "*foi criado um arry 2x10 só de elementos 1, e em seguida foi somado a eles o valor restante para chegar ao númeor de pi*"
      ]
    },
    {
      "cell_type": "code",
      "metadata": {
        "colab": {
          "base_uri": "https://localhost:8080/"
        },
        "id": "1xoEISB_nb0K",
        "outputId": "487c14bc-9e28-4ee2-dcd8-b275e85f5214"
      },
      "source": [
        "b = np.ones((2,10))\n",
        "b += 2.1415\n",
        "b"
      ],
      "execution_count": null,
      "outputs": [
        {
          "output_type": "execute_result",
          "data": {
            "text/plain": [
              "array([[3.1415, 3.1415, 3.1415, 3.1415, 3.1415, 3.1415, 3.1415, 3.1415,\n",
              "        3.1415, 3.1415],\n",
              "       [3.1415, 3.1415, 3.1415, 3.1415, 3.1415, 3.1415, 3.1415, 3.1415,\n",
              "        3.1415, 3.1415]])"
            ]
          },
          "metadata": {
            "tags": []
          },
          "execution_count": 30
        }
      ]
    },
    {
      "cell_type": "markdown",
      "metadata": {
        "id": "4Z5WNR_oBtsb"
      },
      "source": [
        "*com numpy é possível criar arrays com uma sequência aleatória de números*"
      ]
    },
    {
      "cell_type": "markdown",
      "metadata": {
        "id": "QTitDBc8B8SK"
      },
      "source": [
        "*gerando números aleatórios de acordo com a distribuição random.random que é uniforme de 0 a 1 - determinando que seja uma arrray 3x3 / toda vez que for rodado gerará uma sequencia diferente*"
      ]
    },
    {
      "cell_type": "code",
      "metadata": {
        "colab": {
          "base_uri": "https://localhost:8080/"
        },
        "id": "I4GneS6onb0K",
        "outputId": "913b8646-7c6a-4a9d-ff77-2354506a9ac7"
      },
      "source": [
        "np.random.random((3, 3))"
      ],
      "execution_count": null,
      "outputs": [
        {
          "output_type": "execute_result",
          "data": {
            "text/plain": [
              "array([[0.42638403, 0.33332441, 0.41465616],\n",
              "       [0.82649249, 0.26198971, 0.15375025],\n",
              "       [0.14662096, 0.03680483, 0.14534863]])"
            ]
          },
          "metadata": {
            "tags": []
          },
          "execution_count": 32
        }
      ]
    },
    {
      "cell_type": "markdown",
      "metadata": {
        "id": "Pw0wzMH6C8lN"
      },
      "source": [
        "*gerando uma matriz de distribuição normal onde a média é 0, o desvio padrão é 1.0 e o vetor é 3x3*"
      ]
    },
    {
      "cell_type": "code",
      "metadata": {
        "colab": {
          "base_uri": "https://localhost:8080/"
        },
        "id": "WZtdEX-9nb0K",
        "outputId": "ca6458c2-17fb-4924-e38f-e737b31be905"
      },
      "source": [
        "np.random.normal(0,1.0,(3, 3))"
      ],
      "execution_count": null,
      "outputs": [
        {
          "output_type": "execute_result",
          "data": {
            "text/plain": [
              "array([[ 0.32709045, -1.20706512, -1.93130591],\n",
              "       [-0.03712645, -0.00721653, -1.15761042],\n",
              "       [-0.46757969,  2.03957807,  0.39749331]])"
            ]
          },
          "metadata": {
            "tags": []
          },
          "execution_count": 33
        }
      ]
    },
    {
      "cell_type": "markdown",
      "metadata": {
        "id": "_I7zAKd2FDKB"
      },
      "source": [
        "**4. Criando um array unidimensional a partir de uma variável aleatória com distribuição normal de média zero e desvio padrão igual a 1.0**"
      ]
    },
    {
      "cell_type": "markdown",
      "metadata": {
        "id": "9wtVFYJ5GQ1r"
      },
      "source": [
        "*distribuição normal é conhecida como Gaussiana*\n",
        "\n",
        "*ele possui tres parametros - loc = 0.0, scale = 1.0, size = None. Se eu n fornecer nem o loc e nem o scale ele assumirá os valores setados inicialmente*"
      ]
    },
    {
      "cell_type": "markdown",
      "metadata": {
        "id": "rel3ZJRND4r5"
      },
      "source": [
        "*posso pegar essa matriz e atribuir uma outra forma a ela, isso é mudar o shape , desde que essa mudança continue me lenvando a nove elementos*"
      ]
    },
    {
      "cell_type": "markdown",
      "metadata": {
        "id": "2EOw9PQQEQPI"
      },
      "source": [
        "neste caso, estamos convertendo uma matriz 3x3 para nove elementos n dimensionais"
      ]
    },
    {
      "cell_type": "code",
      "metadata": {
        "colab": {
          "base_uri": "https://localhost:8080/"
        },
        "id": "Ky7izEAinb0K",
        "outputId": "74e4d2f2-a652-4792-cdb1-252c5c9ef82b"
      },
      "source": [
        "np.random.normal(0,1.0,(3, 3)).reshape(9,)"
      ],
      "execution_count": null,
      "outputs": [
        {
          "output_type": "execute_result",
          "data": {
            "text/plain": [
              "array([ 0.9457873 ,  0.85642466,  0.4055288 ,  0.51166471,  1.98909676,\n",
              "       -0.39381743,  0.4217413 ,  0.44762784, -0.39275123])"
            ]
          },
          "metadata": {
            "tags": []
          },
          "execution_count": 34
        }
      ]
    },
    {
      "cell_type": "markdown",
      "metadata": {
        "id": "VeqhMuYcEfOZ"
      },
      "source": [
        "fazendo o inverso"
      ]
    },
    {
      "cell_type": "code",
      "metadata": {
        "colab": {
          "base_uri": "https://localhost:8080/"
        },
        "id": "PwKvd-XCnb0K",
        "outputId": "87dce92e-4b99-478a-a165-1727a7388508"
      },
      "source": [
        "np.ones((16,)).reshape((4,4))"
      ],
      "execution_count": null,
      "outputs": [
        {
          "output_type": "execute_result",
          "data": {
            "text/plain": [
              "array([[1., 1., 1., 1.],\n",
              "       [1., 1., 1., 1.],\n",
              "       [1., 1., 1., 1.],\n",
              "       [1., 1., 1., 1.]])"
            ]
          },
          "metadata": {
            "tags": []
          },
          "execution_count": 35
        }
      ]
    },
    {
      "cell_type": "markdown",
      "metadata": {
        "id": "qYqL0-v6EtMe"
      },
      "source": [
        "somando um numero aos elementos"
      ]
    },
    {
      "cell_type": "code",
      "metadata": {
        "colab": {
          "base_uri": "https://localhost:8080/"
        },
        "id": "kvoxJy6tnb0K",
        "outputId": "79dba764-c250-4512-d673-e87ca561e23a"
      },
      "source": [
        "np.ones((16,)).reshape((4,4)) + 9"
      ],
      "execution_count": null,
      "outputs": [
        {
          "output_type": "execute_result",
          "data": {
            "text/plain": [
              "array([[10., 10., 10., 10.],\n",
              "       [10., 10., 10., 10.],\n",
              "       [10., 10., 10., 10.],\n",
              "       [10., 10., 10., 10.]])"
            ]
          },
          "metadata": {
            "tags": []
          },
          "execution_count": 36
        }
      ]
    },
    {
      "cell_type": "markdown",
      "metadata": {
        "id": "GwY2Kzc_FSWV"
      },
      "source": [
        "*plotando um histograma dos dados - uma curva no formato de sino e q tem ali, se houver media 0, terá muitos exemplos prox de 0 e vai diminuindo a medida que abro para longe do 0 , seja negativo ou positivo*"
      ]
    },
    {
      "cell_type": "markdown",
      "metadata": {
        "id": "Etj3tsQMHSJ5"
      },
      "source": [
        "**5. Criando amostras no intervalo de [1,100], intervaladas de 2**"
      ]
    },
    {
      "cell_type": "markdown",
      "metadata": {
        "id": "IpQFOy8NI-Eq"
      },
      "source": [
        "*vai de 1 até 100-1, por intervalos de 2*"
      ]
    },
    {
      "cell_type": "code",
      "metadata": {
        "id": "jRXt2w62nb0K",
        "colab": {
          "base_uri": "https://localhost:8080/"
        },
        "outputId": "7d6d0e5c-2064-4b84-a4ab-0fd9db93282b"
      },
      "source": [
        "np.arange(1,100,2)"
      ],
      "execution_count": 41,
      "outputs": [
        {
          "output_type": "execute_result",
          "data": {
            "text/plain": [
              "array([ 1,  3,  5,  7,  9, 11, 13, 15, 17, 19, 21, 23, 25, 27, 29, 31, 33,\n",
              "       35, 37, 39, 41, 43, 45, 47, 49, 51, 53, 55, 57, 59, 61, 63, 65, 67,\n",
              "       69, 71, 73, 75, 77, 79, 81, 83, 85, 87, 89, 91, 93, 95, 97, 99])"
            ]
          },
          "metadata": {
            "tags": []
          },
          "execution_count": 41
        }
      ]
    },
    {
      "cell_type": "markdown",
      "metadata": {
        "id": "S6j7kqaOJAu8"
      },
      "source": [
        "*devolveu 50 amostras*"
      ]
    },
    {
      "cell_type": "code",
      "metadata": {
        "colab": {
          "base_uri": "https://localhost:8080/"
        },
        "id": "ax98k14PHA_Q",
        "outputId": "ec649a83-253c-48a7-cdca-823ff591da2e"
      },
      "source": [
        "np.arange(1,100,2).shape"
      ],
      "execution_count": 42,
      "outputs": [
        {
          "output_type": "execute_result",
          "data": {
            "text/plain": [
              "(50,)"
            ]
          },
          "metadata": {
            "tags": []
          },
          "execution_count": 42
        }
      ]
    },
    {
      "cell_type": "markdown",
      "metadata": {
        "id": "b6fhorZ5IC2P"
      },
      "source": [
        "com o numpy.arange eu consigo criar numeros com intervalos pequenos, e onde o intervalador pode ser um float, diferente de um for ou while in range, que só pode ser inteiro"
      ]
    },
    {
      "cell_type": "markdown",
      "metadata": {
        "id": "VDjrQJurI27J"
      },
      "source": [
        "*vai de 1 até 100-1, por intervalos de 0.1*"
      ]
    },
    {
      "cell_type": "code",
      "metadata": {
        "colab": {
          "base_uri": "https://localhost:8080/"
        },
        "id": "B30J8FtZHAgr",
        "outputId": "b4ec6cef-9567-4080-ecbf-7922b1d50098"
      },
      "source": [
        "np.arange(1,100,0.1)"
      ],
      "execution_count": 43,
      "outputs": [
        {
          "output_type": "execute_result",
          "data": {
            "text/plain": [
              "array([ 1. ,  1.1,  1.2,  1.3,  1.4,  1.5,  1.6,  1.7,  1.8,  1.9,  2. ,\n",
              "        2.1,  2.2,  2.3,  2.4,  2.5,  2.6,  2.7,  2.8,  2.9,  3. ,  3.1,\n",
              "        3.2,  3.3,  3.4,  3.5,  3.6,  3.7,  3.8,  3.9,  4. ,  4.1,  4.2,\n",
              "        4.3,  4.4,  4.5,  4.6,  4.7,  4.8,  4.9,  5. ,  5.1,  5.2,  5.3,\n",
              "        5.4,  5.5,  5.6,  5.7,  5.8,  5.9,  6. ,  6.1,  6.2,  6.3,  6.4,\n",
              "        6.5,  6.6,  6.7,  6.8,  6.9,  7. ,  7.1,  7.2,  7.3,  7.4,  7.5,\n",
              "        7.6,  7.7,  7.8,  7.9,  8. ,  8.1,  8.2,  8.3,  8.4,  8.5,  8.6,\n",
              "        8.7,  8.8,  8.9,  9. ,  9.1,  9.2,  9.3,  9.4,  9.5,  9.6,  9.7,\n",
              "        9.8,  9.9, 10. , 10.1, 10.2, 10.3, 10.4, 10.5, 10.6, 10.7, 10.8,\n",
              "       10.9, 11. , 11.1, 11.2, 11.3, 11.4, 11.5, 11.6, 11.7, 11.8, 11.9,\n",
              "       12. , 12.1, 12.2, 12.3, 12.4, 12.5, 12.6, 12.7, 12.8, 12.9, 13. ,\n",
              "       13.1, 13.2, 13.3, 13.4, 13.5, 13.6, 13.7, 13.8, 13.9, 14. , 14.1,\n",
              "       14.2, 14.3, 14.4, 14.5, 14.6, 14.7, 14.8, 14.9, 15. , 15.1, 15.2,\n",
              "       15.3, 15.4, 15.5, 15.6, 15.7, 15.8, 15.9, 16. , 16.1, 16.2, 16.3,\n",
              "       16.4, 16.5, 16.6, 16.7, 16.8, 16.9, 17. , 17.1, 17.2, 17.3, 17.4,\n",
              "       17.5, 17.6, 17.7, 17.8, 17.9, 18. , 18.1, 18.2, 18.3, 18.4, 18.5,\n",
              "       18.6, 18.7, 18.8, 18.9, 19. , 19.1, 19.2, 19.3, 19.4, 19.5, 19.6,\n",
              "       19.7, 19.8, 19.9, 20. , 20.1, 20.2, 20.3, 20.4, 20.5, 20.6, 20.7,\n",
              "       20.8, 20.9, 21. , 21.1, 21.2, 21.3, 21.4, 21.5, 21.6, 21.7, 21.8,\n",
              "       21.9, 22. , 22.1, 22.2, 22.3, 22.4, 22.5, 22.6, 22.7, 22.8, 22.9,\n",
              "       23. , 23.1, 23.2, 23.3, 23.4, 23.5, 23.6, 23.7, 23.8, 23.9, 24. ,\n",
              "       24.1, 24.2, 24.3, 24.4, 24.5, 24.6, 24.7, 24.8, 24.9, 25. , 25.1,\n",
              "       25.2, 25.3, 25.4, 25.5, 25.6, 25.7, 25.8, 25.9, 26. , 26.1, 26.2,\n",
              "       26.3, 26.4, 26.5, 26.6, 26.7, 26.8, 26.9, 27. , 27.1, 27.2, 27.3,\n",
              "       27.4, 27.5, 27.6, 27.7, 27.8, 27.9, 28. , 28.1, 28.2, 28.3, 28.4,\n",
              "       28.5, 28.6, 28.7, 28.8, 28.9, 29. , 29.1, 29.2, 29.3, 29.4, 29.5,\n",
              "       29.6, 29.7, 29.8, 29.9, 30. , 30.1, 30.2, 30.3, 30.4, 30.5, 30.6,\n",
              "       30.7, 30.8, 30.9, 31. , 31.1, 31.2, 31.3, 31.4, 31.5, 31.6, 31.7,\n",
              "       31.8, 31.9, 32. , 32.1, 32.2, 32.3, 32.4, 32.5, 32.6, 32.7, 32.8,\n",
              "       32.9, 33. , 33.1, 33.2, 33.3, 33.4, 33.5, 33.6, 33.7, 33.8, 33.9,\n",
              "       34. , 34.1, 34.2, 34.3, 34.4, 34.5, 34.6, 34.7, 34.8, 34.9, 35. ,\n",
              "       35.1, 35.2, 35.3, 35.4, 35.5, 35.6, 35.7, 35.8, 35.9, 36. , 36.1,\n",
              "       36.2, 36.3, 36.4, 36.5, 36.6, 36.7, 36.8, 36.9, 37. , 37.1, 37.2,\n",
              "       37.3, 37.4, 37.5, 37.6, 37.7, 37.8, 37.9, 38. , 38.1, 38.2, 38.3,\n",
              "       38.4, 38.5, 38.6, 38.7, 38.8, 38.9, 39. , 39.1, 39.2, 39.3, 39.4,\n",
              "       39.5, 39.6, 39.7, 39.8, 39.9, 40. , 40.1, 40.2, 40.3, 40.4, 40.5,\n",
              "       40.6, 40.7, 40.8, 40.9, 41. , 41.1, 41.2, 41.3, 41.4, 41.5, 41.6,\n",
              "       41.7, 41.8, 41.9, 42. , 42.1, 42.2, 42.3, 42.4, 42.5, 42.6, 42.7,\n",
              "       42.8, 42.9, 43. , 43.1, 43.2, 43.3, 43.4, 43.5, 43.6, 43.7, 43.8,\n",
              "       43.9, 44. , 44.1, 44.2, 44.3, 44.4, 44.5, 44.6, 44.7, 44.8, 44.9,\n",
              "       45. , 45.1, 45.2, 45.3, 45.4, 45.5, 45.6, 45.7, 45.8, 45.9, 46. ,\n",
              "       46.1, 46.2, 46.3, 46.4, 46.5, 46.6, 46.7, 46.8, 46.9, 47. , 47.1,\n",
              "       47.2, 47.3, 47.4, 47.5, 47.6, 47.7, 47.8, 47.9, 48. , 48.1, 48.2,\n",
              "       48.3, 48.4, 48.5, 48.6, 48.7, 48.8, 48.9, 49. , 49.1, 49.2, 49.3,\n",
              "       49.4, 49.5, 49.6, 49.7, 49.8, 49.9, 50. , 50.1, 50.2, 50.3, 50.4,\n",
              "       50.5, 50.6, 50.7, 50.8, 50.9, 51. , 51.1, 51.2, 51.3, 51.4, 51.5,\n",
              "       51.6, 51.7, 51.8, 51.9, 52. , 52.1, 52.2, 52.3, 52.4, 52.5, 52.6,\n",
              "       52.7, 52.8, 52.9, 53. , 53.1, 53.2, 53.3, 53.4, 53.5, 53.6, 53.7,\n",
              "       53.8, 53.9, 54. , 54.1, 54.2, 54.3, 54.4, 54.5, 54.6, 54.7, 54.8,\n",
              "       54.9, 55. , 55.1, 55.2, 55.3, 55.4, 55.5, 55.6, 55.7, 55.8, 55.9,\n",
              "       56. , 56.1, 56.2, 56.3, 56.4, 56.5, 56.6, 56.7, 56.8, 56.9, 57. ,\n",
              "       57.1, 57.2, 57.3, 57.4, 57.5, 57.6, 57.7, 57.8, 57.9, 58. , 58.1,\n",
              "       58.2, 58.3, 58.4, 58.5, 58.6, 58.7, 58.8, 58.9, 59. , 59.1, 59.2,\n",
              "       59.3, 59.4, 59.5, 59.6, 59.7, 59.8, 59.9, 60. , 60.1, 60.2, 60.3,\n",
              "       60.4, 60.5, 60.6, 60.7, 60.8, 60.9, 61. , 61.1, 61.2, 61.3, 61.4,\n",
              "       61.5, 61.6, 61.7, 61.8, 61.9, 62. , 62.1, 62.2, 62.3, 62.4, 62.5,\n",
              "       62.6, 62.7, 62.8, 62.9, 63. , 63.1, 63.2, 63.3, 63.4, 63.5, 63.6,\n",
              "       63.7, 63.8, 63.9, 64. , 64.1, 64.2, 64.3, 64.4, 64.5, 64.6, 64.7,\n",
              "       64.8, 64.9, 65. , 65.1, 65.2, 65.3, 65.4, 65.5, 65.6, 65.7, 65.8,\n",
              "       65.9, 66. , 66.1, 66.2, 66.3, 66.4, 66.5, 66.6, 66.7, 66.8, 66.9,\n",
              "       67. , 67.1, 67.2, 67.3, 67.4, 67.5, 67.6, 67.7, 67.8, 67.9, 68. ,\n",
              "       68.1, 68.2, 68.3, 68.4, 68.5, 68.6, 68.7, 68.8, 68.9, 69. , 69.1,\n",
              "       69.2, 69.3, 69.4, 69.5, 69.6, 69.7, 69.8, 69.9, 70. , 70.1, 70.2,\n",
              "       70.3, 70.4, 70.5, 70.6, 70.7, 70.8, 70.9, 71. , 71.1, 71.2, 71.3,\n",
              "       71.4, 71.5, 71.6, 71.7, 71.8, 71.9, 72. , 72.1, 72.2, 72.3, 72.4,\n",
              "       72.5, 72.6, 72.7, 72.8, 72.9, 73. , 73.1, 73.2, 73.3, 73.4, 73.5,\n",
              "       73.6, 73.7, 73.8, 73.9, 74. , 74.1, 74.2, 74.3, 74.4, 74.5, 74.6,\n",
              "       74.7, 74.8, 74.9, 75. , 75.1, 75.2, 75.3, 75.4, 75.5, 75.6, 75.7,\n",
              "       75.8, 75.9, 76. , 76.1, 76.2, 76.3, 76.4, 76.5, 76.6, 76.7, 76.8,\n",
              "       76.9, 77. , 77.1, 77.2, 77.3, 77.4, 77.5, 77.6, 77.7, 77.8, 77.9,\n",
              "       78. , 78.1, 78.2, 78.3, 78.4, 78.5, 78.6, 78.7, 78.8, 78.9, 79. ,\n",
              "       79.1, 79.2, 79.3, 79.4, 79.5, 79.6, 79.7, 79.8, 79.9, 80. , 80.1,\n",
              "       80.2, 80.3, 80.4, 80.5, 80.6, 80.7, 80.8, 80.9, 81. , 81.1, 81.2,\n",
              "       81.3, 81.4, 81.5, 81.6, 81.7, 81.8, 81.9, 82. , 82.1, 82.2, 82.3,\n",
              "       82.4, 82.5, 82.6, 82.7, 82.8, 82.9, 83. , 83.1, 83.2, 83.3, 83.4,\n",
              "       83.5, 83.6, 83.7, 83.8, 83.9, 84. , 84.1, 84.2, 84.3, 84.4, 84.5,\n",
              "       84.6, 84.7, 84.8, 84.9, 85. , 85.1, 85.2, 85.3, 85.4, 85.5, 85.6,\n",
              "       85.7, 85.8, 85.9, 86. , 86.1, 86.2, 86.3, 86.4, 86.5, 86.6, 86.7,\n",
              "       86.8, 86.9, 87. , 87.1, 87.2, 87.3, 87.4, 87.5, 87.6, 87.7, 87.8,\n",
              "       87.9, 88. , 88.1, 88.2, 88.3, 88.4, 88.5, 88.6, 88.7, 88.8, 88.9,\n",
              "       89. , 89.1, 89.2, 89.3, 89.4, 89.5, 89.6, 89.7, 89.8, 89.9, 90. ,\n",
              "       90.1, 90.2, 90.3, 90.4, 90.5, 90.6, 90.7, 90.8, 90.9, 91. , 91.1,\n",
              "       91.2, 91.3, 91.4, 91.5, 91.6, 91.7, 91.8, 91.9, 92. , 92.1, 92.2,\n",
              "       92.3, 92.4, 92.5, 92.6, 92.7, 92.8, 92.9, 93. , 93.1, 93.2, 93.3,\n",
              "       93.4, 93.5, 93.6, 93.7, 93.8, 93.9, 94. , 94.1, 94.2, 94.3, 94.4,\n",
              "       94.5, 94.6, 94.7, 94.8, 94.9, 95. , 95.1, 95.2, 95.3, 95.4, 95.5,\n",
              "       95.6, 95.7, 95.8, 95.9, 96. , 96.1, 96.2, 96.3, 96.4, 96.5, 96.6,\n",
              "       96.7, 96.8, 96.9, 97. , 97.1, 97.2, 97.3, 97.4, 97.5, 97.6, 97.7,\n",
              "       97.8, 97.9, 98. , 98.1, 98.2, 98.3, 98.4, 98.5, 98.6, 98.7, 98.8,\n",
              "       98.9, 99. , 99.1, 99.2, 99.3, 99.4, 99.5, 99.6, 99.7, 99.8, 99.9])"
            ]
          },
          "metadata": {
            "tags": []
          },
          "execution_count": 43
        }
      ]
    },
    {
      "cell_type": "markdown",
      "metadata": {
        "id": "5L7cnqkUIpC0"
      },
      "source": [
        "*vai de -2*pi até 2*pi, e devolve uma amostra de 500 elementos*"
      ]
    },
    {
      "cell_type": "code",
      "metadata": {
        "colab": {
          "base_uri": "https://localhost:8080/"
        },
        "id": "l4CJXsTbHAX4",
        "outputId": "2ec44f7d-11b6-4466-f686-1bbfa88416a1"
      },
      "source": [
        "pi = 3.1415\n",
        "np.linspace(-2*pi, 2*pi, 500)"
      ],
      "execution_count": 44,
      "outputs": [
        {
          "output_type": "execute_result",
          "data": {
            "text/plain": [
              "array([-6.283     , -6.25781764, -6.23263527, -6.20745291, -6.18227054,\n",
              "       -6.15708818, -6.13190581, -6.10672345, -6.08154108, -6.05635872,\n",
              "       -6.03117635, -6.00599399, -5.98081162, -5.95562926, -5.93044689,\n",
              "       -5.90526453, -5.88008216, -5.8548998 , -5.82971743, -5.80453507,\n",
              "       -5.77935271, -5.75417034, -5.72898798, -5.70380561, -5.67862325,\n",
              "       -5.65344088, -5.62825852, -5.60307615, -5.57789379, -5.55271142,\n",
              "       -5.52752906, -5.50234669, -5.47716433, -5.45198196, -5.4267996 ,\n",
              "       -5.40161723, -5.37643487, -5.35125251, -5.32607014, -5.30088778,\n",
              "       -5.27570541, -5.25052305, -5.22534068, -5.20015832, -5.17497595,\n",
              "       -5.14979359, -5.12461122, -5.09942886, -5.07424649, -5.04906413,\n",
              "       -5.02388176, -4.9986994 , -4.97351703, -4.94833467, -4.9231523 ,\n",
              "       -4.89796994, -4.87278758, -4.84760521, -4.82242285, -4.79724048,\n",
              "       -4.77205812, -4.74687575, -4.72169339, -4.69651102, -4.67132866,\n",
              "       -4.64614629, -4.62096393, -4.59578156, -4.5705992 , -4.54541683,\n",
              "       -4.52023447, -4.4950521 , -4.46986974, -4.44468737, -4.41950501,\n",
              "       -4.39432265, -4.36914028, -4.34395792, -4.31877555, -4.29359319,\n",
              "       -4.26841082, -4.24322846, -4.21804609, -4.19286373, -4.16768136,\n",
              "       -4.142499  , -4.11731663, -4.09213427, -4.0669519 , -4.04176954,\n",
              "       -4.01658717, -3.99140481, -3.96622244, -3.94104008, -3.91585772,\n",
              "       -3.89067535, -3.86549299, -3.84031062, -3.81512826, -3.78994589,\n",
              "       -3.76476353, -3.73958116, -3.7143988 , -3.68921643, -3.66403407,\n",
              "       -3.6388517 , -3.61366934, -3.58848697, -3.56330461, -3.53812224,\n",
              "       -3.51293988, -3.48775752, -3.46257515, -3.43739279, -3.41221042,\n",
              "       -3.38702806, -3.36184569, -3.33666333, -3.31148096, -3.2862986 ,\n",
              "       -3.26111623, -3.23593387, -3.2107515 , -3.18556914, -3.16038677,\n",
              "       -3.13520441, -3.11002204, -3.08483968, -3.05965731, -3.03447495,\n",
              "       -3.00929259, -2.98411022, -2.95892786, -2.93374549, -2.90856313,\n",
              "       -2.88338076, -2.8581984 , -2.83301603, -2.80783367, -2.7826513 ,\n",
              "       -2.75746894, -2.73228657, -2.70710421, -2.68192184, -2.65673948,\n",
              "       -2.63155711, -2.60637475, -2.58119238, -2.55601002, -2.53082766,\n",
              "       -2.50564529, -2.48046293, -2.45528056, -2.4300982 , -2.40491583,\n",
              "       -2.37973347, -2.3545511 , -2.32936874, -2.30418637, -2.27900401,\n",
              "       -2.25382164, -2.22863928, -2.20345691, -2.17827455, -2.15309218,\n",
              "       -2.12790982, -2.10272745, -2.07754509, -2.05236273, -2.02718036,\n",
              "       -2.001998  , -1.97681563, -1.95163327, -1.9264509 , -1.90126854,\n",
              "       -1.87608617, -1.85090381, -1.82572144, -1.80053908, -1.77535671,\n",
              "       -1.75017435, -1.72499198, -1.69980962, -1.67462725, -1.64944489,\n",
              "       -1.62426253, -1.59908016, -1.5738978 , -1.54871543, -1.52353307,\n",
              "       -1.4983507 , -1.47316834, -1.44798597, -1.42280361, -1.39762124,\n",
              "       -1.37243888, -1.34725651, -1.32207415, -1.29689178, -1.27170942,\n",
              "       -1.24652705, -1.22134469, -1.19616232, -1.17097996, -1.1457976 ,\n",
              "       -1.12061523, -1.09543287, -1.0702505 , -1.04506814, -1.01988577,\n",
              "       -0.99470341, -0.96952104, -0.94433868, -0.91915631, -0.89397395,\n",
              "       -0.86879158, -0.84360922, -0.81842685, -0.79324449, -0.76806212,\n",
              "       -0.74287976, -0.71769739, -0.69251503, -0.66733267, -0.6421503 ,\n",
              "       -0.61696794, -0.59178557, -0.56660321, -0.54142084, -0.51623848,\n",
              "       -0.49105611, -0.46587375, -0.44069138, -0.41550902, -0.39032665,\n",
              "       -0.36514429, -0.33996192, -0.31477956, -0.28959719, -0.26441483,\n",
              "       -0.23923246, -0.2140501 , -0.18886774, -0.16368537, -0.13850301,\n",
              "       -0.11332064, -0.08813828, -0.06295591, -0.03777355, -0.01259118,\n",
              "        0.01259118,  0.03777355,  0.06295591,  0.08813828,  0.11332064,\n",
              "        0.13850301,  0.16368537,  0.18886774,  0.2140501 ,  0.23923246,\n",
              "        0.26441483,  0.28959719,  0.31477956,  0.33996192,  0.36514429,\n",
              "        0.39032665,  0.41550902,  0.44069138,  0.46587375,  0.49105611,\n",
              "        0.51623848,  0.54142084,  0.56660321,  0.59178557,  0.61696794,\n",
              "        0.6421503 ,  0.66733267,  0.69251503,  0.71769739,  0.74287976,\n",
              "        0.76806212,  0.79324449,  0.81842685,  0.84360922,  0.86879158,\n",
              "        0.89397395,  0.91915631,  0.94433868,  0.96952104,  0.99470341,\n",
              "        1.01988577,  1.04506814,  1.0702505 ,  1.09543287,  1.12061523,\n",
              "        1.1457976 ,  1.17097996,  1.19616232,  1.22134469,  1.24652705,\n",
              "        1.27170942,  1.29689178,  1.32207415,  1.34725651,  1.37243888,\n",
              "        1.39762124,  1.42280361,  1.44798597,  1.47316834,  1.4983507 ,\n",
              "        1.52353307,  1.54871543,  1.5738978 ,  1.59908016,  1.62426253,\n",
              "        1.64944489,  1.67462725,  1.69980962,  1.72499198,  1.75017435,\n",
              "        1.77535671,  1.80053908,  1.82572144,  1.85090381,  1.87608617,\n",
              "        1.90126854,  1.9264509 ,  1.95163327,  1.97681563,  2.001998  ,\n",
              "        2.02718036,  2.05236273,  2.07754509,  2.10272745,  2.12790982,\n",
              "        2.15309218,  2.17827455,  2.20345691,  2.22863928,  2.25382164,\n",
              "        2.27900401,  2.30418637,  2.32936874,  2.3545511 ,  2.37973347,\n",
              "        2.40491583,  2.4300982 ,  2.45528056,  2.48046293,  2.50564529,\n",
              "        2.53082766,  2.55601002,  2.58119238,  2.60637475,  2.63155711,\n",
              "        2.65673948,  2.68192184,  2.70710421,  2.73228657,  2.75746894,\n",
              "        2.7826513 ,  2.80783367,  2.83301603,  2.8581984 ,  2.88338076,\n",
              "        2.90856313,  2.93374549,  2.95892786,  2.98411022,  3.00929259,\n",
              "        3.03447495,  3.05965731,  3.08483968,  3.11002204,  3.13520441,\n",
              "        3.16038677,  3.18556914,  3.2107515 ,  3.23593387,  3.26111623,\n",
              "        3.2862986 ,  3.31148096,  3.33666333,  3.36184569,  3.38702806,\n",
              "        3.41221042,  3.43739279,  3.46257515,  3.48775752,  3.51293988,\n",
              "        3.53812224,  3.56330461,  3.58848697,  3.61366934,  3.6388517 ,\n",
              "        3.66403407,  3.68921643,  3.7143988 ,  3.73958116,  3.76476353,\n",
              "        3.78994589,  3.81512826,  3.84031062,  3.86549299,  3.89067535,\n",
              "        3.91585772,  3.94104008,  3.96622244,  3.99140481,  4.01658717,\n",
              "        4.04176954,  4.0669519 ,  4.09213427,  4.11731663,  4.142499  ,\n",
              "        4.16768136,  4.19286373,  4.21804609,  4.24322846,  4.26841082,\n",
              "        4.29359319,  4.31877555,  4.34395792,  4.36914028,  4.39432265,\n",
              "        4.41950501,  4.44468737,  4.46986974,  4.4950521 ,  4.52023447,\n",
              "        4.54541683,  4.5705992 ,  4.59578156,  4.62096393,  4.64614629,\n",
              "        4.67132866,  4.69651102,  4.72169339,  4.74687575,  4.77205812,\n",
              "        4.79724048,  4.82242285,  4.84760521,  4.87278758,  4.89796994,\n",
              "        4.9231523 ,  4.94833467,  4.97351703,  4.9986994 ,  5.02388176,\n",
              "        5.04906413,  5.07424649,  5.09942886,  5.12461122,  5.14979359,\n",
              "        5.17497595,  5.20015832,  5.22534068,  5.25052305,  5.27570541,\n",
              "        5.30088778,  5.32607014,  5.35125251,  5.37643487,  5.40161723,\n",
              "        5.4267996 ,  5.45198196,  5.47716433,  5.50234669,  5.52752906,\n",
              "        5.55271142,  5.57789379,  5.60307615,  5.62825852,  5.65344088,\n",
              "        5.67862325,  5.70380561,  5.72898798,  5.75417034,  5.77935271,\n",
              "        5.80453507,  5.82971743,  5.8548998 ,  5.88008216,  5.90526453,\n",
              "        5.93044689,  5.95562926,  5.98081162,  6.00599399,  6.03117635,\n",
              "        6.05635872,  6.08154108,  6.10672345,  6.13190581,  6.15708818,\n",
              "        6.18227054,  6.20745291,  6.23263527,  6.25781764,  6.283     ])"
            ]
          },
          "metadata": {
            "tags": []
          },
          "execution_count": 44
        }
      ]
    },
    {
      "cell_type": "markdown",
      "metadata": {
        "id": "MI-9qjNBJJ-I"
      },
      "source": [
        "*verificando a qtd de amostras*"
      ]
    },
    {
      "cell_type": "code",
      "metadata": {
        "colab": {
          "base_uri": "https://localhost:8080/"
        },
        "id": "dgozg8OKHANN",
        "outputId": "f7819cb1-3907-4012-ad4b-a9694d0c7a6d"
      },
      "source": [
        "pi = 3.1415\n",
        "np.linspace(-2*pi, 2*pi, 500).shape"
      ],
      "execution_count": 45,
      "outputs": [
        {
          "output_type": "execute_result",
          "data": {
            "text/plain": [
              "(500,)"
            ]
          },
          "metadata": {
            "tags": []
          },
          "execution_count": 45
        }
      ]
    },
    {
      "cell_type": "markdown",
      "metadata": {
        "id": "Sqknp2IcJn-f"
      },
      "source": [
        "gerando novas amostras que são guardadas nas variáveis y, z- recebendo o seno de x e o cosseno de x respectivamente"
      ]
    },
    {
      "cell_type": "code",
      "metadata": {
        "id": "vBHUGVmHG_65"
      },
      "source": [
        "pi = 3.1415\n",
        "x = np.linspace(-2*pi, 2*pi, 500)\n",
        "y = np.sin(x)\n",
        "z = np.cos(x)\n"
      ],
      "execution_count": 50,
      "outputs": []
    },
    {
      "cell_type": "code",
      "metadata": {
        "colab": {
          "base_uri": "https://localhost:8080/"
        },
        "id": "qK9IbXYGJk-V",
        "outputId": "f085bf0a-7916-4209-9ca9-57526f0485b6"
      },
      "source": [
        "y"
      ],
      "execution_count": 47,
      "outputs": [
        {
          "output_type": "execute_result",
          "data": {
            "text/plain": [
              "array([ 1.85307179e-04,  2.53649512e-02,  5.05285109e-02,  7.56600296e-02,\n",
              "        1.00743571e-01,  1.25763229e-01,  1.50703138e-01,  1.75547484e-01,\n",
              "        2.00280512e-01,  2.24886538e-01,  2.49349960e-01,  2.73655264e-01,\n",
              "        2.97787039e-01,  3.21729982e-01,  3.45468909e-01,  3.68988769e-01,\n",
              "        3.92274647e-01,  4.15311776e-01,  4.38085548e-01,  4.60581522e-01,\n",
              "        4.82785434e-01,  5.04683202e-01,  5.26260942e-01,  5.47504970e-01,\n",
              "        5.68401816e-01,  5.88938227e-01,  6.09101183e-01,  6.28877896e-01,\n",
              "        6.48255827e-01,  6.67222687e-01,  6.85766449e-01,  7.03875354e-01,\n",
              "        7.21537919e-01,  7.38742944e-01,  7.55479519e-01,  7.71737030e-01,\n",
              "        7.87505170e-01,  8.02773938e-01,  8.17533652e-01,  8.31774954e-01,\n",
              "        8.45488813e-01,  8.58666532e-01,  8.71299755e-01,  8.83380471e-01,\n",
              "        8.94901019e-01,  9.05854095e-01,  9.16232753e-01,  9.26030410e-01,\n",
              "        9.35240856e-01,  9.43858248e-01,  9.51877123e-01,  9.59292395e-01,\n",
              "        9.66099363e-01,  9.72293709e-01,  9.77871507e-01,  9.82829219e-01,\n",
              "        9.87163702e-01,  9.90872206e-01,  9.93952380e-01,  9.96402271e-01,\n",
              "        9.98220325e-01,  9.99405390e-01,  9.99956714e-01,  9.99873948e-01,\n",
              "        9.99157143e-01,  9.97806755e-01,  9.95823640e-01,  9.93209055e-01,\n",
              "        9.89964659e-01,  9.86092508e-01,  9.81595058e-01,  9.76475161e-01,\n",
              "        9.70736063e-01,  9.64381404e-01,  9.57415214e-01,  9.49841909e-01,\n",
              "        9.41666293e-01,  9.32893549e-01,  9.23529241e-01,  9.13579306e-01,\n",
              "        9.03050054e-01,  8.91948161e-01,  8.80280669e-01,  8.68054974e-01,\n",
              "        8.55278831e-01,  8.41960339e-01,  8.28107945e-01,  8.13730434e-01,\n",
              "        7.98836921e-01,  7.83436851e-01,  7.67539990e-01,  7.51156418e-01,\n",
              "        7.34296524e-01,  7.16971000e-01,  6.99190831e-01,  6.80967293e-01,\n",
              "        6.62311941e-01,  6.43236606e-01,  6.23753382e-01,  6.03874625e-01,\n",
              "        5.83612941e-01,  5.62981177e-01,  5.41992416e-01,  5.20659969e-01,\n",
              "        4.98997361e-01,  4.77018331e-01,  4.54736814e-01,  4.32166941e-01,\n",
              "        4.09323023e-01,  3.86219545e-01,  3.62871159e-01,  3.39292670e-01,\n",
              "        3.15499029e-01,  2.91505325e-01,  2.67326772e-01,  2.42978702e-01,\n",
              "        2.18476555e-01,  1.93835868e-01,  1.69072266e-01,  1.44201453e-01,\n",
              "        1.19239199e-01,  9.42013328e-02,  6.91037321e-02,  4.39623115e-02,\n",
              "        1.87930136e-02, -6.38820132e-03, -3.15653653e-02, -5.67225132e-02,\n",
              "       -8.18436923e-02, -1.06912973e-01, -1.31914458e-01, -1.56832294e-01,\n",
              "       -1.81650679e-01, -2.06353877e-01, -2.30926222e-01, -2.55352132e-01,\n",
              "       -2.79616119e-01, -3.03702797e-01, -3.27596891e-01, -3.51283250e-01,\n",
              "       -3.74746854e-01, -3.97972824e-01, -4.20946433e-01, -4.43653111e-01,\n",
              "       -4.66078462e-01, -4.88208263e-01, -5.10028483e-01, -5.31525285e-01,\n",
              "       -5.52685037e-01, -5.73494322e-01, -5.93939943e-01, -6.14008937e-01,\n",
              "       -6.33688576e-01, -6.52966382e-01, -6.71830130e-01, -6.90267859e-01,\n",
              "       -7.08267877e-01, -7.25818769e-01, -7.42909406e-01, -7.59528951e-01,\n",
              "       -7.75666865e-01, -7.91312915e-01, -8.06457179e-01, -8.21090054e-01,\n",
              "       -8.35202262e-01, -8.48784852e-01, -8.61829213e-01, -8.74327072e-01,\n",
              "       -8.86270505e-01, -8.97651937e-01, -9.08464153e-01, -9.18700295e-01,\n",
              "       -9.28353872e-01, -9.37418764e-01, -9.45889222e-01, -9.53759874e-01,\n",
              "       -9.61025730e-01, -9.67682182e-01, -9.73725010e-01, -9.79150381e-01,\n",
              "       -9.83954855e-01, -9.88135386e-01, -9.91689322e-01, -9.94614410e-01,\n",
              "       -9.96908796e-01, -9.98571023e-01, -9.99600039e-01, -9.99995190e-01,\n",
              "       -9.99756227e-01, -9.98883300e-01, -9.97376963e-01, -9.95238172e-01,\n",
              "       -9.92468282e-01, -9.89069050e-01, -9.85042632e-01, -9.80391580e-01,\n",
              "       -9.75118845e-01, -9.69227769e-01, -9.62722088e-01, -9.55605928e-01,\n",
              "       -9.47883801e-01, -9.39560604e-01, -9.30641615e-01, -9.21132489e-01,\n",
              "       -9.11039256e-01, -9.00368317e-01, -8.89126438e-01, -8.77320748e-01,\n",
              "       -8.64958734e-01, -8.52048233e-01, -8.38597433e-01, -8.24614864e-01,\n",
              "       -8.10109392e-01, -7.95090214e-01, -7.79566856e-01, -7.63549160e-01,\n",
              "       -7.47047284e-01, -7.30071692e-01, -7.12633148e-01, -6.94742711e-01,\n",
              "       -6.76411725e-01, -6.57651814e-01, -6.38474874e-01, -6.18893066e-01,\n",
              "       -5.98918806e-01, -5.78564762e-01, -5.57843839e-01, -5.36769177e-01,\n",
              "       -5.15354141e-01, -4.93612309e-01, -4.71557468e-01, -4.49203605e-01,\n",
              "       -4.26564893e-01, -4.03655689e-01, -3.80490519e-01, -3.57084074e-01,\n",
              "       -3.33451195e-01, -3.09606869e-01, -2.85566216e-01, -2.61344480e-01,\n",
              "       -2.36957021e-01, -2.12419303e-01, -1.87746886e-01, -1.62955415e-01,\n",
              "       -1.38060611e-01, -1.13078261e-01, -8.80242060e-02, -6.29143330e-02,\n",
              "       -3.77645649e-02, -1.25908497e-02,  1.25908497e-02,  3.77645649e-02,\n",
              "        6.29143330e-02,  8.80242060e-02,  1.13078261e-01,  1.38060611e-01,\n",
              "        1.62955415e-01,  1.87746886e-01,  2.12419303e-01,  2.36957021e-01,\n",
              "        2.61344480e-01,  2.85566216e-01,  3.09606869e-01,  3.33451195e-01,\n",
              "        3.57084074e-01,  3.80490519e-01,  4.03655689e-01,  4.26564893e-01,\n",
              "        4.49203605e-01,  4.71557468e-01,  4.93612309e-01,  5.15354141e-01,\n",
              "        5.36769177e-01,  5.57843839e-01,  5.78564762e-01,  5.98918806e-01,\n",
              "        6.18893066e-01,  6.38474874e-01,  6.57651814e-01,  6.76411725e-01,\n",
              "        6.94742711e-01,  7.12633148e-01,  7.30071692e-01,  7.47047284e-01,\n",
              "        7.63549160e-01,  7.79566856e-01,  7.95090214e-01,  8.10109392e-01,\n",
              "        8.24614864e-01,  8.38597433e-01,  8.52048233e-01,  8.64958734e-01,\n",
              "        8.77320748e-01,  8.89126438e-01,  9.00368317e-01,  9.11039256e-01,\n",
              "        9.21132489e-01,  9.30641615e-01,  9.39560604e-01,  9.47883801e-01,\n",
              "        9.55605928e-01,  9.62722088e-01,  9.69227769e-01,  9.75118845e-01,\n",
              "        9.80391580e-01,  9.85042632e-01,  9.89069050e-01,  9.92468282e-01,\n",
              "        9.95238172e-01,  9.97376963e-01,  9.98883300e-01,  9.99756227e-01,\n",
              "        9.99995190e-01,  9.99600039e-01,  9.98571023e-01,  9.96908796e-01,\n",
              "        9.94614410e-01,  9.91689322e-01,  9.88135386e-01,  9.83954855e-01,\n",
              "        9.79150381e-01,  9.73725010e-01,  9.67682182e-01,  9.61025730e-01,\n",
              "        9.53759874e-01,  9.45889222e-01,  9.37418764e-01,  9.28353872e-01,\n",
              "        9.18700295e-01,  9.08464153e-01,  8.97651937e-01,  8.86270505e-01,\n",
              "        8.74327072e-01,  8.61829213e-01,  8.48784852e-01,  8.35202262e-01,\n",
              "        8.21090054e-01,  8.06457179e-01,  7.91312915e-01,  7.75666865e-01,\n",
              "        7.59528951e-01,  7.42909406e-01,  7.25818769e-01,  7.08267877e-01,\n",
              "        6.90267859e-01,  6.71830130e-01,  6.52966382e-01,  6.33688576e-01,\n",
              "        6.14008937e-01,  5.93939943e-01,  5.73494322e-01,  5.52685037e-01,\n",
              "        5.31525285e-01,  5.10028483e-01,  4.88208263e-01,  4.66078462e-01,\n",
              "        4.43653111e-01,  4.20946433e-01,  3.97972824e-01,  3.74746854e-01,\n",
              "        3.51283250e-01,  3.27596891e-01,  3.03702797e-01,  2.79616119e-01,\n",
              "        2.55352132e-01,  2.30926222e-01,  2.06353877e-01,  1.81650679e-01,\n",
              "        1.56832294e-01,  1.31914458e-01,  1.06912973e-01,  8.18436923e-02,\n",
              "        5.67225132e-02,  3.15653653e-02,  6.38820132e-03, -1.87930136e-02,\n",
              "       -4.39623115e-02, -6.91037321e-02, -9.42013328e-02, -1.19239199e-01,\n",
              "       -1.44201453e-01, -1.69072266e-01, -1.93835868e-01, -2.18476555e-01,\n",
              "       -2.42978702e-01, -2.67326772e-01, -2.91505325e-01, -3.15499029e-01,\n",
              "       -3.39292670e-01, -3.62871159e-01, -3.86219545e-01, -4.09323023e-01,\n",
              "       -4.32166941e-01, -4.54736814e-01, -4.77018331e-01, -4.98997361e-01,\n",
              "       -5.20659969e-01, -5.41992416e-01, -5.62981177e-01, -5.83612941e-01,\n",
              "       -6.03874625e-01, -6.23753382e-01, -6.43236606e-01, -6.62311941e-01,\n",
              "       -6.80967293e-01, -6.99190831e-01, -7.16971000e-01, -7.34296524e-01,\n",
              "       -7.51156418e-01, -7.67539990e-01, -7.83436851e-01, -7.98836921e-01,\n",
              "       -8.13730434e-01, -8.28107945e-01, -8.41960339e-01, -8.55278831e-01,\n",
              "       -8.68054974e-01, -8.80280669e-01, -8.91948161e-01, -9.03050054e-01,\n",
              "       -9.13579306e-01, -9.23529241e-01, -9.32893549e-01, -9.41666293e-01,\n",
              "       -9.49841909e-01, -9.57415214e-01, -9.64381404e-01, -9.70736063e-01,\n",
              "       -9.76475161e-01, -9.81595058e-01, -9.86092508e-01, -9.89964659e-01,\n",
              "       -9.93209055e-01, -9.95823640e-01, -9.97806755e-01, -9.99157143e-01,\n",
              "       -9.99873948e-01, -9.99956714e-01, -9.99405390e-01, -9.98220325e-01,\n",
              "       -9.96402271e-01, -9.93952380e-01, -9.90872206e-01, -9.87163702e-01,\n",
              "       -9.82829219e-01, -9.77871507e-01, -9.72293709e-01, -9.66099363e-01,\n",
              "       -9.59292395e-01, -9.51877123e-01, -9.43858248e-01, -9.35240856e-01,\n",
              "       -9.26030410e-01, -9.16232753e-01, -9.05854095e-01, -8.94901019e-01,\n",
              "       -8.83380471e-01, -8.71299755e-01, -8.58666532e-01, -8.45488813e-01,\n",
              "       -8.31774954e-01, -8.17533652e-01, -8.02773938e-01, -7.87505170e-01,\n",
              "       -7.71737030e-01, -7.55479519e-01, -7.38742944e-01, -7.21537919e-01,\n",
              "       -7.03875354e-01, -6.85766449e-01, -6.67222687e-01, -6.48255827e-01,\n",
              "       -6.28877896e-01, -6.09101183e-01, -5.88938227e-01, -5.68401816e-01,\n",
              "       -5.47504970e-01, -5.26260942e-01, -5.04683202e-01, -4.82785434e-01,\n",
              "       -4.60581522e-01, -4.38085548e-01, -4.15311776e-01, -3.92274647e-01,\n",
              "       -3.68988769e-01, -3.45468909e-01, -3.21729982e-01, -2.97787039e-01,\n",
              "       -2.73655264e-01, -2.49349960e-01, -2.24886538e-01, -2.00280512e-01,\n",
              "       -1.75547484e-01, -1.50703138e-01, -1.25763229e-01, -1.00743571e-01,\n",
              "       -7.56600296e-02, -5.05285109e-02, -2.53649512e-02, -1.85307179e-04])"
            ]
          },
          "metadata": {
            "tags": []
          },
          "execution_count": 47
        }
      ]
    },
    {
      "cell_type": "code",
      "metadata": {
        "colab": {
          "base_uri": "https://localhost:8080/"
        },
        "id": "R_BuDZiSK4LR",
        "outputId": "aab81283-cdf6-484c-9f95-c832caea6a6e"
      },
      "source": [
        "z"
      ],
      "execution_count": 51,
      "outputs": [
        {
          "output_type": "execute_result",
          "data": {
            "text/plain": [
              "array([ 0.99999998,  0.99967826,  0.99872262,  0.99713367,  0.99491242,\n",
              "        0.99206029,  0.98857906,  0.98447097,  0.9797386 ,  0.97438496,\n",
              "        0.96841344,  0.96182784,  0.95463233,  0.94683146,  0.9384302 ,\n",
              "        0.92943385,  0.91984814,  0.90967914,  0.89893329,  0.88761741,\n",
              "        0.87573867,  0.86330462,  0.85032313,  0.83680243,  0.8227511 ,\n",
              "        0.80817805,  0.79309252,  0.77750408,  0.7614226 ,  0.7448583 ,\n",
              "        0.72782167,  0.71032351,  0.69237492,  0.67398729,  0.65517227,\n",
              "        0.63594179,  0.61630805,  0.59628349,  0.57588083,  0.55511298,\n",
              "        0.53399313,  0.51253467,  0.4907512 ,  0.46865653,  0.44626468,\n",
              "        0.42358985,  0.40064641,  0.37744891,  0.35401206,  0.33035073,\n",
              "        0.30647992,  0.28241477,  0.25817053,  0.23376258,  0.20920639,\n",
              "        0.18451755,  0.1597117 ,  0.13480457,  0.10981196,  0.08474972,\n",
              "        0.05963373,  0.03447994,  0.00930427, -0.01587729, -0.04104879,\n",
              "       -0.06619425, -0.09129774, -0.11634334, -0.14131516, -0.16619737,\n",
              "       -0.19097419, -0.21562992, -0.2401489 , -0.26451561, -0.28871458,\n",
              "       -0.31273047, -0.33654805, -0.36015223, -0.38352802, -0.40666061,\n",
              "       -0.42953533, -0.45213768, -0.47445331, -0.49646809, -0.51816804,\n",
              "       -0.53953942, -0.56056867, -0.58124245, -0.60154765, -0.6214714 ,\n",
              "       -0.64100106, -0.66012426, -0.67882886, -0.69710299, -0.71493509,\n",
              "       -0.73231383, -0.7492282 , -0.76566747, -0.78162121, -0.79707932,\n",
              "       -0.81203198, -0.82646972, -0.84038338, -0.85376413, -0.8666035 ,\n",
              "       -0.87889335, -0.89062586, -0.90179362, -0.91238953, -0.92240689,\n",
              "       -0.93183932, -0.94068086, -0.9489259 , -0.95656921, -0.96360593,\n",
              "       -0.97003162, -0.9758422 , -0.98103397, -0.98560366, -0.98954835,\n",
              "       -0.99286556, -0.99555317, -0.99760948, -0.99903319, -0.9998234 ,\n",
              "       -0.9999796 , -0.99950169, -0.99838998, -0.99664518, -0.99426838,\n",
              "       -0.9912611 , -0.98762525, -0.98336312, -0.97847743, -0.97297126,\n",
              "       -0.96684812, -0.96011188, -0.95276682, -0.94481759, -0.93626923,\n",
              "       -0.92712717, -0.9173972 , -0.9070855 , -0.89619859, -0.88474339,\n",
              "       -0.87272716, -0.86015751, -0.84704243, -0.83339021, -0.81920954,\n",
              "       -0.80450938, -0.78929907, -0.77358826, -0.75738689, -0.74070526,\n",
              "       -0.72355393, -0.70594378, -0.68788598, -0.66939197, -0.6504735 ,\n",
              "       -0.63114255, -0.61141138, -0.5912925 , -0.57079867, -0.54994289,\n",
              "       -0.52873838, -0.50719859, -0.48533717, -0.463168  , -0.44070512,\n",
              "       -0.41796278, -0.3949554 , -0.37169758, -0.34820405, -0.32448972,\n",
              "       -0.30056963, -0.27645894, -0.25217295, -0.22772704, -0.20313673,\n",
              "       -0.17841761, -0.15358535, -0.1286557 , -0.10364446, -0.07856751,\n",
              "       -0.05344073, -0.02828006, -0.00310146,  0.0220791 ,  0.04724567,\n",
              "        0.07238227,  0.09747298,  0.12250188,  0.14745309,  0.17231081,\n",
              "        0.19705925,  0.22168274,  0.24616566,  0.27049248,  0.29464777,\n",
              "        0.31861623,  0.34238264,  0.36593194,  0.3892492 ,  0.41231963,\n",
              "        0.43512859,  0.45766164,  0.47990447,  0.50184299,  0.52346328,\n",
              "        0.54475164,  0.56569455,  0.58627875,  0.60649118,  0.62631902,\n",
              "        0.6457497 ,  0.6647709 ,  0.68337056,  0.70153688,  0.71925834,\n",
              "        0.73652371,  0.75332204,  0.76964267,  0.78547525,  0.80080975,\n",
              "        0.81563645,  0.82994593,  0.84372913,  0.85697731,  0.86968206,\n",
              "        0.88183533,  0.89342942,  0.90445696,  0.91491097,  0.92478482,\n",
              "        0.93407225,  0.94276736,  0.95086465,  0.95835898,  0.9652456 ,\n",
              "        0.97152013,  0.97717861,  0.98221744,  0.98663343,  0.99042378,\n",
              "        0.99358608,  0.99611834,  0.99801893,  0.99928666,  0.99992073,\n",
              "        0.99992073,  0.99928666,  0.99801893,  0.99611834,  0.99358608,\n",
              "        0.99042378,  0.98663343,  0.98221744,  0.97717861,  0.97152013,\n",
              "        0.9652456 ,  0.95835898,  0.95086465,  0.94276736,  0.93407225,\n",
              "        0.92478482,  0.91491097,  0.90445696,  0.89342942,  0.88183533,\n",
              "        0.86968206,  0.85697731,  0.84372913,  0.82994593,  0.81563645,\n",
              "        0.80080975,  0.78547525,  0.76964267,  0.75332204,  0.73652371,\n",
              "        0.71925834,  0.70153688,  0.68337056,  0.6647709 ,  0.6457497 ,\n",
              "        0.62631902,  0.60649118,  0.58627875,  0.56569455,  0.54475164,\n",
              "        0.52346328,  0.50184299,  0.47990447,  0.45766164,  0.43512859,\n",
              "        0.41231963,  0.3892492 ,  0.36593194,  0.34238264,  0.31861623,\n",
              "        0.29464777,  0.27049248,  0.24616566,  0.22168274,  0.19705925,\n",
              "        0.17231081,  0.14745309,  0.12250188,  0.09747298,  0.07238227,\n",
              "        0.04724567,  0.0220791 , -0.00310146, -0.02828006, -0.05344073,\n",
              "       -0.07856751, -0.10364446, -0.1286557 , -0.15358535, -0.17841761,\n",
              "       -0.20313673, -0.22772704, -0.25217295, -0.27645894, -0.30056963,\n",
              "       -0.32448972, -0.34820405, -0.37169758, -0.3949554 , -0.41796278,\n",
              "       -0.44070512, -0.463168  , -0.48533717, -0.50719859, -0.52873838,\n",
              "       -0.54994289, -0.57079867, -0.5912925 , -0.61141138, -0.63114255,\n",
              "       -0.6504735 , -0.66939197, -0.68788598, -0.70594378, -0.72355393,\n",
              "       -0.74070526, -0.75738689, -0.77358826, -0.78929907, -0.80450938,\n",
              "       -0.81920954, -0.83339021, -0.84704243, -0.86015751, -0.87272716,\n",
              "       -0.88474339, -0.89619859, -0.9070855 , -0.9173972 , -0.92712717,\n",
              "       -0.93626923, -0.94481759, -0.95276682, -0.96011188, -0.96684812,\n",
              "       -0.97297126, -0.97847743, -0.98336312, -0.98762525, -0.9912611 ,\n",
              "       -0.99426838, -0.99664518, -0.99838998, -0.99950169, -0.9999796 ,\n",
              "       -0.9998234 , -0.99903319, -0.99760948, -0.99555317, -0.99286556,\n",
              "       -0.98954835, -0.98560366, -0.98103397, -0.9758422 , -0.97003162,\n",
              "       -0.96360593, -0.95656921, -0.9489259 , -0.94068086, -0.93183932,\n",
              "       -0.92240689, -0.91238953, -0.90179362, -0.89062586, -0.87889335,\n",
              "       -0.8666035 , -0.85376413, -0.84038338, -0.82646972, -0.81203198,\n",
              "       -0.79707932, -0.78162121, -0.76566747, -0.7492282 , -0.73231383,\n",
              "       -0.71493509, -0.69710299, -0.67882886, -0.66012426, -0.64100106,\n",
              "       -0.6214714 , -0.60154765, -0.58124245, -0.56056867, -0.53953942,\n",
              "       -0.51816804, -0.49646809, -0.47445331, -0.45213768, -0.42953533,\n",
              "       -0.40666061, -0.38352802, -0.36015223, -0.33654805, -0.31273047,\n",
              "       -0.28871458, -0.26451561, -0.2401489 , -0.21562992, -0.19097419,\n",
              "       -0.16619737, -0.14131516, -0.11634334, -0.09129774, -0.06619425,\n",
              "       -0.04104879, -0.01587729,  0.00930427,  0.03447994,  0.05963373,\n",
              "        0.08474972,  0.10981196,  0.13480457,  0.1597117 ,  0.18451755,\n",
              "        0.20920639,  0.23376258,  0.25817053,  0.28241477,  0.30647992,\n",
              "        0.33035073,  0.35401206,  0.37744891,  0.40064641,  0.42358985,\n",
              "        0.44626468,  0.46865653,  0.4907512 ,  0.51253467,  0.53399313,\n",
              "        0.55511298,  0.57588083,  0.59628349,  0.61630805,  0.63594179,\n",
              "        0.65517227,  0.67398729,  0.69237492,  0.71032351,  0.72782167,\n",
              "        0.7448583 ,  0.7614226 ,  0.77750408,  0.79309252,  0.80817805,\n",
              "        0.8227511 ,  0.83680243,  0.85032313,  0.86330462,  0.87573867,\n",
              "        0.88761741,  0.89893329,  0.90967914,  0.91984814,  0.92943385,\n",
              "        0.9384302 ,  0.94683146,  0.95463233,  0.96182784,  0.96841344,\n",
              "        0.97438496,  0.9797386 ,  0.98447097,  0.98857906,  0.99206029,\n",
              "        0.99491242,  0.99713367,  0.99872262,  0.99967826,  0.99999998])"
            ]
          },
          "metadata": {
            "tags": []
          },
          "execution_count": 51
        }
      ]
    },
    {
      "cell_type": "markdown",
      "metadata": {
        "id": "5XfEgIUCKWuZ"
      },
      "source": [
        "plotando x e y que é o seno de x - isso me gerou a função seno\n",
        "\n",
        "\n",
        "obs.: não é O de 1 / o numpy trabalha para cada um elemento dentro do array / o matplotlib tem compatibilidade direto com ndarray\n"
      ]
    },
    {
      "cell_type": "code",
      "metadata": {
        "colab": {
          "base_uri": "https://localhost:8080/",
          "height": 265
        },
        "id": "fkTpveb1J237",
        "outputId": "a1df30b5-027b-43a8-b724-ac70e4002a81"
      },
      "source": [
        "plt.plot(x,y, label = 'Seno')\n",
        "plt.plot(x,z, label = 'Cosseno')\n",
        "plt.legend()\n",
        "plt.show()"
      ],
      "execution_count": 53,
      "outputs": [
        {
          "output_type": "display_data",
          "data": {
            "image/png": "[encoded data removed]",
            "text/plain": [
              "<Figure size 432x288 with 1 Axes>"
            ]
          },
          "metadata": {
            "tags": [],
            "needs_background": "light"
          }
        }
      ]
    },
    {
      "cell_type": "markdown",
      "metadata": {
        "id": "zy_EKL2UOWhU"
      },
      "source": [
        "*O exemplo da aplicação do seno e cosseno exemplifica a operação elemento-a-elemento (element-wise)*\n",
        "\n",
        "é possível fazer:\n",
        "\n",
        "\n",
        "*   soma, mutiplicação, subtração, divisão e exponenciação por escalar\n",
        "*   soma, multiplicação, subtração  e divisão com outro vetor de igual shape \n",
        "*   incremento e decremento (unários)\n",
        "\n"
      ]
    },
    {
      "cell_type": "markdown",
      "metadata": {
        "id": "-KEM82Junb0K"
      },
      "source": [
        "## Parte 2.1 - Operações elemento-a-elemento\n",
        "\n",
        "1. Crie um array bidimensional (2,5) de uns\n",
        "2. Crie um array mesmo formato que o anterior, mas gerado aleatoriamente de maneira uniforme\n",
        "3. Some os dois arrays e armazene o resultado em uma variável\n",
        "2. Eleve os elementos do array anterior ao quadrado e, em seguida, subtraia 1"
      ]
    },
    {
      "cell_type": "markdown",
      "metadata": {
        "id": "w5Vjjj2-TpqJ"
      },
      "source": [
        "**Operações**"
      ]
    },
    {
      "cell_type": "code",
      "metadata": {
        "id": "8KwOjeznnb0K",
        "colab": {
          "base_uri": "https://localhost:8080/"
        },
        "outputId": "231e4047-41d1-4b41-985c-4e7f1b002b75"
      },
      "source": [
        "a = np.ones((2,5))\n",
        "a"
      ],
      "execution_count": 55,
      "outputs": [
        {
          "output_type": "execute_result",
          "data": {
            "text/plain": [
              "array([[1., 1., 1., 1., 1.],\n",
              "       [1., 1., 1., 1., 1.]])"
            ]
          },
          "metadata": {
            "tags": []
          },
          "execution_count": 55
        }
      ]
    },
    {
      "cell_type": "code",
      "metadata": {
        "id": "fCnJlrVxnb0K",
        "colab": {
          "base_uri": "https://localhost:8080/"
        },
        "outputId": "15557713-062f-46fb-c75f-0dedf8b0f33a"
      },
      "source": [
        "b = np.random.random((2,5))\n",
        "b"
      ],
      "execution_count": 57,
      "outputs": [
        {
          "output_type": "execute_result",
          "data": {
            "text/plain": [
              "array([[0.17698417, 0.6794038 , 0.50533616, 0.78952434, 0.92188774],\n",
              "       [0.87601276, 0.16945935, 0.66592175, 0.52332171, 0.90965494]])"
            ]
          },
          "metadata": {
            "tags": []
          },
          "execution_count": 57
        }
      ]
    },
    {
      "cell_type": "code",
      "metadata": {
        "id": "dTqEFZ3Rnb0K",
        "colab": {
          "base_uri": "https://localhost:8080/"
        },
        "outputId": "608c1f28-01f0-4b42-8415-dde8fe38a68c"
      },
      "source": [
        "a + b"
      ],
      "execution_count": 58,
      "outputs": [
        {
          "output_type": "execute_result",
          "data": {
            "text/plain": [
              "array([[1.17698417, 1.6794038 , 1.50533616, 1.78952434, 1.92188774],\n",
              "       [1.87601276, 1.16945935, 1.66592175, 1.52332171, 1.90965494]])"
            ]
          },
          "metadata": {
            "tags": []
          },
          "execution_count": 58
        }
      ]
    },
    {
      "cell_type": "markdown",
      "metadata": {
        "id": "c1FUUtPRQH39"
      },
      "source": [
        "subtrai de todos os elementos"
      ]
    },
    {
      "cell_type": "code",
      "metadata": {
        "id": "nGTn_85gnb0K",
        "colab": {
          "base_uri": "https://localhost:8080/"
        },
        "outputId": "0fb400e1-2b04-4034-ef61-9163fc40031e"
      },
      "source": [
        "a - 1"
      ],
      "execution_count": 59,
      "outputs": [
        {
          "output_type": "execute_result",
          "data": {
            "text/plain": [
              "array([[0., 0., 0., 0., 0.],\n",
              "       [0., 0., 0., 0., 0.]])"
            ]
          },
          "metadata": {
            "tags": []
          },
          "execution_count": 59
        }
      ]
    },
    {
      "cell_type": "markdown",
      "metadata": {
        "id": "HdwvjodAQMnP"
      },
      "source": [
        "soma a todos os elementos"
      ]
    },
    {
      "cell_type": "code",
      "metadata": {
        "colab": {
          "base_uri": "https://localhost:8080/"
        },
        "id": "0pinVZE-P22g",
        "outputId": "dd94dde5-d136-4f95-ae89-53cd9e05a421"
      },
      "source": [
        "a + 1"
      ],
      "execution_count": 60,
      "outputs": [
        {
          "output_type": "execute_result",
          "data": {
            "text/plain": [
              "array([[2., 2., 2., 2., 2.],\n",
              "       [2., 2., 2., 2., 2.]])"
            ]
          },
          "metadata": {
            "tags": []
          },
          "execution_count": 60
        }
      ]
    },
    {
      "cell_type": "markdown",
      "metadata": {
        "id": "EkYIky-SQPKM"
      },
      "source": [
        "aplica exponeciação a todos os elementos"
      ]
    },
    {
      "cell_type": "code",
      "metadata": {
        "colab": {
          "base_uri": "https://localhost:8080/"
        },
        "id": "cGAqr-FMP2oX",
        "outputId": "2ef591ff-cb16-463e-9ac3-316b6a68dd45"
      },
      "source": [
        "(a+1)**2"
      ],
      "execution_count": 61,
      "outputs": [
        {
          "output_type": "execute_result",
          "data": {
            "text/plain": [
              "array([[4., 4., 4., 4., 4.],\n",
              "       [4., 4., 4., 4., 4.]])"
            ]
          },
          "metadata": {
            "tags": []
          },
          "execution_count": 61
        }
      ]
    },
    {
      "cell_type": "markdown",
      "metadata": {
        "id": "1Usd-SRoQYhQ"
      },
      "source": [
        "incremento"
      ]
    },
    {
      "cell_type": "code",
      "metadata": {
        "colab": {
          "base_uri": "https://localhost:8080/"
        },
        "id": "ke4qob-rQAyZ",
        "outputId": "fe742751-47f4-47f0-a522-399050d96022"
      },
      "source": [
        "a += 1\n",
        "\n",
        "a"
      ],
      "execution_count": 62,
      "outputs": [
        {
          "output_type": "execute_result",
          "data": {
            "text/plain": [
              "array([[2., 2., 2., 2., 2.],\n",
              "       [2., 2., 2., 2., 2.]])"
            ]
          },
          "metadata": {
            "tags": []
          },
          "execution_count": 62
        }
      ]
    },
    {
      "cell_type": "markdown",
      "metadata": {
        "id": "LnP7nlL6Qm9z"
      },
      "source": [
        "decremento"
      ]
    },
    {
      "cell_type": "code",
      "metadata": {
        "colab": {
          "base_uri": "https://localhost:8080/"
        },
        "id": "yyzPxNL-QATJ",
        "outputId": "e8012f55-a653-4bf6-be80-fc5f545d4acd"
      },
      "source": [
        "a -= 1\n",
        "\n",
        "a"
      ],
      "execution_count": 63,
      "outputs": [
        {
          "output_type": "execute_result",
          "data": {
            "text/plain": [
              "array([[1., 1., 1., 1., 1.],\n",
              "       [1., 1., 1., 1., 1.]])"
            ]
          },
          "metadata": {
            "tags": []
          },
          "execution_count": 63
        }
      ]
    },
    {
      "cell_type": "markdown",
      "metadata": {
        "id": "tQZHnHQJQvNc"
      },
      "source": [
        "**cuidado com a multiplicação!**\n",
        "*o asteristico indica a multiplicação elemento-a-elemento*"
      ]
    },
    {
      "cell_type": "markdown",
      "metadata": {
        "id": "5GdQRlW-nb0K"
      },
      "source": [
        "## Parte 2.2 - Multiplicando arrays\n",
        "\n",
        "1. Obtenha 2 arrays aleatoriamente gerados de dimensão 2x2\n",
        "2. Multiplique as matrizes com o operador * e justifique o resultado\n",
        "3. Multiplique as matrizes com o produto dot\n",
        "4. Verifique se as operações a seguir são possíveis. O que as impede de ser realizada?\n",
        "```python\n",
        "a = np.ones((1,5))\n",
        "b = np.random.random((3,2))\n",
        "a*b\n",
        "a.dot(b)\n",
        "```\n"
      ]
    },
    {
      "cell_type": "code",
      "metadata": {
        "id": "8QMqFXvqnb0K",
        "colab": {
          "base_uri": "https://localhost:8080/"
        },
        "outputId": "898c7eac-ccaf-4e9f-e11e-00b0808cd17d"
      },
      "source": [
        "a = np.ones((2,5)) + 2\n",
        "a"
      ],
      "execution_count": 64,
      "outputs": [
        {
          "output_type": "execute_result",
          "data": {
            "text/plain": [
              "array([[3., 3., 3., 3., 3.],\n",
              "       [3., 3., 3., 3., 3.]])"
            ]
          },
          "metadata": {
            "tags": []
          },
          "execution_count": 64
        }
      ]
    },
    {
      "cell_type": "code",
      "metadata": {
        "id": "GaYYlGTKnb0K",
        "colab": {
          "base_uri": "https://localhost:8080/"
        },
        "outputId": "43f048cc-3853-4e06-a5ef-c25206d28a82"
      },
      "source": [
        "b = np.random.random((2,5))\n",
        "b"
      ],
      "execution_count": 65,
      "outputs": [
        {
          "output_type": "execute_result",
          "data": {
            "text/plain": [
              "array([[0.16413509, 0.53451289, 0.44006846, 0.67643545, 0.82394763],\n",
              "       [0.81665241, 0.31537832, 0.78146275, 0.30382005, 0.75384123]])"
            ]
          },
          "metadata": {
            "tags": []
          },
          "execution_count": 65
        }
      ]
    },
    {
      "cell_type": "markdown",
      "metadata": {
        "id": "b4bTDHdeRexT"
      },
      "source": [
        "**o asteristico não representa a multiplicação convencional de matrizes que estamos acostumados**"
      ]
    },
    {
      "cell_type": "code",
      "metadata": {
        "id": "9xnBfXXbnb0K",
        "colab": {
          "base_uri": "https://localhost:8080/"
        },
        "outputId": "8ca298e0-dda1-40d9-f56f-c73daae766d2"
      },
      "source": [
        "a*b"
      ],
      "execution_count": 66,
      "outputs": [
        {
          "output_type": "execute_result",
          "data": {
            "text/plain": [
              "array([[0.49240526, 1.60353866, 1.32020537, 2.02930636, 2.4718429 ],\n",
              "       [2.44995722, 0.94613495, 2.34438824, 0.91146015, 2.26152369]])"
            ]
          },
          "metadata": {
            "tags": []
          },
          "execution_count": 66
        }
      ]
    },
    {
      "cell_type": "markdown",
      "metadata": {
        "id": "Ez761DhWRrM4"
      },
      "source": [
        "**como fazer multiplicação de matrizes: np.dot ou np.matmul / a diferença é que a matmul é mais robusta / dot se quiser fazer o calculo convencional da algebra e a matmul é equivalente mas tem esse porém**"
      ]
    },
    {
      "cell_type": "code",
      "metadata": {
        "colab": {
          "base_uri": "https://localhost:8080/"
        },
        "id": "FAffbthRRaRH",
        "outputId": "e31c48e6-7559-49e3-f0ac-842e14388a2e"
      },
      "source": [
        "a = np.ones((1,3)) +3\n",
        "a"
      ],
      "execution_count": 68,
      "outputs": [
        {
          "output_type": "execute_result",
          "data": {
            "text/plain": [
              "array([[4., 4., 4.]])"
            ]
          },
          "metadata": {
            "tags": []
          },
          "execution_count": 68
        }
      ]
    },
    {
      "cell_type": "code",
      "metadata": {
        "colab": {
          "base_uri": "https://localhost:8080/"
        },
        "id": "tBCGdPFDRaFY",
        "outputId": "f311ef7e-6e2d-48d4-f783-aae86c362d79"
      },
      "source": [
        "b = np.random.random((3,3))\n",
        "b"
      ],
      "execution_count": 70,
      "outputs": [
        {
          "output_type": "execute_result",
          "data": {
            "text/plain": [
              "array([[0.81589886, 0.32645939, 0.35613501],\n",
              "       [0.32660515, 0.67834224, 0.3191886 ],\n",
              "       [0.68936658, 0.07455452, 0.0316195 ]])"
            ]
          },
          "metadata": {
            "tags": []
          },
          "execution_count": 70
        }
      ]
    },
    {
      "cell_type": "code",
      "metadata": {
        "colab": {
          "base_uri": "https://localhost:8080/"
        },
        "id": "aGTawG7eRZ3R",
        "outputId": "bc829251-14af-4baa-c181-001370e344af"
      },
      "source": [
        "np.dot(a,b)"
      ],
      "execution_count": 71,
      "outputs": [
        {
          "output_type": "execute_result",
          "data": {
            "text/plain": [
              "array([[7.32748238, 4.31742462, 2.82777242]])"
            ]
          },
          "metadata": {
            "tags": []
          },
          "execution_count": 71
        }
      ]
    },
    {
      "cell_type": "code",
      "metadata": {
        "colab": {
          "base_uri": "https://localhost:8080/"
        },
        "id": "K47pvfEoSWTO",
        "outputId": "ec4eb911-796b-4e1e-b30b-e34699963350"
      },
      "source": [
        "np.matmul(a,b)"
      ],
      "execution_count": 72,
      "outputs": [
        {
          "output_type": "execute_result",
          "data": {
            "text/plain": [
              "array([[7.32748238, 4.31742462, 2.82777242]])"
            ]
          },
          "metadata": {
            "tags": []
          },
          "execution_count": 72
        }
      ]
    },
    {
      "cell_type": "code",
      "metadata": {
        "id": "k3MFalC1SWF6"
      },
      "source": [
        ""
      ],
      "execution_count": null,
      "outputs": []
    },
    {
      "cell_type": "markdown",
      "metadata": {
        "id": "QJlFuRy8nb0K"
      },
      "source": [
        "## Parte 2.3 -- Funções Universais (ufunc)\n",
        "\n",
        "1. Crie um linspace no intervalo $[-1,+1]$ com cem amostras  \n",
        "2. Obtenha e plote a função tangente neste intervalo (não use np.tan!)\n",
        "3. A função sigmóide é muito importante no contexto das redes neurais:\n",
        "\n",
        "$$f(x) = \\frac{1}{1 + e^{-\\beta \\cdot x}}$$\n",
        "\n",
        "\n",
        "   3.1 Crie um linspace no intervalo $[-2,+2]$ com 200 amostras  \n",
        "   3.2 Construa uma função em Python que implemente a equação anterior. Utilize um parâmetro nomeado $\\beta = 1$  \n",
        "   3.3 Aplique-a no linspace previamente definido e plote o resultado obtido  \n",
        "   3.4 Incremente o gráfico anterior com $\\beta = 0.8$ e $\\beta = 1.2$, para comparar a curva gerada  \n",
        "   3.5 Capriche no gráfico e inclua legendas!"
      ]
    },
    {
      "cell_type": "markdown",
      "metadata": {
        "id": "dRrhYpknTczr"
      },
      "source": [
        "**Funções**"
      ]
    },
    {
      "cell_type": "markdown",
      "metadata": {
        "id": "VYmds94ZTAek"
      },
      "source": [
        "* Função universal - defino ela para um elemento e defino de maneira bem robusta, mas quando passo o array, internamente essa função será aplicada em elemento-a-elemento, e ganho tempo deixando a minha notação bem simples \n",
        "* Funções universais podem ser aplicadas em todos os elementos do ndarray\n",
        "* Operações bult-in: np.sin, np.cos, np.exp, np.sqrt, np.log...\n",
        "* ufunc: Qualquer função que opere de modo elemento a elemento"
      ]
    },
    {
      "cell_type": "markdown",
      "metadata": {
        "id": "NPCDAeLTVEDA"
      },
      "source": [
        "**parametro nomeado** *em python: é uma diferença de python para as demais linguagens de programação*\n",
        "\n",
        "*é quando seto diretamente o valor do parametro na entrada - quando o usuário passar o parametro seta com o valor recebido, quando ele não passar permanece com o valor setado inicialmente*\n",
        "\n",
        "exemplo:"
      ]
    },
    {
      "cell_type": "code",
      "metadata": {
        "id": "UxJJoMw2VVqm"
      },
      "source": [
        "def sigmoide(x, beta = 1.0):\n",
        "  return 1/(1 + np.exp(-beta * x))"
      ],
      "execution_count": 80,
      "outputs": []
    },
    {
      "cell_type": "markdown",
      "metadata": {
        "id": "S1MetFQKWQ_0"
      },
      "source": [
        "chamando a funçao sem passar o beta"
      ]
    },
    {
      "cell_type": "code",
      "metadata": {
        "colab": {
          "base_uri": "https://localhost:8080/"
        },
        "id": "SnknptybWK54",
        "outputId": "2a7a4da0-57ce-4354-deca-cae9d52fb7c4"
      },
      "source": [
        "sigmoide(1.4)"
      ],
      "execution_count": 74,
      "outputs": [
        {
          "output_type": "execute_result",
          "data": {
            "text/plain": [
              "0.8021838885585817"
            ]
          },
          "metadata": {
            "tags": []
          },
          "execution_count": 74
        }
      ]
    },
    {
      "cell_type": "markdown",
      "metadata": {
        "id": "kz4sYIVxWV9j"
      },
      "source": [
        "chamando a função passando beta"
      ]
    },
    {
      "cell_type": "code",
      "metadata": {
        "colab": {
          "base_uri": "https://localhost:8080/"
        },
        "id": "1H0Yy28mWZNS",
        "outputId": "e5737813-2095-42bd-8431-890ca079a315"
      },
      "source": [
        "sigmoide(1.4, beta = 2.0)"
      ],
      "execution_count": 75,
      "outputs": [
        {
          "output_type": "execute_result",
          "data": {
            "text/plain": [
              "0.9426758241011313"
            ]
          },
          "metadata": {
            "tags": []
          },
          "execution_count": 75
        }
      ]
    },
    {
      "cell_type": "code",
      "metadata": {
        "colab": {
          "base_uri": "https://localhost:8080/"
        },
        "id": "qB7Zx58rWptZ",
        "outputId": "09de0fae-7c3e-4a4b-9fce-1b3377134366"
      },
      "source": [
        "sigmoide(beta = 2.0, x = 1.4)"
      ],
      "execution_count": 76,
      "outputs": [
        {
          "output_type": "execute_result",
          "data": {
            "text/plain": [
              "0.9426758241011313"
            ]
          },
          "metadata": {
            "tags": []
          },
          "execution_count": 76
        }
      ]
    },
    {
      "cell_type": "markdown",
      "metadata": {
        "id": "Y2E3j5R2UjiD"
      },
      "source": [
        "**criando uma função que não contem no numpy:**"
      ]
    },
    {
      "cell_type": "code",
      "metadata": {
        "id": "THeCflE3nb0K"
      },
      "source": [
        "x = np.linspace(-5,5,200)"
      ],
      "execution_count": 84,
      "outputs": []
    },
    {
      "cell_type": "code",
      "metadata": {
        "id": "a6ghfX2CTggW"
      },
      "source": [
        "y = sigmoide (x)\n",
        "z = sigmoide (x, beta = 1.4)\n",
        "w = sigmoide (x, beta = 0.8)"
      ],
      "execution_count": 90,
      "outputs": []
    },
    {
      "cell_type": "markdown",
      "metadata": {
        "id": "XWWjyfYiZDEL"
      },
      "source": [
        "**plotando a função da sigmoide**"
      ]
    },
    {
      "cell_type": "code",
      "metadata": {
        "colab": {
          "base_uri": "https://localhost:8080/",
          "height": 265
        },
        "id": "R6zW7cL4S9tA",
        "outputId": "e721b143-d363-4e35-d8e9-500eea4a75e0"
      },
      "source": [
        "plt.plot(x,y, label = 'beta = 1.0')\n",
        "plt.plot(x,z, label = 'beta = 1.4')\n",
        "plt.plot(x,w, label = 'beta = 0.8')\n",
        "plt.legend()\n",
        "plt.show()"
      ],
      "execution_count": 92,
      "outputs": [
        {
          "output_type": "display_data",
          "data": {
            "image/png": "[encoded data removed]",
            "text/plain": [
              "<Figure size 432x288 with 1 Axes>"
            ]
          },
          "metadata": {
            "tags": [],
            "needs_background": "light"
          }
        }
      ]
    },
    {
      "cell_type": "code",
      "metadata": {
        "id": "K6RXEY2qnb0K"
      },
      "source": [
        ""
      ],
      "execution_count": null,
      "outputs": []
    },
    {
      "cell_type": "markdown",
      "metadata": {
        "id": "DJcrqO3Dnb0K"
      },
      "source": [
        "## Parte 2.4 -- Funções agregadas\n",
        "\n",
        "1. Crie um array de 1500 números *inteiros* aleatórios no intervalo $[0,100)$ com distribuição uniforme\n",
        "2. Calcule a média e o desvio padrão\n",
        "3. Suponha que o seu array esteja armazenado na variável a. Execute o código a seguir:\n",
        "\n",
        "```python\n",
        "unique, counts = numpy.unique(a, return_counts=True)\n",
        "d = dict(zip(unique, counts))\n",
        "print(d)\n",
        "```\n",
        "4. Obtenha o valor que mais se repete no vetor inicial"
      ]
    },
    {
      "cell_type": "markdown",
      "metadata": {
        "id": "wBaIa1ePbk4t"
      },
      "source": [
        "**Funções agregadoras**"
      ]
    },
    {
      "cell_type": "markdown",
      "metadata": {
        "id": "wj9oJYriccGd"
      },
      "source": [
        "*recebe todo array e agrega, junta para sair uma coisa só - são muito uteis para exploração de base de dados*\n",
        "\n",
        "*sum, min, max, mean, std*"
      ]
    },
    {
      "cell_type": "markdown",
      "metadata": {
        "id": "rc_gBUe1boae"
      },
      "source": [
        "*numpy.random.randint tem os seguintes parâmetros : low, high = None, size = None, dtype = int*"
      ]
    },
    {
      "cell_type": "markdown",
      "metadata": {
        "id": "r_Qbrrgme24E"
      },
      "source": [
        "passando os parametros de maneira nomeada:"
      ]
    },
    {
      "cell_type": "code",
      "metadata": {
        "colab": {
          "base_uri": "https://localhost:8080/"
        },
        "id": "JaPEDlBMcveP",
        "outputId": "cd78b077-3901-40a7-cb7b-98541804afc5"
      },
      "source": [
        "u = np.random.randint(low = 0, high = 100, size = (1500,))\n",
        "u.shape"
      ],
      "execution_count": 94,
      "outputs": [
        {
          "output_type": "execute_result",
          "data": {
            "text/plain": [
              "(1500,)"
            ]
          },
          "metadata": {
            "tags": []
          },
          "execution_count": 94
        }
      ]
    },
    {
      "cell_type": "code",
      "metadata": {
        "colab": {
          "base_uri": "https://localhost:8080/"
        },
        "id": "C-x7WZaOgZjl",
        "outputId": "d94570cc-da1b-4be1-cd39-3c2c1fabb7e2"
      },
      "source": [
        "u"
      ],
      "execution_count": 101,
      "outputs": [
        {
          "output_type": "execute_result",
          "data": {
            "text/plain": [
              "array([ 4, 57, 45, ..., 32, 19, 93])"
            ]
          },
          "metadata": {
            "tags": []
          },
          "execution_count": 101
        }
      ]
    },
    {
      "cell_type": "markdown",
      "metadata": {
        "id": "AFK-oA35fU4o"
      },
      "source": [
        "calculando a média dos elementos do vetor:"
      ]
    },
    {
      "cell_type": "code",
      "metadata": {
        "colab": {
          "base_uri": "https://localhost:8080/"
        },
        "id": "DBEK7XXxcvZ7",
        "outputId": "4ea55883-37b0-426d-e9c2-9c85bbbe3a65"
      },
      "source": [
        "np.mean(u)"
      ],
      "execution_count": 95,
      "outputs": [
        {
          "output_type": "execute_result",
          "data": {
            "text/plain": [
              "48.48466666666667"
            ]
          },
          "metadata": {
            "tags": []
          },
          "execution_count": 95
        }
      ]
    },
    {
      "cell_type": "markdown",
      "metadata": {
        "id": "Xs1zDSiUfwQg"
      },
      "source": [
        "calculando o desvio padrão:"
      ]
    },
    {
      "cell_type": "code",
      "metadata": {
        "id": "lSjOH4nxnb0K",
        "colab": {
          "base_uri": "https://localhost:8080/"
        },
        "outputId": "4515539b-4c47-4464-d71d-54b23f9e0ebc"
      },
      "source": [
        "np.std(u)"
      ],
      "execution_count": 96,
      "outputs": [
        {
          "output_type": "execute_result",
          "data": {
            "text/plain": [
              "28.853915359194417"
            ]
          },
          "metadata": {
            "tags": []
          },
          "execution_count": 96
        }
      ]
    },
    {
      "cell_type": "markdown",
      "metadata": {
        "id": "Kj-ayHNcf5sr"
      },
      "source": [
        "valor mínimo:"
      ]
    },
    {
      "cell_type": "code",
      "metadata": {
        "id": "0MiRHc4znb0K",
        "colab": {
          "base_uri": "https://localhost:8080/"
        },
        "outputId": "9b96a789-c77c-4dab-c851-892a84b07f9e"
      },
      "source": [
        "np.min(u)"
      ],
      "execution_count": 97,
      "outputs": [
        {
          "output_type": "execute_result",
          "data": {
            "text/plain": [
              "0"
            ]
          },
          "metadata": {
            "tags": []
          },
          "execution_count": 97
        }
      ]
    },
    {
      "cell_type": "markdown",
      "metadata": {
        "id": "mhTyMcfSf75y"
      },
      "source": [
        "valor máximo:"
      ]
    },
    {
      "cell_type": "code",
      "metadata": {
        "colab": {
          "base_uri": "https://localhost:8080/"
        },
        "id": "vGMHR7bbbj0H",
        "outputId": "353b4828-0804-4ab5-acef-94ca98d1eb03"
      },
      "source": [
        "np.max(u)"
      ],
      "execution_count": 98,
      "outputs": [
        {
          "output_type": "execute_result",
          "data": {
            "text/plain": [
              "99"
            ]
          },
          "metadata": {
            "tags": []
          },
          "execution_count": 98
        }
      ]
    },
    {
      "cell_type": "markdown",
      "metadata": {
        "id": "q6nuMQ5SgFYi"
      },
      "source": [
        "a soma de todos os numeros:"
      ]
    },
    {
      "cell_type": "code",
      "metadata": {
        "colab": {
          "base_uri": "https://localhost:8080/"
        },
        "id": "Bov6lulDgD8F",
        "outputId": "73c69a5b-98f0-43d5-d771-0192b66fc194"
      },
      "source": [
        "np.sum(u)"
      ],
      "execution_count": 99,
      "outputs": [
        {
          "output_type": "execute_result",
          "data": {
            "text/plain": [
              "72727"
            ]
          },
          "metadata": {
            "tags": []
          },
          "execution_count": 99
        }
      ]
    },
    {
      "cell_type": "markdown",
      "metadata": {
        "id": "q1y1RYZOhAw-"
      },
      "source": [
        "numpy são uteis para listas"
      ]
    },
    {
      "cell_type": "code",
      "metadata": {
        "id": "z0gXyrWbhDCP"
      },
      "source": [
        ""
      ],
      "execution_count": null,
      "outputs": []
    }
  ]
}
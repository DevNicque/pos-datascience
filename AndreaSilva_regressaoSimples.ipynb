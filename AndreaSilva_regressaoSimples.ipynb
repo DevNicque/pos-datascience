{
  "nbformat": 4,
  "nbformat_minor": 0,
  "metadata": {
    "anaconda-cloud": {},
    "kernelspec": {
      "display_name": "Python 3",
      "language": "python",
      "name": "python3"
    },
    "language_info": {
      "codemirror_mode": {
        "name": "ipython",
        "version": 3
      },
      "file_extension": ".py",
      "mimetype": "text/x-python",
      "name": "python",
      "nbconvert_exporter": "python",
      "pygments_lexer": "ipython3",
      "version": "3.7.9"
    },
    "colab": {
      "name": "AndreaSilva_regressaoSimples.ipynb",
      "provenance": [],
      "collapsed_sections": [
        "AJJSlICL1IHX",
        "UxpAA_7E1IHY",
        "vyuV1Vvs1IHY",
        "G0xhlGOT1IHZ"
      ],
      "include_colab_link": true
    }
  },
  "cells": [
    {
      "cell_type": "markdown",
      "metadata": {
        "id": "view-in-github",
        "colab_type": "text"
      },
      "source": [
        "<a href=\"https://colab.research.google.com/github/DevNicque/pos-datascience/blob/modulo_7/AndreaSilva_regressaoSimples.ipynb\" target=\"_parent\"><img src=\"https://colab.research.google.com/assets/colab-badge.svg\" alt=\"Open In Colab\"/></a>"
      ]
    },
    {
      "cell_type": "markdown",
      "metadata": {
        "id": "QZSnyM4b1IHK"
      },
      "source": [
        "# Regressão Linear Simples"
      ]
    },
    {
      "cell_type": "markdown",
      "metadata": {
        "id": "K3gCdLgc1IHM"
      },
      "source": [
        "## Objetivo\n",
        "\n",
        "Construir um modelo de Machine Learning que seja capaz de fazer previsões sobre a taxa média de ocupação de casas na região de Boston, EUA, por proprietários. A variável a ser prevista é um valor numérico que representa a mediana da taxa de ocupação das casas em Boston."
      ]
    },
    {
      "cell_type": "markdown",
      "metadata": {
        "id": "gbER9DYW1IHM"
      },
      "source": [
        "## Dataset \n",
        "\n",
        "Boston Housing Dataset, que é um conjunto de dados que tem a taxa média de ocupação das casas, juntamente com outras 13 variáveis que podem estar relacionadas aos preços das casas. Esses são os fatores como condições socioeconômicas, condições ambientais, instalações educacionais e alguns outros fatores semelhantes. Existem 506 observações nos dados para 14 variáveis. Existem 12 variáveis numéricas em nosso conjunto de dados e 1 variável categórica. O objetivo é construir um modelo de regressão linear para estimar a taxa média de ocupação das casas pelos proprietários em Boston."
      ]
    },
    {
      "cell_type": "markdown",
      "metadata": {
        "id": "f1p_DNNu1IHN"
      },
      "source": [
        "## Informações do Dataset\n",
        "\n",
        "Características do Dataset: Multivariado <br>\n",
        "Número de instâncias: 506 <br>\n",
        "Número de atributos: 14 <br>\n",
        "Valores faltando: Não <br>\n",
        "Características dos atributos: categórico, inteiro e real <br>\n",
        "Origem: StatLib library que é mantido pela Universidade de Carnegie Mellon"
      ]
    },
    {
      "cell_type": "markdown",
      "metadata": {
        "id": "Z11vh9Yc1IHN"
      },
      "source": [
        "Dataset: https://archive.ics.uci.edu/ml/machine-learning-databases/housing/"
      ]
    },
    {
      "cell_type": "markdown",
      "metadata": {
        "id": "CQsL83Uc1IHN"
      },
      "source": [
        "1. CRIM: per capita crime rate by town                                        (taxa de criminalidade per capita na cidade )\n",
        "2. ZN: proportion of residential land zoned for lots over 25,000 sq.ft. (proporção de terrenos residenciais zoneados para lotes com mais de 25.000 pés quadrados. )\n",
        "3. INDUS: proportion of non-retail business acres per town (proporção de acres de negócios não varejistas por cidade )\n",
        "4. CHAS: Charles River dummy variable (= 1 if tract bounds river; 0 otherwise) (Variável dummy de Charles River (= 1 se a área limita o rio; 0 caso contrário))\n",
        "5. NOX: nitric oxides concentration (parts per 10 million) (concentração de óxidos nítricos (partes por 10 milhões) )\n",
        "6. RM: average number of rooms per dwelling (número médio de quartos por habitação)\n",
        "7. AGE: proportion of owner-occupied units built prior to 1940 (proporção de unidades ocupadas pelo proprietário construídas antes de 1940 )\n",
        "8. DIS: weighted distances to five Boston employment centres (distâncias ponderadas até cinco centros de empregos de Boston )\n",
        "9. RAD: index of accessibility to radial highways (índice de acessibilidade a rodovias radiais )\n",
        "10. TAX: full-value property-tax rate per 10,000 (valor total da taxa de imposto sobre a propriedade por 10.000 )\n",
        "11. PTRATIO: pupil-teacher ratio by town (proporção aluno-professor por cidade )\n",
        "12. B: 1000(Bk - 0.63)^2 where Bk is the proportion of blacks by town (1000 (Bk - 0,63) ^ 2, onde Bk é a proporção de negros por cidade )\n",
        "13. LSTAT: % lower status of the population (% de status inferior da população )\n",
        "14. TARGET: Median value of owner-occupied homes in 1000 dolarés (Valor médio das casas ocupadas pelo proprietário em US $ 1.000 )"
      ]
    },
    {
      "cell_type": "code",
      "metadata": {
        "id": "Nu8nlGvY1IHO"
      },
      "source": [
        "# Carregando o Dataset Boston Houses\n",
        "from sklearn.datasets import load_boston\n",
        "boston = load_boston() \n",
        "\n",
        "# Carregando Bibliotecas Python\n",
        "import numpy as np\n",
        "import pandas as pd\n",
        "import matplotlib.pyplot as plt\n",
        "import matplotlib as mpl\n",
        "import seaborn as sns\n",
        "import warnings\n",
        "warnings.filterwarnings(\"ignore\")\n",
        "%matplotlib inline "
      ],
      "execution_count": 22,
      "outputs": []
    },
    {
      "cell_type": "markdown",
      "metadata": {
        "id": "JCVyk34u1IHO"
      },
      "source": [
        "## Análise Exploratória"
      ]
    },
    {
      "cell_type": "code",
      "metadata": {
        "id": "oMKIUvzp1IHP"
      },
      "source": [
        "# Convertendo o dataset em um dataframe com Pandas\n",
        "dataset = pd.DataFrame(boston.data, columns = boston.feature_names)\n",
        "dataset['target'] = boston.target"
      ],
      "execution_count": 93,
      "outputs": []
    },
    {
      "cell_type": "code",
      "metadata": {
        "id": "4Hw9sijz1IHP",
        "colab": {
          "base_uri": "https://localhost:8080/",
          "height": 0
        },
        "outputId": "3f235d3f-795b-4600-a341-9f2802c11012"
      },
      "source": [
        "dataset.head(5)"
      ],
      "execution_count": 94,
      "outputs": [
        {
          "output_type": "execute_result",
          "data": {
            "text/html": [
              "<div>\n",
              "<style scoped>\n",
              "    .dataframe tbody tr th:only-of-type {\n",
              "        vertical-align: middle;\n",
              "    }\n",
              "\n",
              "    .dataframe tbody tr th {\n",
              "        vertical-align: top;\n",
              "    }\n",
              "\n",
              "    .dataframe thead th {\n",
              "        text-align: right;\n",
              "    }\n",
              "</style>\n",
              "<table border=\"1\" class=\"dataframe\">\n",
              "  <thead>\n",
              "    <tr style=\"text-align: right;\">\n",
              "      <th></th>\n",
              "      <th>CRIM</th>\n",
              "      <th>ZN</th>\n",
              "      <th>INDUS</th>\n",
              "      <th>CHAS</th>\n",
              "      <th>NOX</th>\n",
              "      <th>RM</th>\n",
              "      <th>AGE</th>\n",
              "      <th>DIS</th>\n",
              "      <th>RAD</th>\n",
              "      <th>TAX</th>\n",
              "      <th>PTRATIO</th>\n",
              "      <th>B</th>\n",
              "      <th>LSTAT</th>\n",
              "      <th>target</th>\n",
              "    </tr>\n",
              "  </thead>\n",
              "  <tbody>\n",
              "    <tr>\n",
              "      <th>0</th>\n",
              "      <td>0.00632</td>\n",
              "      <td>18.0</td>\n",
              "      <td>2.31</td>\n",
              "      <td>0.0</td>\n",
              "      <td>0.538</td>\n",
              "      <td>6.575</td>\n",
              "      <td>65.2</td>\n",
              "      <td>4.0900</td>\n",
              "      <td>1.0</td>\n",
              "      <td>296.0</td>\n",
              "      <td>15.3</td>\n",
              "      <td>396.90</td>\n",
              "      <td>4.98</td>\n",
              "      <td>24.0</td>\n",
              "    </tr>\n",
              "    <tr>\n",
              "      <th>1</th>\n",
              "      <td>0.02731</td>\n",
              "      <td>0.0</td>\n",
              "      <td>7.07</td>\n",
              "      <td>0.0</td>\n",
              "      <td>0.469</td>\n",
              "      <td>6.421</td>\n",
              "      <td>78.9</td>\n",
              "      <td>4.9671</td>\n",
              "      <td>2.0</td>\n",
              "      <td>242.0</td>\n",
              "      <td>17.8</td>\n",
              "      <td>396.90</td>\n",
              "      <td>9.14</td>\n",
              "      <td>21.6</td>\n",
              "    </tr>\n",
              "    <tr>\n",
              "      <th>2</th>\n",
              "      <td>0.02729</td>\n",
              "      <td>0.0</td>\n",
              "      <td>7.07</td>\n",
              "      <td>0.0</td>\n",
              "      <td>0.469</td>\n",
              "      <td>7.185</td>\n",
              "      <td>61.1</td>\n",
              "      <td>4.9671</td>\n",
              "      <td>2.0</td>\n",
              "      <td>242.0</td>\n",
              "      <td>17.8</td>\n",
              "      <td>392.83</td>\n",
              "      <td>4.03</td>\n",
              "      <td>34.7</td>\n",
              "    </tr>\n",
              "    <tr>\n",
              "      <th>3</th>\n",
              "      <td>0.03237</td>\n",
              "      <td>0.0</td>\n",
              "      <td>2.18</td>\n",
              "      <td>0.0</td>\n",
              "      <td>0.458</td>\n",
              "      <td>6.998</td>\n",
              "      <td>45.8</td>\n",
              "      <td>6.0622</td>\n",
              "      <td>3.0</td>\n",
              "      <td>222.0</td>\n",
              "      <td>18.7</td>\n",
              "      <td>394.63</td>\n",
              "      <td>2.94</td>\n",
              "      <td>33.4</td>\n",
              "    </tr>\n",
              "    <tr>\n",
              "      <th>4</th>\n",
              "      <td>0.06905</td>\n",
              "      <td>0.0</td>\n",
              "      <td>2.18</td>\n",
              "      <td>0.0</td>\n",
              "      <td>0.458</td>\n",
              "      <td>7.147</td>\n",
              "      <td>54.2</td>\n",
              "      <td>6.0622</td>\n",
              "      <td>3.0</td>\n",
              "      <td>222.0</td>\n",
              "      <td>18.7</td>\n",
              "      <td>396.90</td>\n",
              "      <td>5.33</td>\n",
              "      <td>36.2</td>\n",
              "    </tr>\n",
              "  </tbody>\n",
              "</table>\n",
              "</div>"
            ],
            "text/plain": [
              "      CRIM    ZN  INDUS  CHAS    NOX  ...    TAX  PTRATIO       B  LSTAT  target\n",
              "0  0.00632  18.0   2.31   0.0  0.538  ...  296.0     15.3  396.90   4.98    24.0\n",
              "1  0.02731   0.0   7.07   0.0  0.469  ...  242.0     17.8  396.90   9.14    21.6\n",
              "2  0.02729   0.0   7.07   0.0  0.469  ...  242.0     17.8  392.83   4.03    34.7\n",
              "3  0.03237   0.0   2.18   0.0  0.458  ...  222.0     18.7  394.63   2.94    33.4\n",
              "4  0.06905   0.0   2.18   0.0  0.458  ...  222.0     18.7  396.90   5.33    36.2\n",
              "\n",
              "[5 rows x 14 columns]"
            ]
          },
          "metadata": {
            "tags": []
          },
          "execution_count": 94
        }
      ]
    },
    {
      "cell_type": "code",
      "metadata": {
        "id": "lCYmuWi31IHQ"
      },
      "source": [
        "# Calculando a média da variável de resposta\n",
        "valor_medio_esperado_na_previsao = dataset['target'].mean()"
      ],
      "execution_count": 95,
      "outputs": []
    },
    {
      "cell_type": "code",
      "metadata": {
        "id": "gCFq6Ttd1IHQ",
        "colab": {
          "base_uri": "https://localhost:8080/"
        },
        "outputId": "27d3598e-7234-4ee1-861a-b8d544cd30d4"
      },
      "source": [
        "valor_medio_esperado_na_previsao"
      ],
      "execution_count": 96,
      "outputs": [
        {
          "output_type": "execute_result",
          "data": {
            "text/plain": [
              "22.532806324110698"
            ]
          },
          "metadata": {
            "tags": []
          },
          "execution_count": 96
        }
      ]
    },
    {
      "cell_type": "code",
      "metadata": {
        "id": "O_zRt_xj1IHQ",
        "colab": {
          "base_uri": "https://localhost:8080/"
        },
        "outputId": "f30a297b-ee92-4710-b3b8-f0e7d95633c7"
      },
      "source": [
        "# Calculando (simulando) o SSE\n",
        "# O SSE é a diferença ao quadrado entre o valor previsto e o valor observado.\n",
        "# Considerando que o valor previsto seja igual a média, podemos considerar que \n",
        "# y = média da variável target (valores observados).\n",
        "\n",
        "# Estamos apenas simulando o SSE, uma vez que a regressão ainda não foi criada e os valores previstos \n",
        "# ainda não foram calculados.\n",
        "\n",
        "squared_errors = pd.Series(valor_medio_esperado_na_previsao - dataset['target'])**2 \n",
        "SSE = np.sum(squared_errors)\n",
        "print ('Soma dos Quadrados dos Erros (SSE): %01.f' % SSE)"
      ],
      "execution_count": 97,
      "outputs": [
        {
          "output_type": "stream",
          "text": [
            "Soma dos Quadrados dos Erros (SSE): 42716\n"
          ],
          "name": "stdout"
        }
      ]
    },
    {
      "cell_type": "code",
      "metadata": {
        "id": "Mpl162XA1IHR",
        "colab": {
          "base_uri": "https://localhost:8080/",
          "height": 0
        },
        "outputId": "a3d3880c-408f-438e-e70b-0086f9b3994e"
      },
      "source": [
        "# Histograma dos erros\n",
        "# Temos mais erros \"pequenos\", ou seja, mais valores próximos à média.\n",
        "hist_plot = squared_errors.plot(kind='hist')"
      ],
      "execution_count": 98,
      "outputs": [
        {
          "output_type": "display_data",
          "data": {
            "image/png": "[encoded data removed]",
            "text/plain": [
              "<Figure size 432x288 with 1 Axes>"
            ]
          },
          "metadata": {
            "tags": [],
            "needs_background": "light"
          }
        }
      ]
    },
    {
      "cell_type": "code",
      "metadata": {
        "colab": {
          "base_uri": "https://localhost:8080/",
          "height": 0
        },
        "id": "xeNSyYzzZ5Rq",
        "outputId": "eb51694b-30c8-4f16-b935-280a9f0de313"
      },
      "source": [
        "dataset.corr()"
      ],
      "execution_count": 99,
      "outputs": [
        {
          "output_type": "execute_result",
          "data": {
            "text/html": [
              "<div>\n",
              "<style scoped>\n",
              "    .dataframe tbody tr th:only-of-type {\n",
              "        vertical-align: middle;\n",
              "    }\n",
              "\n",
              "    .dataframe tbody tr th {\n",
              "        vertical-align: top;\n",
              "    }\n",
              "\n",
              "    .dataframe thead th {\n",
              "        text-align: right;\n",
              "    }\n",
              "</style>\n",
              "<table border=\"1\" class=\"dataframe\">\n",
              "  <thead>\n",
              "    <tr style=\"text-align: right;\">\n",
              "      <th></th>\n",
              "      <th>CRIM</th>\n",
              "      <th>ZN</th>\n",
              "      <th>INDUS</th>\n",
              "      <th>CHAS</th>\n",
              "      <th>NOX</th>\n",
              "      <th>RM</th>\n",
              "      <th>AGE</th>\n",
              "      <th>DIS</th>\n",
              "      <th>RAD</th>\n",
              "      <th>TAX</th>\n",
              "      <th>PTRATIO</th>\n",
              "      <th>B</th>\n",
              "      <th>LSTAT</th>\n",
              "      <th>target</th>\n",
              "    </tr>\n",
              "  </thead>\n",
              "  <tbody>\n",
              "    <tr>\n",
              "      <th>CRIM</th>\n",
              "      <td>1.000000</td>\n",
              "      <td>-0.200469</td>\n",
              "      <td>0.406583</td>\n",
              "      <td>-0.055892</td>\n",
              "      <td>0.420972</td>\n",
              "      <td>-0.219247</td>\n",
              "      <td>0.352734</td>\n",
              "      <td>-0.379670</td>\n",
              "      <td>0.625505</td>\n",
              "      <td>0.582764</td>\n",
              "      <td>0.289946</td>\n",
              "      <td>-0.385064</td>\n",
              "      <td>0.455621</td>\n",
              "      <td>-0.388305</td>\n",
              "    </tr>\n",
              "    <tr>\n",
              "      <th>ZN</th>\n",
              "      <td>-0.200469</td>\n",
              "      <td>1.000000</td>\n",
              "      <td>-0.533828</td>\n",
              "      <td>-0.042697</td>\n",
              "      <td>-0.516604</td>\n",
              "      <td>0.311991</td>\n",
              "      <td>-0.569537</td>\n",
              "      <td>0.664408</td>\n",
              "      <td>-0.311948</td>\n",
              "      <td>-0.314563</td>\n",
              "      <td>-0.391679</td>\n",
              "      <td>0.175520</td>\n",
              "      <td>-0.412995</td>\n",
              "      <td>0.360445</td>\n",
              "    </tr>\n",
              "    <tr>\n",
              "      <th>INDUS</th>\n",
              "      <td>0.406583</td>\n",
              "      <td>-0.533828</td>\n",
              "      <td>1.000000</td>\n",
              "      <td>0.062938</td>\n",
              "      <td>0.763651</td>\n",
              "      <td>-0.391676</td>\n",
              "      <td>0.644779</td>\n",
              "      <td>-0.708027</td>\n",
              "      <td>0.595129</td>\n",
              "      <td>0.720760</td>\n",
              "      <td>0.383248</td>\n",
              "      <td>-0.356977</td>\n",
              "      <td>0.603800</td>\n",
              "      <td>-0.483725</td>\n",
              "    </tr>\n",
              "    <tr>\n",
              "      <th>CHAS</th>\n",
              "      <td>-0.055892</td>\n",
              "      <td>-0.042697</td>\n",
              "      <td>0.062938</td>\n",
              "      <td>1.000000</td>\n",
              "      <td>0.091203</td>\n",
              "      <td>0.091251</td>\n",
              "      <td>0.086518</td>\n",
              "      <td>-0.099176</td>\n",
              "      <td>-0.007368</td>\n",
              "      <td>-0.035587</td>\n",
              "      <td>-0.121515</td>\n",
              "      <td>0.048788</td>\n",
              "      <td>-0.053929</td>\n",
              "      <td>0.175260</td>\n",
              "    </tr>\n",
              "    <tr>\n",
              "      <th>NOX</th>\n",
              "      <td>0.420972</td>\n",
              "      <td>-0.516604</td>\n",
              "      <td>0.763651</td>\n",
              "      <td>0.091203</td>\n",
              "      <td>1.000000</td>\n",
              "      <td>-0.302188</td>\n",
              "      <td>0.731470</td>\n",
              "      <td>-0.769230</td>\n",
              "      <td>0.611441</td>\n",
              "      <td>0.668023</td>\n",
              "      <td>0.188933</td>\n",
              "      <td>-0.380051</td>\n",
              "      <td>0.590879</td>\n",
              "      <td>-0.427321</td>\n",
              "    </tr>\n",
              "    <tr>\n",
              "      <th>RM</th>\n",
              "      <td>-0.219247</td>\n",
              "      <td>0.311991</td>\n",
              "      <td>-0.391676</td>\n",
              "      <td>0.091251</td>\n",
              "      <td>-0.302188</td>\n",
              "      <td>1.000000</td>\n",
              "      <td>-0.240265</td>\n",
              "      <td>0.205246</td>\n",
              "      <td>-0.209847</td>\n",
              "      <td>-0.292048</td>\n",
              "      <td>-0.355501</td>\n",
              "      <td>0.128069</td>\n",
              "      <td>-0.613808</td>\n",
              "      <td>0.695360</td>\n",
              "    </tr>\n",
              "    <tr>\n",
              "      <th>AGE</th>\n",
              "      <td>0.352734</td>\n",
              "      <td>-0.569537</td>\n",
              "      <td>0.644779</td>\n",
              "      <td>0.086518</td>\n",
              "      <td>0.731470</td>\n",
              "      <td>-0.240265</td>\n",
              "      <td>1.000000</td>\n",
              "      <td>-0.747881</td>\n",
              "      <td>0.456022</td>\n",
              "      <td>0.506456</td>\n",
              "      <td>0.261515</td>\n",
              "      <td>-0.273534</td>\n",
              "      <td>0.602339</td>\n",
              "      <td>-0.376955</td>\n",
              "    </tr>\n",
              "    <tr>\n",
              "      <th>DIS</th>\n",
              "      <td>-0.379670</td>\n",
              "      <td>0.664408</td>\n",
              "      <td>-0.708027</td>\n",
              "      <td>-0.099176</td>\n",
              "      <td>-0.769230</td>\n",
              "      <td>0.205246</td>\n",
              "      <td>-0.747881</td>\n",
              "      <td>1.000000</td>\n",
              "      <td>-0.494588</td>\n",
              "      <td>-0.534432</td>\n",
              "      <td>-0.232471</td>\n",
              "      <td>0.291512</td>\n",
              "      <td>-0.496996</td>\n",
              "      <td>0.249929</td>\n",
              "    </tr>\n",
              "    <tr>\n",
              "      <th>RAD</th>\n",
              "      <td>0.625505</td>\n",
              "      <td>-0.311948</td>\n",
              "      <td>0.595129</td>\n",
              "      <td>-0.007368</td>\n",
              "      <td>0.611441</td>\n",
              "      <td>-0.209847</td>\n",
              "      <td>0.456022</td>\n",
              "      <td>-0.494588</td>\n",
              "      <td>1.000000</td>\n",
              "      <td>0.910228</td>\n",
              "      <td>0.464741</td>\n",
              "      <td>-0.444413</td>\n",
              "      <td>0.488676</td>\n",
              "      <td>-0.381626</td>\n",
              "    </tr>\n",
              "    <tr>\n",
              "      <th>TAX</th>\n",
              "      <td>0.582764</td>\n",
              "      <td>-0.314563</td>\n",
              "      <td>0.720760</td>\n",
              "      <td>-0.035587</td>\n",
              "      <td>0.668023</td>\n",
              "      <td>-0.292048</td>\n",
              "      <td>0.506456</td>\n",
              "      <td>-0.534432</td>\n",
              "      <td>0.910228</td>\n",
              "      <td>1.000000</td>\n",
              "      <td>0.460853</td>\n",
              "      <td>-0.441808</td>\n",
              "      <td>0.543993</td>\n",
              "      <td>-0.468536</td>\n",
              "    </tr>\n",
              "    <tr>\n",
              "      <th>PTRATIO</th>\n",
              "      <td>0.289946</td>\n",
              "      <td>-0.391679</td>\n",
              "      <td>0.383248</td>\n",
              "      <td>-0.121515</td>\n",
              "      <td>0.188933</td>\n",
              "      <td>-0.355501</td>\n",
              "      <td>0.261515</td>\n",
              "      <td>-0.232471</td>\n",
              "      <td>0.464741</td>\n",
              "      <td>0.460853</td>\n",
              "      <td>1.000000</td>\n",
              "      <td>-0.177383</td>\n",
              "      <td>0.374044</td>\n",
              "      <td>-0.507787</td>\n",
              "    </tr>\n",
              "    <tr>\n",
              "      <th>B</th>\n",
              "      <td>-0.385064</td>\n",
              "      <td>0.175520</td>\n",
              "      <td>-0.356977</td>\n",
              "      <td>0.048788</td>\n",
              "      <td>-0.380051</td>\n",
              "      <td>0.128069</td>\n",
              "      <td>-0.273534</td>\n",
              "      <td>0.291512</td>\n",
              "      <td>-0.444413</td>\n",
              "      <td>-0.441808</td>\n",
              "      <td>-0.177383</td>\n",
              "      <td>1.000000</td>\n",
              "      <td>-0.366087</td>\n",
              "      <td>0.333461</td>\n",
              "    </tr>\n",
              "    <tr>\n",
              "      <th>LSTAT</th>\n",
              "      <td>0.455621</td>\n",
              "      <td>-0.412995</td>\n",
              "      <td>0.603800</td>\n",
              "      <td>-0.053929</td>\n",
              "      <td>0.590879</td>\n",
              "      <td>-0.613808</td>\n",
              "      <td>0.602339</td>\n",
              "      <td>-0.496996</td>\n",
              "      <td>0.488676</td>\n",
              "      <td>0.543993</td>\n",
              "      <td>0.374044</td>\n",
              "      <td>-0.366087</td>\n",
              "      <td>1.000000</td>\n",
              "      <td>-0.737663</td>\n",
              "    </tr>\n",
              "    <tr>\n",
              "      <th>target</th>\n",
              "      <td>-0.388305</td>\n",
              "      <td>0.360445</td>\n",
              "      <td>-0.483725</td>\n",
              "      <td>0.175260</td>\n",
              "      <td>-0.427321</td>\n",
              "      <td>0.695360</td>\n",
              "      <td>-0.376955</td>\n",
              "      <td>0.249929</td>\n",
              "      <td>-0.381626</td>\n",
              "      <td>-0.468536</td>\n",
              "      <td>-0.507787</td>\n",
              "      <td>0.333461</td>\n",
              "      <td>-0.737663</td>\n",
              "      <td>1.000000</td>\n",
              "    </tr>\n",
              "  </tbody>\n",
              "</table>\n",
              "</div>"
            ],
            "text/plain": [
              "             CRIM        ZN     INDUS  ...         B     LSTAT    target\n",
              "CRIM     1.000000 -0.200469  0.406583  ... -0.385064  0.455621 -0.388305\n",
              "ZN      -0.200469  1.000000 -0.533828  ...  0.175520 -0.412995  0.360445\n",
              "INDUS    0.406583 -0.533828  1.000000  ... -0.356977  0.603800 -0.483725\n",
              "CHAS    -0.055892 -0.042697  0.062938  ...  0.048788 -0.053929  0.175260\n",
              "NOX      0.420972 -0.516604  0.763651  ... -0.380051  0.590879 -0.427321\n",
              "RM      -0.219247  0.311991 -0.391676  ...  0.128069 -0.613808  0.695360\n",
              "AGE      0.352734 -0.569537  0.644779  ... -0.273534  0.602339 -0.376955\n",
              "DIS     -0.379670  0.664408 -0.708027  ...  0.291512 -0.496996  0.249929\n",
              "RAD      0.625505 -0.311948  0.595129  ... -0.444413  0.488676 -0.381626\n",
              "TAX      0.582764 -0.314563  0.720760  ... -0.441808  0.543993 -0.468536\n",
              "PTRATIO  0.289946 -0.391679  0.383248  ... -0.177383  0.374044 -0.507787\n",
              "B       -0.385064  0.175520 -0.356977  ...  1.000000 -0.366087  0.333461\n",
              "LSTAT    0.455621 -0.412995  0.603800  ... -0.366087  1.000000 -0.737663\n",
              "target  -0.388305  0.360445 -0.483725  ...  0.333461 -0.737663  1.000000\n",
              "\n",
              "[14 rows x 14 columns]"
            ]
          },
          "metadata": {
            "tags": []
          },
          "execution_count": 99
        }
      ]
    },
    {
      "cell_type": "code",
      "metadata": {
        "colab": {
          "base_uri": "https://localhost:8080/",
          "height": 0
        },
        "id": "1WFDk_Jia_vK",
        "outputId": "a6560ae9-922c-43a3-f956-c41716101153"
      },
      "source": [
        "sns.heatmap(dataset.corr())"
      ],
      "execution_count": 100,
      "outputs": [
        {
          "output_type": "execute_result",
          "data": {
            "text/plain": [
              "<matplotlib.axes._subplots.AxesSubplot at 0x7f9bac19fb50>"
            ]
          },
          "metadata": {
            "tags": []
          },
          "execution_count": 100
        },
        {
          "output_type": "display_data",
          "data": {
            "image/png": "[encoded data removed]",
            "text/plain": [
              "<Figure size 432x288 with 2 Axes>"
            ]
          },
          "metadata": {
            "tags": [],
            "needs_background": "light"
          }
        }
      ]
    },
    {
      "cell_type": "markdown",
      "metadata": {
        "id": "rQTmbn181IHR"
      },
      "source": [
        "Para Regressão Linear Simples usaremos como variável explanatória a variável ZN que representa a proporção de terrenos residenciais zoneados para lotes com mais de 25.000 pés quadrados por ser a segunda variável a ter maior correlação com a variável target."
      ]
    },
    {
      "cell_type": "code",
      "metadata": {
        "id": "ltLqIXA61IHR"
      },
      "source": [
        "# Função para calcular o desvio padrão\n",
        "def calc_desvio_padrao(variable, bias = 0):\n",
        "    observations = float(len(variable))\n",
        "    return np.sqrt(np.sum((variable - np.mean(variable))**2) / (observations - min(bias, 1)))"
      ],
      "execution_count": 101,
      "outputs": []
    },
    {
      "cell_type": "code",
      "metadata": {
        "id": "QYbK7dz81IHS",
        "colab": {
          "base_uri": "https://localhost:8080/"
        },
        "outputId": "69643ced-116c-4b52-9c0b-b2c7c99187a3"
      },
      "source": [
        "# Imprimindo o desvio padrão via fórmula e via NumPy da variável ZN\n",
        "print ('Resultado da Função: %0.5f Resultado do Numpy: %0.5f' % (calc_desvio_padrao(dataset['ZN']), np.std(dataset['ZN'])))"
      ],
      "execution_count": 102,
      "outputs": [
        {
          "output_type": "stream",
          "text": [
            "Resultado da Função: 23.29940 Resultado do Numpy: 23.29940\n"
          ],
          "name": "stdout"
        }
      ]
    },
    {
      "cell_type": "code",
      "metadata": {
        "id": "Q0fNqbHX1IHS"
      },
      "source": [
        "# Funções para calcular a variância da variável ZN e a correlação com a variável target\n",
        "def covariance(variable_1, variable_2, bias = 0):\n",
        "    observations = float(len(variable_1))\n",
        "    return np.sum((variable_1 - np.mean(variable_1)) * (variable_2 - np.mean(variable_2))) / (observations - min(bias,1))\n",
        "\n",
        "def standardize(variable):\n",
        "    return (variable - np.mean(variable)) / np.std(variable)\n",
        "\n",
        "def correlation(var1, var2, bias = 0):\n",
        "    return covariance(standardize(var1), standardize(var2), bias)"
      ],
      "execution_count": 103,
      "outputs": []
    },
    {
      "cell_type": "code",
      "metadata": {
        "id": "0Hbp0TOe1IHS",
        "colab": {
          "base_uri": "https://localhost:8080/"
        },
        "outputId": "ce06dba8-87c4-4658-fb9a-18cbc6d146e2"
      },
      "source": [
        "# Compara o resultado das nossas funções com a função pearsonr do SciPy\n",
        "from scipy.stats.stats import pearsonr\n",
        "print ('Nossa estimativa de Correlação: %0.5f' % (correlation(dataset['ZN'], dataset['target'])))\n",
        "print ('Correlação a partir da função pearsonr do SciPy: %0.5f' % pearsonr(dataset['ZN'], dataset['target'])[0])"
      ],
      "execution_count": 104,
      "outputs": [
        {
          "output_type": "stream",
          "text": [
            "Nossa estimativa de Correlação: 0.36045\n",
            "Correlação a partir da função pearsonr do SciPy: 0.36045\n"
          ],
          "name": "stdout"
        }
      ]
    },
    {
      "cell_type": "code",
      "metadata": {
        "id": "4wwhbHjD1IHT"
      },
      "source": [
        "# Definindo o range dos valores de x e y\n",
        "x_range = [dataset['ZN'].min(),dataset['ZN'].max()]\n",
        "y_range = [dataset['target'].min(),dataset['target'].max()]"
      ],
      "execution_count": 105,
      "outputs": []
    },
    {
      "cell_type": "code",
      "metadata": {
        "id": "Kx95_xPt1IHT",
        "colab": {
          "base_uri": "https://localhost:8080/",
          "height": 0
        },
        "outputId": "3adefcb6-0126-4583-bfc9-1592033a7c1e"
      },
      "source": [
        "# Plot dos valores de x e y com a média\n",
        "scatter_plot = dataset.plot(kind = 'scatter', x = 'ZN', y = 'target', xlim = x_range, ylim = y_range)\n",
        "\n",
        "# Cálculo da média\n",
        "meanY = scatter_plot.plot(x_range, [dataset['target'].mean(),dataset['target'].mean()], '--', color = 'red', linewidth = 1)\n",
        "meanX = scatter_plot.plot([dataset['ZN'].mean(), dataset['ZN'].mean()], y_range, '--', color = 'red', linewidth = 1)"
      ],
      "execution_count": 106,
      "outputs": [
        {
          "output_type": "display_data",
          "data": {
            "image/png": "[encoded data removed]",
            "text/plain": [
              "<Figure size 432x288 with 1 Axes>"
            ]
          },
          "metadata": {
            "tags": [],
            "needs_background": "light"
          }
        }
      ]
    },
    {
      "cell_type": "markdown",
      "metadata": {
        "id": "0lJL51Tw1IHT"
      },
      "source": [
        "## Regressão Linear com Statsmodels"
      ]
    },
    {
      "cell_type": "markdown",
      "metadata": {
        "id": "CykDTTaz1IHT"
      },
      "source": [
        "https://www.statsmodels.org/stable/index.html"
      ]
    },
    {
      "cell_type": "code",
      "metadata": {
        "id": "EeTchnth1IHU"
      },
      "source": [
        "import statsmodels.api as sm\n",
        "import statsmodels.formula.api as smf"
      ],
      "execution_count": 81,
      "outputs": []
    },
    {
      "cell_type": "code",
      "metadata": {
        "id": "yaqWBPsD1IHU"
      },
      "source": [
        "# Definição dos valores de x e y\n",
        "num_observ = len(dataset)\n",
        "X = dataset['ZN']\n",
        "Y = dataset['target']"
      ],
      "execution_count": 107,
      "outputs": []
    },
    {
      "cell_type": "code",
      "metadata": {
        "id": "eHEiiNMsFeDA",
        "colab": {
          "base_uri": "https://localhost:8080/"
        },
        "outputId": "a838f800-d90c-4771-996d-b2948048fcfa"
      },
      "source": [
        "model = sm.OLS(Y,X)\n",
        "res = model.fit()\n",
        "print(res.summary())"
      ],
      "execution_count": 108,
      "outputs": [
        {
          "output_type": "stream",
          "text": [
            "                                 OLS Regression Results                                \n",
            "=======================================================================================\n",
            "Dep. Variable:                 target   R-squared (uncentered):                   0.279\n",
            "Model:                            OLS   Adj. R-squared (uncentered):              0.278\n",
            "Method:                 Least Squares   F-statistic:                              195.5\n",
            "Date:                Fri, 11 Jun 2021   Prob (F-statistic):                    8.88e-38\n",
            "Time:                        06:23:48   Log-Likelihood:                         -2250.3\n",
            "No. Observations:                 506   AIC:                                      4503.\n",
            "Df Residuals:                     505   BIC:                                      4507.\n",
            "Df Model:                           1                                                  \n",
            "Covariance Type:            nonrobust                                                  \n",
            "==============================================================================\n",
            "                 coef    std err          t      P>|t|      [0.025      0.975]\n",
            "------------------------------------------------------------------------------\n",
            "ZN             0.4959      0.035     13.980      0.000       0.426       0.566\n",
            "==============================================================================\n",
            "Omnibus:                       37.836   Durbin-Watson:                   0.196\n",
            "Prob(Omnibus):                  0.000   Jarque-Bera (JB):              103.479\n",
            "Skew:                          -0.336   Prob(JB):                     3.39e-23\n",
            "Kurtosis:                       5.111   Cond. No.                         1.00\n",
            "==============================================================================\n",
            "\n",
            "Warnings:\n",
            "[1] Standard Errors assume that the covariance matrix of the errors is correctly specified.\n"
          ],
          "name": "stdout"
        }
      ]
    },
    {
      "cell_type": "markdown",
      "metadata": {
        "id": "v_kxay7tl600"
      },
      "source": [
        "- O modelo está calculando um único coenficiente, que é a variável ZN, sendo este o coenficiente angular que apresentou valor de 0.4959 e o desvio padrão de  0.035.\n",
        "- Porém somente o coeficiente angular não é suficiente, é necessário calcular o coenficiente linear - interceptor."
      ]
    },
    {
      "cell_type": "markdown",
      "metadata": {
        "id": "3A7B1A0lk08z"
      },
      "source": [
        "**Inserindo um interceptor**"
      ]
    },
    {
      "cell_type": "code",
      "metadata": {
        "id": "WGRxnpkfk-RZ"
      },
      "source": [
        "X = sm.add_constant(X)"
      ],
      "execution_count": 109,
      "outputs": []
    },
    {
      "cell_type": "code",
      "metadata": {
        "colab": {
          "base_uri": "https://localhost:8080/"
        },
        "id": "CKsr1oLEljYb",
        "outputId": "3d4dcd20-1769-41b2-d92b-3d8ab7032cfb"
      },
      "source": [
        "model2 = sm.OLS(Y,X)\n",
        "res2 = model2.fit()\n",
        "print(res2.summary())"
      ],
      "execution_count": 110,
      "outputs": [
        {
          "output_type": "stream",
          "text": [
            "                            OLS Regression Results                            \n",
            "==============================================================================\n",
            "Dep. Variable:                 target   R-squared:                       0.130\n",
            "Model:                            OLS   Adj. R-squared:                  0.128\n",
            "Method:                 Least Squares   F-statistic:                     75.26\n",
            "Date:                Fri, 11 Jun 2021   Prob (F-statistic):           5.71e-17\n",
            "Time:                        06:24:21   Log-Likelihood:                -1805.0\n",
            "No. Observations:                 506   AIC:                             3614.\n",
            "Df Residuals:                     504   BIC:                             3623.\n",
            "Df Model:                           1                                         \n",
            "Covariance Type:            nonrobust                                         \n",
            "==============================================================================\n",
            "                 coef    std err          t      P>|t|      [0.025      0.975]\n",
            "------------------------------------------------------------------------------\n",
            "const         20.9176      0.425     49.248      0.000      20.083      21.752\n",
            "ZN             0.1421      0.016      8.675      0.000       0.110       0.174\n",
            "==============================================================================\n",
            "Omnibus:                      123.531   Durbin-Watson:                   0.618\n",
            "Prob(Omnibus):                  0.000   Jarque-Bera (JB):              262.387\n",
            "Skew:                           1.303   Prob(JB):                     1.06e-57\n",
            "Kurtosis:                       5.378   Cond. No.                         28.8\n",
            "==============================================================================\n",
            "\n",
            "Warnings:\n",
            "[1] Standard Errors assume that the covariance matrix of the errors is correctly specified.\n"
          ],
          "name": "stdout"
        }
      ]
    },
    {
      "cell_type": "code",
      "metadata": {
        "id": "6OPvJoU4lu9-"
      },
      "source": [
        "coef_linear, coef_angular = res2.params"
      ],
      "execution_count": 111,
      "outputs": []
    },
    {
      "cell_type": "code",
      "metadata": {
        "id": "wYpqNb_foQi2"
      },
      "source": [
        "reta = coef_angular * X + coef_linear"
      ],
      "execution_count": 112,
      "outputs": []
    },
    {
      "cell_type": "code",
      "metadata": {
        "id": "k9TVoLmpoZAC"
      },
      "source": [
        "X = X['ZN']\n",
        "reta = reta['ZN']"
      ],
      "execution_count": 124,
      "outputs": []
    },
    {
      "cell_type": "code",
      "metadata": {
        "colab": {
          "base_uri": "https://localhost:8080/",
          "height": 297
        },
        "id": "b6aL73NPqen4",
        "outputId": "91884fd3-27e0-4ab0-cd22-c2bc80ec823a"
      },
      "source": [
        "plt.scatter(X,Y,label='Y(X)')\n",
        "plt.plot(X,reta,label='Ajuste linear', color='red')\n",
        "plt.xlabel('X')\n",
        "plt.ylabel('Y')\n",
        "plt.legend()"
      ],
      "execution_count": 125,
      "outputs": [
        {
          "output_type": "execute_result",
          "data": {
            "text/plain": [
              "<matplotlib.legend.Legend at 0x7f9babff7510>"
            ]
          },
          "metadata": {
            "tags": []
          },
          "execution_count": 125
        },
        {
          "output_type": "display_data",
          "data": {
            "image/png": "[encoded data removed]",
            "text/plain": [
              "<Figure size 432x288 with 1 Axes>"
            ]
          },
          "metadata": {
            "tags": [],
            "needs_background": "light"
          }
        }
      ]
    },
    {
      "cell_type": "code",
      "metadata": {
        "colab": {
          "base_uri": "https://localhost:8080/"
        },
        "id": "hkH1eAQOuPOm",
        "outputId": "70014bb3-1d93-4c67-e495-bf0b33453d96"
      },
      "source": [
        "from sklearn.metrics import mean_absolute_error, mean_squared_error\n",
        "\n",
        "MAE = mean_absolute_error(Y,reta)\n",
        "RMSE = np.sqrt(mean_squared_error(Y,reta))\n",
        "\n",
        "print(\"MAE = {:0.2f}\".format(MAE))\n",
        "print(\"RMSE = {:0.2f}\".format(RMSE))"
      ],
      "execution_count": 126,
      "outputs": [
        {
          "output_type": "stream",
          "text": [
            "MAE = 6.06\n",
            "RMSE = 8.57\n"
          ],
          "name": "stdout"
        }
      ]
    },
    {
      "cell_type": "markdown",
      "metadata": {
        "id": "UMcb2zavyWuo"
      },
      "source": [
        "Analisando o RMSE é possível observar que os pontos estão distantes da reta\n",
        "ficando geralmente 8.57 distante da reta. Isso é ruim, pois demostra que o modelo está errando mais que acertando e que a variável ZN não é melhor variável preditora."
      ]
    }
  ]
}
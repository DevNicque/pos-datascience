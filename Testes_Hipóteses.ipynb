{
  "nbformat": 4,
  "nbformat_minor": 0,
  "metadata": {
    "colab": {
      "name": "Testes_Hipóteses.ipynb",
      "provenance": [],
      "collapsed_sections": [],
      "include_colab_link": true
    },
    "kernelspec": {
      "name": "python3",
      "display_name": "Python 3"
    }
  },
  "cells": [
    {
      "cell_type": "markdown",
      "metadata": {
        "id": "view-in-github",
        "colab_type": "text"
      },
      "source": [
        "<a href=\"https://colab.research.google.com/github/DevNicque/pos-datascience/blob/modulo_3/Testes_Hip%C3%B3teses.ipynb\" target=\"_parent\"><img src=\"https://colab.research.google.com/assets/colab-badge.svg\" alt=\"Open In Colab\"/></a>"
      ]
    },
    {
      "cell_type": "markdown",
      "metadata": {
        "id": "mNqAWG5aKYrT"
      },
      "source": [
        "# Testes de Hipóteses"
      ]
    },
    {
      "cell_type": "code",
      "metadata": {
        "id": "cCl11FCkvfZ2",
        "colab": {
          "base_uri": "https://localhost:8080/"
        },
        "outputId": "015b6f38-047b-4485-cf67-96cc2e237631"
      },
      "source": [
        "# Pacotes\n",
        "from statsmodels.stats.proportion import proportions_ztest, binom_test\n",
        "from scipy.stats import binom, ttest_1samp, ttest_ind, chi2_contingency\n",
        "import pandas as pd\n",
        "import numpy as np\n",
        "import matplotlib.pyplot as plt\n",
        "from tabulate import tabulate"
      ],
      "execution_count": null,
      "outputs": [
        {
          "output_type": "stream",
          "text": [
            "/usr/local/lib/python3.6/dist-packages/statsmodels/tools/_testing.py:19: FutureWarning: pandas.util.testing is deprecated. Use the functions in the public API at pandas.testing instead.\n",
            "  import pandas.util.testing as tm\n"
          ],
          "name": "stderr"
        }
      ]
    },
    {
      "cell_type": "markdown",
      "metadata": {
        "id": "CCh4sPSFDppP"
      },
      "source": [
        "A BINOMIAL É UTILIZADA PARA VARIAVEIS DISCRETAS QUE ASSUMEM 2 RESULTADOS, QUE É O CASO DESSE ENUNCIADO, POIS É O A OU O B\r\n",
        "ELA É EXATA, CALCULADA PARA CADA PONTO"
      ]
    },
    {
      "cell_type": "markdown",
      "metadata": {
        "id": "xaw5ARBaD7ey"
      },
      "source": [
        "EM SI É CORRETO FAZER COM A NORMAL , POIS A BI REQUER MUITO RECURSO DE PROCESSAMENTO"
      ]
    },
    {
      "cell_type": "markdown",
      "metadata": {
        "id": "9-oB1F0qEaeb"
      },
      "source": [
        "QUANTO MAIOR O N  (NUMERO AMOSTRAL) UTILIZA-SE A DISTRIBUIÇÃO NORMAL\r\n",
        "SEMPRE CALCULAR O TAMANHO DA AMOSTRA E TESTAR A NORMALIDADE"
      ]
    },
    {
      "cell_type": "markdown",
      "metadata": {
        "id": "CvGA_9hME8Fh"
      },
      "source": [
        "A BINOMIAL SE APROX DA NORMAL QUANDO O P É 0,5"
      ]
    },
    {
      "cell_type": "code",
      "metadata": {
        "id": "23MVMdsrNhzP",
        "colab": {
          "base_uri": "https://localhost:8080/"
        },
        "outputId": "12b1342e-0294-4c33-d203-b5c2e8fc9515"
      },
      "source": [
        "\n",
        "### Resolução de Teste para proporção por meio da Binomial\n",
        "## Exemplo: Para testar se existe\tdiferença\tentre\tdois sistemas computacionais (A e B), observou-se o desempenho com \n",
        "#12 cargas de trabalho. Em 3 casos o sistema A apresentou  melhor desempenho do que o B. Nos demais, o sistema B foi  melhor.  \n",
        "#Qual a conclusão ao nível de significância de  5%?\n",
        "# Calcular os valores de probabilidade com base na distribuição Binomial\n",
        "# Ho: Po = 0,5 vs H1: Po <> 0,5\n",
        "Po = 0.5\n",
        "n = 12\n",
        "x = 3\n",
        "alfa = 0.05\n",
        "k_valores = np.arange(0,13)\n",
        "distbinom = [binom.pmf(k, n, Po) for k in k_valores]\n",
        "distbinom\n"
      ],
      "execution_count": null,
      "outputs": [
        {
          "output_type": "execute_result",
          "data": {
            "text/plain": [
              "[0.00024414062500000016,\n",
              " 0.002929687499999993,\n",
              " 0.016113281249999962,\n",
              " 0.05371093749999999,\n",
              " 0.12084960937499982,\n",
              " 0.19335937499999992,\n",
              " 0.22558593749999972,\n",
              " 0.19335937499999992,\n",
              " 0.12084960937499982,\n",
              " 0.05371093749999999,\n",
              " 0.016113281249999962,\n",
              " 0.002929687499999993,\n",
              " 0.00024414062500000016]"
            ]
          },
          "metadata": {
            "tags": []
          },
          "execution_count": 3
        }
      ]
    },
    {
      "cell_type": "code",
      "metadata": {
        "id": "aQPT_C1POTEo",
        "colab": {
          "base_uri": "https://localhost:8080/",
          "height": 265
        },
        "outputId": "fdeafd40-2210-4b66-f173-6f205072e6f9"
      },
      "source": [
        "# Gerar o gráfico:\n",
        "plt.bar(k_valores,distbinom)\n",
        "plt.show()"
      ],
      "execution_count": null,
      "outputs": [
        {
          "output_type": "display_data",
          "data": {
            "image/png": "[encoded data removed]",
            "text/plain": [
              "<Figure size 432x288 with 1 Axes>"
            ]
          },
          "metadata": {
            "tags": [],
            "needs_background": "light"
          }
        }
      ]
    },
    {
      "cell_type": "markdown",
      "metadata": {
        "id": "ce2HqpgiHqs6"
      },
      "source": [
        "parametros:\r\n",
        "x - \r\n",
        "n - numero da amostra\r\n",
        "po - valor testado\r\n",
        "alternative - se é bicaldal ou unilateral"
      ]
    },
    {
      "cell_type": "code",
      "metadata": {
        "id": "Y7YacP_EZkng",
        "colab": {
          "base_uri": "https://localhost:8080/"
        },
        "outputId": "3b7358d5-897c-4e35-ba04-5de24fee539b"
      },
      "source": [
        "# Calculo da Estatística de teste\n",
        "p = binom_test(x,n,Po,alternative='two-sided') # Caso seja unilateral a direita alternative='greater', caso contrário alternative = 'less'. \n",
        "print('p = %0.3f' %(p))\n",
        "if p > alfa:\n",
        "   print (\"Conclusão: aceita-se Ho, ou seja, a proproção de desempenho do A é estatisticamente igual a 50% ao nível de 5% de significância\")\n",
        "else:\n",
        "   print (\"Conclusão: rejeita-se Ho, ou seja, a proproção de desempenho do A é estatisticamente diferente de 50% ao nível de 5% de significância\")"
      ],
      "execution_count": null,
      "outputs": [
        {
          "output_type": "stream",
          "text": [
            "p = 0.146\n",
            "Conclusão: aceita-se Ho, ou seja, a proproção de desempenho do A é estatisticamente igual a 50% ao nível de 5% de significância\n"
          ],
          "name": "stdout"
        }
      ]
    },
    {
      "cell_type": "markdown",
      "metadata": {
        "id": "s3IeLoKFHkgH"
      },
      "source": [
        "*normal*\r\n",
        "\r\n",
        "na prática é o que vamos utilizar"
      ]
    },
    {
      "cell_type": "code",
      "metadata": {
        "id": "fPF8ioUswGpT",
        "colab": {
          "base_uri": "https://localhost:8080/"
        },
        "outputId": "2fa8243f-ff4e-4618-e6f2-c9e39470b33f"
      },
      "source": [
        "## Resolução de Teste para proporção por meio da Distribuição Normal\n",
        "# Para testar se existe\tdiferença\tentre\tdois sistemas computacionais (A e B), observou-se o desempenho com 12 cargas de trabalho. Em 3 casos o sistema A apresentou  melhor desempenho do que o B. Nos demais, o sistema B foi  melhor.  Qual a conclusão ao nível de significância de  5%?\n",
        "# Ho: Po = 0,5 vs H1: Po <> 0,5\n",
        "z, p = proportions_ztest(x, n, Po,alternative='two-sided',prop_var=0.5)\n",
        "# Conclusão:\n",
        "print('z= %0.3f, p= %0.3f' % (z, p))\n",
        "if p > alfa:\n",
        "   print (\"Conclusão: aceita-se Ho, ou seja, a proproção é igual a 50% ao nível de 5% de significância\")\n",
        "else:\n",
        "   print (\"Conclusão: rejeita-se Ho, ou seja, a proproção é diferente de 50% ao nível de 5% de significância\")"
      ],
      "execution_count": null,
      "outputs": [
        {
          "output_type": "stream",
          "text": [
            "z= -1.732, p= 0.083\n",
            "Conclusão: aceita-se Ho, ou seja, a proproção é igual a 50% ao nível de 5% de significância\n"
          ],
          "name": "stdout"
        }
      ]
    },
    {
      "cell_type": "markdown",
      "metadata": {
        "id": "yysMkXCmPA9q"
      },
      "source": [
        "t só serve se fosse comparar com a tabela, mas não a necessidade, só preciso do p par ter a conclusao"
      ]
    },
    {
      "cell_type": "code",
      "metadata": {
        "id": "3V0oYIIkuWPQ",
        "colab": {
          "base_uri": "https://localhost:8080/"
        },
        "outputId": "a180fb27-dc1b-4424-f222-e79d39c08526"
      },
      "source": [
        "### Exemplo: O tempo para transmitir 10 MB em determinada rede de computadores varia segundo m modelo normal, com média 7,4 s e variância 1,3 s. Depois de algumas mudanças na rede, acredita-se numa redução no tempo de transmissão de dados, além de uma possível alteração na variabilidade. \n",
        "### Foram realizados 10 ensaios independentes com um arquivo de 10 MB e foram anotados os tempos de transmissão, em segundos: \n",
        "### {6,8; 7,1; 5,9; 7,5; 6,3; 6,9; 7,2; 7,6; 6,6; 6,3}. Existe evidência suficiente de que o tempo médio de transmissão foi reduzido ao nível de 5% de significância? \n",
        "# Ho: Mo = 7,4 vs H1: Mo < 7,4\n",
        "x = (6.8,7.1,5.9,7.5,6.3,6.9,7.2,7.6,6.6,6.3) #amostra\n",
        "Mo = 7.4 #media\n",
        "alfa=0.05 \n",
        "media = np.mean(x)\n",
        "print(\"Média =\",media)\n",
        "dp = np.std(x)\n",
        "print(\"Desvio-padrão =\",dp)\n",
        "t, po = ttest_1samp(x, Mo)  #parametros: dados e media\n",
        "# Para realizar um teste unilateral multiplica-se o \"p\" por dois\n",
        "p=2*po    \n",
        "# Conclusão:\n",
        "print('t= %0.3f, p= %0.3f' % (t, p))\n",
        "if p > alfa:\n",
        "   print (\"Conclusão: aceita-se Ho, ou seja, a média é estatisticamente igual a 7.4 s ao nível de 5% de significância\")\n",
        "else:\n",
        "   print (\"Conclusão: Rejeita-se Ho, ou seja, a média é estatisticamente menor de 7.4 s ao nível de 5% de significância\")"
      ],
      "execution_count": null,
      "outputs": [
        {
          "output_type": "stream",
          "text": [
            "Média = 6.82\n",
            "Desvio-padrão = 0.5230678732248808\n",
            "t= -3.327, p= 0.018\n",
            "Conclusão: Rejeita-se Ho, ou seja, a média é estatisticamente menor de 7.4 s ao nível de 5% de significância\n"
          ],
          "name": "stdout"
        }
      ]
    },
    {
      "cell_type": "markdown",
      "metadata": {
        "id": "kquQtvRZPJY0"
      },
      "source": [
        "RESPOSTA: realmente fiz uma experimentação, fiz z media e baixou para 6,8, e a chance de eu estar certo é de 95% ,... 99,98% -> 1 - p"
      ]
    },
    {
      "cell_type": "markdown",
      "metadata": {
        "id": "_7bVIG_6Pg-Z"
      },
      "source": [
        "o tempo reduziu ao nível de 95% de confiança\r\n",
        "\r\n",
        "1- alpha é a confiança"
      ]
    },
    {
      "cell_type": "markdown",
      "metadata": {
        "id": "3pWfbOchSRfn"
      },
      "source": [
        "q-quadrado"
      ]
    },
    {
      "cell_type": "markdown",
      "metadata": {
        "id": "7nMN7pjYS1JL"
      },
      "source": [
        "matriz"
      ]
    },
    {
      "cell_type": "code",
      "metadata": {
        "id": "RUenoxi684qx",
        "colab": {
          "base_uri": "https://localhost:8080/"
        },
        "outputId": "19909d91-d143-40cb-f44a-24d43dc81276"
      },
      "source": [
        "### Exemplo de testes de hipóteses para tabelas LxC\n",
        "# Criação da matriz com os dados do exemplo de probabilidade\n",
        "tabela = np.array([[500,4500,1500], [30,270,50]])\n",
        "tabela"
      ],
      "execution_count": null,
      "outputs": [
        {
          "output_type": "execute_result",
          "data": {
            "text/plain": [
              "array([[ 500, 4500, 1500],\n",
              "       [  30,  270,   50]])"
            ]
          },
          "metadata": {
            "tags": []
          },
          "execution_count": 9
        }
      ]
    },
    {
      "cell_type": "markdown",
      "metadata": {
        "id": "gB70OipqSUAT"
      },
      "source": [
        "analise se a diferença entre o valor esperado é grade\r\n",
        "se houver rejeição -> indica que há dependencia entre as variaveis"
      ]
    },
    {
      "cell_type": "markdown",
      "metadata": {
        "id": "UsPRYEESShQg"
      },
      "source": [
        "isso é proporção , é binomial, mas o n é grande, então pegar uma distribução continua de -> como o q-quadrado"
      ]
    },
    {
      "cell_type": "markdown",
      "metadata": {
        "id": "y3HV62FwTCJC"
      },
      "source": [
        "o q-quadrado é uma muito utilizado para avaliar variaveis quantitativas -> se há relação e correlação entre as variaveis / muito comum grafico de dispersão"
      ]
    },
    {
      "cell_type": "markdown",
      "metadata": {
        "id": "_IQVsrqfSsUe"
      },
      "source": [
        "ela é assimetrica"
      ]
    },
    {
      "cell_type": "markdown",
      "metadata": {
        "id": "lOqEC91GS24u"
      },
      "source": [
        "chi2_contigencia é para tabela, matriz"
      ]
    },
    {
      "cell_type": "markdown",
      "metadata": {
        "id": "NPjqUF8eTtIV"
      },
      "source": [
        "essa função já calcula o valor esperado"
      ]
    },
    {
      "cell_type": "markdown",
      "metadata": {
        "id": "IJoMi-5TT_ex"
      },
      "source": [
        "quanto maior q , mais chance de o  p estar dentro do 0,05"
      ]
    },
    {
      "cell_type": "markdown",
      "metadata": {
        "id": "E7pwFb2LUVbX"
      },
      "source": [
        "caso zere a tabela, agrupa os dados"
      ]
    },
    {
      "cell_type": "markdown",
      "metadata": {
        "id": "8LRvEc7eUlZ-"
      },
      "source": [
        "só precisamos de 3 casas depois da virgula no p"
      ]
    },
    {
      "cell_type": "code",
      "metadata": {
        "id": "-85R2DSc9dE9",
        "colab": {
          "base_uri": "https://localhost:8080/"
        },
        "outputId": "664ae242-c581-45cf-c309-c3c0229fb290"
      },
      "source": [
        "qui, p, gl, esperado = chi2_contingency(tabela,correction=False)   ##estou dizendo que não é correlação, pq tenho 2 variaveis qualitativas\n",
        "print(\"Valores esperados\")\n",
        "print(esperado)\n",
        "print('qui=%.3f, p=%.3f' % (qui, p))\n",
        "if p > 0.05:\n",
        "\tprint('Conclusão: as variáveis são independentes ao nível de 5% de signficância')\n",
        "else:\n",
        "\tprint('Conclusão: as variáveis são dependentes ao nível de 5% de significância')\n"
      ],
      "execution_count": null,
      "outputs": [
        {
          "output_type": "stream",
          "text": [
            "Valores esperados\n",
            "[[ 502.91970803 4526.27737226 1470.80291971]\n",
            " [  27.08029197  243.72262774   79.19708029]]\n",
            "qui=14.661, p=0.001\n",
            "Conclusão: as variáveis são dependentes ao nível de 5% de significância\n"
          ],
          "name": "stdout"
        }
      ]
    },
    {
      "cell_type": "code",
      "metadata": {
        "id": "H8p24CzObGtS",
        "colab": {
          "base_uri": "https://localhost:8080/",
          "height": 407
        },
        "outputId": "b6e33f84-6835-43f2-b2d8-c19f70062471"
      },
      "source": [
        "bdenade = pd.read_csv('bdenade.csv',sep=';',decimal=',')\n",
        "bdenade.columns = [\"ano\",\"area\",\"ies\",\"esfera\",\"ninscritos\",\"nparticipantes\",\"notafg\",\"notace\",\"conceito\",\"nota\"]\n",
        "bdenade"
      ],
      "execution_count": null,
      "outputs": [
        {
          "output_type": "execute_result",
          "data": {
            "text/html": [
              "<div>\n",
              "<style scoped>\n",
              "    .dataframe tbody tr th:only-of-type {\n",
              "        vertical-align: middle;\n",
              "    }\n",
              "\n",
              "    .dataframe tbody tr th {\n",
              "        vertical-align: top;\n",
              "    }\n",
              "\n",
              "    .dataframe thead th {\n",
              "        text-align: right;\n",
              "    }\n",
              "</style>\n",
              "<table border=\"1\" class=\"dataframe\">\n",
              "  <thead>\n",
              "    <tr style=\"text-align: right;\">\n",
              "      <th></th>\n",
              "      <th>ano</th>\n",
              "      <th>area</th>\n",
              "      <th>ies</th>\n",
              "      <th>esfera</th>\n",
              "      <th>ninscritos</th>\n",
              "      <th>nparticipantes</th>\n",
              "      <th>notafg</th>\n",
              "      <th>notace</th>\n",
              "      <th>conceito</th>\n",
              "      <th>nota</th>\n",
              "    </tr>\n",
              "  </thead>\n",
              "  <tbody>\n",
              "    <tr>\n",
              "      <th>0</th>\n",
              "      <td>2017</td>\n",
              "      <td>21</td>\n",
              "      <td>4</td>\n",
              "      <td>Federal</td>\n",
              "      <td>64</td>\n",
              "      <td>50</td>\n",
              "      <td>60.36</td>\n",
              "      <td>54.71</td>\n",
              "      <td>3.35</td>\n",
              "      <td>4.0</td>\n",
              "    </tr>\n",
              "    <tr>\n",
              "      <th>1</th>\n",
              "      <td>2017</td>\n",
              "      <td>21</td>\n",
              "      <td>452</td>\n",
              "      <td>Privada</td>\n",
              "      <td>5</td>\n",
              "      <td>5</td>\n",
              "      <td>46.60</td>\n",
              "      <td>35.38</td>\n",
              "      <td>1.04</td>\n",
              "      <td>2.0</td>\n",
              "    </tr>\n",
              "    <tr>\n",
              "      <th>2</th>\n",
              "      <td>2017</td>\n",
              "      <td>21</td>\n",
              "      <td>669</td>\n",
              "      <td>Privada</td>\n",
              "      <td>70</td>\n",
              "      <td>64</td>\n",
              "      <td>45.57</td>\n",
              "      <td>35.05</td>\n",
              "      <td>0.97</td>\n",
              "      <td>2.0</td>\n",
              "    </tr>\n",
              "    <tr>\n",
              "      <th>3</th>\n",
              "      <td>2017</td>\n",
              "      <td>21</td>\n",
              "      <td>1422</td>\n",
              "      <td>Privada</td>\n",
              "      <td>250</td>\n",
              "      <td>130</td>\n",
              "      <td>47.18</td>\n",
              "      <td>37.23</td>\n",
              "      <td>1.23</td>\n",
              "      <td>2.0</td>\n",
              "    </tr>\n",
              "    <tr>\n",
              "      <th>4</th>\n",
              "      <td>2017</td>\n",
              "      <td>21</td>\n",
              "      <td>2147</td>\n",
              "      <td>Privada</td>\n",
              "      <td>250</td>\n",
              "      <td>190</td>\n",
              "      <td>40.09</td>\n",
              "      <td>33.75</td>\n",
              "      <td>0.64</td>\n",
              "      <td>1.0</td>\n",
              "    </tr>\n",
              "    <tr>\n",
              "      <th>...</th>\n",
              "      <td>...</td>\n",
              "      <td>...</td>\n",
              "      <td>...</td>\n",
              "      <td>...</td>\n",
              "      <td>...</td>\n",
              "      <td>...</td>\n",
              "      <td>...</td>\n",
              "      <td>...</td>\n",
              "      <td>...</td>\n",
              "      <td>...</td>\n",
              "    </tr>\n",
              "    <tr>\n",
              "      <th>610</th>\n",
              "      <td>2018</td>\n",
              "      <td>85</td>\n",
              "      <td>1422</td>\n",
              "      <td>Privada</td>\n",
              "      <td>8</td>\n",
              "      <td>6</td>\n",
              "      <td>45.90</td>\n",
              "      <td>43.95</td>\n",
              "      <td>2.66</td>\n",
              "      <td>3.0</td>\n",
              "    </tr>\n",
              "    <tr>\n",
              "      <th>611</th>\n",
              "      <td>2018</td>\n",
              "      <td>87</td>\n",
              "      <td>1422</td>\n",
              "      <td>Privada</td>\n",
              "      <td>21</td>\n",
              "      <td>21</td>\n",
              "      <td>32.03</td>\n",
              "      <td>46.08</td>\n",
              "      <td>2.73</td>\n",
              "      <td>3.0</td>\n",
              "    </tr>\n",
              "    <tr>\n",
              "      <th>612</th>\n",
              "      <td>2018</td>\n",
              "      <td>86</td>\n",
              "      <td>669</td>\n",
              "      <td>Privada</td>\n",
              "      <td>31</td>\n",
              "      <td>31</td>\n",
              "      <td>36.45</td>\n",
              "      <td>42.13</td>\n",
              "      <td>2.05</td>\n",
              "      <td>3.0</td>\n",
              "    </tr>\n",
              "    <tr>\n",
              "      <th>613</th>\n",
              "      <td>2018</td>\n",
              "      <td>38</td>\n",
              "      <td>322</td>\n",
              "      <td>Privada</td>\n",
              "      <td>16</td>\n",
              "      <td>8</td>\n",
              "      <td>37.98</td>\n",
              "      <td>37.98</td>\n",
              "      <td>1.64</td>\n",
              "      <td>2.0</td>\n",
              "    </tr>\n",
              "    <tr>\n",
              "      <th>614</th>\n",
              "      <td>2018</td>\n",
              "      <td>94</td>\n",
              "      <td>322</td>\n",
              "      <td>Privada</td>\n",
              "      <td>45</td>\n",
              "      <td>37</td>\n",
              "      <td>36.97</td>\n",
              "      <td>42.89</td>\n",
              "      <td>2.43</td>\n",
              "      <td>3.0</td>\n",
              "    </tr>\n",
              "  </tbody>\n",
              "</table>\n",
              "<p>615 rows × 10 columns</p>\n",
              "</div>"
            ],
            "text/plain": [
              "      ano  area   ies   esfera  ...  notafg  notace  conceito  nota\n",
              "0    2017    21     4  Federal  ...   60.36   54.71      3.35   4.0\n",
              "1    2017    21   452  Privada  ...   46.60   35.38      1.04   2.0\n",
              "2    2017    21   669  Privada  ...   45.57   35.05      0.97   2.0\n",
              "3    2017    21  1422  Privada  ...   47.18   37.23      1.23   2.0\n",
              "4    2017    21  2147  Privada  ...   40.09   33.75      0.64   1.0\n",
              "..    ...   ...   ...      ...  ...     ...     ...       ...   ...\n",
              "610  2018    85  1422  Privada  ...   45.90   43.95      2.66   3.0\n",
              "611  2018    87  1422  Privada  ...   32.03   46.08      2.73   3.0\n",
              "612  2018    86   669  Privada  ...   36.45   42.13      2.05   3.0\n",
              "613  2018    38   322  Privada  ...   37.98   37.98      1.64   2.0\n",
              "614  2018    94   322  Privada  ...   36.97   42.89      2.43   3.0\n",
              "\n",
              "[615 rows x 10 columns]"
            ]
          },
          "metadata": {
            "tags": []
          },
          "execution_count": 20
        }
      ]
    },
    {
      "cell_type": "markdown",
      "metadata": {
        "id": "jjFMsNnhVcNN"
      },
      "source": [
        "criando variavel categforico"
      ]
    },
    {
      "cell_type": "code",
      "metadata": {
        "id": "1dHgn_gXbIU0"
      },
      "source": [
        "bdenade['nota2'] = 0\n",
        "bdenade.loc[(bdenade['nota'] <  4 ), 'nota2'] = \"0 a 3\"\n",
        "bdenade.loc[(bdenade['nota'] >=  4 ), 'nota2'] = \"4 a 5\""
      ],
      "execution_count": null,
      "outputs": []
    },
    {
      "cell_type": "markdown",
      "metadata": {
        "id": "a_cnE68cZBgM"
      },
      "source": [
        "sera que a nota nas faculdades foi a"
      ]
    },
    {
      "cell_type": "code",
      "metadata": {
        "id": "6aQuZ-yGxDk8",
        "colab": {
          "base_uri": "https://localhost:8080/",
          "height": 168
        },
        "outputId": "c138b407-3347-40a6-efb0-35da9c59aa6e"
      },
      "source": [
        "# Tabela de contigência no pandas\n",
        "tab_contigencia = pd.crosstab (bdenade.esfera,bdenade.nota2) \n",
        "tab_contigencia"
      ],
      "execution_count": null,
      "outputs": [
        {
          "output_type": "execute_result",
          "data": {
            "text/html": [
              "<div>\n",
              "<style scoped>\n",
              "    .dataframe tbody tr th:only-of-type {\n",
              "        vertical-align: middle;\n",
              "    }\n",
              "\n",
              "    .dataframe tbody tr th {\n",
              "        vertical-align: top;\n",
              "    }\n",
              "\n",
              "    .dataframe thead th {\n",
              "        text-align: right;\n",
              "    }\n",
              "</style>\n",
              "<table border=\"1\" class=\"dataframe\">\n",
              "  <thead>\n",
              "    <tr style=\"text-align: right;\">\n",
              "      <th>nota2</th>\n",
              "      <th>0 a 3</th>\n",
              "      <th>4 a 5</th>\n",
              "    </tr>\n",
              "    <tr>\n",
              "      <th>esfera</th>\n",
              "      <th></th>\n",
              "      <th></th>\n",
              "    </tr>\n",
              "  </thead>\n",
              "  <tbody>\n",
              "    <tr>\n",
              "      <th>Estadual</th>\n",
              "      <td>50</td>\n",
              "      <td>23</td>\n",
              "    </tr>\n",
              "    <tr>\n",
              "      <th>Federal</th>\n",
              "      <td>84</td>\n",
              "      <td>46</td>\n",
              "    </tr>\n",
              "    <tr>\n",
              "      <th>Privada</th>\n",
              "      <td>389</td>\n",
              "      <td>23</td>\n",
              "    </tr>\n",
              "  </tbody>\n",
              "</table>\n",
              "</div>"
            ],
            "text/plain": [
              "nota2     0 a 3  4 a 5\n",
              "esfera                \n",
              "Estadual     50     23\n",
              "Federal      84     46\n",
              "Privada     389     23"
            ]
          },
          "metadata": {
            "tags": []
          },
          "execution_count": 22
        }
      ]
    },
    {
      "cell_type": "markdown",
      "metadata": {
        "id": "NOyp1BtpVmSM"
      },
      "source": [
        "aplicando o q-quadrado"
      ]
    },
    {
      "cell_type": "markdown",
      "metadata": {
        "id": "IkQyb4p9WeKf"
      },
      "source": [
        "mostrou que a privada é melhor que as demais\r\n"
      ]
    },
    {
      "cell_type": "markdown",
      "metadata": {
        "id": "Yd0Nybq-Z1eK"
      },
      "source": [
        "o p deu menor que 0,05, \r\n",
        "são dependentes, existe sim uma relação entre, observei que os alunos tiveram  desempenho , que há dependencia da esfera e a nota, ou seja a esfera influencia no resultado"
      ]
    },
    {
      "cell_type": "code",
      "metadata": {
        "id": "6-VWKDgUsTC4",
        "colab": {
          "base_uri": "https://localhost:8080/"
        },
        "outputId": "2d3bb911-f801-48a2-db4b-e96b6d3235a3"
      },
      "source": [
        "qui, p, gl, esperado = chi2_contingency(tab_contigencia,correction=False)\n",
        "print(\"Valores esperados\")\n",
        "print(esperado)\n",
        "print('qui=%.3f, p=%.3f' % (qui, p))\n",
        "if p > 0.05:\n",
        "\tprint('Conclusão: as variáveis são independentes')\n",
        "else:\n",
        "\tprint('Conclusão: as variáveis são dependentes')\n"
      ],
      "execution_count": null,
      "outputs": [
        {
          "output_type": "stream",
          "text": [
            "Valores esperados\n",
            "[[ 62.0796748   10.9203252 ]\n",
            " [110.55284553  19.44715447]\n",
            " [350.36747967  61.63252033]]\n",
            "qui=86.820, p=0.000\n",
            "Conclusão: as variáveis são dependentes\n"
          ],
          "name": "stdout"
        }
      ]
    },
    {
      "cell_type": "code",
      "metadata": {
        "id": "3vhHOUDuVS6Y",
        "colab": {
          "base_uri": "https://localhost:8080/"
        },
        "outputId": "33f23ea8-a375-4708-910e-1b19d3b681c2"
      },
      "source": [
        "bd_federal = bdenade.loc[bdenade.esfera == \"Federal\"]\n",
        "bd_privada = bdenade.loc[bdenade.esfera == \"Privada\"]\n",
        "print(\"Federal:\",bd_federal.shape)\n",
        "print(\"Privada:\",bd_privada.shape)"
      ],
      "execution_count": null,
      "outputs": [
        {
          "output_type": "stream",
          "text": [
            "Federal: (130, 11)\n",
            "Privada: (412, 11)\n"
          ],
          "name": "stdout"
        }
      ]
    },
    {
      "cell_type": "markdown",
      "metadata": {
        "id": "TeScBMCiXRRP"
      },
      "source": [
        "para duas amostras -> função ttest_ind()as duas bases de dados"
      ]
    },
    {
      "cell_type": "markdown",
      "metadata": {
        "id": "vnLaIcqraf0Q"
      },
      "source": [
        "Comparar a média de um campo numérico em relação a um campo categórico e responder se existe diferença estatística ao nível de 5% de significância;"
      ]
    },
    {
      "cell_type": "code",
      "metadata": {
        "id": "FpAuFnV4TbBZ",
        "colab": {
          "base_uri": "https://localhost:8080/"
        },
        "outputId": "57361048-3e94-4884-bdbb-d1e501042c20"
      },
      "source": [
        "alfa=0.05\n",
        "média = np.mean(bd_federal.nota)\n",
        "dp = np.std(bd_federal.nota)\n",
        "print(\"Média federal =\",round(média,2))\n",
        "print(\"Desvio-padrão federal =\",round(dp,2))\n",
        "média = np.mean(bd_privada.nota)\n",
        "dp = np.std(bd_privada.nota)\n",
        "print(\"Média privada =\",round(média,2))\n",
        "print(\"Desvio-padrão privada =\",round(dp,2))\n",
        "t,p = ttest_ind(bd_federal.nota,bd_privada.nota)\n",
        "print('t= %0.3f, p= %0.3f' % (t, p))\n",
        "if p > alfa:\n",
        "   print (\"Conclusão: aceita-se Ho, ou seja, as médias são estatisticamente iguais ao nível de significância de 5%\")\n",
        "else:\n",
        "   print (\"Conclusão: rejeita-se Ho, ou seja, as médias são estatisticamente diferentes ao nível de significância de 5%\")"
      ],
      "execution_count": null,
      "outputs": [
        {
          "output_type": "stream",
          "text": [
            "Média federal = 3.07\n",
            "Desvio-padrão federal = 1.0\n",
            "Média privada = 2.21\n",
            "Desvio-padrão privada = 0.77\n",
            "t= 10.282, p= 0.000\n",
            "Conclusão: rejeita-se Ho, ou seja, as médias são estatisticamente diferentes ao nível de significância de 5%\n"
          ],
          "name": "stdout"
        }
      ]
    }
  ]
}
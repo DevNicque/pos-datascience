{
  "nbformat": 4,
  "nbformat_minor": 0,
  "metadata": {
    "colab": {
      "name": "Estatistica_dc.ipynb",
      "provenance": [],
      "collapsed_sections": [],
      "include_colab_link": true
    },
    "kernelspec": {
      "name": "python3",
      "display_name": "Python 3"
    }
  },
  "cells": [
    {
      "cell_type": "markdown",
      "metadata": {
        "id": "view-in-github",
        "colab_type": "text"
      },
      "source": [
        "<a href=\"https://colab.research.google.com/github/DevNicque/pos-datascience/blob/modulo_3/Estatistica_dc.ipynb\" target=\"_parent\"><img src=\"https://colab.research.google.com/assets/colab-badge.svg\" alt=\"Open In Colab\"/></a>"
      ]
    },
    {
      "cell_type": "markdown",
      "metadata": {
        "id": "rFR8qklZ9v0h"
      },
      "source": [
        "# Estatística Descritiva\n"
      ]
    },
    {
      "cell_type": "code",
      "metadata": {
        "id": "GbIbcpSRMl_V"
      },
      "source": [
        "# Bibliotecas que necessárias\n",
        "import numpy as np\n",
        "import statistics as st\n",
        "import seaborn as sns\n",
        "import matplotlib.pyplot as plt\n",
        "from scipy import stats\n",
        "from collections import Counter\n"
      ],
      "execution_count": 3,
      "outputs": []
    },
    {
      "cell_type": "code",
      "metadata": {
        "id": "VAOg5-SmieoD"
      },
      "source": [
        "# Criação das listas das turmas que utilizaremos como exemplos\n",
        "turma_a = [4,5,5,6,6,7,7,8]\n",
        "turma_b = [1,2,4,6,6,9,10,10]\n",
        "turma_c = [0,6,7,7,7,7.5,7.5]\n",
        "turma_d = [4,5,5,6,7,7,7,8]\n",
        "turma_e = [4,5,6,7,8,9]\n"
      ],
      "execution_count": 5,
      "outputs": []
    },
    {
      "cell_type": "code",
      "metadata": {
        "id": "bZJqSWsJ3msd",
        "colab": {
          "base_uri": "https://localhost:8080/"
        },
        "outputId": "7dd9cb0a-049b-4037-8a35-9e73cbc6eef7"
      },
      "source": [
        "# Médias\n",
        "print('Média aritmética A: ', st.mean(turma_a))\n",
        "print('Média aritmética B: ', st.mean(turma_b))\n",
        "print('Média aritmética C: ', st.mean(turma_c))\n",
        "#print('Média geométrica: ', st.geometric_mean(turma_a))\n",
        "#print('Média harmonica: ', round(st.harmonic_mean(turma_a),2))"
      ],
      "execution_count": 5,
      "outputs": [
        {
          "output_type": "stream",
          "text": [
            "Média aritmética A:  6\n",
            "Média aritmética B:  6\n",
            "Média aritmética C:  6.0\n"
          ],
          "name": "stdout"
        }
      ]
    },
    {
      "cell_type": "code",
      "metadata": {
        "id": "Vn1cd76f3_xF",
        "colab": {
          "base_uri": "https://localhost:8080/"
        },
        "outputId": "0cd57fa1-8e3d-491b-e685-c91e3e1ebe6a"
      },
      "source": [
        "# Mediana\n",
        "print('Mediana A: ', st.median(turma_a))\n",
        "print('Mediana B: ', st.median(turma_b))\n",
        "print('Mediana C: ', st.median(turma_c))"
      ],
      "execution_count": 6,
      "outputs": [
        {
          "output_type": "stream",
          "text": [
            "Mediana A:  6.0\n",
            "Mediana B:  6.0\n",
            "Mediana C:  7\n"
          ],
          "name": "stdout"
        }
      ]
    },
    {
      "cell_type": "markdown",
      "metadata": {
        "id": "R6_7yT-6WA-P"
      },
      "source": [
        "erro por causa da versão do python - qe está desatualizada / para unimodais ele calcula"
      ]
    },
    {
      "cell_type": "markdown",
      "metadata": {
        "id": "z2q0mnhNWlX-"
      },
      "source": [
        "a partir da versão 3.7 foi criada uma nova função -- st.multimode(a)"
      ]
    },
    {
      "cell_type": "code",
      "metadata": {
        "id": "Mfnkbw8z4xLX",
        "colab": {
          "base_uri": "https://localhost:8080/",
          "height": 353
        },
        "outputId": "78875e52-0079-41d4-bc72-21ff232b48b8"
      },
      "source": [
        "# Moda\n",
        "print('Moda A: ', st.mode(turma_a))\n",
        "print('Moda B: ', st.mode(turma_b))\n",
        "print('Moda C: ', st.mode(turma_c))"
      ],
      "execution_count": 7,
      "outputs": [
        {
          "output_type": "error",
          "ename": "StatisticsError",
          "evalue": "ignored",
          "traceback": [
            "\u001b[0;31m---------------------------------------------------------------------------\u001b[0m",
            "\u001b[0;31mStatisticsError\u001b[0m                           Traceback (most recent call last)",
            "\u001b[0;32m<ipython-input-7-30a3546a031c>\u001b[0m in \u001b[0;36m<module>\u001b[0;34m()\u001b[0m\n\u001b[1;32m      1\u001b[0m \u001b[0;31m# Moda\u001b[0m\u001b[0;34m\u001b[0m\u001b[0;34m\u001b[0m\u001b[0;34m\u001b[0m\u001b[0m\n\u001b[0;32m----> 2\u001b[0;31m \u001b[0mprint\u001b[0m\u001b[0;34m(\u001b[0m\u001b[0;34m'Moda A: '\u001b[0m\u001b[0;34m,\u001b[0m \u001b[0mst\u001b[0m\u001b[0;34m.\u001b[0m\u001b[0mmode\u001b[0m\u001b[0;34m(\u001b[0m\u001b[0mturma_a\u001b[0m\u001b[0;34m)\u001b[0m\u001b[0;34m)\u001b[0m\u001b[0;34m\u001b[0m\u001b[0;34m\u001b[0m\u001b[0m\n\u001b[0m\u001b[1;32m      3\u001b[0m \u001b[0mprint\u001b[0m\u001b[0;34m(\u001b[0m\u001b[0;34m'Moda B: '\u001b[0m\u001b[0;34m,\u001b[0m \u001b[0mst\u001b[0m\u001b[0;34m.\u001b[0m\u001b[0mmode\u001b[0m\u001b[0;34m(\u001b[0m\u001b[0mturma_b\u001b[0m\u001b[0;34m)\u001b[0m\u001b[0;34m)\u001b[0m\u001b[0;34m\u001b[0m\u001b[0;34m\u001b[0m\u001b[0m\n\u001b[1;32m      4\u001b[0m \u001b[0mprint\u001b[0m\u001b[0;34m(\u001b[0m\u001b[0;34m'Moda C: '\u001b[0m\u001b[0;34m,\u001b[0m \u001b[0mst\u001b[0m\u001b[0;34m.\u001b[0m\u001b[0mmode\u001b[0m\u001b[0;34m(\u001b[0m\u001b[0mturma_c\u001b[0m\u001b[0;34m)\u001b[0m\u001b[0;34m)\u001b[0m\u001b[0;34m\u001b[0m\u001b[0;34m\u001b[0m\u001b[0m\n",
            "\u001b[0;32m/usr/lib/python3.6/statistics.py\u001b[0m in \u001b[0;36mmode\u001b[0;34m(data)\u001b[0m\n\u001b[1;32m    505\u001b[0m     \u001b[0;32melif\u001b[0m \u001b[0mtable\u001b[0m\u001b[0;34m:\u001b[0m\u001b[0;34m\u001b[0m\u001b[0;34m\u001b[0m\u001b[0m\n\u001b[1;32m    506\u001b[0m         raise StatisticsError(\n\u001b[0;32m--> 507\u001b[0;31m                 \u001b[0;34m'no unique mode; found %d equally common values'\u001b[0m \u001b[0;34m%\u001b[0m \u001b[0mlen\u001b[0m\u001b[0;34m(\u001b[0m\u001b[0mtable\u001b[0m\u001b[0;34m)\u001b[0m\u001b[0;34m\u001b[0m\u001b[0;34m\u001b[0m\u001b[0m\n\u001b[0m\u001b[1;32m    508\u001b[0m                 )\n\u001b[1;32m    509\u001b[0m     \u001b[0;32melse\u001b[0m\u001b[0;34m:\u001b[0m\u001b[0;34m\u001b[0m\u001b[0;34m\u001b[0m\u001b[0m\n",
            "\u001b[0;31mStatisticsError\u001b[0m: no unique mode; found 3 equally common values"
          ]
        }
      ]
    },
    {
      "cell_type": "code",
      "metadata": {
        "id": "xdDS1Wq-ZAXQ"
      },
      "source": [
        "#moda com a nova funçao\n",
        "# Moda\n",
        "print('Moda A: ', st.multimode(turma_a))\n",
        "print('Moda B: ', st.multimode(turma_b))\n",
        "print('Moda C: ', st.multimode(turma_c))"
      ],
      "execution_count": null,
      "outputs": []
    },
    {
      "cell_type": "code",
      "metadata": {
        "id": "1HU3_1w_6AMN",
        "colab": {
          "base_uri": "https://localhost:8080/"
        },
        "outputId": "5615b0bc-1154-4bd6-8f0c-0f4714b8b4d3"
      },
      "source": [
        "# Variancia\n",
        "print('Variancia A: ', round(st.pvariance(turma_a),2))\n",
        "print('Desvio A: ', round(st.pstdev(turma_a),2))\n",
        "print('\\n\\n')\n",
        "print('Variancia B:', round(st.variance(turma_b),2))\n",
        "print('Variancia C:', round(st.variance(turma_c),2))"
      ],
      "execution_count": null,
      "outputs": [
        {
          "output_type": "stream",
          "text": [
            "Variancia A:  1.5\n",
            "Desvio A:  1.22\n",
            "\n",
            "\n",
            "\n",
            "Variancia B: 12.29\n",
            "Variancia C: 7.25\n"
          ],
          "name": "stdout"
        }
      ]
    },
    {
      "cell_type": "code",
      "metadata": {
        "id": "6CgrbIaVn73s"
      },
      "source": [
        "# Variancia \n",
        "print('variância amostral A: ', st.variance(turma_a))\n",
        "print('desvio-padrão amostral A: ', st.stdev(turma_a))\n",
        "print('variância populacional A: ', st.pvariance(turma_a))\n",
        "print('desvio-padrão populacional A: ', st.pstdev(turma_a))"
      ],
      "execution_count": null,
      "outputs": []
    },
    {
      "cell_type": "code",
      "metadata": {
        "id": "6sDCqiGH8CyQ",
        "colab": {
          "base_uri": "https://localhost:8080/"
        },
        "outputId": "b020162d-8701-4627-8ec5-6bc3d1b22a7e"
      },
      "source": [
        "# Coeficiente de variação\n",
        "\n",
        "def cv(n):\n",
        "  return round(100*st.stdev(n)/st.mean(n), 2)\n",
        "\n",
        "print('Coeficiente: ', cv(turma_a))"
      ],
      "execution_count": null,
      "outputs": [
        {
          "output_type": "stream",
          "text": [
            "Coeficiente:  21.82\n"
          ],
          "name": "stdout"
        }
      ]
    },
    {
      "cell_type": "code",
      "metadata": {
        "id": "YxkTyvstoj7f"
      },
      "source": [
        "# Variancia \n",
        "print('Quartis: ', st.quantiles(turma_a, n=4))\n",
        "print('Quartis: ', np.quantile(turma_a, [0,0.25,0.5,0.75,1]))"
      ],
      "execution_count": null,
      "outputs": []
    },
    {
      "cell_type": "code",
      "metadata": {
        "id": "QR9ydvnZ8zjK",
        "colab": {
          "base_uri": "https://localhost:8080/"
        },
        "outputId": "639a50b0-d76e-42ac-b2ff-22a86c20bcd2"
      },
      "source": [
        "# Quartil\n",
        "\n",
        "print('Quartil A: ', np.quantile(turma_a, [0, 0.25, 0.5, 0.75, 1]))"
      ],
      "execution_count": null,
      "outputs": [
        {
          "output_type": "stream",
          "text": [
            "Quartil A:  [4. 5. 6. 7. 8.]\n"
          ],
          "name": "stdout"
        }
      ]
    },
    {
      "cell_type": "code",
      "metadata": {
        "id": "ZeusuOks9mGI",
        "colab": {
          "base_uri": "https://localhost:8080/"
        },
        "outputId": "81820e50-5350-4d13-f98a-932741e3c6fb"
      },
      "source": [
        "stats.describe(turma_b )"
      ],
      "execution_count": null,
      "outputs": [
        {
          "output_type": "execute_result",
          "data": {
            "text/plain": [
              "DescribeResult(nobs=8, minmax=(1, 10), mean=6.0, variance=12.285714285714286, skewness=-0.14895209195277664, kurtosis=-1.3883180097349919)"
            ]
          },
          "metadata": {
            "tags": []
          },
          "execution_count": 13
        }
      ]
    },
    {
      "cell_type": "code",
      "metadata": {
        "id": "yDLmCji5DLai",
        "outputId": "ee8b9505-83f9-4e13-c640-e794dacd287d",
        "colab": {
          "base_uri": "https://localhost:8080/",
          "height": 339
        }
      },
      "source": [
        "sns.boxplot(turma_a)"
      ],
      "execution_count": 6,
      "outputs": [
        {
          "output_type": "stream",
          "text": [
            "/usr/local/lib/python3.6/dist-packages/seaborn/_decorators.py:43: FutureWarning: Pass the following variable as a keyword arg: x. From version 0.12, the only valid positional argument will be `data`, and passing other arguments without an explicit keyword will result in an error or misinterpretation.\n",
            "  FutureWarning\n"
          ],
          "name": "stderr"
        },
        {
          "output_type": "execute_result",
          "data": {
            "text/plain": [
              "<matplotlib.axes._subplots.AxesSubplot at 0x7f92163b61d0>"
            ]
          },
          "metadata": {
            "tags": []
          },
          "execution_count": 6
        },
        {
          "output_type": "display_data",
          "data": {
            "image/png": "[encoded data removed]",
            "text/plain": [
              "<Figure size 432x288 with 1 Axes>"
            ]
          },
          "metadata": {
            "tags": [],
            "needs_background": "light"
          }
        }
      ]
    },
    {
      "cell_type": "code",
      "metadata": {
        "id": "IGH52uKkDLRv",
        "outputId": "7edafe6b-c81a-4f27-ada9-eae99b5951c9",
        "colab": {
          "base_uri": "https://localhost:8080/",
          "height": 339
        }
      },
      "source": [
        "sns.boxplot(turma_b)"
      ],
      "execution_count": 7,
      "outputs": [
        {
          "output_type": "stream",
          "text": [
            "/usr/local/lib/python3.6/dist-packages/seaborn/_decorators.py:43: FutureWarning: Pass the following variable as a keyword arg: x. From version 0.12, the only valid positional argument will be `data`, and passing other arguments without an explicit keyword will result in an error or misinterpretation.\n",
            "  FutureWarning\n"
          ],
          "name": "stderr"
        },
        {
          "output_type": "execute_result",
          "data": {
            "text/plain": [
              "<matplotlib.axes._subplots.AxesSubplot at 0x7f92162d6f60>"
            ]
          },
          "metadata": {
            "tags": []
          },
          "execution_count": 7
        },
        {
          "output_type": "display_data",
          "data": {
            "image/png": "[encoded data removed]",
            "text/plain": [
              "<Figure size 432x288 with 1 Axes>"
            ]
          },
          "metadata": {
            "tags": [],
            "needs_background": "light"
          }
        }
      ]
    },
    {
      "cell_type": "code",
      "metadata": {
        "id": "dmwqFB9K9z3l",
        "colab": {
          "base_uri": "https://localhost:8080/",
          "height": 339
        },
        "outputId": "88e8395b-49d0-4ee2-c189-2a4957dce464"
      },
      "source": [
        "sns.boxplot(turma_c)"
      ],
      "execution_count": 8,
      "outputs": [
        {
          "output_type": "stream",
          "text": [
            "/usr/local/lib/python3.6/dist-packages/seaborn/_decorators.py:43: FutureWarning: Pass the following variable as a keyword arg: x. From version 0.12, the only valid positional argument will be `data`, and passing other arguments without an explicit keyword will result in an error or misinterpretation.\n",
            "  FutureWarning\n"
          ],
          "name": "stderr"
        },
        {
          "output_type": "execute_result",
          "data": {
            "text/plain": [
              "<matplotlib.axes._subplots.AxesSubplot at 0x7f9215e15c88>"
            ]
          },
          "metadata": {
            "tags": []
          },
          "execution_count": 8
        },
        {
          "output_type": "display_data",
          "data": {
            "image/png": "[encoded data removed]",
            "text/plain": [
              "<Figure size 432x288 with 1 Axes>"
            ]
          },
          "metadata": {
            "tags": [],
            "needs_background": "light"
          }
        }
      ]
    },
    {
      "cell_type": "code",
      "metadata": {
        "id": "M_zt2c2KpEoA"
      },
      "source": [
        "sbo.boxplot(turma_c).set_title('Turma C')"
      ],
      "execution_count": null,
      "outputs": []
    },
    {
      "cell_type": "code",
      "metadata": {
        "id": "7dEsbD79pI7A"
      },
      "source": [
        "sbo.boxplot(turma_d).set_title('Turma D')"
      ],
      "execution_count": null,
      "outputs": []
    },
    {
      "cell_type": "markdown",
      "metadata": {
        "id": "-J8cKGATpPj5"
      },
      "source": [
        "CURTOSE"
      ]
    },
    {
      "cell_type": "code",
      "metadata": {
        "id": "lIRUyaaSpQTj"
      },
      "source": [
        "stats.describe(turma_a)"
      ],
      "execution_count": null,
      "outputs": []
    },
    {
      "cell_type": "code",
      "metadata": {
        "id": "E64zC7XTpVwm"
      },
      "source": [
        "stats.describe(turma_b)"
      ],
      "execution_count": null,
      "outputs": []
    },
    {
      "cell_type": "code",
      "metadata": {
        "id": "DEdWHqQPpW5I"
      },
      "source": [
        "stats.describe(turma_c)"
      ],
      "execution_count": null,
      "outputs": []
    },
    {
      "cell_type": "code",
      "metadata": {
        "id": "S8Ecebm6pWlN"
      },
      "source": [
        "stats.describe(turma_d)"
      ],
      "execution_count": null,
      "outputs": []
    }
  ]
}